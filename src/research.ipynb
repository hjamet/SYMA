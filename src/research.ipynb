{
 "cells": [
  {
   "cell_type": "markdown",
   "metadata": {},
   "source": [
    "# RecSys Challenge 2022 Research Notebook"
   ]
  },
  {
   "cell_type": "markdown",
   "metadata": {},
   "source": [
    "## Introduction"
   ]
  },
  {
   "cell_type": "markdown",
   "metadata": {},
   "source": [
    "Authors : \n",
    "- Henri Jamet <henri.jamet@epita.fr>\n",
    "- Corentin Duchene <corentin.duchene@epita.fr>\n",
    "- Adrien Merat <adrien.merat@epita.fr>\n",
    "- Erwan Goudard <erwan.goudard@epita.fr>\n",
    "\n",
    "Projet :\n",
    "- http://www.recsyschallenge.com/2022/index.html#about\n",
    "- http://www.recsyschallenge.com/2022/dataset.html"
   ]
  },
  {
   "cell_type": "markdown",
   "metadata": {},
   "source": [
    "## Data Exploration"
   ]
  },
  {
   "cell_type": "markdown",
   "metadata": {},
   "source": [
    "The data should first be downloaded and unpacked into the data folder at the root of this project. So we should have :\n",
    "\n",
    "```shell\n",
    "data\n",
    "├── README.txt\n",
    "├── README_win.txt\n",
    "├── candidate_items.csv\n",
    "├── item_features.csv\n",
    "├── test_final_sessions.csv\n",
    "├── test_leaderboard_sessions.csv\n",
    "├── train_purchases.csv\n",
    "└── train_sessions.csv\n",
    "```\n"
   ]
  },
  {
   "cell_type": "markdown",
   "metadata": {},
   "source": [
    "**Let's load our data**"
   ]
  },
  {
   "cell_type": "code",
   "execution_count": 2,
   "metadata": {},
   "outputs": [
    {
     "name": "stdout",
     "output_type": "stream",
     "text": [
      "train_session_df\n",
      "   session_id  item_id                     date\n",
      "0           3     9655  2020-12-18 21:25:00.373\n",
      "\n",
      "train_purchase_df\n",
      "   session_id  item_id                     date\n",
      "0           3    15085  2020-12-18 21:26:47.986\n",
      "\n",
      "candidate_items_df\n",
      "   item_id\n",
      "0        4\n",
      "\n",
      "item_features_df\n",
      "   item_id  feature_category_id  feature_value_id\n",
      "0        2                   56               365\n",
      "\n",
      "test_final_sessions_df\n",
      "   session_id  item_id                     date\n",
      "0          61    27088  2021-06-01 08:12:39.664\n",
      "\n",
      "test_leaderboard_sessions_df\n",
      "   session_id  item_id                     date\n",
      "0          26    19185  2021-06-16 09:53:54.158\n",
      "\n"
     ]
    }
   ],
   "source": [
    "import pandas as pd\n",
    "import os\n",
    "\n",
    "PATH_DATA = os.path.join(\"..\", \"data\")\n",
    "\n",
    "train_session_df = pd.read_csv(os.path.join(PATH_DATA, \"train_sessions.csv\"))\n",
    "train_purchase_df = pd.read_csv(os.path.join(PATH_DATA, \"train_purchases.csv\"))\n",
    "candidate_items_df = pd.read_csv(os.path.join(PATH_DATA, \"candidate_items.csv\"))\n",
    "item_features_df = pd.read_csv(os.path.join(PATH_DATA, \"item_features.csv\"))\n",
    "test_final_sessions_df = pd.read_csv(os.path.join(PATH_DATA, \"test_final_sessions.csv\"))\n",
    "test_leaderboard_sessions_df = pd.read_csv(os.path.join(PATH_DATA, \"test_leaderboard_sessions.csv\"))\n",
    "\n",
    "dict = {\"train_session_df\" : train_session_df, \"train_purchase_df\" : train_purchase_df, \"candidate_items_df\" : candidate_items_df, \"item_features_df\" : item_features_df, \"test_final_sessions_df\" : test_final_sessions_df, \"test_leaderboard_sessions_df\" : test_leaderboard_sessions_df}\n",
    "for key in dict:\n",
    "    print(key)\n",
    "    print(dict[key].head(1), end=\"\\n\\n\")"
   ]
  },
  {
   "cell_type": "markdown",
   "metadata": {},
   "source": [
    "*How many different items does exist?*"
   ]
  },
  {
   "cell_type": "code",
   "execution_count": 3,
   "metadata": {},
   "outputs": [
    {
     "name": "stdout",
     "output_type": "stream",
     "text": [
      "Unique item number : 23691\n",
      "Item id are unique :  True\n"
     ]
    }
   ],
   "source": [
    "distinct_item_number = len(item_features_df.item_id.unique())\n",
    "print(\"Unique item number :\", distinct_item_number)\n",
    "print(\"Item id are unique : \", item_features_df.item_id.nunique() == len(item_features_df.item_id.unique()))"
   ]
  },
  {
   "cell_type": "markdown",
   "metadata": {},
   "source": [
    "*How many different sessions does exist?*"
   ]
  },
  {
   "cell_type": "code",
   "execution_count": 4,
   "metadata": {},
   "outputs": [
    {
     "name": "stdout",
     "output_type": "stream",
     "text": [
      "Unique user number : 1000000\n"
     ]
    }
   ],
   "source": [
    "distinct_session_number = len(pd.concat([train_session_df.session_id, train_purchase_df.session_id]).unique())\n",
    "print(\"Unique user number :\", distinct_session_number)"
   ]
  },
  {
   "cell_type": "markdown",
   "metadata": {},
   "source": [
    "*Does session always look an item before buying it?*"
   ]
  },
  {
   "cell_type": "code",
   "execution_count": 5,
   "metadata": {},
   "outputs": [
    {
     "name": "stdout",
     "output_type": "stream",
     "text": [
      "A user never look at one item before buying it.\n"
     ]
    },
    {
     "data": {
      "text/plain": [
       "left_only     1000000\n",
       "right_only          0\n",
       "both                0\n",
       "Name: Exist, dtype: int64"
      ]
     },
     "execution_count": 5,
     "metadata": {},
     "output_type": "execute_result"
    }
   ],
   "source": [
    "import numpy as np\n",
    "\n",
    "print(\"A user never look at one item before buying it.\")\n",
    "pd.merge(train_purchase_df, train_session_df, on=['session_id','item_id'], how='left', indicator='Exist')[\"Exist\"].value_counts()"
   ]
  },
  {
   "cell_type": "markdown",
   "metadata": {},
   "source": [
    "*Can a session look at items without buying any?*"
   ]
  },
  {
   "cell_type": "code",
   "execution_count": 6,
   "metadata": {},
   "outputs": [
    {
     "name": "stdout",
     "output_type": "stream",
     "text": [
      "Every session bought exactly one item.\n"
     ]
    },
    {
     "data": {
      "text/plain": [
       "both          4743820\n",
       "left_only           0\n",
       "right_only          0\n",
       "Name: Exist, dtype: int64"
      ]
     },
     "execution_count": 6,
     "metadata": {},
     "output_type": "execute_result"
    }
   ],
   "source": [
    "print(\"Every session bought exactly one item.\")\n",
    "\n",
    "pd.merge(train_purchase_df, train_session_df, on=['session_id'], how='left', indicator='Exist')[\"Exist\"].value_counts()"
   ]
  },
  {
   "cell_type": "markdown",
   "metadata": {},
   "source": [
    "*What is the average number of different items every user usually look?*"
   ]
  },
  {
   "cell_type": "code",
   "execution_count": 7,
   "metadata": {},
   "outputs": [
    {
     "name": "stdout",
     "output_type": "stream",
     "text": [
      "Average number of items seen by user : 4.74382\n"
     ]
    }
   ],
   "source": [
    "print(\"Average number of items seen by user :\", train_session_df.groupby(\"session_id\").count()[\"item_id\"].mean())"
   ]
  },
  {
   "cell_type": "markdown",
   "metadata": {},
   "source": [
    "*How many feature does exist?*"
   ]
  },
  {
   "cell_type": "code",
   "execution_count": 8,
   "metadata": {},
   "outputs": [
    {
     "name": "stdout",
     "output_type": "stream",
     "text": [
      "The number of different item features is :\n",
      "73\n"
     ]
    }
   ],
   "source": [
    "print(\"The number of different item features is :\")\n",
    "print(len(item_features_df[\"feature_category_id\"].unique()))"
   ]
  },
  {
   "cell_type": "markdown",
   "metadata": {},
   "source": [
    "*How many items have the same feature?*"
   ]
  },
  {
   "cell_type": "code",
   "execution_count": 9,
   "metadata": {},
   "outputs": [
    {
     "data": {
      "text/plain": [
       "Text(0.5, 1.0, 'Number of different items features')"
      ]
     },
     "execution_count": 9,
     "metadata": {},
     "output_type": "execute_result"
    },
    {
     "data": {
      "image/png": "[encoded data removed]",
      "text/plain": [
       "<Figure size 800x600 with 1 Axes>"
      ]
     },
     "metadata": {},
     "output_type": "display_data"
    }
   ],
   "source": [
    "from matplotlib import pyplot as plt\n",
    "\n",
    "fig = plt.figure(figsize=(8,6), dpi= 100, facecolor='w', edgecolor='k')\n",
    "nbr = item_features_df.groupby(\"feature_category_id\").count()[\"item_id\"]\n",
    "plt.bar(x=nbr.index, height=nbr.values)\n",
    "plt.title(\"Number of different items features\")"
   ]
  },
  {
   "cell_type": "markdown",
   "metadata": {},
   "source": [
    "*How many feature en feature_score items have in commun generaly?*\n",
    "\n",
    "This question is quite complex so we will first create a function giving this number for every items compared to one given because we will probably need this function soon or later anyway."
   ]
  },
  {
   "cell_type": "code",
   "execution_count": 10,
   "metadata": {},
   "outputs": [
    {
     "data": {
      "text/html": [
       "<div>\n",
       "<style scoped>\n",
       "    .dataframe tbody tr th:only-of-type {\n",
       "        vertical-align: middle;\n",
       "    }\n",
       "\n",
       "    .dataframe tbody tr th {\n",
       "        vertical-align: top;\n",
       "    }\n",
       "\n",
       "    .dataframe thead th {\n",
       "        text-align: right;\n",
       "    }\n",
       "</style>\n",
       "<table border=\"1\" class=\"dataframe\">\n",
       "  <thead>\n",
       "    <tr style=\"text-align: right;\">\n",
       "      <th></th>\n",
       "      <th>item_id</th>\n",
       "      <th>feature_category_id</th>\n",
       "      <th>feature_value_id</th>\n",
       "    </tr>\n",
       "  </thead>\n",
       "  <tbody>\n",
       "    <tr>\n",
       "      <th>0</th>\n",
       "      <td>2</td>\n",
       "      <td>56</td>\n",
       "      <td>365</td>\n",
       "    </tr>\n",
       "  </tbody>\n",
       "</table>\n",
       "</div>"
      ],
      "text/plain": [
       "   item_id  feature_category_id  feature_value_id\n",
       "0        2                   56               365"
      ]
     },
     "execution_count": 10,
     "metadata": {},
     "output_type": "execute_result"
    }
   ],
   "source": [
    "item_features_df.head(1)"
   ]
  },
  {
   "cell_type": "code",
   "execution_count": 11,
   "metadata": {},
   "outputs": [],
   "source": [
    "\n",
    "def get_item_similarity(item_features_df, item_id):\n",
    "    \"\"\"Get the similarity between the given item and all the others based on their features and feature values.\n",
    "\n",
    "    Args:\n",
    "        item_features_df (pd.DataFrame): The item features dataframe.\n",
    "        item_id_1 (int): The id of the first item\n",
    "\n",
    "    Returns:\n",
    "        (pd.DataFrame): item | similar_feature_id | similar_value_id\n",
    "    \"\"\"\n",
    "    item_df = item_features_df[item_features_df.item_id == item_id]\n",
    "    if len(item_df) == 0:\n",
    "        return None\n",
    "    same_feature_id = item_features_df[item_features_df.feature_category_id.isin(item_df.feature_category_id)]\n",
    "    same_value_id = same_feature_id[same_feature_id.feature_value_id.isin(item_df.feature_value_id)]\n",
    "    return pd.concat([same_feature_id.groupby(\"item_id\").count().feature_category_id.drop(index=item_id).rename(\"similar_feature_id\"), same_value_id.groupby(\"item_id\").count().feature_value_id.drop(index=item_id).rename(\"similar_value_id\")], axis=1)"
   ]
  },
  {
   "cell_type": "code",
   "execution_count": 12,
   "metadata": {},
   "outputs": [
    {
     "name": "stdout",
     "output_type": "stream",
     "text": [
      "Average number of similar features between items : 12.69805862985944\n",
      "Average number of similar feature values between items : 5.012563378498164\n"
     ]
    }
   ],
   "source": [
    "import numpy as np\n",
    "\n",
    "ESTIMATION_SAMPLE_NUMBER = 1000\n",
    "\n",
    "similar_feature_id = []\n",
    "similar_value_id = []\n",
    "for _, item_id in item_features_df.sample(ESTIMATION_SAMPLE_NUMBER).item_id.items():\n",
    "    similarity = get_item_similarity(item_features_df, item_id) / distinct_item_number\n",
    "    if similarity is None:\n",
    "        continue\n",
    "    similarity = similarity.sum()\n",
    "    similar_feature_id.append(similarity.similar_feature_id)\n",
    "    similar_value_id.append(similarity.similar_value_id)\n",
    "\n",
    "average_similar_feature = np.mean(similar_feature_id)\n",
    "average_similar_value = np.mean(similar_value_id)\n",
    "print(\"Average number of similar features between items :\", average_similar_feature)\n",
    "print(\"Average number of similar feature values between items :\", average_similar_value)\n",
    "    "
   ]
  },
  {
   "cell_type": "markdown",
   "metadata": {},
   "source": [
    "## Data Transformation"
   ]
  },
  {
   "cell_type": "markdown",
   "metadata": {},
   "source": [
    "**Let's add a score to every combination of user-item**"
   ]
  },
  {
   "cell_type": "code",
   "execution_count": 13,
   "metadata": {},
   "outputs": [
    {
     "data": {
      "text/html": [
       "<div>\n",
       "<style scoped>\n",
       "    .dataframe tbody tr th:only-of-type {\n",
       "        vertical-align: middle;\n",
       "    }\n",
       "\n",
       "    .dataframe tbody tr th {\n",
       "        vertical-align: top;\n",
       "    }\n",
       "\n",
       "    .dataframe thead th {\n",
       "        text-align: right;\n",
       "    }\n",
       "</style>\n",
       "<table border=\"1\" class=\"dataframe\">\n",
       "  <thead>\n",
       "    <tr style=\"text-align: right;\">\n",
       "      <th></th>\n",
       "      <th>user_id</th>\n",
       "      <th>item_id</th>\n",
       "      <th>date</th>\n",
       "      <th>raw_ratings</th>\n",
       "    </tr>\n",
       "  </thead>\n",
       "  <tbody>\n",
       "    <tr>\n",
       "      <th>180033</th>\n",
       "      <td>168600</td>\n",
       "      <td>16065</td>\n",
       "      <td>2020-04-22 01:17:10.88</td>\n",
       "      <td>1</td>\n",
       "    </tr>\n",
       "    <tr>\n",
       "      <th>3689500</th>\n",
       "      <td>3449572</td>\n",
       "      <td>22576</td>\n",
       "      <td>2021-03-08 16:05:27.428</td>\n",
       "      <td>1</td>\n",
       "    </tr>\n",
       "    <tr>\n",
       "      <th>1810652</th>\n",
       "      <td>1692032</td>\n",
       "      <td>7792</td>\n",
       "      <td>2020-01-29 23:03:03.792</td>\n",
       "      <td>1</td>\n",
       "    </tr>\n",
       "    <tr>\n",
       "      <th>4268900</th>\n",
       "      <td>3994853</td>\n",
       "      <td>12251</td>\n",
       "      <td>2020-04-29 17:02:44.991</td>\n",
       "      <td>1</td>\n",
       "    </tr>\n",
       "    <tr>\n",
       "      <th>3333758</th>\n",
       "      <td>3117436</td>\n",
       "      <td>20381</td>\n",
       "      <td>2021-02-25 11:11:50.297</td>\n",
       "      <td>1</td>\n",
       "    </tr>\n",
       "    <tr>\n",
       "      <th>...</th>\n",
       "      <td>...</td>\n",
       "      <td>...</td>\n",
       "      <td>...</td>\n",
       "      <td>...</td>\n",
       "    </tr>\n",
       "    <tr>\n",
       "      <th>767043</th>\n",
       "      <td>717866</td>\n",
       "      <td>20947</td>\n",
       "      <td>2020-03-10 10:05:00.026</td>\n",
       "      <td>1</td>\n",
       "    </tr>\n",
       "    <tr>\n",
       "      <th>4010258</th>\n",
       "      <td>3751842</td>\n",
       "      <td>27564</td>\n",
       "      <td>2021-04-07 13:02:24.972</td>\n",
       "      <td>1</td>\n",
       "    </tr>\n",
       "    <tr>\n",
       "      <th>3388966</th>\n",
       "      <td>3170046</td>\n",
       "      <td>8498</td>\n",
       "      <td>2020-08-29 20:43:11.509</td>\n",
       "      <td>1</td>\n",
       "    </tr>\n",
       "    <tr>\n",
       "      <th>575431</th>\n",
       "      <td>538266</td>\n",
       "      <td>24630</td>\n",
       "      <td>2021-05-08 08:57:30.119</td>\n",
       "      <td>1</td>\n",
       "    </tr>\n",
       "    <tr>\n",
       "      <th>236827</th>\n",
       "      <td>1054591</td>\n",
       "      <td>24594</td>\n",
       "      <td>2020-01-09 12:45:43.712</td>\n",
       "      <td>2</td>\n",
       "    </tr>\n",
       "  </tbody>\n",
       "</table>\n",
       "<p>5743820 rows × 4 columns</p>\n",
       "</div>"
      ],
      "text/plain": [
       "         user_id  item_id                     date  raw_ratings\n",
       "180033    168600    16065   2020-04-22 01:17:10.88            1\n",
       "3689500  3449572    22576  2021-03-08 16:05:27.428            1\n",
       "1810652  1692032     7792  2020-01-29 23:03:03.792            1\n",
       "4268900  3994853    12251  2020-04-29 17:02:44.991            1\n",
       "3333758  3117436    20381  2021-02-25 11:11:50.297            1\n",
       "...          ...      ...                      ...          ...\n",
       "767043    717866    20947  2020-03-10 10:05:00.026            1\n",
       "4010258  3751842    27564  2021-04-07 13:02:24.972            1\n",
       "3388966  3170046     8498  2020-08-29 20:43:11.509            1\n",
       "575431    538266    24630  2021-05-08 08:57:30.119            1\n",
       "236827   1054591    24594  2020-01-09 12:45:43.712            2\n",
       "\n",
       "[5743820 rows x 4 columns]"
      ]
     },
     "execution_count": 13,
     "metadata": {},
     "output_type": "execute_result"
    }
   ],
   "source": [
    "train_rating_df = pd.concat([train_session_df.assign(rating=1), train_purchase_df.assign(rating=2)])\n",
    "train_set_df = train_rating_df.rename(columns={\"session_id\" : \"user_id\", \"rating\" : \"raw_ratings\"}).sample(len(train_rating_df))\n",
    "train_set_df"
   ]
  },
  {
   "cell_type": "markdown",
   "metadata": {},
   "source": [
    "**Let's create a SURPRISE training dataset**"
   ]
  },
  {
   "cell_type": "code",
   "execution_count": 14,
   "metadata": {},
   "outputs": [],
   "source": [
    "TRAIN_SET_REDUCED_SIZE = 10000\n",
    "\n",
    "import surprise\n",
    "\n",
    "rating_reader = surprise.Reader(rating_scale=(1, 2))\n",
    "train_set = surprise.dataset.Dataset.load_from_df(df=train_set_df[[\"user_id\", \"item_id\", \"raw_ratings\"]], reader=rating_reader)\n",
    "train_set_reduced = surprise.dataset.Dataset.load_from_df(df=train_set_df[[\"user_id\", \"item_id\", \"raw_ratings\"]].iloc[:TRAIN_SET_REDUCED_SIZE], reader=rating_reader)"
   ]
  },
  {
   "cell_type": "markdown",
   "metadata": {},
   "source": [
    "## Metrics"
   ]
  },
  {
   "cell_type": "markdown",
   "metadata": {},
   "source": [
    "## Models"
   ]
  },
  {
   "cell_type": "markdown",
   "metadata": {},
   "source": [
    "### Let's train a simple Suprise Model"
   ]
  },
  {
   "cell_type": "code",
   "execution_count": 14,
   "metadata": {},
   "outputs": [
    {
     "name": "stdout",
     "output_type": "stream",
     "text": [
      "Evaluating RMSE of algorithm SVD on 5 split(s).\n",
      "\n",
      "                  Fold 1  Fold 2  Fold 3  Fold 4  Fold 5  Mean    Std     \n",
      "RMSE (testset)    0.3757  0.3723  0.3744  0.3827  0.3681  0.3746  0.0048  \n",
      "Fit time          0.22    0.22    0.22    0.24    0.22    0.22    0.01    \n",
      "Test time         0.01    0.01    0.01    0.01    0.01    0.01    0.00    \n"
     ]
    },
    {
     "data": {
      "text/plain": [
       "{'test_rmse': array([0.37569936, 0.37226731, 0.37435215, 0.38270867, 0.36814385]),\n",
       " 'fit_time': (0.2183372974395752,\n",
       "  0.2168571949005127,\n",
       "  0.2159743309020996,\n",
       "  0.23520493507385254,\n",
       "  0.2207329273223877),\n",
       " 'test_time': (0.008212566375732422,\n",
       "  0.0067980289459228516,\n",
       "  0.006914377212524414,\n",
       "  0.0077245235443115234,\n",
       "  0.009037494659423828)}"
      ]
     },
     "execution_count": 14,
     "metadata": {},
     "output_type": "execute_result"
    }
   ],
   "source": [
    "model = surprise.SVD()\n",
    "\n",
    "surprise.model_selection.cross_validate(model, train_set_reduced, measures=[\"RMSE\"], cv=5, verbose=True, n_jobs=-1)"
   ]
  },
  {
   "cell_type": "markdown",
   "metadata": {},
   "source": [
    "### Let's Compare our models"
   ]
  },
  {
   "cell_type": "code",
   "execution_count": 16,
   "metadata": {},
   "outputs": [
    {
     "name": "stdout",
     "output_type": "stream",
     "text": [
      "Estimating biases using als...\n",
      "Estimating biases using als...\n",
      "Estimating biases using als...\n",
      "Estimating biases using als...\n",
      "Estimating biases using als...\n",
      "Estimating biases using als...\n",
      "Computing the msd similarity matrix...\n",
      "Done computing similarity matrix.\n",
      "Estimating biases using als...\n",
      "Computing the msd similarity matrix...\n",
      "Done computing similarity matrix.\n",
      "Estimating biases using als...\n",
      "Computing the msd similarity matrix...\n",
      "Done computing similarity matrix.\n",
      "Estimating biases using als...\n",
      "Computing the msd similarity matrix...\n",
      "Done computing similarity matrix.\n",
      "Estimating biases using als...\n",
      "Computing the msd similarity matrix...\n",
      "Done computing similarity matrix.\n",
      "Computing the msd similarity matrix...\n",
      "Done computing similarity matrix.\n",
      "Computing the msd similarity matrix...\n",
      "Done computing similarity matrix.\n",
      "Computing the msd similarity matrix...\n",
      "Done computing similarity matrix.\n",
      "Computing the msd similarity matrix...\n",
      "Done computing similarity matrix.\n",
      "Computing the msd similarity matrix...\n",
      "Done computing similarity matrix.\n",
      "Computing the msd similarity matrix...\n",
      "Done computing similarity matrix.\n",
      "Computing the msd similarity matrix...\n",
      "Done computing similarity matrix.\n",
      "Computing the msd similarity matrix...\n",
      "Done computing similarity matrix.\n",
      "Computing the msd similarity matrix...\n",
      "Done computing similarity matrix.\n",
      "Computing the msd similarity matrix...\n",
      "Done computing similarity matrix.\n",
      "Computing the msd similarity matrix...\n",
      "Done computing similarity matrix.\n",
      "Computing the msd similarity matrix...\n",
      "Done computing similarity matrix.\n",
      "Computing the msd similarity matrix...\n",
      "Done computing similarity matrix.\n",
      "Computing the msd similarity matrix...\n",
      "Done computing similarity matrix.\n",
      "Computing the msd similarity matrix...\n",
      "Done computing similarity matrix.\n"
     ]
    }
   ],
   "source": [
    "model_list = [surprise.NormalPredictor(), surprise.BaselineOnly(), surprise.KNNBaseline(), surprise.KNNBasic(), surprise.KNNWithMeans(), surprise.KNNWithZScore(), surprise.SlopeOne(), surprise.SVD(), surprise.SVDpp(), surprise.NMF(), surprise.CoClustering(), surprise.SlopeOne()]\n",
    "\n",
    "result = {}\n",
    "for model in model_list:\n",
    "    scores = surprise.model_selection.cross_validate(model, train_set_reduced, measures=[\"RMSE\"], cv=5, verbose=False)\n",
    "    result[model.__class__.__name__] = scores[\"test_rmse\"].mean()"
   ]
  },
  {
   "cell_type": "code",
   "execution_count": 17,
   "metadata": {},
   "outputs": [
    {
     "data": {
      "text/plain": [
       "[('SVD', 0.3818565797258008),\n",
       " ('KNNBaseline', 0.38216215424260536),\n",
       " ('BaselineOnly', 0.3822883295988969),\n",
       " ('SVDpp', 0.3827282056414258),\n",
       " ('KNNBasic', 0.3829054545305815),\n",
       " ('NMF', 0.38292314567874247),\n",
       " ('KNNWithZScore', 0.38309290607179136),\n",
       " ('KNNWithMeans', 0.3833555497718481),\n",
       " ('SlopeOne', 0.3833560835185067),\n",
       " ('CoClustering', 0.3834550686536672),\n",
       " ('NormalPredictor', 0.4770260805604528)]"
      ]
     },
     "execution_count": 17,
     "metadata": {},
     "output_type": "execute_result"
    }
   ],
   "source": [
    "# ------------------------- BEST ALGORITHMS WITH RMSE ------------------------ #\n",
    "sorted(result.items(), key=lambda x: x[1])"
   ]
  },
  {
   "cell_type": "markdown",
   "metadata": {},
   "source": [
    "### Now, lets perform some Grid Search on our best models"
   ]
  },
  {
   "cell_type": "markdown",
   "metadata": {},
   "source": [
    "We know that a very similar class exists in Surprise and Sklearn. However, in order to perfectly control its behaviour and to be able to run this code in parallel on the LSE cluster, we preferred to reimplement the gridSearch in our own way."
   ]
  },
  {
   "cell_type": "code",
   "execution_count": 18,
   "metadata": {},
   "outputs": [],
   "source": [
    "import sklearn.model_selection\n",
    "\n",
    "class MyCrossValidation:\n",
    "    def __init__(self, model, params):\n",
    "        self.model_list = [\n",
    "            (model(**args, verbose=False), args)\n",
    "            for args in list(sklearn.model_selection.ParameterGrid(params))\n",
    "        ]\n",
    "        self.full_train_set = train_set_reduced.build_full_trainset()\n",
    "\n",
    "    def __train_test_model(self, model, params, verbose=1):\n",
    "        model.fit(\n",
    "            self.full_train_set,\n",
    "        )\n",
    "        predictions = model.test(self.full_train_set.build_testset())\n",
    "        score = surprise.accuracy.rmse(\n",
    "            predictions, verbose=True if verbose == 2 else False\n",
    "        )\n",
    "        if verbose == 1:\n",
    "            print(\"Params {} :\".format(str(params)), score)\n",
    "        return (params, score)\n",
    "\n",
    "    def __call__(self, verbose=1):\n",
    "        res = []\n",
    "        while len(self.model_list):\n",
    "            model, params = self.model_list.pop()\n",
    "            if verbose == 1:\n",
    "                print(\"{} left\".format(len(self.model_list)), end=\" --- \")\n",
    "            res.append(self.__train_test_model(model, params, verbose))\n",
    "            del model\n",
    "        return sorted(res, key=lambda x: x[1])"
   ]
  },
  {
   "cell_type": "code",
   "execution_count": 19,
   "metadata": {},
   "outputs": [
    {
     "name": "stdout",
     "output_type": "stream",
     "text": [
      "80 left --- Params {'biased': False, 'reg_bi': 0.05, 'reg_bu': 0.5, 'reg_pu': 0.005, 'reg_qi': 0.05} : 0.16714464319890301\n",
      "79 left --- Params {'biased': False, 'reg_bi': 0.05, 'reg_bu': 0.5, 'reg_pu': 0.005, 'reg_qi': 0.01} : 0.6293337127692045\n",
      "78 left --- Params {'biased': False, 'reg_bi': 0.05, 'reg_bu': 0.5, 'reg_pu': 0.005, 'reg_qi': 0.005} : 0.815168489287092\n",
      "77 left --- Params {'biased': False, 'reg_bi': 0.05, 'reg_bu': 0.5, 'reg_pu': 0.001, 'reg_qi': 0.05} : 0.3519718087282152\n",
      "76 left --- Params {'biased': False, 'reg_bi': 0.05, 'reg_bu': 0.5, 'reg_pu': 0.001, 'reg_qi': 0.01} : 0.8511968171935689\n",
      "75 left --- Params {'biased': False, 'reg_bi': 0.05, 'reg_bu': 0.5, 'reg_pu': 0.001, 'reg_qi': 0.005} : 0.8886108817906894\n",
      "74 left --- Params {'biased': False, 'reg_bi': 0.05, 'reg_bu': 0.5, 'reg_pu': 0.0005, 'reg_qi': 0.05} : 0.40120227842129375\n",
      "73 left --- Params {'biased': False, 'reg_bi': 0.05, 'reg_bu': 0.5, 'reg_pu': 0.0005, 'reg_qi': 0.01} : 0.8667849693614607\n",
      "72 left --- Params {'biased': False, 'reg_bi': 0.05, 'reg_bu': 0.5, 'reg_pu': 0.0005, 'reg_qi': 0.005} : 0.8937287642741295\n",
      "71 left --- Params {'biased': False, 'reg_bi': 0.05, 'reg_bu': 0.1, 'reg_pu': 0.005, 'reg_qi': 0.05} : 0.1680460435452026\n",
      "70 left --- Params {'biased': False, 'reg_bi': 0.05, 'reg_bu': 0.1, 'reg_pu': 0.005, 'reg_qi': 0.01} : 0.6276102035093309\n",
      "69 left --- Params {'biased': False, 'reg_bi': 0.05, 'reg_bu': 0.1, 'reg_pu': 0.005, 'reg_qi': 0.005} : 0.8202261005621018\n",
      "68 left --- Params {'biased': False, 'reg_bi': 0.05, 'reg_bu': 0.1, 'reg_pu': 0.001, 'reg_qi': 0.05} : 0.35456219078091544\n",
      "67 left --- Params {'biased': False, 'reg_bi': 0.05, 'reg_bu': 0.1, 'reg_pu': 0.001, 'reg_qi': 0.01} : 0.8514997906818454\n",
      "66 left --- Params {'biased': False, 'reg_bi': 0.05, 'reg_bu': 0.1, 'reg_pu': 0.001, 'reg_qi': 0.005} : 0.8886418325019606\n",
      "65 left --- Params {'biased': False, 'reg_bi': 0.05, 'reg_bu': 0.1, 'reg_pu': 0.0005, 'reg_qi': 0.05} : 0.39949170218774843\n",
      "64 left --- Params {'biased': False, 'reg_bi': 0.05, 'reg_bu': 0.1, 'reg_pu': 0.0005, 'reg_qi': 0.01} : 0.8657755095058459\n",
      "63 left --- Params {'biased': False, 'reg_bi': 0.05, 'reg_bu': 0.1, 'reg_pu': 0.0005, 'reg_qi': 0.005} : 0.8929438650262655\n",
      "62 left --- Params {'biased': False, 'reg_bi': 0.05, 'reg_bu': 0.05, 'reg_pu': 0.005, 'reg_qi': 0.05} : 0.16697032792556157\n",
      "61 left --- Params {'biased': False, 'reg_bi': 0.05, 'reg_bu': 0.05, 'reg_pu': 0.005, 'reg_qi': 0.01} : 0.6333532158407679\n",
      "60 left --- Params {'biased': False, 'reg_bi': 0.05, 'reg_bu': 0.05, 'reg_pu': 0.005, 'reg_qi': 0.005} : 0.8200395961966723\n",
      "59 left --- Params {'biased': False, 'reg_bi': 0.05, 'reg_bu': 0.05, 'reg_pu': 0.001, 'reg_qi': 0.05} : 0.3514877713242441\n",
      "58 left --- Params {'biased': False, 'reg_bi': 0.05, 'reg_bu': 0.05, 'reg_pu': 0.001, 'reg_qi': 0.01} : 0.8513974106372215\n",
      "57 left --- Params {'biased': False, 'reg_bi': 0.05, 'reg_bu': 0.05, 'reg_pu': 0.001, 'reg_qi': 0.005} : 0.8897436682546723\n",
      "56 left --- Params {'biased': False, 'reg_bi': 0.05, 'reg_bu': 0.05, 'reg_pu': 0.0005, 'reg_qi': 0.05} : 0.3988662713721222\n",
      "55 left --- Params {'biased': False, 'reg_bi': 0.05, 'reg_bu': 0.05, 'reg_pu': 0.0005, 'reg_qi': 0.01} : 0.8678535472281395\n",
      "54 left --- Params {'biased': False, 'reg_bi': 0.05, 'reg_bu': 0.05, 'reg_pu': 0.0005, 'reg_qi': 0.005} : 0.8927808267012282\n",
      "53 left --- Params {'biased': False, 'reg_bi': 0.01, 'reg_bu': 0.5, 'reg_pu': 0.005, 'reg_qi': 0.05} : 0.16762549580507688\n",
      "52 left --- Params {'biased': False, 'reg_bi': 0.01, 'reg_bu': 0.5, 'reg_pu': 0.005, 'reg_qi': 0.01} : 0.6267513911464744\n",
      "51 left --- Params {'biased': False, 'reg_bi': 0.01, 'reg_bu': 0.5, 'reg_pu': 0.005, 'reg_qi': 0.005} : 0.8167259501362892\n",
      "50 left --- Params {'biased': False, 'reg_bi': 0.01, 'reg_bu': 0.5, 'reg_pu': 0.001, 'reg_qi': 0.05} : 0.35394596343105794\n",
      "49 left --- Params {'biased': False, 'reg_bi': 0.01, 'reg_bu': 0.5, 'reg_pu': 0.001, 'reg_qi': 0.01} : 0.85310724868369\n",
      "48 left --- Params {'biased': False, 'reg_bi': 0.01, 'reg_bu': 0.5, 'reg_pu': 0.001, 'reg_qi': 0.005} : 0.8896290519990577\n",
      "47 left --- Params {'biased': False, 'reg_bi': 0.01, 'reg_bu': 0.5, 'reg_pu': 0.0005, 'reg_qi': 0.05} : 0.3997465782196739\n",
      "46 left --- Params {'biased': False, 'reg_bi': 0.01, 'reg_bu': 0.5, 'reg_pu': 0.0005, 'reg_qi': 0.01} : 0.8637359323528719\n",
      "45 left --- Params {'biased': False, 'reg_bi': 0.01, 'reg_bu': 0.5, 'reg_pu': 0.0005, 'reg_qi': 0.005} : 0.8926061040915354\n",
      "44 left --- Params {'biased': False, 'reg_bi': 0.01, 'reg_bu': 0.1, 'reg_pu': 0.005, 'reg_qi': 0.05} : 0.16749171902556453\n",
      "43 left --- Params {'biased': False, 'reg_bi': 0.01, 'reg_bu': 0.1, 'reg_pu': 0.005, 'reg_qi': 0.01} : 0.632078095031876\n",
      "42 left --- Params {'biased': False, 'reg_bi': 0.01, 'reg_bu': 0.1, 'reg_pu': 0.005, 'reg_qi': 0.005} : 0.8188641001022776\n",
      "41 left --- Params {'biased': False, 'reg_bi': 0.01, 'reg_bu': 0.1, 'reg_pu': 0.001, 'reg_qi': 0.05} : 0.3520560578295253\n",
      "40 left --- Params {'biased': False, 'reg_bi': 0.01, 'reg_bu': 0.1, 'reg_pu': 0.001, 'reg_qi': 0.01} : 0.849557663043306\n",
      "39 left --- Params {'biased': False, 'reg_bi': 0.01, 'reg_bu': 0.1, 'reg_pu': 0.001, 'reg_qi': 0.005} : 0.8897994971460257\n",
      "38 left --- Params {'biased': False, 'reg_bi': 0.01, 'reg_bu': 0.1, 'reg_pu': 0.0005, 'reg_qi': 0.05} : 0.4009881897635855\n",
      "37 left --- Params {'biased': False, 'reg_bi': 0.01, 'reg_bu': 0.1, 'reg_pu': 0.0005, 'reg_qi': 0.01} : 0.8640682971016763\n",
      "36 left --- Params {'biased': False, 'reg_bi': 0.01, 'reg_bu': 0.1, 'reg_pu': 0.0005, 'reg_qi': 0.005} : 0.8937455416629547\n",
      "35 left --- Params {'biased': False, 'reg_bi': 0.01, 'reg_bu': 0.05, 'reg_pu': 0.005, 'reg_qi': 0.05} : 0.16767354572336185\n",
      "34 left --- Params {'biased': False, 'reg_bi': 0.01, 'reg_bu': 0.05, 'reg_pu': 0.005, 'reg_qi': 0.01} : 0.6286588531048781\n",
      "33 left --- Params {'biased': False, 'reg_bi': 0.01, 'reg_bu': 0.05, 'reg_pu': 0.005, 'reg_qi': 0.005} : 0.8166693578822015\n",
      "32 left --- Params {'biased': False, 'reg_bi': 0.01, 'reg_bu': 0.05, 'reg_pu': 0.001, 'reg_qi': 0.05} : 0.3541645740658959\n",
      "31 left --- Params {'biased': False, 'reg_bi': 0.01, 'reg_bu': 0.05, 'reg_pu': 0.001, 'reg_qi': 0.01} : 0.8497779309575473\n",
      "30 left --- Params {'biased': False, 'reg_bi': 0.01, 'reg_bu': 0.05, 'reg_pu': 0.001, 'reg_qi': 0.005} : 0.8895169549250237\n",
      "29 left --- Params {'biased': False, 'reg_bi': 0.01, 'reg_bu': 0.05, 'reg_pu': 0.0005, 'reg_qi': 0.05} : 0.4004427128993798\n",
      "28 left --- Params {'biased': False, 'reg_bi': 0.01, 'reg_bu': 0.05, 'reg_pu': 0.0005, 'reg_qi': 0.01} : 0.8677519479311973\n",
      "27 left --- Params {'biased': False, 'reg_bi': 0.01, 'reg_bu': 0.05, 'reg_pu': 0.0005, 'reg_qi': 0.005} : 0.8934615874170896\n",
      "26 left --- Params {'biased': False, 'reg_bi': 0.005, 'reg_bu': 0.5, 'reg_pu': 0.005, 'reg_qi': 0.05} : 0.16736942689653164\n",
      "25 left --- Params {'biased': False, 'reg_bi': 0.005, 'reg_bu': 0.5, 'reg_pu': 0.005, 'reg_qi': 0.01} : 0.6289441769738991\n",
      "24 left --- Params {'biased': False, 'reg_bi': 0.005, 'reg_bu': 0.5, 'reg_pu': 0.005, 'reg_qi': 0.005} : 0.8169728983436233\n",
      "23 left --- Params {'biased': False, 'reg_bi': 0.005, 'reg_bu': 0.5, 'reg_pu': 0.001, 'reg_qi': 0.05} : 0.3535430124009034\n",
      "22 left --- Params {'biased': False, 'reg_bi': 0.005, 'reg_bu': 0.5, 'reg_pu': 0.001, 'reg_qi': 0.01} : 0.8485854111441357\n",
      "21 left --- Params {'biased': False, 'reg_bi': 0.005, 'reg_bu': 0.5, 'reg_pu': 0.001, 'reg_qi': 0.005} : 0.8891619952828149\n",
      "20 left --- Params {'biased': False, 'reg_bi': 0.005, 'reg_bu': 0.5, 'reg_pu': 0.0005, 'reg_qi': 0.05} : 0.4000048487479422\n",
      "19 left --- Params {'biased': False, 'reg_bi': 0.005, 'reg_bu': 0.5, 'reg_pu': 0.0005, 'reg_qi': 0.01} : 0.8659023771482717\n",
      "18 left --- Params {'biased': False, 'reg_bi': 0.005, 'reg_bu': 0.5, 'reg_pu': 0.0005, 'reg_qi': 0.005} : 0.8925783413162085\n",
      "17 left --- Params {'biased': False, 'reg_bi': 0.005, 'reg_bu': 0.1, 'reg_pu': 0.005, 'reg_qi': 0.05} : 0.16933816074818422\n",
      "16 left --- Params {'biased': False, 'reg_bi': 0.005, 'reg_bu': 0.1, 'reg_pu': 0.005, 'reg_qi': 0.01} : 0.6316795589474608\n",
      "15 left --- Params {'biased': False, 'reg_bi': 0.005, 'reg_bu': 0.1, 'reg_pu': 0.005, 'reg_qi': 0.005} : 0.8214584637580273\n",
      "14 left --- Params {'biased': False, 'reg_bi': 0.005, 'reg_bu': 0.1, 'reg_pu': 0.001, 'reg_qi': 0.05} : 0.3540215565163587\n",
      "13 left --- Params {'biased': False, 'reg_bi': 0.005, 'reg_bu': 0.1, 'reg_pu': 0.001, 'reg_qi': 0.01} : 0.8520356614822684\n",
      "12 left --- Params {'biased': False, 'reg_bi': 0.005, 'reg_bu': 0.1, 'reg_pu': 0.001, 'reg_qi': 0.005} : 0.8901633949678303\n",
      "11 left --- Params {'biased': False, 'reg_bi': 0.005, 'reg_bu': 0.1, 'reg_pu': 0.0005, 'reg_qi': 0.05} : 0.4005701910332734\n",
      "10 left --- Params {'biased': False, 'reg_bi': 0.005, 'reg_bu': 0.1, 'reg_pu': 0.0005, 'reg_qi': 0.01} : 0.8658505223968799\n",
      "9 left --- Params {'biased': False, 'reg_bi': 0.005, 'reg_bu': 0.1, 'reg_pu': 0.0005, 'reg_qi': 0.005} : 0.8947450595402167\n",
      "8 left --- Params {'biased': False, 'reg_bi': 0.005, 'reg_bu': 0.05, 'reg_pu': 0.005, 'reg_qi': 0.05} : 0.1663058532829214\n",
      "7 left --- Params {'biased': False, 'reg_bi': 0.005, 'reg_bu': 0.05, 'reg_pu': 0.005, 'reg_qi': 0.01} : 0.6281642204867623\n",
      "6 left --- Params {'biased': False, 'reg_bi': 0.005, 'reg_bu': 0.05, 'reg_pu': 0.005, 'reg_qi': 0.005} : 0.8160535404187587\n",
      "5 left --- Params {'biased': False, 'reg_bi': 0.005, 'reg_bu': 0.05, 'reg_pu': 0.001, 'reg_qi': 0.05} : 0.35429563785377166\n",
      "4 left --- Params {'biased': False, 'reg_bi': 0.005, 'reg_bu': 0.05, 'reg_pu': 0.001, 'reg_qi': 0.01} : 0.8491935601081901\n",
      "3 left --- Params {'biased': False, 'reg_bi': 0.005, 'reg_bu': 0.05, 'reg_pu': 0.001, 'reg_qi': 0.005} : 0.8895125829968881\n",
      "2 left --- Params {'biased': False, 'reg_bi': 0.005, 'reg_bu': 0.05, 'reg_pu': 0.0005, 'reg_qi': 0.05} : 0.400449902137498\n",
      "1 left --- Params {'biased': False, 'reg_bi': 0.005, 'reg_bu': 0.05, 'reg_pu': 0.0005, 'reg_qi': 0.01} : 0.8691353710102134\n",
      "0 left --- Params {'biased': False, 'reg_bi': 0.005, 'reg_bu': 0.05, 'reg_pu': 0.0005, 'reg_qi': 0.005} : 0.8943453489094559\n"
     ]
    },
    {
     "data": {
      "text/plain": [
       "({'biased': False,\n",
       "  'reg_bi': 0.005,\n",
       "  'reg_bu': 0.05,\n",
       "  'reg_pu': 0.005,\n",
       "  'reg_qi': 0.05},\n",
       " 0.1663058532829214)"
      ]
     },
     "execution_count": 19,
     "metadata": {},
     "output_type": "execute_result"
    }
   ],
   "source": [
    "# ---------------------------- GRID SEARCH FOR NMF --------------------------- #\n",
    "params = {\n",
    "    \"biased\" : [False],\n",
    "    \"reg_bu\" : [0.05, 0.1, 0.5],\n",
    "    \"reg_bi\" : [0.005, 0.01, 0.05],\n",
    "    \"reg_qi\" : [0.005, 0.01, 0.05],\n",
    "    \"reg_pu\" : [0.0005, 0.001, 0.005],\n",
    "}\n",
    "\n",
    "best_nmf_models = MyCrossValidation(surprise.prediction_algorithms.matrix_factorization.NMF, params)()\n",
    "best_nmf_models[0]"
   ]
  },
  {
   "cell_type": "code",
   "execution_count": 20,
   "metadata": {},
   "outputs": [
    {
     "name": "stdout",
     "output_type": "stream",
     "text": [
      "242 left --- Params {'biased': False, 'init_std_dev': 5, 'lr_all': 0.001, 'reg_bi': 0.05, 'reg_bu': 0.5, 'reg_pu': 0.005, 'reg_qi': 0.05} : 0.9038296281936469\n",
      "241 left --- Params {'biased': False, 'init_std_dev': 5, 'lr_all': 0.001, 'reg_bi': 0.05, 'reg_bu': 0.5, 'reg_pu': 0.005, 'reg_qi': 0.01} : 0.9036770047970007\n",
      "240 left --- Params {'biased': False, 'init_std_dev': 5, 'lr_all': 0.001, 'reg_bi': 0.05, 'reg_bu': 0.5, 'reg_pu': 0.005, 'reg_qi': 0.005} : 0.9035716925788765\n",
      "239 left --- Params {'biased': False, 'init_std_dev': 5, 'lr_all': 0.001, 'reg_bi': 0.05, 'reg_bu': 0.5, 'reg_pu': 0.001, 'reg_qi': 0.05} : 0.9035489491890991\n",
      "238 left --- Params {'biased': False, 'init_std_dev': 5, 'lr_all': 0.001, 'reg_bi': 0.05, 'reg_bu': 0.5, 'reg_pu': 0.001, 'reg_qi': 0.01} : 0.9035106045254893\n",
      "237 left --- Params {'biased': False, 'init_std_dev': 5, 'lr_all': 0.001, 'reg_bi': 0.05, 'reg_bu': 0.5, 'reg_pu': 0.001, 'reg_qi': 0.005} : 0.9035831190891623\n",
      "236 left --- Params {'biased': False, 'init_std_dev': 5, 'lr_all': 0.001, 'reg_bi': 0.05, 'reg_bu': 0.5, 'reg_pu': 0.0005, 'reg_qi': 0.05} : 0.9028492865914672\n",
      "235 left --- Params {'biased': False, 'init_std_dev': 5, 'lr_all': 0.001, 'reg_bi': 0.05, 'reg_bu': 0.5, 'reg_pu': 0.0005, 'reg_qi': 0.01} : 0.904618189133579\n",
      "234 left --- Params {'biased': False, 'init_std_dev': 5, 'lr_all': 0.001, 'reg_bi': 0.05, 'reg_bu': 0.5, 'reg_pu': 0.0005, 'reg_qi': 0.005} : 0.9040016639406796\n",
      "233 left --- Params {'biased': False, 'init_std_dev': 5, 'lr_all': 0.001, 'reg_bi': 0.05, 'reg_bu': 0.1, 'reg_pu': 0.005, 'reg_qi': 0.05} : 0.9029927572591413\n",
      "232 left --- Params {'biased': False, 'init_std_dev': 5, 'lr_all': 0.001, 'reg_bi': 0.05, 'reg_bu': 0.1, 'reg_pu': 0.005, 'reg_qi': 0.01} : 0.9045332299041464\n",
      "231 left --- Params {'biased': False, 'init_std_dev': 5, 'lr_all': 0.001, 'reg_bi': 0.05, 'reg_bu': 0.1, 'reg_pu': 0.005, 'reg_qi': 0.005} : 0.9032272261257258\n",
      "230 left --- Params {'biased': False, 'init_std_dev': 5, 'lr_all': 0.001, 'reg_bi': 0.05, 'reg_bu': 0.1, 'reg_pu': 0.001, 'reg_qi': 0.05} : 0.9030850389454466\n",
      "229 left --- Params {'biased': False, 'init_std_dev': 5, 'lr_all': 0.001, 'reg_bi': 0.05, 'reg_bu': 0.1, 'reg_pu': 0.001, 'reg_qi': 0.01} : 0.9037015586388135\n",
      "228 left --- Params {'biased': False, 'init_std_dev': 5, 'lr_all': 0.001, 'reg_bi': 0.05, 'reg_bu': 0.1, 'reg_pu': 0.001, 'reg_qi': 0.005} : 0.9039115022860347\n",
      "227 left --- Params {'biased': False, 'init_std_dev': 5, 'lr_all': 0.001, 'reg_bi': 0.05, 'reg_bu': 0.1, 'reg_pu': 0.0005, 'reg_qi': 0.05} : 0.9031726958729277\n",
      "226 left --- Params {'biased': False, 'init_std_dev': 5, 'lr_all': 0.001, 'reg_bi': 0.05, 'reg_bu': 0.1, 'reg_pu': 0.0005, 'reg_qi': 0.01} : 0.9039638811525859\n",
      "225 left --- Params {'biased': False, 'init_std_dev': 5, 'lr_all': 0.001, 'reg_bi': 0.05, 'reg_bu': 0.1, 'reg_pu': 0.0005, 'reg_qi': 0.005} : 0.9030628794610761\n",
      "224 left --- Params {'biased': False, 'init_std_dev': 5, 'lr_all': 0.001, 'reg_bi': 0.05, 'reg_bu': 0.05, 'reg_pu': 0.005, 'reg_qi': 0.05} : 0.903542584514904\n",
      "223 left --- Params {'biased': False, 'init_std_dev': 5, 'lr_all': 0.001, 'reg_bi': 0.05, 'reg_bu': 0.05, 'reg_pu': 0.005, 'reg_qi': 0.01} : 0.903069760070866\n",
      "222 left --- Params {'biased': False, 'init_std_dev': 5, 'lr_all': 0.001, 'reg_bi': 0.05, 'reg_bu': 0.05, 'reg_pu': 0.005, 'reg_qi': 0.005} : 0.9031674019204581\n",
      "221 left --- Params {'biased': False, 'init_std_dev': 5, 'lr_all': 0.001, 'reg_bi': 0.05, 'reg_bu': 0.05, 'reg_pu': 0.001, 'reg_qi': 0.05} : 0.9035394490316933\n",
      "220 left --- Params {'biased': False, 'init_std_dev': 5, 'lr_all': 0.001, 'reg_bi': 0.05, 'reg_bu': 0.05, 'reg_pu': 0.001, 'reg_qi': 0.01} : 0.9035050066072243\n",
      "219 left --- Params {'biased': False, 'init_std_dev': 5, 'lr_all': 0.001, 'reg_bi': 0.05, 'reg_bu': 0.05, 'reg_pu': 0.001, 'reg_qi': 0.005} : 0.9036592570591343\n",
      "218 left --- Params {'biased': False, 'init_std_dev': 5, 'lr_all': 0.001, 'reg_bi': 0.05, 'reg_bu': 0.05, 'reg_pu': 0.0005, 'reg_qi': 0.05} : 0.9031527688721339\n",
      "217 left --- Params {'biased': False, 'init_std_dev': 5, 'lr_all': 0.001, 'reg_bi': 0.05, 'reg_bu': 0.05, 'reg_pu': 0.0005, 'reg_qi': 0.01} : 0.904005425234479\n",
      "216 left --- Params {'biased': False, 'init_std_dev': 5, 'lr_all': 0.001, 'reg_bi': 0.05, 'reg_bu': 0.05, 'reg_pu': 0.0005, 'reg_qi': 0.005} : 0.9027544493196814\n",
      "215 left --- Params {'biased': False, 'init_std_dev': 5, 'lr_all': 0.001, 'reg_bi': 0.01, 'reg_bu': 0.5, 'reg_pu': 0.005, 'reg_qi': 0.05} : 0.9037586218275809\n",
      "214 left --- Params {'biased': False, 'init_std_dev': 5, 'lr_all': 0.001, 'reg_bi': 0.01, 'reg_bu': 0.5, 'reg_pu': 0.005, 'reg_qi': 0.01} : 0.9036330071263953\n",
      "213 left --- Params {'biased': False, 'init_std_dev': 5, 'lr_all': 0.001, 'reg_bi': 0.01, 'reg_bu': 0.5, 'reg_pu': 0.005, 'reg_qi': 0.005} : 0.903770431585227\n",
      "212 left --- Params {'biased': False, 'init_std_dev': 5, 'lr_all': 0.001, 'reg_bi': 0.01, 'reg_bu': 0.5, 'reg_pu': 0.001, 'reg_qi': 0.05} : 0.9031074413970851\n",
      "211 left --- Params {'biased': False, 'init_std_dev': 5, 'lr_all': 0.001, 'reg_bi': 0.01, 'reg_bu': 0.5, 'reg_pu': 0.001, 'reg_qi': 0.01} : 0.9038315605117426\n",
      "210 left --- Params {'biased': False, 'init_std_dev': 5, 'lr_all': 0.001, 'reg_bi': 0.01, 'reg_bu': 0.5, 'reg_pu': 0.001, 'reg_qi': 0.005} : 0.9038513978214525\n",
      "209 left --- Params {'biased': False, 'init_std_dev': 5, 'lr_all': 0.001, 'reg_bi': 0.01, 'reg_bu': 0.5, 'reg_pu': 0.0005, 'reg_qi': 0.05} : 0.9040543557913934\n",
      "208 left --- Params {'biased': False, 'init_std_dev': 5, 'lr_all': 0.001, 'reg_bi': 0.01, 'reg_bu': 0.5, 'reg_pu': 0.0005, 'reg_qi': 0.01} : 0.9045689063197994\n",
      "207 left --- Params {'biased': False, 'init_std_dev': 5, 'lr_all': 0.001, 'reg_bi': 0.01, 'reg_bu': 0.5, 'reg_pu': 0.0005, 'reg_qi': 0.005} : 0.9041127727701326\n",
      "206 left --- Params {'biased': False, 'init_std_dev': 5, 'lr_all': 0.001, 'reg_bi': 0.01, 'reg_bu': 0.1, 'reg_pu': 0.005, 'reg_qi': 0.05} : 0.9022492266949214\n",
      "205 left --- Params {'biased': False, 'init_std_dev': 5, 'lr_all': 0.001, 'reg_bi': 0.01, 'reg_bu': 0.1, 'reg_pu': 0.005, 'reg_qi': 0.01} : 0.9040707388336092\n",
      "204 left --- Params {'biased': False, 'init_std_dev': 5, 'lr_all': 0.001, 'reg_bi': 0.01, 'reg_bu': 0.1, 'reg_pu': 0.005, 'reg_qi': 0.005} : 0.9027621976169747\n",
      "203 left --- Params {'biased': False, 'init_std_dev': 5, 'lr_all': 0.001, 'reg_bi': 0.01, 'reg_bu': 0.1, 'reg_pu': 0.001, 'reg_qi': 0.05} : 0.9031901550315652\n",
      "202 left --- Params {'biased': False, 'init_std_dev': 5, 'lr_all': 0.001, 'reg_bi': 0.01, 'reg_bu': 0.1, 'reg_pu': 0.001, 'reg_qi': 0.01} : 0.9037513742263669\n",
      "201 left --- Params {'biased': False, 'init_std_dev': 5, 'lr_all': 0.001, 'reg_bi': 0.01, 'reg_bu': 0.1, 'reg_pu': 0.001, 'reg_qi': 0.005} : 0.9035034755051273\n",
      "200 left --- Params {'biased': False, 'init_std_dev': 5, 'lr_all': 0.001, 'reg_bi': 0.01, 'reg_bu': 0.1, 'reg_pu': 0.0005, 'reg_qi': 0.05} : 0.9030055515135457\n",
      "199 left --- Params {'biased': False, 'init_std_dev': 5, 'lr_all': 0.001, 'reg_bi': 0.01, 'reg_bu': 0.1, 'reg_pu': 0.0005, 'reg_qi': 0.01} : 0.9035857523470033\n",
      "198 left --- Params {'biased': False, 'init_std_dev': 5, 'lr_all': 0.001, 'reg_bi': 0.01, 'reg_bu': 0.1, 'reg_pu': 0.0005, 'reg_qi': 0.005} : 0.9032828923066696\n",
      "197 left --- Params {'biased': False, 'init_std_dev': 5, 'lr_all': 0.001, 'reg_bi': 0.01, 'reg_bu': 0.05, 'reg_pu': 0.005, 'reg_qi': 0.05} : 0.9039846292431476\n",
      "196 left --- Params {'biased': False, 'init_std_dev': 5, 'lr_all': 0.001, 'reg_bi': 0.01, 'reg_bu': 0.05, 'reg_pu': 0.005, 'reg_qi': 0.01} : 0.9027472019610715\n",
      "195 left --- Params {'biased': False, 'init_std_dev': 5, 'lr_all': 0.001, 'reg_bi': 0.01, 'reg_bu': 0.05, 'reg_pu': 0.005, 'reg_qi': 0.005} : 0.9037185646817449\n",
      "194 left --- Params {'biased': False, 'init_std_dev': 5, 'lr_all': 0.001, 'reg_bi': 0.01, 'reg_bu': 0.05, 'reg_pu': 0.001, 'reg_qi': 0.05} : 0.9040022536304769\n",
      "193 left --- Params {'biased': False, 'init_std_dev': 5, 'lr_all': 0.001, 'reg_bi': 0.01, 'reg_bu': 0.05, 'reg_pu': 0.001, 'reg_qi': 0.01} : 0.9033990023793881\n",
      "192 left --- Params {'biased': False, 'init_std_dev': 5, 'lr_all': 0.001, 'reg_bi': 0.01, 'reg_bu': 0.05, 'reg_pu': 0.001, 'reg_qi': 0.005} : 0.9034779485750452\n",
      "191 left --- Params {'biased': False, 'init_std_dev': 5, 'lr_all': 0.001, 'reg_bi': 0.01, 'reg_bu': 0.05, 'reg_pu': 0.0005, 'reg_qi': 0.05} : 0.9035448670830649\n",
      "190 left --- Params {'biased': False, 'init_std_dev': 5, 'lr_all': 0.001, 'reg_bi': 0.01, 'reg_bu': 0.05, 'reg_pu': 0.0005, 'reg_qi': 0.01} : 0.9040610185654077\n",
      "189 left --- Params {'biased': False, 'init_std_dev': 5, 'lr_all': 0.001, 'reg_bi': 0.01, 'reg_bu': 0.05, 'reg_pu': 0.0005, 'reg_qi': 0.005} : 0.9033265874452667\n",
      "188 left --- Params {'biased': False, 'init_std_dev': 5, 'lr_all': 0.001, 'reg_bi': 0.005, 'reg_bu': 0.5, 'reg_pu': 0.005, 'reg_qi': 0.05} : 0.903247694496326\n",
      "187 left --- Params {'biased': False, 'init_std_dev': 5, 'lr_all': 0.001, 'reg_bi': 0.005, 'reg_bu': 0.5, 'reg_pu': 0.005, 'reg_qi': 0.01} : 0.9039684853077813\n",
      "186 left --- Params {'biased': False, 'init_std_dev': 5, 'lr_all': 0.001, 'reg_bi': 0.005, 'reg_bu': 0.5, 'reg_pu': 0.005, 'reg_qi': 0.005} : 0.9035092232443592\n",
      "185 left --- Params {'biased': False, 'init_std_dev': 5, 'lr_all': 0.001, 'reg_bi': 0.005, 'reg_bu': 0.5, 'reg_pu': 0.001, 'reg_qi': 0.05} : 0.9026150586317584\n",
      "184 left --- Params {'biased': False, 'init_std_dev': 5, 'lr_all': 0.001, 'reg_bi': 0.005, 'reg_bu': 0.5, 'reg_pu': 0.001, 'reg_qi': 0.01} : 0.9034688196213815\n",
      "183 left --- Params {'biased': False, 'init_std_dev': 5, 'lr_all': 0.001, 'reg_bi': 0.005, 'reg_bu': 0.5, 'reg_pu': 0.001, 'reg_qi': 0.005} : 0.9045596559043769\n",
      "182 left --- Params {'biased': False, 'init_std_dev': 5, 'lr_all': 0.001, 'reg_bi': 0.005, 'reg_bu': 0.5, 'reg_pu': 0.0005, 'reg_qi': 0.05} : 0.9033397414087783\n",
      "181 left --- Params {'biased': False, 'init_std_dev': 5, 'lr_all': 0.001, 'reg_bi': 0.005, 'reg_bu': 0.5, 'reg_pu': 0.0005, 'reg_qi': 0.01} : 0.9033172760654496\n",
      "180 left --- Params {'biased': False, 'init_std_dev': 5, 'lr_all': 0.001, 'reg_bi': 0.005, 'reg_bu': 0.5, 'reg_pu': 0.0005, 'reg_qi': 0.005} : 0.9043148781988046\n",
      "179 left --- Params {'biased': False, 'init_std_dev': 5, 'lr_all': 0.001, 'reg_bi': 0.005, 'reg_bu': 0.1, 'reg_pu': 0.005, 'reg_qi': 0.05} : 0.9037149592589554\n",
      "178 left --- Params {'biased': False, 'init_std_dev': 5, 'lr_all': 0.001, 'reg_bi': 0.005, 'reg_bu': 0.1, 'reg_pu': 0.005, 'reg_qi': 0.01} : 0.9034185624824752\n",
      "177 left --- Params {'biased': False, 'init_std_dev': 5, 'lr_all': 0.001, 'reg_bi': 0.005, 'reg_bu': 0.1, 'reg_pu': 0.005, 'reg_qi': 0.005} : 0.9039034228324048\n",
      "176 left --- Params {'biased': False, 'init_std_dev': 5, 'lr_all': 0.001, 'reg_bi': 0.005, 'reg_bu': 0.1, 'reg_pu': 0.001, 'reg_qi': 0.05} : 0.9039252285398085\n",
      "175 left --- Params {'biased': False, 'init_std_dev': 5, 'lr_all': 0.001, 'reg_bi': 0.005, 'reg_bu': 0.1, 'reg_pu': 0.001, 'reg_qi': 0.01} : 0.9031120318176212\n",
      "174 left --- Params {'biased': False, 'init_std_dev': 5, 'lr_all': 0.001, 'reg_bi': 0.005, 'reg_bu': 0.1, 'reg_pu': 0.001, 'reg_qi': 0.005} : 0.9027970418024427\n",
      "173 left --- Params {'biased': False, 'init_std_dev': 5, 'lr_all': 0.001, 'reg_bi': 0.005, 'reg_bu': 0.1, 'reg_pu': 0.0005, 'reg_qi': 0.05} : 0.9028651241333528\n",
      "172 left --- Params {'biased': False, 'init_std_dev': 5, 'lr_all': 0.001, 'reg_bi': 0.005, 'reg_bu': 0.1, 'reg_pu': 0.0005, 'reg_qi': 0.01} : 0.9031445964335201\n",
      "171 left --- Params {'biased': False, 'init_std_dev': 5, 'lr_all': 0.001, 'reg_bi': 0.005, 'reg_bu': 0.1, 'reg_pu': 0.0005, 'reg_qi': 0.005} : 0.9041052114920687\n",
      "170 left --- Params {'biased': False, 'init_std_dev': 5, 'lr_all': 0.001, 'reg_bi': 0.005, 'reg_bu': 0.05, 'reg_pu': 0.005, 'reg_qi': 0.05} : 0.9030807359759175\n",
      "169 left --- Params {'biased': False, 'init_std_dev': 5, 'lr_all': 0.001, 'reg_bi': 0.005, 'reg_bu': 0.05, 'reg_pu': 0.005, 'reg_qi': 0.01} : 0.9039272987258979\n",
      "168 left --- Params {'biased': False, 'init_std_dev': 5, 'lr_all': 0.001, 'reg_bi': 0.005, 'reg_bu': 0.05, 'reg_pu': 0.005, 'reg_qi': 0.005} : 0.9030580001699073\n",
      "167 left --- Params {'biased': False, 'init_std_dev': 5, 'lr_all': 0.001, 'reg_bi': 0.005, 'reg_bu': 0.05, 'reg_pu': 0.001, 'reg_qi': 0.05} : 0.9035835790236051\n",
      "166 left --- Params {'biased': False, 'init_std_dev': 5, 'lr_all': 0.001, 'reg_bi': 0.005, 'reg_bu': 0.05, 'reg_pu': 0.001, 'reg_qi': 0.01} : 0.903999131390098\n",
      "165 left --- Params {'biased': False, 'init_std_dev': 5, 'lr_all': 0.001, 'reg_bi': 0.005, 'reg_bu': 0.05, 'reg_pu': 0.001, 'reg_qi': 0.005} : 0.9035793916910176\n",
      "164 left --- Params {'biased': False, 'init_std_dev': 5, 'lr_all': 0.001, 'reg_bi': 0.005, 'reg_bu': 0.05, 'reg_pu': 0.0005, 'reg_qi': 0.05} : 0.9039438241492137\n",
      "163 left --- Params {'biased': False, 'init_std_dev': 5, 'lr_all': 0.001, 'reg_bi': 0.005, 'reg_bu': 0.05, 'reg_pu': 0.0005, 'reg_qi': 0.01} : 0.9042722513089689\n",
      "162 left --- Params {'biased': False, 'init_std_dev': 5, 'lr_all': 0.001, 'reg_bi': 0.005, 'reg_bu': 0.05, 'reg_pu': 0.0005, 'reg_qi': 0.005} : 0.9038654314574539\n",
      "161 left --- Params {'biased': False, 'init_std_dev': 1, 'lr_all': 0.001, 'reg_bi': 0.05, 'reg_bu': 0.5, 'reg_pu': 0.005, 'reg_qi': 0.05} : 0.1076783582919094\n",
      "160 left --- Params {'biased': False, 'init_std_dev': 1, 'lr_all': 0.001, 'reg_bi': 0.05, 'reg_bu': 0.5, 'reg_pu': 0.005, 'reg_qi': 0.01} : 0.1032589861179278\n",
      "159 left --- Params {'biased': False, 'init_std_dev': 1, 'lr_all': 0.001, 'reg_bi': 0.05, 'reg_bu': 0.5, 'reg_pu': 0.005, 'reg_qi': 0.005} : 0.10543562288616591\n",
      "158 left --- Params {'biased': False, 'init_std_dev': 1, 'lr_all': 0.001, 'reg_bi': 0.05, 'reg_bu': 0.5, 'reg_pu': 0.001, 'reg_qi': 0.05} : 0.10539510604384196\n",
      "157 left --- Params {'biased': False, 'init_std_dev': 1, 'lr_all': 0.001, 'reg_bi': 0.05, 'reg_bu': 0.5, 'reg_pu': 0.001, 'reg_qi': 0.01} : 0.10368639544966692\n",
      "156 left --- Params {'biased': False, 'init_std_dev': 1, 'lr_all': 0.001, 'reg_bi': 0.05, 'reg_bu': 0.5, 'reg_pu': 0.001, 'reg_qi': 0.005} : 0.10351191086341963\n",
      "155 left --- Params {'biased': False, 'init_std_dev': 1, 'lr_all': 0.001, 'reg_bi': 0.05, 'reg_bu': 0.5, 'reg_pu': 0.0005, 'reg_qi': 0.05} : 0.11038239176619095\n",
      "154 left --- Params {'biased': False, 'init_std_dev': 1, 'lr_all': 0.001, 'reg_bi': 0.05, 'reg_bu': 0.5, 'reg_pu': 0.0005, 'reg_qi': 0.01} : 0.10303162445548296\n",
      "153 left --- Params {'biased': False, 'init_std_dev': 1, 'lr_all': 0.001, 'reg_bi': 0.05, 'reg_bu': 0.5, 'reg_pu': 0.0005, 'reg_qi': 0.005} : 0.11072577135096201\n",
      "152 left --- Params {'biased': False, 'init_std_dev': 1, 'lr_all': 0.001, 'reg_bi': 0.05, 'reg_bu': 0.1, 'reg_pu': 0.005, 'reg_qi': 0.05} : 0.1040787564782326\n",
      "151 left --- Params {'biased': False, 'init_std_dev': 1, 'lr_all': 0.001, 'reg_bi': 0.05, 'reg_bu': 0.1, 'reg_pu': 0.005, 'reg_qi': 0.01} : 0.108500048039044\n",
      "150 left --- Params {'biased': False, 'init_std_dev': 1, 'lr_all': 0.001, 'reg_bi': 0.05, 'reg_bu': 0.1, 'reg_pu': 0.005, 'reg_qi': 0.005} : 0.10613203129577305\n",
      "149 left --- Params {'biased': False, 'init_std_dev': 1, 'lr_all': 0.001, 'reg_bi': 0.05, 'reg_bu': 0.1, 'reg_pu': 0.001, 'reg_qi': 0.05} : 0.10793605037606376\n",
      "148 left --- Params {'biased': False, 'init_std_dev': 1, 'lr_all': 0.001, 'reg_bi': 0.05, 'reg_bu': 0.1, 'reg_pu': 0.001, 'reg_qi': 0.01} : 0.10451334919209099\n",
      "147 left --- Params {'biased': False, 'init_std_dev': 1, 'lr_all': 0.001, 'reg_bi': 0.05, 'reg_bu': 0.1, 'reg_pu': 0.001, 'reg_qi': 0.005} : 0.10383678439615977\n",
      "146 left --- Params {'biased': False, 'init_std_dev': 1, 'lr_all': 0.001, 'reg_bi': 0.05, 'reg_bu': 0.1, 'reg_pu': 0.0005, 'reg_qi': 0.05} : 0.10619592869530535\n",
      "145 left --- Params {'biased': False, 'init_std_dev': 1, 'lr_all': 0.001, 'reg_bi': 0.05, 'reg_bu': 0.1, 'reg_pu': 0.0005, 'reg_qi': 0.01} : 0.10332739504078844\n",
      "144 left --- Params {'biased': False, 'init_std_dev': 1, 'lr_all': 0.001, 'reg_bi': 0.05, 'reg_bu': 0.1, 'reg_pu': 0.0005, 'reg_qi': 0.005} : 0.10308625982716876\n",
      "143 left --- Params {'biased': False, 'init_std_dev': 1, 'lr_all': 0.001, 'reg_bi': 0.05, 'reg_bu': 0.05, 'reg_pu': 0.005, 'reg_qi': 0.05} : 0.10425024322594861\n",
      "142 left --- Params {'biased': False, 'init_std_dev': 1, 'lr_all': 0.001, 'reg_bi': 0.05, 'reg_bu': 0.05, 'reg_pu': 0.005, 'reg_qi': 0.01} : 0.10439777858823347\n",
      "141 left --- Params {'biased': False, 'init_std_dev': 1, 'lr_all': 0.001, 'reg_bi': 0.05, 'reg_bu': 0.05, 'reg_pu': 0.005, 'reg_qi': 0.005} : 0.10770100523101667\n",
      "140 left --- Params {'biased': False, 'init_std_dev': 1, 'lr_all': 0.001, 'reg_bi': 0.05, 'reg_bu': 0.05, 'reg_pu': 0.001, 'reg_qi': 0.05} : 0.10756384183156918\n",
      "139 left --- Params {'biased': False, 'init_std_dev': 1, 'lr_all': 0.001, 'reg_bi': 0.05, 'reg_bu': 0.05, 'reg_pu': 0.001, 'reg_qi': 0.01} : 0.10543179609991636\n",
      "138 left --- Params {'biased': False, 'init_std_dev': 1, 'lr_all': 0.001, 'reg_bi': 0.05, 'reg_bu': 0.05, 'reg_pu': 0.001, 'reg_qi': 0.005} : 0.10453780049683367\n",
      "137 left --- Params {'biased': False, 'init_std_dev': 1, 'lr_all': 0.001, 'reg_bi': 0.05, 'reg_bu': 0.05, 'reg_pu': 0.0005, 'reg_qi': 0.05} : 0.10691380430273573\n",
      "136 left --- Params {'biased': False, 'init_std_dev': 1, 'lr_all': 0.001, 'reg_bi': 0.05, 'reg_bu': 0.05, 'reg_pu': 0.0005, 'reg_qi': 0.01} : 0.10667018692133738\n",
      "135 left --- Params {'biased': False, 'init_std_dev': 1, 'lr_all': 0.001, 'reg_bi': 0.05, 'reg_bu': 0.05, 'reg_pu': 0.0005, 'reg_qi': 0.005} : 0.1074304034523605\n",
      "134 left --- Params {'biased': False, 'init_std_dev': 1, 'lr_all': 0.001, 'reg_bi': 0.01, 'reg_bu': 0.5, 'reg_pu': 0.005, 'reg_qi': 0.05} : 0.10685674591746651\n",
      "133 left --- Params {'biased': False, 'init_std_dev': 1, 'lr_all': 0.001, 'reg_bi': 0.01, 'reg_bu': 0.5, 'reg_pu': 0.005, 'reg_qi': 0.01} : 0.10489491050242403\n",
      "132 left --- Params {'biased': False, 'init_std_dev': 1, 'lr_all': 0.001, 'reg_bi': 0.01, 'reg_bu': 0.5, 'reg_pu': 0.005, 'reg_qi': 0.005} : 0.10300240070259015\n",
      "131 left --- Params {'biased': False, 'init_std_dev': 1, 'lr_all': 0.001, 'reg_bi': 0.01, 'reg_bu': 0.5, 'reg_pu': 0.001, 'reg_qi': 0.05} : 0.10764289040241198\n",
      "130 left --- Params {'biased': False, 'init_std_dev': 1, 'lr_all': 0.001, 'reg_bi': 0.01, 'reg_bu': 0.5, 'reg_pu': 0.001, 'reg_qi': 0.01} : 0.10476401158053861\n",
      "129 left --- Params {'biased': False, 'init_std_dev': 1, 'lr_all': 0.001, 'reg_bi': 0.01, 'reg_bu': 0.5, 'reg_pu': 0.001, 'reg_qi': 0.005} : 0.10390007745083939\n",
      "128 left --- Params {'biased': False, 'init_std_dev': 1, 'lr_all': 0.001, 'reg_bi': 0.01, 'reg_bu': 0.5, 'reg_pu': 0.0005, 'reg_qi': 0.05} : 0.11029033159477421\n",
      "127 left --- Params {'biased': False, 'init_std_dev': 1, 'lr_all': 0.001, 'reg_bi': 0.01, 'reg_bu': 0.5, 'reg_pu': 0.0005, 'reg_qi': 0.01} : 0.10441387920789211\n",
      "126 left --- Params {'biased': False, 'init_std_dev': 1, 'lr_all': 0.001, 'reg_bi': 0.01, 'reg_bu': 0.5, 'reg_pu': 0.0005, 'reg_qi': 0.005} : 0.10501311513278817\n",
      "125 left --- Params {'biased': False, 'init_std_dev': 1, 'lr_all': 0.001, 'reg_bi': 0.01, 'reg_bu': 0.1, 'reg_pu': 0.005, 'reg_qi': 0.05} : 0.10475812360688719\n",
      "124 left --- Params {'biased': False, 'init_std_dev': 1, 'lr_all': 0.001, 'reg_bi': 0.01, 'reg_bu': 0.1, 'reg_pu': 0.005, 'reg_qi': 0.01} : 0.10724446246372639\n",
      "123 left --- Params {'biased': False, 'init_std_dev': 1, 'lr_all': 0.001, 'reg_bi': 0.01, 'reg_bu': 0.1, 'reg_pu': 0.005, 'reg_qi': 0.005} : 0.10713138277272677\n",
      "122 left --- Params {'biased': False, 'init_std_dev': 1, 'lr_all': 0.001, 'reg_bi': 0.01, 'reg_bu': 0.1, 'reg_pu': 0.001, 'reg_qi': 0.05} : 0.10856991825786677\n",
      "121 left --- Params {'biased': False, 'init_std_dev': 1, 'lr_all': 0.001, 'reg_bi': 0.01, 'reg_bu': 0.1, 'reg_pu': 0.001, 'reg_qi': 0.01} : 0.10981889817079\n",
      "120 left --- Params {'biased': False, 'init_std_dev': 1, 'lr_all': 0.001, 'reg_bi': 0.01, 'reg_bu': 0.1, 'reg_pu': 0.001, 'reg_qi': 0.005} : 0.10675562477843323\n",
      "119 left --- Params {'biased': False, 'init_std_dev': 1, 'lr_all': 0.001, 'reg_bi': 0.01, 'reg_bu': 0.1, 'reg_pu': 0.0005, 'reg_qi': 0.05} : 0.10848421330401944\n",
      "118 left --- Params {'biased': False, 'init_std_dev': 1, 'lr_all': 0.001, 'reg_bi': 0.01, 'reg_bu': 0.1, 'reg_pu': 0.0005, 'reg_qi': 0.01} : 0.10750821633621636\n",
      "117 left --- Params {'biased': False, 'init_std_dev': 1, 'lr_all': 0.001, 'reg_bi': 0.01, 'reg_bu': 0.1, 'reg_pu': 0.0005, 'reg_qi': 0.005} : 0.10815291787704959\n",
      "116 left --- Params {'biased': False, 'init_std_dev': 1, 'lr_all': 0.001, 'reg_bi': 0.01, 'reg_bu': 0.05, 'reg_pu': 0.005, 'reg_qi': 0.05} : 0.10672097784484505\n",
      "115 left --- Params {'biased': False, 'init_std_dev': 1, 'lr_all': 0.001, 'reg_bi': 0.01, 'reg_bu': 0.05, 'reg_pu': 0.005, 'reg_qi': 0.01} : 0.10494329247921717\n",
      "114 left --- Params {'biased': False, 'init_std_dev': 1, 'lr_all': 0.001, 'reg_bi': 0.01, 'reg_bu': 0.05, 'reg_pu': 0.005, 'reg_qi': 0.005} : 0.11048109760186706\n",
      "113 left --- Params {'biased': False, 'init_std_dev': 1, 'lr_all': 0.001, 'reg_bi': 0.01, 'reg_bu': 0.05, 'reg_pu': 0.001, 'reg_qi': 0.05} : 0.10731394320496254\n",
      "112 left --- Params {'biased': False, 'init_std_dev': 1, 'lr_all': 0.001, 'reg_bi': 0.01, 'reg_bu': 0.05, 'reg_pu': 0.001, 'reg_qi': 0.01} : 0.10486184170869875\n",
      "111 left --- Params {'biased': False, 'init_std_dev': 1, 'lr_all': 0.001, 'reg_bi': 0.01, 'reg_bu': 0.05, 'reg_pu': 0.001, 'reg_qi': 0.005} : 0.10783005612627641\n",
      "110 left --- Params {'biased': False, 'init_std_dev': 1, 'lr_all': 0.001, 'reg_bi': 0.01, 'reg_bu': 0.05, 'reg_pu': 0.0005, 'reg_qi': 0.05} : 0.10909678586883685\n",
      "109 left --- Params {'biased': False, 'init_std_dev': 1, 'lr_all': 0.001, 'reg_bi': 0.01, 'reg_bu': 0.05, 'reg_pu': 0.0005, 'reg_qi': 0.01} : 0.10561073174979518\n",
      "108 left --- Params {'biased': False, 'init_std_dev': 1, 'lr_all': 0.001, 'reg_bi': 0.01, 'reg_bu': 0.05, 'reg_pu': 0.0005, 'reg_qi': 0.005} : 0.1068995919111548\n",
      "107 left --- Params {'biased': False, 'init_std_dev': 1, 'lr_all': 0.001, 'reg_bi': 0.005, 'reg_bu': 0.5, 'reg_pu': 0.005, 'reg_qi': 0.05} : 0.10316855107728701\n",
      "106 left --- Params {'biased': False, 'init_std_dev': 1, 'lr_all': 0.001, 'reg_bi': 0.005, 'reg_bu': 0.5, 'reg_pu': 0.005, 'reg_qi': 0.01} : 0.10490881510677318\n",
      "105 left --- Params {'biased': False, 'init_std_dev': 1, 'lr_all': 0.001, 'reg_bi': 0.005, 'reg_bu': 0.5, 'reg_pu': 0.005, 'reg_qi': 0.005} : 0.10359420903624462\n",
      "104 left --- Params {'biased': False, 'init_std_dev': 1, 'lr_all': 0.001, 'reg_bi': 0.005, 'reg_bu': 0.5, 'reg_pu': 0.001, 'reg_qi': 0.05} : 0.10532845422023088\n",
      "103 left --- Params {'biased': False, 'init_std_dev': 1, 'lr_all': 0.001, 'reg_bi': 0.005, 'reg_bu': 0.5, 'reg_pu': 0.001, 'reg_qi': 0.01} : 0.10764116840433033\n",
      "102 left --- Params {'biased': False, 'init_std_dev': 1, 'lr_all': 0.001, 'reg_bi': 0.005, 'reg_bu': 0.5, 'reg_pu': 0.001, 'reg_qi': 0.005} : 0.10429125694620608\n",
      "101 left --- Params {'biased': False, 'init_std_dev': 1, 'lr_all': 0.001, 'reg_bi': 0.005, 'reg_bu': 0.5, 'reg_pu': 0.0005, 'reg_qi': 0.05} : 0.10244198706950927\n",
      "100 left --- Params {'biased': False, 'init_std_dev': 1, 'lr_all': 0.001, 'reg_bi': 0.005, 'reg_bu': 0.5, 'reg_pu': 0.0005, 'reg_qi': 0.01} : 0.10679072792794884\n",
      "99 left --- Params {'biased': False, 'init_std_dev': 1, 'lr_all': 0.001, 'reg_bi': 0.005, 'reg_bu': 0.5, 'reg_pu': 0.0005, 'reg_qi': 0.005} : 0.1085918705334413\n",
      "98 left --- Params {'biased': False, 'init_std_dev': 1, 'lr_all': 0.001, 'reg_bi': 0.005, 'reg_bu': 0.1, 'reg_pu': 0.005, 'reg_qi': 0.05} : 0.10613845099570915\n",
      "97 left --- Params {'biased': False, 'init_std_dev': 1, 'lr_all': 0.001, 'reg_bi': 0.005, 'reg_bu': 0.1, 'reg_pu': 0.005, 'reg_qi': 0.01} : 0.10765188862659843\n",
      "96 left --- Params {'biased': False, 'init_std_dev': 1, 'lr_all': 0.001, 'reg_bi': 0.005, 'reg_bu': 0.1, 'reg_pu': 0.005, 'reg_qi': 0.005} : 0.10491720220312589\n",
      "95 left --- Params {'biased': False, 'init_std_dev': 1, 'lr_all': 0.001, 'reg_bi': 0.005, 'reg_bu': 0.1, 'reg_pu': 0.001, 'reg_qi': 0.05} : 0.1053854206301885\n",
      "94 left --- Params {'biased': False, 'init_std_dev': 1, 'lr_all': 0.001, 'reg_bi': 0.005, 'reg_bu': 0.1, 'reg_pu': 0.001, 'reg_qi': 0.01} : 0.10653786956407915\n",
      "93 left --- Params {'biased': False, 'init_std_dev': 1, 'lr_all': 0.001, 'reg_bi': 0.005, 'reg_bu': 0.1, 'reg_pu': 0.001, 'reg_qi': 0.005} : 0.10602448493014631\n",
      "92 left --- Params {'biased': False, 'init_std_dev': 1, 'lr_all': 0.001, 'reg_bi': 0.005, 'reg_bu': 0.1, 'reg_pu': 0.0005, 'reg_qi': 0.05} : 0.11004949494002761\n",
      "91 left --- Params {'biased': False, 'init_std_dev': 1, 'lr_all': 0.001, 'reg_bi': 0.005, 'reg_bu': 0.1, 'reg_pu': 0.0005, 'reg_qi': 0.01} : 0.10368964591855752\n",
      "90 left --- Params {'biased': False, 'init_std_dev': 1, 'lr_all': 0.001, 'reg_bi': 0.005, 'reg_bu': 0.1, 'reg_pu': 0.0005, 'reg_qi': 0.005} : 0.1034016492856903\n",
      "89 left --- Params {'biased': False, 'init_std_dev': 1, 'lr_all': 0.001, 'reg_bi': 0.005, 'reg_bu': 0.05, 'reg_pu': 0.005, 'reg_qi': 0.05} : 0.10601714071672856\n",
      "88 left --- Params {'biased': False, 'init_std_dev': 1, 'lr_all': 0.001, 'reg_bi': 0.005, 'reg_bu': 0.05, 'reg_pu': 0.005, 'reg_qi': 0.01} : 0.1079894856055641\n",
      "87 left --- Params {'biased': False, 'init_std_dev': 1, 'lr_all': 0.001, 'reg_bi': 0.005, 'reg_bu': 0.05, 'reg_pu': 0.005, 'reg_qi': 0.005} : 0.10131260737915518\n",
      "86 left --- Params {'biased': False, 'init_std_dev': 1, 'lr_all': 0.001, 'reg_bi': 0.005, 'reg_bu': 0.05, 'reg_pu': 0.001, 'reg_qi': 0.05} : 0.10393116179723928\n",
      "85 left --- Params {'biased': False, 'init_std_dev': 1, 'lr_all': 0.001, 'reg_bi': 0.005, 'reg_bu': 0.05, 'reg_pu': 0.001, 'reg_qi': 0.01} : 0.10318077986622788\n",
      "84 left --- Params {'biased': False, 'init_std_dev': 1, 'lr_all': 0.001, 'reg_bi': 0.005, 'reg_bu': 0.05, 'reg_pu': 0.001, 'reg_qi': 0.005} : 0.10897729218904907\n",
      "83 left --- Params {'biased': False, 'init_std_dev': 1, 'lr_all': 0.001, 'reg_bi': 0.005, 'reg_bu': 0.05, 'reg_pu': 0.0005, 'reg_qi': 0.05} : 0.10327190042410882\n",
      "82 left --- Params {'biased': False, 'init_std_dev': 1, 'lr_all': 0.001, 'reg_bi': 0.005, 'reg_bu': 0.05, 'reg_pu': 0.0005, 'reg_qi': 0.01} : 0.10224611728995141\n",
      "81 left --- Params {'biased': False, 'init_std_dev': 1, 'lr_all': 0.001, 'reg_bi': 0.005, 'reg_bu': 0.05, 'reg_pu': 0.0005, 'reg_qi': 0.005} : 0.10468431336517715\n",
      "80 left --- Params {'biased': False, 'init_std_dev': 0.5, 'lr_all': 0.001, 'reg_bi': 0.05, 'reg_bu': 0.5, 'reg_pu': 0.005, 'reg_qi': 0.05} : 0.45309449789166784\n",
      "79 left --- Params {'biased': False, 'init_std_dev': 0.5, 'lr_all': 0.001, 'reg_bi': 0.05, 'reg_bu': 0.5, 'reg_pu': 0.005, 'reg_qi': 0.01} : 0.45548436481447907\n",
      "78 left --- Params {'biased': False, 'init_std_dev': 0.5, 'lr_all': 0.001, 'reg_bi': 0.05, 'reg_bu': 0.5, 'reg_pu': 0.005, 'reg_qi': 0.005} : 0.44716215050687513\n",
      "77 left --- Params {'biased': False, 'init_std_dev': 0.5, 'lr_all': 0.001, 'reg_bi': 0.05, 'reg_bu': 0.5, 'reg_pu': 0.001, 'reg_qi': 0.05} : 0.45006592313741794\n",
      "76 left --- Params {'biased': False, 'init_std_dev': 0.5, 'lr_all': 0.001, 'reg_bi': 0.05, 'reg_bu': 0.5, 'reg_pu': 0.001, 'reg_qi': 0.01} : 0.4472867019775088\n",
      "75 left --- Params {'biased': False, 'init_std_dev': 0.5, 'lr_all': 0.001, 'reg_bi': 0.05, 'reg_bu': 0.5, 'reg_pu': 0.001, 'reg_qi': 0.005} : 0.44936957190711574\n",
      "74 left --- Params {'biased': False, 'init_std_dev': 0.5, 'lr_all': 0.001, 'reg_bi': 0.05, 'reg_bu': 0.5, 'reg_pu': 0.0005, 'reg_qi': 0.05} : 0.4530738517916326\n",
      "73 left --- Params {'biased': False, 'init_std_dev': 0.5, 'lr_all': 0.001, 'reg_bi': 0.05, 'reg_bu': 0.5, 'reg_pu': 0.0005, 'reg_qi': 0.01} : 0.4440684001516905\n",
      "72 left --- Params {'biased': False, 'init_std_dev': 0.5, 'lr_all': 0.001, 'reg_bi': 0.05, 'reg_bu': 0.5, 'reg_pu': 0.0005, 'reg_qi': 0.005} : 0.45202483541241495\n",
      "71 left --- Params {'biased': False, 'init_std_dev': 0.5, 'lr_all': 0.001, 'reg_bi': 0.05, 'reg_bu': 0.1, 'reg_pu': 0.005, 'reg_qi': 0.05} : 0.4460154847490317\n",
      "70 left --- Params {'biased': False, 'init_std_dev': 0.5, 'lr_all': 0.001, 'reg_bi': 0.05, 'reg_bu': 0.1, 'reg_pu': 0.005, 'reg_qi': 0.01} : 0.45096664757753757\n",
      "69 left --- Params {'biased': False, 'init_std_dev': 0.5, 'lr_all': 0.001, 'reg_bi': 0.05, 'reg_bu': 0.1, 'reg_pu': 0.005, 'reg_qi': 0.005} : 0.4518008731096317\n",
      "68 left --- Params {'biased': False, 'init_std_dev': 0.5, 'lr_all': 0.001, 'reg_bi': 0.05, 'reg_bu': 0.1, 'reg_pu': 0.001, 'reg_qi': 0.05} : 0.4499420824224668\n",
      "67 left --- Params {'biased': False, 'init_std_dev': 0.5, 'lr_all': 0.001, 'reg_bi': 0.05, 'reg_bu': 0.1, 'reg_pu': 0.001, 'reg_qi': 0.01} : 0.45446510342408547\n",
      "66 left --- Params {'biased': False, 'init_std_dev': 0.5, 'lr_all': 0.001, 'reg_bi': 0.05, 'reg_bu': 0.1, 'reg_pu': 0.001, 'reg_qi': 0.005} : 0.4486865316538589\n",
      "65 left --- Params {'biased': False, 'init_std_dev': 0.5, 'lr_all': 0.001, 'reg_bi': 0.05, 'reg_bu': 0.1, 'reg_pu': 0.0005, 'reg_qi': 0.05} : 0.45093724647573324\n",
      "64 left --- Params {'biased': False, 'init_std_dev': 0.5, 'lr_all': 0.001, 'reg_bi': 0.05, 'reg_bu': 0.1, 'reg_pu': 0.0005, 'reg_qi': 0.01} : 0.4470405033269102\n",
      "63 left --- Params {'biased': False, 'init_std_dev': 0.5, 'lr_all': 0.001, 'reg_bi': 0.05, 'reg_bu': 0.1, 'reg_pu': 0.0005, 'reg_qi': 0.005} : 0.44731031480175154\n",
      "62 left --- Params {'biased': False, 'init_std_dev': 0.5, 'lr_all': 0.001, 'reg_bi': 0.05, 'reg_bu': 0.05, 'reg_pu': 0.005, 'reg_qi': 0.05} : 0.4575918796021753\n",
      "61 left --- Params {'biased': False, 'init_std_dev': 0.5, 'lr_all': 0.001, 'reg_bi': 0.05, 'reg_bu': 0.05, 'reg_pu': 0.005, 'reg_qi': 0.01} : 0.45246974891804004\n",
      "60 left --- Params {'biased': False, 'init_std_dev': 0.5, 'lr_all': 0.001, 'reg_bi': 0.05, 'reg_bu': 0.05, 'reg_pu': 0.005, 'reg_qi': 0.005} : 0.4505794064294163\n",
      "59 left --- Params {'biased': False, 'init_std_dev': 0.5, 'lr_all': 0.001, 'reg_bi': 0.05, 'reg_bu': 0.05, 'reg_pu': 0.001, 'reg_qi': 0.05} : 0.454782307792649\n",
      "58 left --- Params {'biased': False, 'init_std_dev': 0.5, 'lr_all': 0.001, 'reg_bi': 0.05, 'reg_bu': 0.05, 'reg_pu': 0.001, 'reg_qi': 0.01} : 0.4518889571605569\n",
      "57 left --- Params {'biased': False, 'init_std_dev': 0.5, 'lr_all': 0.001, 'reg_bi': 0.05, 'reg_bu': 0.05, 'reg_pu': 0.001, 'reg_qi': 0.005} : 0.45279748341699716\n",
      "56 left --- Params {'biased': False, 'init_std_dev': 0.5, 'lr_all': 0.001, 'reg_bi': 0.05, 'reg_bu': 0.05, 'reg_pu': 0.0005, 'reg_qi': 0.05} : 0.45003263058497656\n",
      "55 left --- Params {'biased': False, 'init_std_dev': 0.5, 'lr_all': 0.001, 'reg_bi': 0.05, 'reg_bu': 0.05, 'reg_pu': 0.0005, 'reg_qi': 0.01} : 0.4465918025771281\n",
      "54 left --- Params {'biased': False, 'init_std_dev': 0.5, 'lr_all': 0.001, 'reg_bi': 0.05, 'reg_bu': 0.05, 'reg_pu': 0.0005, 'reg_qi': 0.005} : 0.44660967618315844\n",
      "53 left --- Params {'biased': False, 'init_std_dev': 0.5, 'lr_all': 0.001, 'reg_bi': 0.01, 'reg_bu': 0.5, 'reg_pu': 0.005, 'reg_qi': 0.05} : 0.4499446821726869\n",
      "52 left --- Params {'biased': False, 'init_std_dev': 0.5, 'lr_all': 0.001, 'reg_bi': 0.01, 'reg_bu': 0.5, 'reg_pu': 0.005, 'reg_qi': 0.01} : 0.4488713386013663\n",
      "51 left --- Params {'biased': False, 'init_std_dev': 0.5, 'lr_all': 0.001, 'reg_bi': 0.01, 'reg_bu': 0.5, 'reg_pu': 0.005, 'reg_qi': 0.005} : 0.4513138061689752\n",
      "50 left --- Params {'biased': False, 'init_std_dev': 0.5, 'lr_all': 0.001, 'reg_bi': 0.01, 'reg_bu': 0.5, 'reg_pu': 0.001, 'reg_qi': 0.05} : 0.4505423910634573\n",
      "49 left --- Params {'biased': False, 'init_std_dev': 0.5, 'lr_all': 0.001, 'reg_bi': 0.01, 'reg_bu': 0.5, 'reg_pu': 0.001, 'reg_qi': 0.01} : 0.4500313637370365\n",
      "48 left --- Params {'biased': False, 'init_std_dev': 0.5, 'lr_all': 0.001, 'reg_bi': 0.01, 'reg_bu': 0.5, 'reg_pu': 0.001, 'reg_qi': 0.005} : 0.4454777048034709\n",
      "47 left --- Params {'biased': False, 'init_std_dev': 0.5, 'lr_all': 0.001, 'reg_bi': 0.01, 'reg_bu': 0.5, 'reg_pu': 0.0005, 'reg_qi': 0.05} : 0.4529439537582171\n",
      "46 left --- Params {'biased': False, 'init_std_dev': 0.5, 'lr_all': 0.001, 'reg_bi': 0.01, 'reg_bu': 0.5, 'reg_pu': 0.0005, 'reg_qi': 0.01} : 0.44945955052454856\n",
      "45 left --- Params {'biased': False, 'init_std_dev': 0.5, 'lr_all': 0.001, 'reg_bi': 0.01, 'reg_bu': 0.5, 'reg_pu': 0.0005, 'reg_qi': 0.005} : 0.4525647912154725\n",
      "44 left --- Params {'biased': False, 'init_std_dev': 0.5, 'lr_all': 0.001, 'reg_bi': 0.01, 'reg_bu': 0.1, 'reg_pu': 0.005, 'reg_qi': 0.05} : 0.4485073931969847\n",
      "43 left --- Params {'biased': False, 'init_std_dev': 0.5, 'lr_all': 0.001, 'reg_bi': 0.01, 'reg_bu': 0.1, 'reg_pu': 0.005, 'reg_qi': 0.01} : 0.4477983425760878\n",
      "42 left --- Params {'biased': False, 'init_std_dev': 0.5, 'lr_all': 0.001, 'reg_bi': 0.01, 'reg_bu': 0.1, 'reg_pu': 0.005, 'reg_qi': 0.005} : 0.44623075337246604\n",
      "41 left --- Params {'biased': False, 'init_std_dev': 0.5, 'lr_all': 0.001, 'reg_bi': 0.01, 'reg_bu': 0.1, 'reg_pu': 0.001, 'reg_qi': 0.05} : 0.45187191384730035\n",
      "40 left --- Params {'biased': False, 'init_std_dev': 0.5, 'lr_all': 0.001, 'reg_bi': 0.01, 'reg_bu': 0.1, 'reg_pu': 0.001, 'reg_qi': 0.01} : 0.45329885656947866\n",
      "39 left --- Params {'biased': False, 'init_std_dev': 0.5, 'lr_all': 0.001, 'reg_bi': 0.01, 'reg_bu': 0.1, 'reg_pu': 0.001, 'reg_qi': 0.005} : 0.44931298996026864\n",
      "38 left --- Params {'biased': False, 'init_std_dev': 0.5, 'lr_all': 0.001, 'reg_bi': 0.01, 'reg_bu': 0.1, 'reg_pu': 0.0005, 'reg_qi': 0.05} : 0.4504631892854114\n",
      "37 left --- Params {'biased': False, 'init_std_dev': 0.5, 'lr_all': 0.001, 'reg_bi': 0.01, 'reg_bu': 0.1, 'reg_pu': 0.0005, 'reg_qi': 0.01} : 0.45209677121369835\n",
      "36 left --- Params {'biased': False, 'init_std_dev': 0.5, 'lr_all': 0.001, 'reg_bi': 0.01, 'reg_bu': 0.1, 'reg_pu': 0.0005, 'reg_qi': 0.005} : 0.44761166653261697\n",
      "35 left --- Params {'biased': False, 'init_std_dev': 0.5, 'lr_all': 0.001, 'reg_bi': 0.01, 'reg_bu': 0.05, 'reg_pu': 0.005, 'reg_qi': 0.05} : 0.449271852661343\n",
      "34 left --- Params {'biased': False, 'init_std_dev': 0.5, 'lr_all': 0.001, 'reg_bi': 0.01, 'reg_bu': 0.05, 'reg_pu': 0.005, 'reg_qi': 0.01} : 0.45488521898640627\n",
      "33 left --- Params {'biased': False, 'init_std_dev': 0.5, 'lr_all': 0.001, 'reg_bi': 0.01, 'reg_bu': 0.05, 'reg_pu': 0.005, 'reg_qi': 0.005} : 0.4495944808214253\n",
      "32 left --- Params {'biased': False, 'init_std_dev': 0.5, 'lr_all': 0.001, 'reg_bi': 0.01, 'reg_bu': 0.05, 'reg_pu': 0.001, 'reg_qi': 0.05} : 0.451635552656627\n",
      "31 left --- Params {'biased': False, 'init_std_dev': 0.5, 'lr_all': 0.001, 'reg_bi': 0.01, 'reg_bu': 0.05, 'reg_pu': 0.001, 'reg_qi': 0.01} : 0.45149212295566227\n",
      "30 left --- Params {'biased': False, 'init_std_dev': 0.5, 'lr_all': 0.001, 'reg_bi': 0.01, 'reg_bu': 0.05, 'reg_pu': 0.001, 'reg_qi': 0.005} : 0.4543162654486802\n",
      "29 left --- Params {'biased': False, 'init_std_dev': 0.5, 'lr_all': 0.001, 'reg_bi': 0.01, 'reg_bu': 0.05, 'reg_pu': 0.0005, 'reg_qi': 0.05} : 0.4525340146844871\n",
      "28 left --- Params {'biased': False, 'init_std_dev': 0.5, 'lr_all': 0.001, 'reg_bi': 0.01, 'reg_bu': 0.05, 'reg_pu': 0.0005, 'reg_qi': 0.01} : 0.45058382970275596\n",
      "27 left --- Params {'biased': False, 'init_std_dev': 0.5, 'lr_all': 0.001, 'reg_bi': 0.01, 'reg_bu': 0.05, 'reg_pu': 0.0005, 'reg_qi': 0.005} : 0.45252486968532707\n",
      "26 left --- Params {'biased': False, 'init_std_dev': 0.5, 'lr_all': 0.001, 'reg_bi': 0.005, 'reg_bu': 0.5, 'reg_pu': 0.005, 'reg_qi': 0.05} : 0.4459652697044094\n",
      "25 left --- Params {'biased': False, 'init_std_dev': 0.5, 'lr_all': 0.001, 'reg_bi': 0.005, 'reg_bu': 0.5, 'reg_pu': 0.005, 'reg_qi': 0.01} : 0.4473232770609883\n",
      "24 left --- Params {'biased': False, 'init_std_dev': 0.5, 'lr_all': 0.001, 'reg_bi': 0.005, 'reg_bu': 0.5, 'reg_pu': 0.005, 'reg_qi': 0.005} : 0.4508799713689633\n",
      "23 left --- Params {'biased': False, 'init_std_dev': 0.5, 'lr_all': 0.001, 'reg_bi': 0.005, 'reg_bu': 0.5, 'reg_pu': 0.001, 'reg_qi': 0.05} : 0.4578298583069119\n",
      "22 left --- Params {'biased': False, 'init_std_dev': 0.5, 'lr_all': 0.001, 'reg_bi': 0.005, 'reg_bu': 0.5, 'reg_pu': 0.001, 'reg_qi': 0.01} : 0.4534440256073599\n",
      "21 left --- Params {'biased': False, 'init_std_dev': 0.5, 'lr_all': 0.001, 'reg_bi': 0.005, 'reg_bu': 0.5, 'reg_pu': 0.001, 'reg_qi': 0.005} : 0.45170885386202697\n",
      "20 left --- Params {'biased': False, 'init_std_dev': 0.5, 'lr_all': 0.001, 'reg_bi': 0.005, 'reg_bu': 0.5, 'reg_pu': 0.0005, 'reg_qi': 0.05} : 0.44555994037497226\n",
      "19 left --- Params {'biased': False, 'init_std_dev': 0.5, 'lr_all': 0.001, 'reg_bi': 0.005, 'reg_bu': 0.5, 'reg_pu': 0.0005, 'reg_qi': 0.01} : 0.45441057096631826\n",
      "18 left --- Params {'biased': False, 'init_std_dev': 0.5, 'lr_all': 0.001, 'reg_bi': 0.005, 'reg_bu': 0.5, 'reg_pu': 0.0005, 'reg_qi': 0.005} : 0.44609491134487655\n",
      "17 left --- Params {'biased': False, 'init_std_dev': 0.5, 'lr_all': 0.001, 'reg_bi': 0.005, 'reg_bu': 0.1, 'reg_pu': 0.005, 'reg_qi': 0.05} : 0.4493690190200748\n",
      "16 left --- Params {'biased': False, 'init_std_dev': 0.5, 'lr_all': 0.001, 'reg_bi': 0.005, 'reg_bu': 0.1, 'reg_pu': 0.005, 'reg_qi': 0.01} : 0.4514663619727332\n",
      "15 left --- Params {'biased': False, 'init_std_dev': 0.5, 'lr_all': 0.001, 'reg_bi': 0.005, 'reg_bu': 0.1, 'reg_pu': 0.005, 'reg_qi': 0.005} : 0.44591275871974495\n",
      "14 left --- Params {'biased': False, 'init_std_dev': 0.5, 'lr_all': 0.001, 'reg_bi': 0.005, 'reg_bu': 0.1, 'reg_pu': 0.001, 'reg_qi': 0.05} : 0.4504695510458174\n",
      "13 left --- Params {'biased': False, 'init_std_dev': 0.5, 'lr_all': 0.001, 'reg_bi': 0.005, 'reg_bu': 0.1, 'reg_pu': 0.001, 'reg_qi': 0.01} : 0.45086922464579937\n",
      "12 left --- Params {'biased': False, 'init_std_dev': 0.5, 'lr_all': 0.001, 'reg_bi': 0.005, 'reg_bu': 0.1, 'reg_pu': 0.001, 'reg_qi': 0.005} : 0.45193755086087983\n",
      "11 left --- Params {'biased': False, 'init_std_dev': 0.5, 'lr_all': 0.001, 'reg_bi': 0.005, 'reg_bu': 0.1, 'reg_pu': 0.0005, 'reg_qi': 0.05} : 0.4500331011267024\n",
      "10 left --- Params {'biased': False, 'init_std_dev': 0.5, 'lr_all': 0.001, 'reg_bi': 0.005, 'reg_bu': 0.1, 'reg_pu': 0.0005, 'reg_qi': 0.01} : 0.4520902883726857\n",
      "9 left --- Params {'biased': False, 'init_std_dev': 0.5, 'lr_all': 0.001, 'reg_bi': 0.005, 'reg_bu': 0.1, 'reg_pu': 0.0005, 'reg_qi': 0.005} : 0.45650558276354153\n",
      "8 left --- Params {'biased': False, 'init_std_dev': 0.5, 'lr_all': 0.001, 'reg_bi': 0.005, 'reg_bu': 0.05, 'reg_pu': 0.005, 'reg_qi': 0.05} : 0.45294236228607876\n",
      "7 left --- Params {'biased': False, 'init_std_dev': 0.5, 'lr_all': 0.001, 'reg_bi': 0.005, 'reg_bu': 0.05, 'reg_pu': 0.005, 'reg_qi': 0.01} : 0.45124720799426493\n",
      "6 left --- Params {'biased': False, 'init_std_dev': 0.5, 'lr_all': 0.001, 'reg_bi': 0.005, 'reg_bu': 0.05, 'reg_pu': 0.005, 'reg_qi': 0.005} : 0.4439689542364011\n",
      "5 left --- Params {'biased': False, 'init_std_dev': 0.5, 'lr_all': 0.001, 'reg_bi': 0.005, 'reg_bu': 0.05, 'reg_pu': 0.001, 'reg_qi': 0.05} : 0.4485259398513874\n",
      "4 left --- Params {'biased': False, 'init_std_dev': 0.5, 'lr_all': 0.001, 'reg_bi': 0.005, 'reg_bu': 0.05, 'reg_pu': 0.001, 'reg_qi': 0.01} : 0.45117788989170826\n",
      "3 left --- Params {'biased': False, 'init_std_dev': 0.5, 'lr_all': 0.001, 'reg_bi': 0.005, 'reg_bu': 0.05, 'reg_pu': 0.001, 'reg_qi': 0.005} : 0.44778377023867366\n",
      "2 left --- Params {'biased': False, 'init_std_dev': 0.5, 'lr_all': 0.001, 'reg_bi': 0.005, 'reg_bu': 0.05, 'reg_pu': 0.0005, 'reg_qi': 0.05} : 0.4456658164859029\n",
      "1 left --- Params {'biased': False, 'init_std_dev': 0.5, 'lr_all': 0.001, 'reg_bi': 0.005, 'reg_bu': 0.05, 'reg_pu': 0.0005, 'reg_qi': 0.01} : 0.4441028259156198\n",
      "0 left --- Params {'biased': False, 'init_std_dev': 0.5, 'lr_all': 0.001, 'reg_bi': 0.005, 'reg_bu': 0.05, 'reg_pu': 0.0005, 'reg_qi': 0.005} : 0.44914047110860317\n"
     ]
    },
    {
     "data": {
      "text/plain": [
       "({'biased': False,\n",
       "  'init_std_dev': 1,\n",
       "  'lr_all': 0.001,\n",
       "  'reg_bi': 0.005,\n",
       "  'reg_bu': 0.05,\n",
       "  'reg_pu': 0.005,\n",
       "  'reg_qi': 0.005},\n",
       " 0.10131260737915518)"
      ]
     },
     "execution_count": 20,
     "metadata": {},
     "output_type": "execute_result"
    }
   ],
   "source": [
    "# ---------------------------- GRID SEARCH FOR SVD --------------------------- #\n",
    "params = {\n",
    "    \"biased\" : [False],\n",
    "    \"init_std_dev\" : [0.5, 1, 5],\n",
    "    \"lr_all\" : [0.001],\n",
    "    \"reg_bu\" : [0.05, 0.1, 0.5],\n",
    "    \"reg_bi\" : [0.005, 0.01, 0.05],\n",
    "    \"reg_qi\" : [0.005, 0.01, 0.05],\n",
    "    \"reg_pu\" : [0.0005, 0.001, 0.005],\n",
    "}\n",
    "\n",
    "best_svd_models = MyCrossValidation(surprise.prediction_algorithms.matrix_factorization.SVD, params)()\n",
    "best_svd_models[0]"
   ]
  },
  {
   "cell_type": "markdown",
   "metadata": {},
   "source": [
    "## Evaluation"
   ]
  },
  {
   "cell_type": "markdown",
   "metadata": {},
   "source": [
    "**Let's create a function that will give a score based on the similarity between items. For this, we will use the function defined in the Data Analysis Section : get_item_similarity. We found that the average number of similar feature between items is around 3 times bigger than the average number of similare feature value. Hence, we will score based on the following formula:**\n",
    "\n",
    "$$\n",
    "score = \\dfrac {similar\\_feature\\_number + 3 \\times similar\\_feature\\_value} {average\\_similare\\_feature + 3 \\times average\\_similar\\_feature\\_value}\n",
    "$$"
   ]
  },
  {
   "cell_type": "code",
   "execution_count": 15,
   "metadata": {},
   "outputs": [],
   "source": [
    "def get_item_similarity_score(item_features_df, item_id):\n",
    "    similarity = get_item_similarity(item_features_df, item_id)\n",
    "    if similarity is None:\n",
    "        return None\n",
    "    \n",
    "    res = (similarity.similar_feature_id + 3 * similarity.similar_value_id) / (similarity.similar_feature_id.mean() + 3 * similarity.similar_value_id.mean())\n",
    "    res /= max(res)\n",
    "    return res"
   ]
  },
  {
   "cell_type": "code",
   "execution_count": 16,
   "metadata": {},
   "outputs": [
    {
     "data": {
      "text/plain": [
       "count    22205.000000\n",
       "mean         0.345297\n",
       "std          0.159369\n",
       "min          0.102041\n",
       "25%          0.224490\n",
       "50%          0.285714\n",
       "75%          0.408163\n",
       "max          1.000000\n",
       "dtype: float64"
      ]
     },
     "execution_count": 16,
     "metadata": {},
     "output_type": "execute_result"
    }
   ],
   "source": [
    "get_item_similarity_score(item_features_df, item_id=2).describe()"
   ]
  },
  {
   "cell_type": "markdown",
   "metadata": {},
   "source": [
    "The users using the platform in the test set are completely unknown to us. Therefore, we will proceed as follows:\n",
    "1. Identify all similar users\n",
    "2. Make predictions for each of them and weight the results by the similarity rate to the user to be predicted\n",
    "3. Further improve our results by using the similarity between the items "
   ]
  },
  {
   "cell_type": "code",
   "execution_count": 22,
   "metadata": {},
   "outputs": [
    {
     "ename": "",
     "evalue": "",
     "output_type": "error",
     "traceback": [
      "\u001b[1;31mCanceled future for execute_request message before replies were done"
     ]
    },
    {
     "ename": "",
     "evalue": "",
     "output_type": "error",
     "traceback": [
      "\u001b[1;31mThe Kernel crashed while executing code in the the current cell or a previous cell. Please review the code in the cell(s) to identify a possible cause of the failure. Click <a href='https://aka.ms/vscodeJupyterKernelCrash'>here</a> for more info. View Jupyter <a href='command:jupyter.viewOutput'>log</a> for further details."
     ]
    }
   ],
   "source": [
    "class Recommandationgenerator:\n",
    "    \n",
    "    def __init__(self, train_set_df, candidate_item):\n",
    "        self.candidate_item = candidate_item\n",
    "        self.train_set_df = train_set_df\n",
    "        rating_reader = surprise.Reader(rating_scale=(1, 2))\n",
    "        self.train_set_surprise = surprise.dataset.Dataset.load_from_df(df=train_set_df[[\"user_id\", \"item_id\", \"raw_ratings\"]], reader=rating_reader) \n",
    "        self.model = surprise.SVD(**best_svd_models[0][0])\n",
    "        \n",
    "    def fit(self):\n",
    "        self.model.fit(self.train_set_surprise.build_full_trainset())\n",
    "        \n",
    "    def predict(self, X):\n",
    "        similar_user = self.__get_similar_user(X.item_id)\n",
    "        median_prediction = self.__get_user_median_prediction(similar_user)\n",
    "        return median_prediction\n",
    "        # return median_prediction[:100].index.to_list()\n",
    "    \n",
    "    def __get_similar_user(self, item_list):\n",
    "        return self.train_set_df[self.train_set_df[\"item_id\"].isin(item_list)][\"user_id\"]\n",
    "    \n",
    "    def __get_user_median_prediction(self, user_list):\n",
    "        X = pd.Series(index=pd.MultiIndex.from_product([self.candidate_item, user_list])).reset_index()\n",
    "        X = X.apply(lambda row : self..predict(uid=row.user_id, iid=row.item_id, verbose=False).est, axis=1)\n",
    "        X = X.rename(\"score\").reset_index()\n",
    "        return X.groupby(\"item_id\")[\"score\"].mean().sort_values(ascending=False)\n",
    "    \n",
    "    def __get_most_accurate_item(self, item_list):\n",
    "        item_scores = None\n",
    "        for item in item_list.values:\n",
    "            item = int(item)\n",
    "            temp = get_item_similarity_score(item_features_df[item_features_df.item_id.isin(self.candidate_item)], item_id=item)\n",
    "            item_scores = temp if item_scores is None else item_scores + temp\n",
    "        return item_scores.sort_values(ascending=False).index.to_list()\n",
    "        \n",
    "        \n",
    "\n",
    "# recommandationgenerator = Recommandationgenerator(train_set_df, candidate_items_df.item_id)\n",
    "# # recommandationgenerator.fit()\n",
    "\n",
    "# test = test_final_sessions_df[test_final_sessions_df[\"session_id\"] == 96]\n",
    "\n",
    "# recommandationgenerator.get_most_accurate_item(test[\"item_id\"])\n",
    "# temp = recommandationgenerator.predict(test)"
   ]
  },
  {
   "cell_type": "code",
   "execution_count": null,
   "metadata": {},
   "outputs": [],
   "source": []
  }
 ],
 "metadata": {
  "kernelspec": {
   "display_name": "Python 3.9.7 ('.venv': poetry)",
   "language": "python",
   "name": "python3"
  },
  "language_info": {
   "codemirror_mode": {
    "name": "ipython",
    "version": 3
   },
   "file_extension": ".py",
   "mimetype": "text/x-python",
   "name": "python",
   "nbconvert_exporter": "python",
   "pygments_lexer": "ipython3",
   "version": "3.9.5"
  },
  "orig_nbformat": 4,
  "vscode": {
   "interpreter": {
    "hash": "eb6d516e35c6ccbacc7077eece26ca831bb307c9b2b56521fa8c3e425b6f57cb"
   }
  }
 },
 "nbformat": 4,
 "nbformat_minor": 2
}
