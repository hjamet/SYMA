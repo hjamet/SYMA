{
 "cells": [
  {
   "cell_type": "markdown",
   "metadata": {},
   "source": [
    "# RecSys Challenge 2022 Research Notebook"
   ]
  },
  {
   "cell_type": "markdown",
   "metadata": {},
   "source": [
    "## Introduction"
   ]
  },
  {
   "cell_type": "markdown",
   "metadata": {},
   "source": [
    "Authors : \n",
    "- Henri Jamet <henri.jamet@epita.fr>\n",
    "- Corentin Duchene <corentin.duchene@epita.fr>\n",
    "- Adrien Merat <adrien.merat@epita.fr>\n",
    "- Erwan Goudard <erwan.goudard@epita.fr>\n",
    "\n",
    "Projet :\n",
    "- http://www.recsyschallenge.com/2022/index.html#about\n",
    "- http://www.recsyschallenge.com/2022/dataset.html"
   ]
  },
  {
   "cell_type": "markdown",
   "metadata": {},
   "source": [
    "## Data Exploration"
   ]
  },
  {
   "cell_type": "markdown",
   "metadata": {},
   "source": [
    "The data should first be downloaded and unpacked into the data folder at the root of this project. So we should have :\n",
    "\n",
    "```shell\n",
    "data\n",
    "├── README.txt\n",
    "├── README_win.txt\n",
    "├── candidate_items.csv\n",
    "├── item_features.csv\n",
    "├── test_final_sessions.csv\n",
    "├── test_leaderboard_sessions.csv\n",
    "├── train_purchases.csv\n",
    "└── train_sessions.csv\n",
    "```\n"
   ]
  },
  {
   "cell_type": "markdown",
   "metadata": {},
   "source": [
    "**Let's load our data**"
   ]
  },
  {
   "cell_type": "code",
   "execution_count": 85,
   "metadata": {},
   "outputs": [
    {
     "name": "stdout",
     "output_type": "stream",
     "text": [
      "train_session_df\n",
      "   session_id  item_id                     date\n",
      "0           3     9655  2020-12-18 21:25:00.373\n",
      "\n",
      "train_purchase_df\n",
      "   session_id  item_id                     date\n",
      "0           3    15085  2020-12-18 21:26:47.986\n",
      "\n",
      "candidate_items_df\n",
      "   item_id\n",
      "0        4\n",
      "\n",
      "item_features_df\n",
      "   item_id  feature_category_id  feature_value_id\n",
      "0        2                   56               365\n",
      "\n",
      "test_final_sessions_df\n",
      "   session_id  item_id                     date\n",
      "0          61    27088  2021-06-01 08:12:39.664\n",
      "\n",
      "test_leaderboard_sessions_df\n",
      "   session_id  item_id                     date\n",
      "0          26    19185  2021-06-16 09:53:54.158\n",
      "\n"
     ]
    }
   ],
   "source": [
    "import pandas as pd\n",
    "import os\n",
    "\n",
    "PATH_DATA = os.path.join(\"..\", \"data\")\n",
    "\n",
    "train_session_df = pd.read_csv(os.path.join(PATH_DATA, \"train_sessions.csv\"))\n",
    "train_purchase_df = pd.read_csv(os.path.join(PATH_DATA, \"train_purchases.csv\"))\n",
    "candidate_items_df = pd.read_csv(os.path.join(PATH_DATA, \"candidate_items.csv\"))\n",
    "item_features_df = pd.read_csv(os.path.join(PATH_DATA, \"item_features.csv\"))\n",
    "test_final_sessions_df = pd.read_csv(os.path.join(PATH_DATA, \"test_final_sessions.csv\"))\n",
    "test_leaderboard_sessions_df = pd.read_csv(os.path.join(PATH_DATA, \"test_leaderboard_sessions.csv\"))\n",
    "\n",
    "dict = {\"train_session_df\" : train_session_df, \"train_purchase_df\" : train_purchase_df, \"candidate_items_df\" : candidate_items_df, \"item_features_df\" : item_features_df, \"test_final_sessions_df\" : test_final_sessions_df, \"test_leaderboard_sessions_df\" : test_leaderboard_sessions_df}\n",
    "for key in dict:\n",
    "    print(key)\n",
    "    print(dict[key].head(1), end=\"\\n\\n\")"
   ]
  },
  {
   "cell_type": "markdown",
   "metadata": {},
   "source": [
    "*How many different items does exist?*"
   ]
  },
  {
   "cell_type": "code",
   "execution_count": 86,
   "metadata": {},
   "outputs": [
    {
     "name": "stdout",
     "output_type": "stream",
     "text": [
      "Unique item number : 23691\n",
      "Item id are unique :  True\n"
     ]
    }
   ],
   "source": [
    "distinct_item_number = len(item_features_df.item_id.unique())\n",
    "print(\"Unique item number :\", distinct_item_number)\n",
    "print(\"Item id are unique : \", item_features_df.item_id.nunique() == len(item_features_df.item_id.unique()))"
   ]
  },
  {
   "cell_type": "markdown",
   "metadata": {},
   "source": [
    "*How many different sessions does exist?*"
   ]
  },
  {
   "cell_type": "code",
   "execution_count": 87,
   "metadata": {},
   "outputs": [
    {
     "name": "stdout",
     "output_type": "stream",
     "text": [
      "Unique user number : 1000000\n"
     ]
    }
   ],
   "source": [
    "distinct_session_number = len(pd.concat([train_session_df.session_id, train_purchase_df.session_id]).unique())\n",
    "print(\"Unique user number :\", distinct_session_number)"
   ]
  },
  {
   "cell_type": "markdown",
   "metadata": {},
   "source": [
    "*How many candidate items exist?*"
   ]
  },
  {
   "cell_type": "code",
   "execution_count": 88,
   "metadata": {},
   "outputs": [
    {
     "name": "stdout",
     "output_type": "stream",
     "text": [
      "it exists 4990 different candidate items\n"
     ]
    }
   ],
   "source": [
    "print(\"it exists\", len(candidate_items_df.item_id.unique()), \"different candidate items\")"
   ]
  },
  {
   "cell_type": "markdown",
   "metadata": {},
   "source": [
    "*Does session always look an item before buying it?*"
   ]
  },
  {
   "cell_type": "code",
   "execution_count": 89,
   "metadata": {},
   "outputs": [
    {
     "name": "stdout",
     "output_type": "stream",
     "text": [
      "A user never look at one item before buying it.\n"
     ]
    },
    {
     "data": {
      "text/plain": [
       "left_only     1000000\n",
       "right_only          0\n",
       "both                0\n",
       "Name: Exist, dtype: int64"
      ]
     },
     "execution_count": 89,
     "metadata": {},
     "output_type": "execute_result"
    }
   ],
   "source": [
    "import numpy as np\n",
    "\n",
    "print(\"A user never look at one item before buying it.\")\n",
    "pd.merge(train_purchase_df, train_session_df, on=['session_id','item_id'], how='left', indicator='Exist')[\"Exist\"].value_counts()"
   ]
  },
  {
   "cell_type": "markdown",
   "metadata": {},
   "source": [
    "*Can a session look at items without buying any?*"
   ]
  },
  {
   "cell_type": "code",
   "execution_count": 90,
   "metadata": {},
   "outputs": [
    {
     "name": "stdout",
     "output_type": "stream",
     "text": [
      "Every session bought exactly one item.\n"
     ]
    },
    {
     "data": {
      "text/plain": [
       "both          4743820\n",
       "left_only           0\n",
       "right_only          0\n",
       "Name: Exist, dtype: int64"
      ]
     },
     "execution_count": 90,
     "metadata": {},
     "output_type": "execute_result"
    }
   ],
   "source": [
    "print(\"Every session bought exactly one item.\")\n",
    "\n",
    "pd.merge(train_purchase_df, train_session_df, on=['session_id'], how='left', indicator='Exist')[\"Exist\"].value_counts()"
   ]
  },
  {
   "cell_type": "markdown",
   "metadata": {},
   "source": [
    "*What is the average number of different items every user usually look?*"
   ]
  },
  {
   "cell_type": "code",
   "execution_count": 91,
   "metadata": {},
   "outputs": [
    {
     "name": "stdout",
     "output_type": "stream",
     "text": [
      "Average number of items seen by user : 4.74382\n"
     ]
    }
   ],
   "source": [
    "print(\"Average number of items seen by user :\", train_session_df.groupby(\"session_id\").count()[\"item_id\"].mean())"
   ]
  },
  {
   "cell_type": "markdown",
   "metadata": {},
   "source": [
    "*How many feature does exist?*"
   ]
  },
  {
   "cell_type": "code",
   "execution_count": 92,
   "metadata": {},
   "outputs": [
    {
     "name": "stdout",
     "output_type": "stream",
     "text": [
      "The number of different item features is :\n",
      "73\n"
     ]
    }
   ],
   "source": [
    "print(\"The number of different item features is :\")\n",
    "print(len(item_features_df[\"feature_category_id\"].unique()))"
   ]
  },
  {
   "cell_type": "markdown",
   "metadata": {},
   "source": [
    "*How many items have the same feature?*"
   ]
  },
  {
   "cell_type": "code",
   "execution_count": 93,
   "metadata": {},
   "outputs": [
    {
     "data": {
      "text/plain": [
       "Text(0.5, 1.0, 'Number of different items features')"
      ]
     },
     "execution_count": 93,
     "metadata": {},
     "output_type": "execute_result"
    },
    {
     "data": {
      "image/png": "[encoded data removed]",
      "text/plain": [
       "<Figure size 800x600 with 1 Axes>"
      ]
     },
     "metadata": {},
     "output_type": "display_data"
    }
   ],
   "source": [
    "from matplotlib import pyplot as plt\n",
    "\n",
    "fig = plt.figure(figsize=(8,6), dpi= 100, facecolor='w', edgecolor='k')\n",
    "nbr = item_features_df.groupby(\"feature_category_id\").count()[\"item_id\"]\n",
    "plt.bar(x=nbr.index, height=nbr.values)\n",
    "plt.title(\"Number of different items features\")"
   ]
  },
  {
   "cell_type": "markdown",
   "metadata": {},
   "source": [
    "*How many feature en feature_score items have in commun generaly?*\n",
    "\n",
    "This question is quite complex so we will first create a function giving this number for every items compared to one given because we will probably need this function soon or later anyway."
   ]
  },
  {
   "cell_type": "code",
   "execution_count": 94,
   "metadata": {},
   "outputs": [],
   "source": [
    "\n",
    "def get_item_similarity(item_features_df, item_id):\n",
    "    \"\"\"Get the similarity between the given item and all the others based on their features and feature values.\n",
    "\n",
    "    Args:\n",
    "        item_features_df (pd.DataFrame): The item features dataframe.\n",
    "        item_id_1 (int): The id of the first item\n",
    "\n",
    "    Returns:\n",
    "        (pd.DataFrame): item | similar_feature_id | similar_value_id\n",
    "    \"\"\"\n",
    "    item_df = item_features_df[item_features_df.item_id == item_id]\n",
    "    if len(item_df) == 0:\n",
    "        return None\n",
    "    same_feature_id = item_features_df[item_features_df.feature_category_id.isin(item_df.feature_category_id)]\n",
    "    same_value_id = same_feature_id[same_feature_id.feature_value_id.isin(item_df.feature_value_id)]\n",
    "    return pd.concat([same_feature_id.groupby(\"item_id\").count().feature_category_id.drop(index=item_id).rename(\"similar_feature_id\"), same_value_id.groupby(\"item_id\").count().feature_value_id.drop(index=item_id).rename(\"similar_value_id\")], axis=1)"
   ]
  },
  {
   "cell_type": "code",
   "execution_count": 95,
   "metadata": {},
   "outputs": [
    {
     "name": "stdout",
     "output_type": "stream",
     "text": [
      "Average number of similar features between items : 12.550258705837662\n",
      "Average number of similar feature values between items : 4.873229791904099\n"
     ]
    }
   ],
   "source": [
    "import numpy as np\n",
    "\n",
    "ESTIMATION_SAMPLE_NUMBER = 1000\n",
    "\n",
    "similar_feature_id = []\n",
    "similar_value_id = []\n",
    "for _, item_id in item_features_df.sample(ESTIMATION_SAMPLE_NUMBER).item_id.items():\n",
    "    similarity = get_item_similarity(item_features_df, item_id) / distinct_item_number\n",
    "    if similarity is None:\n",
    "        continue\n",
    "    similarity = similarity.sum()\n",
    "    similar_feature_id.append(similarity.similar_feature_id)\n",
    "    similar_value_id.append(similarity.similar_value_id)\n",
    "\n",
    "average_similar_feature = np.mean(similar_feature_id)\n",
    "average_similar_value = np.mean(similar_value_id)\n",
    "print(\"Average number of similar features between items :\", average_similar_feature)\n",
    "print(\"Average number of similar feature values between items :\", average_similar_value)\n",
    "    "
   ]
  },
  {
   "cell_type": "markdown",
   "metadata": {},
   "source": [
    "## Data Transformation"
   ]
  },
  {
   "cell_type": "markdown",
   "metadata": {},
   "source": [
    "*We need a scoer to predict for each user-item combination. How can we generate this score?*\n",
    "\n",
    "**We could assign a score of 2 to items purchased by the user, 1 to those he looked at and 0 to those he didn't even look at.**\n",
    "\n",
    "*But this solution risks giving a training set that is far too large and the training time is likely to be far too long! How can we reduce the size of our training set?*\n",
    "\n",
    "**One solution would be not to take all the items that the user has not looked at but to select for each user a number of random items that he has not looked at and add them to the training set with a score of 0.**\n",
    "\n",
    "Let's generate our training set followinf this idea."
   ]
  },
  {
   "cell_type": "code",
   "execution_count": 96,
   "metadata": {},
   "outputs": [
    {
     "data": {
      "text/html": [
       "<div>\n",
       "<style scoped>\n",
       "    .dataframe tbody tr th:only-of-type {\n",
       "        vertical-align: middle;\n",
       "    }\n",
       "\n",
       "    .dataframe tbody tr th {\n",
       "        vertical-align: top;\n",
       "    }\n",
       "\n",
       "    .dataframe thead th {\n",
       "        text-align: right;\n",
       "    }\n",
       "</style>\n",
       "<table border=\"1\" class=\"dataframe\">\n",
       "  <thead>\n",
       "    <tr style=\"text-align: right;\">\n",
       "      <th></th>\n",
       "      <th>user_id</th>\n",
       "      <th>item_id</th>\n",
       "      <th>date</th>\n",
       "      <th>raw_ratings</th>\n",
       "    </tr>\n",
       "  </thead>\n",
       "  <tbody>\n",
       "    <tr>\n",
       "      <th>2332735</th>\n",
       "      <td>2179563</td>\n",
       "      <td>10696</td>\n",
       "      <td>2021-05-14 11:23:44.10</td>\n",
       "      <td>1</td>\n",
       "    </tr>\n",
       "    <tr>\n",
       "      <th>2449023</th>\n",
       "      <td>2286301</td>\n",
       "      <td>8764</td>\n",
       "      <td>2021-05-23 18:07:28.038</td>\n",
       "      <td>1</td>\n",
       "    </tr>\n",
       "    <tr>\n",
       "      <th>3332186</th>\n",
       "      <td>3116104</td>\n",
       "      <td>20190</td>\n",
       "      <td>2020-07-06 18:11:56.794</td>\n",
       "      <td>1</td>\n",
       "    </tr>\n",
       "    <tr>\n",
       "      <th>245005</th>\n",
       "      <td>229095</td>\n",
       "      <td>982</td>\n",
       "      <td>2020-07-03 08:01:15.785</td>\n",
       "      <td>1</td>\n",
       "    </tr>\n",
       "    <tr>\n",
       "      <th>707341</th>\n",
       "      <td>661652</td>\n",
       "      <td>20590</td>\n",
       "      <td>2020-06-02 21:58:33.395</td>\n",
       "      <td>1</td>\n",
       "    </tr>\n",
       "    <tr>\n",
       "      <th>...</th>\n",
       "      <td>...</td>\n",
       "      <td>...</td>\n",
       "      <td>...</td>\n",
       "      <td>...</td>\n",
       "    </tr>\n",
       "    <tr>\n",
       "      <th>793</th>\n",
       "      <td>4415029</td>\n",
       "      <td>26105</td>\n",
       "      <td>NaN</td>\n",
       "      <td>0</td>\n",
       "    </tr>\n",
       "    <tr>\n",
       "      <th>794</th>\n",
       "      <td>4416294</td>\n",
       "      <td>12120</td>\n",
       "      <td>NaN</td>\n",
       "      <td>0</td>\n",
       "    </tr>\n",
       "    <tr>\n",
       "      <th>795</th>\n",
       "      <td>4437874</td>\n",
       "      <td>24808</td>\n",
       "      <td>NaN</td>\n",
       "      <td>0</td>\n",
       "    </tr>\n",
       "    <tr>\n",
       "      <th>796</th>\n",
       "      <td>4438808</td>\n",
       "      <td>8296</td>\n",
       "      <td>NaN</td>\n",
       "      <td>0</td>\n",
       "    </tr>\n",
       "    <tr>\n",
       "      <th>797</th>\n",
       "      <td>4439982</td>\n",
       "      <td>10961</td>\n",
       "      <td>NaN</td>\n",
       "      <td>0</td>\n",
       "    </tr>\n",
       "  </tbody>\n",
       "</table>\n",
       "<p>8743820 rows × 4 columns</p>\n",
       "</div>"
      ],
      "text/plain": [
       "         user_id  item_id                     date  raw_ratings\n",
       "2332735  2179563    10696   2021-05-14 11:23:44.10            1\n",
       "2449023  2286301     8764  2021-05-23 18:07:28.038            1\n",
       "3332186  3116104    20190  2020-07-06 18:11:56.794            1\n",
       "245005    229095      982  2020-07-03 08:01:15.785            1\n",
       "707341    661652    20590  2020-06-02 21:58:33.395            1\n",
       "...          ...      ...                      ...          ...\n",
       "793      4415029    26105                      NaN            0\n",
       "794      4416294    12120                      NaN            0\n",
       "795      4437874    24808                      NaN            0\n",
       "796      4438808     8296                      NaN            0\n",
       "797      4439982    10961                      NaN            0\n",
       "\n",
       "[8743820 rows x 4 columns]"
      ]
     },
     "execution_count": 96,
     "metadata": {},
     "output_type": "execute_result"
    }
   ],
   "source": [
    "NUMBER_OF_0_BY_USER = 3\n",
    "\n",
    "train_rating_df = pd.concat([train_session_df.assign(rating=1), train_purchase_df.assign(rating=2)])\n",
    "train_set_df = train_rating_df.rename(columns={\"session_id\" : \"user_id\", \"rating\" : \"raw_ratings\"}).sample(len(train_rating_df))\n",
    "\n",
    "# We add 0\n",
    "item_list = item_features_df.item_id.unique()\n",
    "\n",
    "Continue = True\n",
    "while Continue:\n",
    "    zero_by_user = train_set_df.assign(is_0 = (train_set_df.raw_ratings == 0)).groupby(\"user_id\").sum()[\"is_0\"]\n",
    "    zero_to_add =  zero_by_user.loc[zero_by_user < NUMBER_OF_0_BY_USER]\n",
    "    Continue = len(zero_to_add) > 0\n",
    "    zero_to_add = zero_to_add.reset_index().drop(columns=\"is_0\").assign(item_id=np.random.choice(item_list, zero_to_add.shape[0]), raw_ratings=0)\n",
    "    zero_to_add = zero_to_add[~zero_to_add.index.isin(pd.merge(zero_to_add.reset_index(), train_set_df, on=[\"user_id\", \"item_id\"], how=\"inner\").set_index(\"index\").index)]\n",
    "    train_set_df = pd.concat([train_set_df, zero_to_add])\n",
    "\n",
    "train_set_df"
   ]
  },
  {
   "cell_type": "code",
   "execution_count": 117,
   "metadata": {},
   "outputs": [
    {
     "data": {
      "text/html": [
       "<div>\n",
       "<style scoped>\n",
       "    .dataframe tbody tr th:only-of-type {\n",
       "        vertical-align: middle;\n",
       "    }\n",
       "\n",
       "    .dataframe tbody tr th {\n",
       "        vertical-align: top;\n",
       "    }\n",
       "\n",
       "    .dataframe thead th {\n",
       "        text-align: right;\n",
       "    }\n",
       "</style>\n",
       "<table border=\"1\" class=\"dataframe\">\n",
       "  <thead>\n",
       "    <tr style=\"text-align: right;\">\n",
       "      <th></th>\n",
       "      <th>user_id</th>\n",
       "      <th>item_id</th>\n",
       "      <th>date</th>\n",
       "      <th>raw_ratings</th>\n",
       "    </tr>\n",
       "  </thead>\n",
       "  <tbody>\n",
       "    <tr>\n",
       "      <th>0</th>\n",
       "      <td>3</td>\n",
       "      <td>15085</td>\n",
       "      <td>2020-12-18 21:26:47.986</td>\n",
       "      <td>2</td>\n",
       "    </tr>\n",
       "    <tr>\n",
       "      <th>1</th>\n",
       "      <td>3</td>\n",
       "      <td>9655</td>\n",
       "      <td>2020-12-18 21:19:48.093</td>\n",
       "      <td>1</td>\n",
       "    </tr>\n",
       "    <tr>\n",
       "      <th>0</th>\n",
       "      <td>3</td>\n",
       "      <td>9655</td>\n",
       "      <td>2020-12-18 21:25:00.373</td>\n",
       "      <td>1</td>\n",
       "    </tr>\n",
       "    <tr>\n",
       "      <th>0</th>\n",
       "      <td>3</td>\n",
       "      <td>20294</td>\n",
       "      <td>NaN</td>\n",
       "      <td>0</td>\n",
       "    </tr>\n",
       "    <tr>\n",
       "      <th>0</th>\n",
       "      <td>3</td>\n",
       "      <td>9903</td>\n",
       "      <td>NaN</td>\n",
       "      <td>0</td>\n",
       "    </tr>\n",
       "    <tr>\n",
       "      <th>0</th>\n",
       "      <td>3</td>\n",
       "      <td>4038</td>\n",
       "      <td>NaN</td>\n",
       "      <td>0</td>\n",
       "    </tr>\n",
       "  </tbody>\n",
       "</table>\n",
       "</div>"
      ],
      "text/plain": [
       "   user_id  item_id                     date  raw_ratings\n",
       "0        3    15085  2020-12-18 21:26:47.986            2\n",
       "1        3     9655  2020-12-18 21:19:48.093            1\n",
       "0        3     9655  2020-12-18 21:25:00.373            1\n",
       "0        3    20294                      NaN            0\n",
       "0        3     9903                      NaN            0\n",
       "0        3     4038                      NaN            0"
      ]
     },
     "execution_count": 117,
     "metadata": {},
     "output_type": "execute_result"
    }
   ],
   "source": [
    "train_set_df[train_set_df.user_id == 3]"
   ]
  },
  {
   "cell_type": "markdown",
   "metadata": {},
   "source": [
    "**Let's create a SURPRISE training dataset**"
   ]
  },
  {
   "cell_type": "code",
   "execution_count": 97,
   "metadata": {},
   "outputs": [],
   "source": [
    "TRAIN_SET_REDUCED_SIZE = 10000\n",
    "\n",
    "import surprise\n",
    "\n",
    "rating_reader = surprise.Reader(rating_scale=(0, 2))\n",
    "train_set = surprise.dataset.Dataset.load_from_df(df=train_set_df[[\"user_id\", \"item_id\", \"raw_ratings\"]], reader=rating_reader)\n",
    "train_set_reduced = surprise.dataset.Dataset.load_from_df(df=train_set_df[[\"user_id\", \"item_id\", \"raw_ratings\"]].iloc[:TRAIN_SET_REDUCED_SIZE], reader=rating_reader)"
   ]
  },
  {
   "cell_type": "markdown",
   "metadata": {},
   "source": [
    "## Metrics"
   ]
  },
  {
   "cell_type": "markdown",
   "metadata": {},
   "source": [
    "## Models"
   ]
  },
  {
   "cell_type": "markdown",
   "metadata": {},
   "source": [
    "### Let's train a simple Suprise Model"
   ]
  },
  {
   "cell_type": "code",
   "execution_count": 98,
   "metadata": {},
   "outputs": [
    {
     "name": "stdout",
     "output_type": "stream",
     "text": [
      "Evaluating RMSE of algorithm SVD on 5 split(s).\n",
      "\n",
      "                  Fold 1  Fold 2  Fold 3  Fold 4  Fold 5  Mean    Std     \n",
      "RMSE (testset)    0.3772  0.3845  0.3886  0.3764  0.3684  0.3790  0.0070  \n",
      "Fit time          0.21    0.21    0.21    0.22    0.22    0.22    0.00    \n",
      "Test time         0.01    0.01    0.01    0.01    0.01    0.01    0.00    \n"
     ]
    },
    {
     "data": {
      "text/plain": [
       "{'test_rmse': array([0.37715953, 0.38449604, 0.38860603, 0.37641357, 0.36839393]),\n",
       " 'fit_time': (0.21401715278625488,\n",
       "  0.2141098976135254,\n",
       "  0.21374917030334473,\n",
       "  0.22298216819763184,\n",
       "  0.22227215766906738),\n",
       " 'test_time': (0.006712913513183594,\n",
       "  0.0060825347900390625,\n",
       "  0.006681203842163086,\n",
       "  0.006082057952880859,\n",
       "  0.0054357051849365234)}"
      ]
     },
     "execution_count": 98,
     "metadata": {},
     "output_type": "execute_result"
    }
   ],
   "source": [
    "model = surprise.SVD()\n",
    "\n",
    "surprise.model_selection.cross_validate(model, train_set_reduced, measures=[\"RMSE\"], cv=5, verbose=True, n_jobs=-1)"
   ]
  },
  {
   "cell_type": "markdown",
   "metadata": {},
   "source": [
    "### Let's Compare our models"
   ]
  },
  {
   "cell_type": "code",
   "execution_count": 99,
   "metadata": {},
   "outputs": [
    {
     "name": "stdout",
     "output_type": "stream",
     "text": [
      "Estimating biases using als...\n",
      "Estimating biases using als...\n",
      "Estimating biases using als...\n",
      "Estimating biases using als...\n",
      "Estimating biases using als...\n",
      "Estimating biases using als...\n",
      "Computing the msd similarity matrix...\n",
      "Done computing similarity matrix.\n",
      "Estimating biases using als...\n",
      "Computing the msd similarity matrix...\n",
      "Done computing similarity matrix.\n",
      "Estimating biases using als...\n",
      "Computing the msd similarity matrix...\n",
      "Done computing similarity matrix.\n",
      "Estimating biases using als...\n",
      "Computing the msd similarity matrix...\n",
      "Done computing similarity matrix.\n",
      "Estimating biases using als...\n",
      "Computing the msd similarity matrix...\n",
      "Done computing similarity matrix.\n",
      "Computing the msd similarity matrix...\n",
      "Done computing similarity matrix.\n",
      "Computing the msd similarity matrix...\n",
      "Done computing similarity matrix.\n",
      "Computing the msd similarity matrix...\n",
      "Done computing similarity matrix.\n",
      "Computing the msd similarity matrix...\n",
      "Done computing similarity matrix.\n",
      "Computing the msd similarity matrix...\n",
      "Done computing similarity matrix.\n",
      "Computing the msd similarity matrix...\n",
      "Done computing similarity matrix.\n",
      "Computing the msd similarity matrix...\n",
      "Done computing similarity matrix.\n",
      "Computing the msd similarity matrix...\n",
      "Done computing similarity matrix.\n",
      "Computing the msd similarity matrix...\n",
      "Done computing similarity matrix.\n",
      "Computing the msd similarity matrix...\n",
      "Done computing similarity matrix.\n",
      "Computing the msd similarity matrix...\n",
      "Done computing similarity matrix.\n",
      "Computing the msd similarity matrix...\n",
      "Done computing similarity matrix.\n",
      "Computing the msd similarity matrix...\n",
      "Done computing similarity matrix.\n",
      "Computing the msd similarity matrix...\n",
      "Done computing similarity matrix.\n",
      "Computing the msd similarity matrix...\n",
      "Done computing similarity matrix.\n"
     ]
    }
   ],
   "source": [
    "model_list = [surprise.NormalPredictor(), surprise.BaselineOnly(), surprise.KNNBaseline(), surprise.KNNBasic(), surprise.KNNWithMeans(), surprise.KNNWithZScore(), surprise.SlopeOne(), surprise.SVD(), surprise.SVDpp(), surprise.NMF(), surprise.CoClustering(), surprise.SlopeOne()]\n",
    "\n",
    "result = {}\n",
    "for model in model_list:\n",
    "    scores = surprise.model_selection.cross_validate(model, train_set_reduced, measures=[\"RMSE\"], cv=5, verbose=False)\n",
    "    result[model.__class__.__name__] = scores[\"test_rmse\"].mean()"
   ]
  },
  {
   "cell_type": "code",
   "execution_count": 100,
   "metadata": {},
   "outputs": [
    {
     "data": {
      "text/plain": [
       "[('KNNBasic', 0.37881844038141776),\n",
       " ('KNNBaseline', 0.3790084999026558),\n",
       " ('NMF', 0.37913875733386515),\n",
       " ('BaselineOnly', 0.3791625403780902),\n",
       " ('SVD', 0.37948651577916725),\n",
       " ('SVDpp', 0.3794873009391438),\n",
       " ('KNNWithMeans', 0.3798456315808162),\n",
       " ('CoClustering', 0.3798701599392399),\n",
       " ('SlopeOne', 0.3803295665871672),\n",
       " ('KNNWithZScore', 0.38033445614242795),\n",
       " ('NormalPredictor', 0.4680426531077888)]"
      ]
     },
     "execution_count": 100,
     "metadata": {},
     "output_type": "execute_result"
    }
   ],
   "source": [
    "# ------------------------- BEST ALGORITHMS WITH RMSE ------------------------ #\n",
    "sorted(result.items(), key=lambda x: x[1])"
   ]
  },
  {
   "cell_type": "markdown",
   "metadata": {},
   "source": [
    "### Now, lets perform some Grid Search on our best models"
   ]
  },
  {
   "cell_type": "markdown",
   "metadata": {},
   "source": [
    "We know that a very similar class exists in Surprise and Sklearn. However, in order to perfectly control its behaviour and to be able to run this code in parallel on the LSE cluster, we preferred to reimplement the gridSearch in our own way."
   ]
  },
  {
   "cell_type": "code",
   "execution_count": 101,
   "metadata": {},
   "outputs": [],
   "source": [
    "import sklearn.model_selection\n",
    "\n",
    "class MyCrossValidation:\n",
    "    def __init__(self, model, params):\n",
    "        self.model_list = [\n",
    "            (model(**args, verbose=False), args)\n",
    "            for args in list(sklearn.model_selection.ParameterGrid(params))\n",
    "        ]\n",
    "        self.full_train_set = train_set_reduced.build_full_trainset()\n",
    "\n",
    "    def __train_test_model(self, model, params, verbose=1):\n",
    "        model.fit(\n",
    "            self.full_train_set,\n",
    "        )\n",
    "        predictions = model.test(self.full_train_set.build_testset())\n",
    "        score = surprise.accuracy.rmse(\n",
    "            predictions, verbose=True if verbose == 2 else False\n",
    "        )\n",
    "        if verbose == 1:\n",
    "            print(\"Params {} :\".format(str(params)), score)\n",
    "        return (params, score)\n",
    "\n",
    "    def __call__(self, verbose=1):\n",
    "        res = []\n",
    "        while len(self.model_list):\n",
    "            model, params = self.model_list.pop()\n",
    "            if verbose == 1:\n",
    "                print(\"{} left\".format(len(self.model_list)), end=\" --- \")\n",
    "            res.append(self.__train_test_model(model, params, verbose))\n",
    "            del model\n",
    "        return sorted(res, key=lambda x: x[1])"
   ]
  },
  {
   "cell_type": "code",
   "execution_count": 102,
   "metadata": {},
   "outputs": [
    {
     "name": "stdout",
     "output_type": "stream",
     "text": [
      "80 left --- Params {'biased': False, 'reg_bi': 0.05, 'reg_bu': 0.5, 'reg_pu': 0.005, 'reg_qi': 0.05} : 0.1693688354348317\n",
      "79 left --- Params {'biased': False, 'reg_bi': 0.05, 'reg_bu': 0.5, 'reg_pu': 0.005, 'reg_qi': 0.01} : 0.6280610068375546\n",
      "78 left --- Params {'biased': False, 'reg_bi': 0.05, 'reg_bu': 0.5, 'reg_pu': 0.005, 'reg_qi': 0.005} : 0.8235690515874832\n",
      "77 left --- Params {'biased': False, 'reg_bi': 0.05, 'reg_bu': 0.5, 'reg_pu': 0.001, 'reg_qi': 0.05} : 0.352255315154287\n",
      "76 left --- Params {'biased': False, 'reg_bi': 0.05, 'reg_bu': 0.5, 'reg_pu': 0.001, 'reg_qi': 0.01} : 0.8535648307844608\n",
      "75 left --- Params {'biased': False, 'reg_bi': 0.05, 'reg_bu': 0.5, 'reg_pu': 0.001, 'reg_qi': 0.005} : 0.8905822099780913\n",
      "74 left --- Params {'biased': False, 'reg_bi': 0.05, 'reg_bu': 0.5, 'reg_pu': 0.0005, 'reg_qi': 0.05} : 0.40312405657202655\n",
      "73 left --- Params {'biased': False, 'reg_bi': 0.05, 'reg_bu': 0.5, 'reg_pu': 0.0005, 'reg_qi': 0.01} : 0.8691372370038608\n",
      "72 left --- Params {'biased': False, 'reg_bi': 0.05, 'reg_bu': 0.5, 'reg_pu': 0.0005, 'reg_qi': 0.005} : 0.8957405660187576\n",
      "71 left --- Params {'biased': False, 'reg_bi': 0.05, 'reg_bu': 0.1, 'reg_pu': 0.005, 'reg_qi': 0.05} : 0.16810623226329852\n",
      "70 left --- Params {'biased': False, 'reg_bi': 0.05, 'reg_bu': 0.1, 'reg_pu': 0.005, 'reg_qi': 0.01} : 0.6280613100318728\n",
      "69 left --- Params {'biased': False, 'reg_bi': 0.05, 'reg_bu': 0.1, 'reg_pu': 0.005, 'reg_qi': 0.005} : 0.8195089242039371\n",
      "68 left --- Params {'biased': False, 'reg_bi': 0.05, 'reg_bu': 0.1, 'reg_pu': 0.001, 'reg_qi': 0.05} : 0.35268208989815863\n",
      "67 left --- Params {'biased': False, 'reg_bi': 0.05, 'reg_bu': 0.1, 'reg_pu': 0.001, 'reg_qi': 0.01} : 0.8536495610088165\n",
      "66 left --- Params {'biased': False, 'reg_bi': 0.05, 'reg_bu': 0.1, 'reg_pu': 0.001, 'reg_qi': 0.005} : 0.889838136196568\n",
      "65 left --- Params {'biased': False, 'reg_bi': 0.05, 'reg_bu': 0.1, 'reg_pu': 0.0005, 'reg_qi': 0.05} : 0.4018463916722489\n",
      "64 left --- Params {'biased': False, 'reg_bi': 0.05, 'reg_bu': 0.1, 'reg_pu': 0.0005, 'reg_qi': 0.01} : 0.8678778669222014\n",
      "63 left --- Params {'biased': False, 'reg_bi': 0.05, 'reg_bu': 0.1, 'reg_pu': 0.0005, 'reg_qi': 0.005} : 0.8960068016237827\n",
      "62 left --- Params {'biased': False, 'reg_bi': 0.05, 'reg_bu': 0.05, 'reg_pu': 0.005, 'reg_qi': 0.05} : 0.16810585157105534\n",
      "61 left --- Params {'biased': False, 'reg_bi': 0.05, 'reg_bu': 0.05, 'reg_pu': 0.005, 'reg_qi': 0.01} : 0.6332979937343601\n",
      "60 left --- Params {'biased': False, 'reg_bi': 0.05, 'reg_bu': 0.05, 'reg_pu': 0.005, 'reg_qi': 0.005} : 0.820013716263513\n",
      "59 left --- Params {'biased': False, 'reg_bi': 0.05, 'reg_bu': 0.05, 'reg_pu': 0.001, 'reg_qi': 0.05} : 0.3537768551439098\n",
      "58 left --- Params {'biased': False, 'reg_bi': 0.05, 'reg_bu': 0.05, 'reg_pu': 0.001, 'reg_qi': 0.01} : 0.8537919249895876\n",
      "57 left --- Params {'biased': False, 'reg_bi': 0.05, 'reg_bu': 0.05, 'reg_pu': 0.001, 'reg_qi': 0.005} : 0.8915633499239246\n",
      "56 left --- Params {'biased': False, 'reg_bi': 0.05, 'reg_bu': 0.05, 'reg_pu': 0.0005, 'reg_qi': 0.05} : 0.4005349140298004\n",
      "55 left --- Params {'biased': False, 'reg_bi': 0.05, 'reg_bu': 0.05, 'reg_pu': 0.0005, 'reg_qi': 0.01} : 0.8684257456524052\n",
      "54 left --- Params {'biased': False, 'reg_bi': 0.05, 'reg_bu': 0.05, 'reg_pu': 0.0005, 'reg_qi': 0.005} : 0.8947282308438383\n",
      "53 left --- Params {'biased': False, 'reg_bi': 0.01, 'reg_bu': 0.5, 'reg_pu': 0.005, 'reg_qi': 0.05} : 0.16837462048626456\n",
      "52 left --- Params {'biased': False, 'reg_bi': 0.01, 'reg_bu': 0.5, 'reg_pu': 0.005, 'reg_qi': 0.01} : 0.6325727827913525\n",
      "51 left --- Params {'biased': False, 'reg_bi': 0.01, 'reg_bu': 0.5, 'reg_pu': 0.005, 'reg_qi': 0.005} : 0.8217514688204809\n",
      "50 left --- Params {'biased': False, 'reg_bi': 0.01, 'reg_bu': 0.5, 'reg_pu': 0.001, 'reg_qi': 0.05} : 0.3531867765532516\n",
      "49 left --- Params {'biased': False, 'reg_bi': 0.01, 'reg_bu': 0.5, 'reg_pu': 0.001, 'reg_qi': 0.01} : 0.8529135088446993\n",
      "48 left --- Params {'biased': False, 'reg_bi': 0.01, 'reg_bu': 0.5, 'reg_pu': 0.001, 'reg_qi': 0.005} : 0.8920330237572572\n",
      "47 left --- Params {'biased': False, 'reg_bi': 0.01, 'reg_bu': 0.5, 'reg_pu': 0.0005, 'reg_qi': 0.05} : 0.4014903992663368\n",
      "46 left --- Params {'biased': False, 'reg_bi': 0.01, 'reg_bu': 0.5, 'reg_pu': 0.0005, 'reg_qi': 0.01} : 0.8687297395802843\n",
      "45 left --- Params {'biased': False, 'reg_bi': 0.01, 'reg_bu': 0.5, 'reg_pu': 0.0005, 'reg_qi': 0.005} : 0.895684627538542\n",
      "44 left --- Params {'biased': False, 'reg_bi': 0.01, 'reg_bu': 0.1, 'reg_pu': 0.005, 'reg_qi': 0.05} : 0.1673676306374927\n",
      "43 left --- Params {'biased': False, 'reg_bi': 0.01, 'reg_bu': 0.1, 'reg_pu': 0.005, 'reg_qi': 0.01} : 0.6321301608048672\n",
      "42 left --- Params {'biased': False, 'reg_bi': 0.01, 'reg_bu': 0.1, 'reg_pu': 0.005, 'reg_qi': 0.005} : 0.8194951216552879\n",
      "41 left --- Params {'biased': False, 'reg_bi': 0.01, 'reg_bu': 0.1, 'reg_pu': 0.001, 'reg_qi': 0.05} : 0.3529077431933597\n",
      "40 left --- Params {'biased': False, 'reg_bi': 0.01, 'reg_bu': 0.1, 'reg_pu': 0.001, 'reg_qi': 0.01} : 0.8530666337416069\n",
      "39 left --- Params {'biased': False, 'reg_bi': 0.01, 'reg_bu': 0.1, 'reg_pu': 0.001, 'reg_qi': 0.005} : 0.8911761352952947\n",
      "38 left --- Params {'biased': False, 'reg_bi': 0.01, 'reg_bu': 0.1, 'reg_pu': 0.0005, 'reg_qi': 0.05} : 0.3994874933350452\n",
      "37 left --- Params {'biased': False, 'reg_bi': 0.01, 'reg_bu': 0.1, 'reg_pu': 0.0005, 'reg_qi': 0.01} : 0.8676262333066346\n",
      "36 left --- Params {'biased': False, 'reg_bi': 0.01, 'reg_bu': 0.1, 'reg_pu': 0.0005, 'reg_qi': 0.005} : 0.8957118160493797\n",
      "35 left --- Params {'biased': False, 'reg_bi': 0.01, 'reg_bu': 0.05, 'reg_pu': 0.005, 'reg_qi': 0.05} : 0.1685788133034073\n",
      "34 left --- Params {'biased': False, 'reg_bi': 0.01, 'reg_bu': 0.05, 'reg_pu': 0.005, 'reg_qi': 0.01} : 0.6303056752067462\n",
      "33 left --- Params {'biased': False, 'reg_bi': 0.01, 'reg_bu': 0.05, 'reg_pu': 0.005, 'reg_qi': 0.005} : 0.8189060997664798\n",
      "32 left --- Params {'biased': False, 'reg_bi': 0.01, 'reg_bu': 0.05, 'reg_pu': 0.001, 'reg_qi': 0.05} : 0.35490592030149\n",
      "31 left --- Params {'biased': False, 'reg_bi': 0.01, 'reg_bu': 0.05, 'reg_pu': 0.001, 'reg_qi': 0.01} : 0.8516138705213364\n",
      "30 left --- Params {'biased': False, 'reg_bi': 0.01, 'reg_bu': 0.05, 'reg_pu': 0.001, 'reg_qi': 0.005} : 0.8915991981394983\n",
      "29 left --- Params {'biased': False, 'reg_bi': 0.01, 'reg_bu': 0.05, 'reg_pu': 0.0005, 'reg_qi': 0.05} : 0.40231412696200336\n",
      "28 left --- Params {'biased': False, 'reg_bi': 0.01, 'reg_bu': 0.05, 'reg_pu': 0.0005, 'reg_qi': 0.01} : 0.8701079763076214\n",
      "27 left --- Params {'biased': False, 'reg_bi': 0.01, 'reg_bu': 0.05, 'reg_pu': 0.0005, 'reg_qi': 0.005} : 0.8949061773626226\n",
      "26 left --- Params {'biased': False, 'reg_bi': 0.005, 'reg_bu': 0.5, 'reg_pu': 0.005, 'reg_qi': 0.05} : 0.16786589125954007\n",
      "25 left --- Params {'biased': False, 'reg_bi': 0.005, 'reg_bu': 0.5, 'reg_pu': 0.005, 'reg_qi': 0.01} : 0.6321777037348588\n",
      "24 left --- Params {'biased': False, 'reg_bi': 0.005, 'reg_bu': 0.5, 'reg_pu': 0.005, 'reg_qi': 0.005} : 0.81861817848664\n",
      "23 left --- Params {'biased': False, 'reg_bi': 0.005, 'reg_bu': 0.5, 'reg_pu': 0.001, 'reg_qi': 0.05} : 0.3544709939569977\n",
      "22 left --- Params {'biased': False, 'reg_bi': 0.005, 'reg_bu': 0.5, 'reg_pu': 0.001, 'reg_qi': 0.01} : 0.8524818074805999\n",
      "21 left --- Params {'biased': False, 'reg_bi': 0.005, 'reg_bu': 0.5, 'reg_pu': 0.001, 'reg_qi': 0.005} : 0.8906608307631756\n",
      "20 left --- Params {'biased': False, 'reg_bi': 0.005, 'reg_bu': 0.5, 'reg_pu': 0.0005, 'reg_qi': 0.05} : 0.4028943866472733\n",
      "19 left --- Params {'biased': False, 'reg_bi': 0.005, 'reg_bu': 0.5, 'reg_pu': 0.0005, 'reg_qi': 0.01} : 0.8679300985771962\n",
      "18 left --- Params {'biased': False, 'reg_bi': 0.005, 'reg_bu': 0.5, 'reg_pu': 0.0005, 'reg_qi': 0.005} : 0.8943741932602145\n",
      "17 left --- Params {'biased': False, 'reg_bi': 0.005, 'reg_bu': 0.1, 'reg_pu': 0.005, 'reg_qi': 0.05} : 0.168327526923833\n",
      "16 left --- Params {'biased': False, 'reg_bi': 0.005, 'reg_bu': 0.1, 'reg_pu': 0.005, 'reg_qi': 0.01} : 0.6298042338327653\n",
      "15 left --- Params {'biased': False, 'reg_bi': 0.005, 'reg_bu': 0.1, 'reg_pu': 0.005, 'reg_qi': 0.005} : 0.8170910578937829\n",
      "14 left --- Params {'biased': False, 'reg_bi': 0.005, 'reg_bu': 0.1, 'reg_pu': 0.001, 'reg_qi': 0.05} : 0.35395758382073367\n",
      "13 left --- Params {'biased': False, 'reg_bi': 0.005, 'reg_bu': 0.1, 'reg_pu': 0.001, 'reg_qi': 0.01} : 0.8512119861200967\n",
      "12 left --- Params {'biased': False, 'reg_bi': 0.005, 'reg_bu': 0.1, 'reg_pu': 0.001, 'reg_qi': 0.005} : 0.8926121640432283\n",
      "11 left --- Params {'biased': False, 'reg_bi': 0.005, 'reg_bu': 0.1, 'reg_pu': 0.0005, 'reg_qi': 0.05} : 0.3989529650122517\n",
      "10 left --- Params {'biased': False, 'reg_bi': 0.005, 'reg_bu': 0.1, 'reg_pu': 0.0005, 'reg_qi': 0.01} : 0.8666467074901562\n",
      "9 left --- Params {'biased': False, 'reg_bi': 0.005, 'reg_bu': 0.1, 'reg_pu': 0.0005, 'reg_qi': 0.005} : 0.8947309033412515\n",
      "8 left --- Params {'biased': False, 'reg_bi': 0.005, 'reg_bu': 0.05, 'reg_pu': 0.005, 'reg_qi': 0.05} : 0.168324847844799\n",
      "7 left --- Params {'biased': False, 'reg_bi': 0.005, 'reg_bu': 0.05, 'reg_pu': 0.005, 'reg_qi': 0.01} : 0.6300046032159511\n",
      "6 left --- Params {'biased': False, 'reg_bi': 0.005, 'reg_bu': 0.05, 'reg_pu': 0.005, 'reg_qi': 0.005} : 0.8210145138047521\n",
      "5 left --- Params {'biased': False, 'reg_bi': 0.005, 'reg_bu': 0.05, 'reg_pu': 0.001, 'reg_qi': 0.05} : 0.35285780267709893\n",
      "4 left --- Params {'biased': False, 'reg_bi': 0.005, 'reg_bu': 0.05, 'reg_pu': 0.001, 'reg_qi': 0.01} : 0.8517468930079526\n",
      "3 left --- Params {'biased': False, 'reg_bi': 0.005, 'reg_bu': 0.05, 'reg_pu': 0.001, 'reg_qi': 0.005} : 0.8898279498068625\n",
      "2 left --- Params {'biased': False, 'reg_bi': 0.005, 'reg_bu': 0.05, 'reg_pu': 0.0005, 'reg_qi': 0.05} : 0.40025417863596274\n",
      "1 left --- Params {'biased': False, 'reg_bi': 0.005, 'reg_bu': 0.05, 'reg_pu': 0.0005, 'reg_qi': 0.01} : 0.8700530948089306\n",
      "0 left --- Params {'biased': False, 'reg_bi': 0.005, 'reg_bu': 0.05, 'reg_pu': 0.0005, 'reg_qi': 0.005} : 0.8946800803678269\n"
     ]
    },
    {
     "data": {
      "text/plain": [
       "({'biased': False,\n",
       "  'reg_bi': 0.01,\n",
       "  'reg_bu': 0.1,\n",
       "  'reg_pu': 0.005,\n",
       "  'reg_qi': 0.05},\n",
       " 0.1673676306374927)"
      ]
     },
     "execution_count": 102,
     "metadata": {},
     "output_type": "execute_result"
    }
   ],
   "source": [
    "# ---------------------------- GRID SEARCH FOR NMF --------------------------- #\n",
    "params = {\n",
    "    \"biased\" : [False],\n",
    "    \"reg_bu\" : [0.05, 0.1, 0.5],\n",
    "    \"reg_bi\" : [0.005, 0.01, 0.05],\n",
    "    \"reg_qi\" : [0.005, 0.01, 0.05],\n",
    "    \"reg_pu\" : [0.0005, 0.001, 0.005],\n",
    "}\n",
    "\n",
    "best_nmf_models = MyCrossValidation(surprise.prediction_algorithms.matrix_factorization.NMF, params)()\n",
    "best_nmf_models[0]"
   ]
  },
  {
   "cell_type": "code",
   "execution_count": 103,
   "metadata": {},
   "outputs": [
    {
     "name": "stdout",
     "output_type": "stream",
     "text": [
      "242 left --- Params {'biased': False, 'init_std_dev': 5, 'lr_all': 0.001, 'reg_bi': 0.05, 'reg_bu': 0.5, 'reg_pu': 0.005, 'reg_qi': 0.05} : 0.906353224037095\n",
      "241 left --- Params {'biased': False, 'init_std_dev': 5, 'lr_all': 0.001, 'reg_bi': 0.05, 'reg_bu': 0.5, 'reg_pu': 0.005, 'reg_qi': 0.01} : 0.9060672578799293\n",
      "240 left --- Params {'biased': False, 'init_std_dev': 5, 'lr_all': 0.001, 'reg_bi': 0.05, 'reg_bu': 0.5, 'reg_pu': 0.005, 'reg_qi': 0.005} : 0.9060525014420008\n",
      "239 left --- Params {'biased': False, 'init_std_dev': 5, 'lr_all': 0.001, 'reg_bi': 0.05, 'reg_bu': 0.5, 'reg_pu': 0.001, 'reg_qi': 0.05} : 0.9064416526196297\n",
      "238 left --- Params {'biased': False, 'init_std_dev': 5, 'lr_all': 0.001, 'reg_bi': 0.05, 'reg_bu': 0.5, 'reg_pu': 0.001, 'reg_qi': 0.01} : 0.9063744230447937\n",
      "237 left --- Params {'biased': False, 'init_std_dev': 5, 'lr_all': 0.001, 'reg_bi': 0.05, 'reg_bu': 0.5, 'reg_pu': 0.001, 'reg_qi': 0.005} : 0.906222752010967\n",
      "236 left --- Params {'biased': False, 'init_std_dev': 5, 'lr_all': 0.001, 'reg_bi': 0.05, 'reg_bu': 0.5, 'reg_pu': 0.0005, 'reg_qi': 0.05} : 0.9062745978321596\n",
      "235 left --- Params {'biased': False, 'init_std_dev': 5, 'lr_all': 0.001, 'reg_bi': 0.05, 'reg_bu': 0.5, 'reg_pu': 0.0005, 'reg_qi': 0.01} : 0.9063165839216617\n",
      "234 left --- Params {'biased': False, 'init_std_dev': 5, 'lr_all': 0.001, 'reg_bi': 0.05, 'reg_bu': 0.5, 'reg_pu': 0.0005, 'reg_qi': 0.005} : 0.9062137995155645\n",
      "233 left --- Params {'biased': False, 'init_std_dev': 5, 'lr_all': 0.001, 'reg_bi': 0.05, 'reg_bu': 0.1, 'reg_pu': 0.005, 'reg_qi': 0.05} : 0.905686860752726\n",
      "232 left --- Params {'biased': False, 'init_std_dev': 5, 'lr_all': 0.001, 'reg_bi': 0.05, 'reg_bu': 0.1, 'reg_pu': 0.005, 'reg_qi': 0.01} : 0.9058885476344067\n",
      "231 left --- Params {'biased': False, 'init_std_dev': 5, 'lr_all': 0.001, 'reg_bi': 0.05, 'reg_bu': 0.1, 'reg_pu': 0.005, 'reg_qi': 0.005} : 0.9053117959671181\n",
      "230 left --- Params {'biased': False, 'init_std_dev': 5, 'lr_all': 0.001, 'reg_bi': 0.05, 'reg_bu': 0.1, 'reg_pu': 0.001, 'reg_qi': 0.05} : 0.905790822810627\n",
      "229 left --- Params {'biased': False, 'init_std_dev': 5, 'lr_all': 0.001, 'reg_bi': 0.05, 'reg_bu': 0.1, 'reg_pu': 0.001, 'reg_qi': 0.01} : 0.9058439337605074\n",
      "228 left --- Params {'biased': False, 'init_std_dev': 5, 'lr_all': 0.001, 'reg_bi': 0.05, 'reg_bu': 0.1, 'reg_pu': 0.001, 'reg_qi': 0.005} : 0.9053147289472132\n",
      "227 left --- Params {'biased': False, 'init_std_dev': 5, 'lr_all': 0.001, 'reg_bi': 0.05, 'reg_bu': 0.1, 'reg_pu': 0.0005, 'reg_qi': 0.05} : 0.9059888667054362\n",
      "226 left --- Params {'biased': False, 'init_std_dev': 5, 'lr_all': 0.001, 'reg_bi': 0.05, 'reg_bu': 0.1, 'reg_pu': 0.0005, 'reg_qi': 0.01} : 0.9061742094166313\n",
      "225 left --- Params {'biased': False, 'init_std_dev': 5, 'lr_all': 0.001, 'reg_bi': 0.05, 'reg_bu': 0.1, 'reg_pu': 0.0005, 'reg_qi': 0.005} : 0.9063597891541869\n",
      "224 left --- Params {'biased': False, 'init_std_dev': 5, 'lr_all': 0.001, 'reg_bi': 0.05, 'reg_bu': 0.05, 'reg_pu': 0.005, 'reg_qi': 0.05} : 0.9065455601071327\n",
      "223 left --- Params {'biased': False, 'init_std_dev': 5, 'lr_all': 0.001, 'reg_bi': 0.05, 'reg_bu': 0.05, 'reg_pu': 0.005, 'reg_qi': 0.01} : 0.9059528016855696\n",
      "222 left --- Params {'biased': False, 'init_std_dev': 5, 'lr_all': 0.001, 'reg_bi': 0.05, 'reg_bu': 0.05, 'reg_pu': 0.005, 'reg_qi': 0.005} : 0.9062465078947335\n",
      "221 left --- Params {'biased': False, 'init_std_dev': 5, 'lr_all': 0.001, 'reg_bi': 0.05, 'reg_bu': 0.05, 'reg_pu': 0.001, 'reg_qi': 0.05} : 0.90601366467887\n",
      "220 left --- Params {'biased': False, 'init_std_dev': 5, 'lr_all': 0.001, 'reg_bi': 0.05, 'reg_bu': 0.05, 'reg_pu': 0.001, 'reg_qi': 0.01} : 0.9059727784458654\n",
      "219 left --- Params {'biased': False, 'init_std_dev': 5, 'lr_all': 0.001, 'reg_bi': 0.05, 'reg_bu': 0.05, 'reg_pu': 0.001, 'reg_qi': 0.005} : 0.9056586161862035\n",
      "218 left --- Params {'biased': False, 'init_std_dev': 5, 'lr_all': 0.001, 'reg_bi': 0.05, 'reg_bu': 0.05, 'reg_pu': 0.0005, 'reg_qi': 0.05} : 0.9053025922049933\n",
      "217 left --- Params {'biased': False, 'init_std_dev': 5, 'lr_all': 0.001, 'reg_bi': 0.05, 'reg_bu': 0.05, 'reg_pu': 0.0005, 'reg_qi': 0.01} : 0.906180093401072\n",
      "216 left --- Params {'biased': False, 'init_std_dev': 5, 'lr_all': 0.001, 'reg_bi': 0.05, 'reg_bu': 0.05, 'reg_pu': 0.0005, 'reg_qi': 0.005} : 0.9057814635058445\n",
      "215 left --- Params {'biased': False, 'init_std_dev': 5, 'lr_all': 0.001, 'reg_bi': 0.01, 'reg_bu': 0.5, 'reg_pu': 0.005, 'reg_qi': 0.05} : 0.9069503478494938\n",
      "214 left --- Params {'biased': False, 'init_std_dev': 5, 'lr_all': 0.001, 'reg_bi': 0.01, 'reg_bu': 0.5, 'reg_pu': 0.005, 'reg_qi': 0.01} : 0.9060803753121232\n",
      "213 left --- Params {'biased': False, 'init_std_dev': 5, 'lr_all': 0.001, 'reg_bi': 0.01, 'reg_bu': 0.5, 'reg_pu': 0.005, 'reg_qi': 0.005} : 0.9058718671528154\n",
      "212 left --- Params {'biased': False, 'init_std_dev': 5, 'lr_all': 0.001, 'reg_bi': 0.01, 'reg_bu': 0.5, 'reg_pu': 0.001, 'reg_qi': 0.05} : 0.9065136705088926\n",
      "211 left --- Params {'biased': False, 'init_std_dev': 5, 'lr_all': 0.001, 'reg_bi': 0.01, 'reg_bu': 0.5, 'reg_pu': 0.001, 'reg_qi': 0.01} : 0.9054643105501199\n",
      "210 left --- Params {'biased': False, 'init_std_dev': 5, 'lr_all': 0.001, 'reg_bi': 0.01, 'reg_bu': 0.5, 'reg_pu': 0.001, 'reg_qi': 0.005} : 0.9059267356248184\n",
      "209 left --- Params {'biased': False, 'init_std_dev': 5, 'lr_all': 0.001, 'reg_bi': 0.01, 'reg_bu': 0.5, 'reg_pu': 0.0005, 'reg_qi': 0.05} : 0.9055308728925769\n",
      "208 left --- Params {'biased': False, 'init_std_dev': 5, 'lr_all': 0.001, 'reg_bi': 0.01, 'reg_bu': 0.5, 'reg_pu': 0.0005, 'reg_qi': 0.01} : 0.9066292629735168\n",
      "207 left --- Params {'biased': False, 'init_std_dev': 5, 'lr_all': 0.001, 'reg_bi': 0.01, 'reg_bu': 0.5, 'reg_pu': 0.0005, 'reg_qi': 0.005} : 0.9053572257909382\n",
      "206 left --- Params {'biased': False, 'init_std_dev': 5, 'lr_all': 0.001, 'reg_bi': 0.01, 'reg_bu': 0.1, 'reg_pu': 0.005, 'reg_qi': 0.05} : 0.9068637708640201\n",
      "205 left --- Params {'biased': False, 'init_std_dev': 5, 'lr_all': 0.001, 'reg_bi': 0.01, 'reg_bu': 0.1, 'reg_pu': 0.005, 'reg_qi': 0.01} : 0.9060253025984536\n",
      "204 left --- Params {'biased': False, 'init_std_dev': 5, 'lr_all': 0.001, 'reg_bi': 0.01, 'reg_bu': 0.1, 'reg_pu': 0.005, 'reg_qi': 0.005} : 0.9057763485199252\n",
      "203 left --- Params {'biased': False, 'init_std_dev': 5, 'lr_all': 0.001, 'reg_bi': 0.01, 'reg_bu': 0.1, 'reg_pu': 0.001, 'reg_qi': 0.05} : 0.9052742577975912\n",
      "202 left --- Params {'biased': False, 'init_std_dev': 5, 'lr_all': 0.001, 'reg_bi': 0.01, 'reg_bu': 0.1, 'reg_pu': 0.001, 'reg_qi': 0.01} : 0.9061442367335422\n",
      "201 left --- Params {'biased': False, 'init_std_dev': 5, 'lr_all': 0.001, 'reg_bi': 0.01, 'reg_bu': 0.1, 'reg_pu': 0.001, 'reg_qi': 0.005} : 0.9061288662589297\n",
      "200 left --- Params {'biased': False, 'init_std_dev': 5, 'lr_all': 0.001, 'reg_bi': 0.01, 'reg_bu': 0.1, 'reg_pu': 0.0005, 'reg_qi': 0.05} : 0.9067393188101069\n",
      "199 left --- Params {'biased': False, 'init_std_dev': 5, 'lr_all': 0.001, 'reg_bi': 0.01, 'reg_bu': 0.1, 'reg_pu': 0.0005, 'reg_qi': 0.01} : 0.9052280023791829\n",
      "198 left --- Params {'biased': False, 'init_std_dev': 5, 'lr_all': 0.001, 'reg_bi': 0.01, 'reg_bu': 0.1, 'reg_pu': 0.0005, 'reg_qi': 0.005} : 0.906226961914573\n",
      "197 left --- Params {'biased': False, 'init_std_dev': 5, 'lr_all': 0.001, 'reg_bi': 0.01, 'reg_bu': 0.05, 'reg_pu': 0.005, 'reg_qi': 0.05} : 0.9057054834442024\n",
      "196 left --- Params {'biased': False, 'init_std_dev': 5, 'lr_all': 0.001, 'reg_bi': 0.01, 'reg_bu': 0.05, 'reg_pu': 0.005, 'reg_qi': 0.01} : 0.9059117762915674\n",
      "195 left --- Params {'biased': False, 'init_std_dev': 5, 'lr_all': 0.001, 'reg_bi': 0.01, 'reg_bu': 0.05, 'reg_pu': 0.005, 'reg_qi': 0.005} : 0.9061598648861172\n",
      "194 left --- Params {'biased': False, 'init_std_dev': 5, 'lr_all': 0.001, 'reg_bi': 0.01, 'reg_bu': 0.05, 'reg_pu': 0.001, 'reg_qi': 0.05} : 0.9061085503995071\n",
      "193 left --- Params {'biased': False, 'init_std_dev': 5, 'lr_all': 0.001, 'reg_bi': 0.01, 'reg_bu': 0.05, 'reg_pu': 0.001, 'reg_qi': 0.01} : 0.9061223655145584\n",
      "192 left --- Params {'biased': False, 'init_std_dev': 5, 'lr_all': 0.001, 'reg_bi': 0.01, 'reg_bu': 0.05, 'reg_pu': 0.001, 'reg_qi': 0.005} : 0.9059806494752546\n",
      "191 left --- Params {'biased': False, 'init_std_dev': 5, 'lr_all': 0.001, 'reg_bi': 0.01, 'reg_bu': 0.05, 'reg_pu': 0.0005, 'reg_qi': 0.05} : 0.9066667820738552\n",
      "190 left --- Params {'biased': False, 'init_std_dev': 5, 'lr_all': 0.001, 'reg_bi': 0.01, 'reg_bu': 0.05, 'reg_pu': 0.0005, 'reg_qi': 0.01} : 0.9063851524294553\n",
      "189 left --- Params {'biased': False, 'init_std_dev': 5, 'lr_all': 0.001, 'reg_bi': 0.01, 'reg_bu': 0.05, 'reg_pu': 0.0005, 'reg_qi': 0.005} : 0.9058437507835764\n",
      "188 left --- Params {'biased': False, 'init_std_dev': 5, 'lr_all': 0.001, 'reg_bi': 0.005, 'reg_bu': 0.5, 'reg_pu': 0.005, 'reg_qi': 0.05} : 0.906561772827579\n",
      "187 left --- Params {'biased': False, 'init_std_dev': 5, 'lr_all': 0.001, 'reg_bi': 0.005, 'reg_bu': 0.5, 'reg_pu': 0.005, 'reg_qi': 0.01} : 0.9063024834397846\n",
      "186 left --- Params {'biased': False, 'init_std_dev': 5, 'lr_all': 0.001, 'reg_bi': 0.005, 'reg_bu': 0.5, 'reg_pu': 0.005, 'reg_qi': 0.005} : 0.905748429881102\n",
      "185 left --- Params {'biased': False, 'init_std_dev': 5, 'lr_all': 0.001, 'reg_bi': 0.005, 'reg_bu': 0.5, 'reg_pu': 0.001, 'reg_qi': 0.05} : 0.905647977203715\n",
      "184 left --- Params {'biased': False, 'init_std_dev': 5, 'lr_all': 0.001, 'reg_bi': 0.005, 'reg_bu': 0.5, 'reg_pu': 0.001, 'reg_qi': 0.01} : 0.9060985025054706\n",
      "183 left --- Params {'biased': False, 'init_std_dev': 5, 'lr_all': 0.001, 'reg_bi': 0.005, 'reg_bu': 0.5, 'reg_pu': 0.001, 'reg_qi': 0.005} : 0.9061248677060398\n",
      "182 left --- Params {'biased': False, 'init_std_dev': 5, 'lr_all': 0.001, 'reg_bi': 0.005, 'reg_bu': 0.5, 'reg_pu': 0.0005, 'reg_qi': 0.05} : 0.906514988080437\n",
      "181 left --- Params {'biased': False, 'init_std_dev': 5, 'lr_all': 0.001, 'reg_bi': 0.005, 'reg_bu': 0.5, 'reg_pu': 0.0005, 'reg_qi': 0.01} : 0.9067338994394591\n",
      "180 left --- Params {'biased': False, 'init_std_dev': 5, 'lr_all': 0.001, 'reg_bi': 0.005, 'reg_bu': 0.5, 'reg_pu': 0.0005, 'reg_qi': 0.005} : 0.9068058522621439\n",
      "179 left --- Params {'biased': False, 'init_std_dev': 5, 'lr_all': 0.001, 'reg_bi': 0.005, 'reg_bu': 0.1, 'reg_pu': 0.005, 'reg_qi': 0.05} : 0.906061729063944\n",
      "178 left --- Params {'biased': False, 'init_std_dev': 5, 'lr_all': 0.001, 'reg_bi': 0.005, 'reg_bu': 0.1, 'reg_pu': 0.005, 'reg_qi': 0.01} : 0.9071016768306307\n",
      "177 left --- Params {'biased': False, 'init_std_dev': 5, 'lr_all': 0.001, 'reg_bi': 0.005, 'reg_bu': 0.1, 'reg_pu': 0.005, 'reg_qi': 0.005} : 0.9064667269754183\n",
      "176 left --- Params {'biased': False, 'init_std_dev': 5, 'lr_all': 0.001, 'reg_bi': 0.005, 'reg_bu': 0.1, 'reg_pu': 0.001, 'reg_qi': 0.05} : 0.9067047221505887\n",
      "175 left --- Params {'biased': False, 'init_std_dev': 5, 'lr_all': 0.001, 'reg_bi': 0.005, 'reg_bu': 0.1, 'reg_pu': 0.001, 'reg_qi': 0.01} : 0.905843326747858\n",
      "174 left --- Params {'biased': False, 'init_std_dev': 5, 'lr_all': 0.001, 'reg_bi': 0.005, 'reg_bu': 0.1, 'reg_pu': 0.001, 'reg_qi': 0.005} : 0.905917854302356\n",
      "173 left --- Params {'biased': False, 'init_std_dev': 5, 'lr_all': 0.001, 'reg_bi': 0.005, 'reg_bu': 0.1, 'reg_pu': 0.0005, 'reg_qi': 0.05} : 0.9061689345092742\n",
      "172 left --- Params {'biased': False, 'init_std_dev': 5, 'lr_all': 0.001, 'reg_bi': 0.005, 'reg_bu': 0.1, 'reg_pu': 0.0005, 'reg_qi': 0.01} : 0.9057034405885026\n",
      "171 left --- Params {'biased': False, 'init_std_dev': 5, 'lr_all': 0.001, 'reg_bi': 0.005, 'reg_bu': 0.1, 'reg_pu': 0.0005, 'reg_qi': 0.005} : 0.9062645013459582\n",
      "170 left --- Params {'biased': False, 'init_std_dev': 5, 'lr_all': 0.001, 'reg_bi': 0.005, 'reg_bu': 0.05, 'reg_pu': 0.005, 'reg_qi': 0.05} : 0.9066670214157325\n",
      "169 left --- Params {'biased': False, 'init_std_dev': 5, 'lr_all': 0.001, 'reg_bi': 0.005, 'reg_bu': 0.05, 'reg_pu': 0.005, 'reg_qi': 0.01} : 0.905679859220769\n",
      "168 left --- Params {'biased': False, 'init_std_dev': 5, 'lr_all': 0.001, 'reg_bi': 0.005, 'reg_bu': 0.05, 'reg_pu': 0.005, 'reg_qi': 0.005} : 0.9063947723180754\n",
      "167 left --- Params {'biased': False, 'init_std_dev': 5, 'lr_all': 0.001, 'reg_bi': 0.005, 'reg_bu': 0.05, 'reg_pu': 0.001, 'reg_qi': 0.05} : 0.9057158528717663\n",
      "166 left --- Params {'biased': False, 'init_std_dev': 5, 'lr_all': 0.001, 'reg_bi': 0.005, 'reg_bu': 0.05, 'reg_pu': 0.001, 'reg_qi': 0.01} : 0.9061812526267744\n",
      "165 left --- Params {'biased': False, 'init_std_dev': 5, 'lr_all': 0.001, 'reg_bi': 0.005, 'reg_bu': 0.05, 'reg_pu': 0.001, 'reg_qi': 0.005} : 0.9055701111190848\n",
      "164 left --- Params {'biased': False, 'init_std_dev': 5, 'lr_all': 0.001, 'reg_bi': 0.005, 'reg_bu': 0.05, 'reg_pu': 0.0005, 'reg_qi': 0.05} : 0.9054502459056277\n",
      "163 left --- Params {'biased': False, 'init_std_dev': 5, 'lr_all': 0.001, 'reg_bi': 0.005, 'reg_bu': 0.05, 'reg_pu': 0.0005, 'reg_qi': 0.01} : 0.9065611753400189\n",
      "162 left --- Params {'biased': False, 'init_std_dev': 5, 'lr_all': 0.001, 'reg_bi': 0.005, 'reg_bu': 0.05, 'reg_pu': 0.0005, 'reg_qi': 0.005} : 0.9062478110296862\n",
      "161 left --- Params {'biased': False, 'init_std_dev': 1, 'lr_all': 0.001, 'reg_bi': 0.05, 'reg_bu': 0.5, 'reg_pu': 0.005, 'reg_qi': 0.05} : 0.10733903913722408\n",
      "160 left --- Params {'biased': False, 'init_std_dev': 1, 'lr_all': 0.001, 'reg_bi': 0.05, 'reg_bu': 0.5, 'reg_pu': 0.005, 'reg_qi': 0.01} : 0.10756117159746258\n",
      "159 left --- Params {'biased': False, 'init_std_dev': 1, 'lr_all': 0.001, 'reg_bi': 0.05, 'reg_bu': 0.5, 'reg_pu': 0.005, 'reg_qi': 0.005} : 0.10032585149744314\n",
      "158 left --- Params {'biased': False, 'init_std_dev': 1, 'lr_all': 0.001, 'reg_bi': 0.05, 'reg_bu': 0.5, 'reg_pu': 0.001, 'reg_qi': 0.05} : 0.10743118632450711\n",
      "157 left --- Params {'biased': False, 'init_std_dev': 1, 'lr_all': 0.001, 'reg_bi': 0.05, 'reg_bu': 0.5, 'reg_pu': 0.001, 'reg_qi': 0.01} : 0.10447840817302202\n",
      "156 left --- Params {'biased': False, 'init_std_dev': 1, 'lr_all': 0.001, 'reg_bi': 0.05, 'reg_bu': 0.5, 'reg_pu': 0.001, 'reg_qi': 0.005} : 0.10741005511102619\n",
      "155 left --- Params {'biased': False, 'init_std_dev': 1, 'lr_all': 0.001, 'reg_bi': 0.05, 'reg_bu': 0.5, 'reg_pu': 0.0005, 'reg_qi': 0.05} : 0.1025540731283131\n",
      "154 left --- Params {'biased': False, 'init_std_dev': 1, 'lr_all': 0.001, 'reg_bi': 0.05, 'reg_bu': 0.5, 'reg_pu': 0.0005, 'reg_qi': 0.01} : 0.10632475147857258\n",
      "153 left --- Params {'biased': False, 'init_std_dev': 1, 'lr_all': 0.001, 'reg_bi': 0.05, 'reg_bu': 0.5, 'reg_pu': 0.0005, 'reg_qi': 0.005} : 0.10562556936082117\n",
      "152 left --- Params {'biased': False, 'init_std_dev': 1, 'lr_all': 0.001, 'reg_bi': 0.05, 'reg_bu': 0.1, 'reg_pu': 0.005, 'reg_qi': 0.05} : 0.10411776904482964\n",
      "151 left --- Params {'biased': False, 'init_std_dev': 1, 'lr_all': 0.001, 'reg_bi': 0.05, 'reg_bu': 0.1, 'reg_pu': 0.005, 'reg_qi': 0.01} : 0.10339273637387954\n",
      "150 left --- Params {'biased': False, 'init_std_dev': 1, 'lr_all': 0.001, 'reg_bi': 0.05, 'reg_bu': 0.1, 'reg_pu': 0.005, 'reg_qi': 0.005} : 0.10718807293342121\n",
      "149 left --- Params {'biased': False, 'init_std_dev': 1, 'lr_all': 0.001, 'reg_bi': 0.05, 'reg_bu': 0.1, 'reg_pu': 0.001, 'reg_qi': 0.05} : 0.10378733613449559\n",
      "148 left --- Params {'biased': False, 'init_std_dev': 1, 'lr_all': 0.001, 'reg_bi': 0.05, 'reg_bu': 0.1, 'reg_pu': 0.001, 'reg_qi': 0.01} : 0.10799601265964669\n",
      "147 left --- Params {'biased': False, 'init_std_dev': 1, 'lr_all': 0.001, 'reg_bi': 0.05, 'reg_bu': 0.1, 'reg_pu': 0.001, 'reg_qi': 0.005} : 0.1085322946326599\n",
      "146 left --- Params {'biased': False, 'init_std_dev': 1, 'lr_all': 0.001, 'reg_bi': 0.05, 'reg_bu': 0.1, 'reg_pu': 0.0005, 'reg_qi': 0.05} : 0.1052543473825721\n",
      "145 left --- Params {'biased': False, 'init_std_dev': 1, 'lr_all': 0.001, 'reg_bi': 0.05, 'reg_bu': 0.1, 'reg_pu': 0.0005, 'reg_qi': 0.01} : 0.10416861402395743\n",
      "144 left --- Params {'biased': False, 'init_std_dev': 1, 'lr_all': 0.001, 'reg_bi': 0.05, 'reg_bu': 0.1, 'reg_pu': 0.0005, 'reg_qi': 0.005} : 0.11063388110454345\n",
      "143 left --- Params {'biased': False, 'init_std_dev': 1, 'lr_all': 0.001, 'reg_bi': 0.05, 'reg_bu': 0.05, 'reg_pu': 0.005, 'reg_qi': 0.05} : 0.10196408648523674\n",
      "142 left --- Params {'biased': False, 'init_std_dev': 1, 'lr_all': 0.001, 'reg_bi': 0.05, 'reg_bu': 0.05, 'reg_pu': 0.005, 'reg_qi': 0.01} : 0.1056896866893976\n",
      "141 left --- Params {'biased': False, 'init_std_dev': 1, 'lr_all': 0.001, 'reg_bi': 0.05, 'reg_bu': 0.05, 'reg_pu': 0.005, 'reg_qi': 0.005} : 0.10387675667763845\n",
      "140 left --- Params {'biased': False, 'init_std_dev': 1, 'lr_all': 0.001, 'reg_bi': 0.05, 'reg_bu': 0.05, 'reg_pu': 0.001, 'reg_qi': 0.05} : 0.10285843099478298\n",
      "139 left --- Params {'biased': False, 'init_std_dev': 1, 'lr_all': 0.001, 'reg_bi': 0.05, 'reg_bu': 0.05, 'reg_pu': 0.001, 'reg_qi': 0.01} : 0.10658950549345453\n",
      "138 left --- Params {'biased': False, 'init_std_dev': 1, 'lr_all': 0.001, 'reg_bi': 0.05, 'reg_bu': 0.05, 'reg_pu': 0.001, 'reg_qi': 0.005} : 0.10762038883393961\n",
      "137 left --- Params {'biased': False, 'init_std_dev': 1, 'lr_all': 0.001, 'reg_bi': 0.05, 'reg_bu': 0.05, 'reg_pu': 0.0005, 'reg_qi': 0.05} : 0.10570807574327572\n",
      "136 left --- Params {'biased': False, 'init_std_dev': 1, 'lr_all': 0.001, 'reg_bi': 0.05, 'reg_bu': 0.05, 'reg_pu': 0.0005, 'reg_qi': 0.01} : 0.10494596535207075\n",
      "135 left --- Params {'biased': False, 'init_std_dev': 1, 'lr_all': 0.001, 'reg_bi': 0.05, 'reg_bu': 0.05, 'reg_pu': 0.0005, 'reg_qi': 0.005} : 0.10542924174677414\n",
      "134 left --- Params {'biased': False, 'init_std_dev': 1, 'lr_all': 0.001, 'reg_bi': 0.01, 'reg_bu': 0.5, 'reg_pu': 0.005, 'reg_qi': 0.05} : 0.103796027615098\n",
      "133 left --- Params {'biased': False, 'init_std_dev': 1, 'lr_all': 0.001, 'reg_bi': 0.01, 'reg_bu': 0.5, 'reg_pu': 0.005, 'reg_qi': 0.01} : 0.10498714575254203\n",
      "132 left --- Params {'biased': False, 'init_std_dev': 1, 'lr_all': 0.001, 'reg_bi': 0.01, 'reg_bu': 0.5, 'reg_pu': 0.005, 'reg_qi': 0.005} : 0.10637098082743668\n",
      "131 left --- Params {'biased': False, 'init_std_dev': 1, 'lr_all': 0.001, 'reg_bi': 0.01, 'reg_bu': 0.5, 'reg_pu': 0.001, 'reg_qi': 0.05} : 0.10437278762394765\n",
      "130 left --- Params {'biased': False, 'init_std_dev': 1, 'lr_all': 0.001, 'reg_bi': 0.01, 'reg_bu': 0.5, 'reg_pu': 0.001, 'reg_qi': 0.01} : 0.10192202943346824\n",
      "129 left --- Params {'biased': False, 'init_std_dev': 1, 'lr_all': 0.001, 'reg_bi': 0.01, 'reg_bu': 0.5, 'reg_pu': 0.001, 'reg_qi': 0.005} : 0.10702746871653979\n",
      "128 left --- Params {'biased': False, 'init_std_dev': 1, 'lr_all': 0.001, 'reg_bi': 0.01, 'reg_bu': 0.5, 'reg_pu': 0.0005, 'reg_qi': 0.05} : 0.10542832119092782\n",
      "127 left --- Params {'biased': False, 'init_std_dev': 1, 'lr_all': 0.001, 'reg_bi': 0.01, 'reg_bu': 0.5, 'reg_pu': 0.0005, 'reg_qi': 0.01} : 0.10525879845438389\n",
      "126 left --- Params {'biased': False, 'init_std_dev': 1, 'lr_all': 0.001, 'reg_bi': 0.01, 'reg_bu': 0.5, 'reg_pu': 0.0005, 'reg_qi': 0.005} : 0.1043191369329178\n",
      "125 left --- Params {'biased': False, 'init_std_dev': 1, 'lr_all': 0.001, 'reg_bi': 0.01, 'reg_bu': 0.1, 'reg_pu': 0.005, 'reg_qi': 0.05} : 0.10978002106648278\n",
      "124 left --- Params {'biased': False, 'init_std_dev': 1, 'lr_all': 0.001, 'reg_bi': 0.01, 'reg_bu': 0.1, 'reg_pu': 0.005, 'reg_qi': 0.01} : 0.10608372951721792\n",
      "123 left --- Params {'biased': False, 'init_std_dev': 1, 'lr_all': 0.001, 'reg_bi': 0.01, 'reg_bu': 0.1, 'reg_pu': 0.005, 'reg_qi': 0.005} : 0.10496926500062131\n",
      "122 left --- Params {'biased': False, 'init_std_dev': 1, 'lr_all': 0.001, 'reg_bi': 0.01, 'reg_bu': 0.1, 'reg_pu': 0.001, 'reg_qi': 0.05} : 0.10402615589970839\n",
      "121 left --- Params {'biased': False, 'init_std_dev': 1, 'lr_all': 0.001, 'reg_bi': 0.01, 'reg_bu': 0.1, 'reg_pu': 0.001, 'reg_qi': 0.01} : 0.10572483271823517\n",
      "120 left --- Params {'biased': False, 'init_std_dev': 1, 'lr_all': 0.001, 'reg_bi': 0.01, 'reg_bu': 0.1, 'reg_pu': 0.001, 'reg_qi': 0.005} : 0.10474404254445127\n",
      "119 left --- Params {'biased': False, 'init_std_dev': 1, 'lr_all': 0.001, 'reg_bi': 0.01, 'reg_bu': 0.1, 'reg_pu': 0.0005, 'reg_qi': 0.05} : 0.10800762101818273\n",
      "118 left --- Params {'biased': False, 'init_std_dev': 1, 'lr_all': 0.001, 'reg_bi': 0.01, 'reg_bu': 0.1, 'reg_pu': 0.0005, 'reg_qi': 0.01} : 0.10187183465820958\n",
      "117 left --- Params {'biased': False, 'init_std_dev': 1, 'lr_all': 0.001, 'reg_bi': 0.01, 'reg_bu': 0.1, 'reg_pu': 0.0005, 'reg_qi': 0.005} : 0.10740528133453091\n",
      "116 left --- Params {'biased': False, 'init_std_dev': 1, 'lr_all': 0.001, 'reg_bi': 0.01, 'reg_bu': 0.05, 'reg_pu': 0.005, 'reg_qi': 0.05} : 0.10454654012504781\n",
      "115 left --- Params {'biased': False, 'init_std_dev': 1, 'lr_all': 0.001, 'reg_bi': 0.01, 'reg_bu': 0.05, 'reg_pu': 0.005, 'reg_qi': 0.01} : 0.10291042896754482\n",
      "114 left --- Params {'biased': False, 'init_std_dev': 1, 'lr_all': 0.001, 'reg_bi': 0.01, 'reg_bu': 0.05, 'reg_pu': 0.005, 'reg_qi': 0.005} : 0.10549304188852981\n",
      "113 left --- Params {'biased': False, 'init_std_dev': 1, 'lr_all': 0.001, 'reg_bi': 0.01, 'reg_bu': 0.05, 'reg_pu': 0.001, 'reg_qi': 0.05} : 0.10428362561083143\n",
      "112 left --- Params {'biased': False, 'init_std_dev': 1, 'lr_all': 0.001, 'reg_bi': 0.01, 'reg_bu': 0.05, 'reg_pu': 0.001, 'reg_qi': 0.01} : 0.10387397877687261\n",
      "111 left --- Params {'biased': False, 'init_std_dev': 1, 'lr_all': 0.001, 'reg_bi': 0.01, 'reg_bu': 0.05, 'reg_pu': 0.001, 'reg_qi': 0.005} : 0.10679188881480231\n",
      "110 left --- Params {'biased': False, 'init_std_dev': 1, 'lr_all': 0.001, 'reg_bi': 0.01, 'reg_bu': 0.05, 'reg_pu': 0.0005, 'reg_qi': 0.05} : 0.10859874996775094\n",
      "109 left --- Params {'biased': False, 'init_std_dev': 1, 'lr_all': 0.001, 'reg_bi': 0.01, 'reg_bu': 0.05, 'reg_pu': 0.0005, 'reg_qi': 0.01} : 0.10443809549687982\n",
      "108 left --- Params {'biased': False, 'init_std_dev': 1, 'lr_all': 0.001, 'reg_bi': 0.01, 'reg_bu': 0.05, 'reg_pu': 0.0005, 'reg_qi': 0.005} : 0.10485423549252901\n",
      "107 left --- Params {'biased': False, 'init_std_dev': 1, 'lr_all': 0.001, 'reg_bi': 0.005, 'reg_bu': 0.5, 'reg_pu': 0.005, 'reg_qi': 0.05} : 0.1050803621039993\n",
      "106 left --- Params {'biased': False, 'init_std_dev': 1, 'lr_all': 0.001, 'reg_bi': 0.005, 'reg_bu': 0.5, 'reg_pu': 0.005, 'reg_qi': 0.01} : 0.10740204674681463\n",
      "105 left --- Params {'biased': False, 'init_std_dev': 1, 'lr_all': 0.001, 'reg_bi': 0.005, 'reg_bu': 0.5, 'reg_pu': 0.005, 'reg_qi': 0.005} : 0.1054516078350244\n",
      "104 left --- Params {'biased': False, 'init_std_dev': 1, 'lr_all': 0.001, 'reg_bi': 0.005, 'reg_bu': 0.5, 'reg_pu': 0.001, 'reg_qi': 0.05} : 0.10456019047445064\n",
      "103 left --- Params {'biased': False, 'init_std_dev': 1, 'lr_all': 0.001, 'reg_bi': 0.005, 'reg_bu': 0.5, 'reg_pu': 0.001, 'reg_qi': 0.01} : 0.1054679583248927\n",
      "102 left --- Params {'biased': False, 'init_std_dev': 1, 'lr_all': 0.001, 'reg_bi': 0.005, 'reg_bu': 0.5, 'reg_pu': 0.001, 'reg_qi': 0.005} : 0.10480593093470633\n",
      "101 left --- Params {'biased': False, 'init_std_dev': 1, 'lr_all': 0.001, 'reg_bi': 0.005, 'reg_bu': 0.5, 'reg_pu': 0.0005, 'reg_qi': 0.05} : 0.1037234970401709\n",
      "100 left --- Params {'biased': False, 'init_std_dev': 1, 'lr_all': 0.001, 'reg_bi': 0.005, 'reg_bu': 0.5, 'reg_pu': 0.0005, 'reg_qi': 0.01} : 0.10288855851756357\n",
      "99 left --- Params {'biased': False, 'init_std_dev': 1, 'lr_all': 0.001, 'reg_bi': 0.005, 'reg_bu': 0.5, 'reg_pu': 0.0005, 'reg_qi': 0.005} : 0.10351636710694125\n",
      "98 left --- Params {'biased': False, 'init_std_dev': 1, 'lr_all': 0.001, 'reg_bi': 0.005, 'reg_bu': 0.1, 'reg_pu': 0.005, 'reg_qi': 0.05} : 0.10684737846366156\n",
      "97 left --- Params {'biased': False, 'init_std_dev': 1, 'lr_all': 0.001, 'reg_bi': 0.005, 'reg_bu': 0.1, 'reg_pu': 0.005, 'reg_qi': 0.01} : 0.10704131424361403\n",
      "96 left --- Params {'biased': False, 'init_std_dev': 1, 'lr_all': 0.001, 'reg_bi': 0.005, 'reg_bu': 0.1, 'reg_pu': 0.005, 'reg_qi': 0.005} : 0.10495486702271903\n",
      "95 left --- Params {'biased': False, 'init_std_dev': 1, 'lr_all': 0.001, 'reg_bi': 0.005, 'reg_bu': 0.1, 'reg_pu': 0.001, 'reg_qi': 0.05} : 0.10237990344127952\n",
      "94 left --- Params {'biased': False, 'init_std_dev': 1, 'lr_all': 0.001, 'reg_bi': 0.005, 'reg_bu': 0.1, 'reg_pu': 0.001, 'reg_qi': 0.01} : 0.10358577572606847\n",
      "93 left --- Params {'biased': False, 'init_std_dev': 1, 'lr_all': 0.001, 'reg_bi': 0.005, 'reg_bu': 0.1, 'reg_pu': 0.001, 'reg_qi': 0.005} : 0.10519117421426388\n",
      "92 left --- Params {'biased': False, 'init_std_dev': 1, 'lr_all': 0.001, 'reg_bi': 0.005, 'reg_bu': 0.1, 'reg_pu': 0.0005, 'reg_qi': 0.05} : 0.10672962991119861\n",
      "91 left --- Params {'biased': False, 'init_std_dev': 1, 'lr_all': 0.001, 'reg_bi': 0.005, 'reg_bu': 0.1, 'reg_pu': 0.0005, 'reg_qi': 0.01} : 0.10629101104100558\n",
      "90 left --- Params {'biased': False, 'init_std_dev': 1, 'lr_all': 0.001, 'reg_bi': 0.005, 'reg_bu': 0.1, 'reg_pu': 0.0005, 'reg_qi': 0.005} : 0.10649608202948789\n",
      "89 left --- Params {'biased': False, 'init_std_dev': 1, 'lr_all': 0.001, 'reg_bi': 0.005, 'reg_bu': 0.05, 'reg_pu': 0.005, 'reg_qi': 0.05} : 0.10761849382412375\n",
      "88 left --- Params {'biased': False, 'init_std_dev': 1, 'lr_all': 0.001, 'reg_bi': 0.005, 'reg_bu': 0.05, 'reg_pu': 0.005, 'reg_qi': 0.01} : 0.10695018249846323\n",
      "87 left --- Params {'biased': False, 'init_std_dev': 1, 'lr_all': 0.001, 'reg_bi': 0.005, 'reg_bu': 0.05, 'reg_pu': 0.005, 'reg_qi': 0.005} : 0.10485818656280625\n",
      "86 left --- Params {'biased': False, 'init_std_dev': 1, 'lr_all': 0.001, 'reg_bi': 0.005, 'reg_bu': 0.05, 'reg_pu': 0.001, 'reg_qi': 0.05} : 0.10619827122875193\n",
      "85 left --- Params {'biased': False, 'init_std_dev': 1, 'lr_all': 0.001, 'reg_bi': 0.005, 'reg_bu': 0.05, 'reg_pu': 0.001, 'reg_qi': 0.01} : 0.10606469882323533\n",
      "84 left --- Params {'biased': False, 'init_std_dev': 1, 'lr_all': 0.001, 'reg_bi': 0.005, 'reg_bu': 0.05, 'reg_pu': 0.001, 'reg_qi': 0.005} : 0.10517022235746276\n",
      "83 left --- Params {'biased': False, 'init_std_dev': 1, 'lr_all': 0.001, 'reg_bi': 0.005, 'reg_bu': 0.05, 'reg_pu': 0.0005, 'reg_qi': 0.05} : 0.1050868829744439\n",
      "82 left --- Params {'biased': False, 'init_std_dev': 1, 'lr_all': 0.001, 'reg_bi': 0.005, 'reg_bu': 0.05, 'reg_pu': 0.0005, 'reg_qi': 0.01} : 0.10574027266406712\n",
      "81 left --- Params {'biased': False, 'init_std_dev': 1, 'lr_all': 0.001, 'reg_bi': 0.005, 'reg_bu': 0.05, 'reg_pu': 0.0005, 'reg_qi': 0.005} : 0.10507601655813102\n",
      "80 left --- Params {'biased': False, 'init_std_dev': 0.5, 'lr_all': 0.001, 'reg_bi': 0.05, 'reg_bu': 0.5, 'reg_pu': 0.005, 'reg_qi': 0.05} : 0.4530211660165385\n",
      "79 left --- Params {'biased': False, 'init_std_dev': 0.5, 'lr_all': 0.001, 'reg_bi': 0.05, 'reg_bu': 0.5, 'reg_pu': 0.005, 'reg_qi': 0.01} : 0.44646709745933943\n",
      "78 left --- Params {'biased': False, 'init_std_dev': 0.5, 'lr_all': 0.001, 'reg_bi': 0.05, 'reg_bu': 0.5, 'reg_pu': 0.005, 'reg_qi': 0.005} : 0.4517402933542855\n",
      "77 left --- Params {'biased': False, 'init_std_dev': 0.5, 'lr_all': 0.001, 'reg_bi': 0.05, 'reg_bu': 0.5, 'reg_pu': 0.001, 'reg_qi': 0.05} : 0.44976992026233903\n",
      "76 left --- Params {'biased': False, 'init_std_dev': 0.5, 'lr_all': 0.001, 'reg_bi': 0.05, 'reg_bu': 0.5, 'reg_pu': 0.001, 'reg_qi': 0.01} : 0.44809842322116744\n",
      "75 left --- Params {'biased': False, 'init_std_dev': 0.5, 'lr_all': 0.001, 'reg_bi': 0.05, 'reg_bu': 0.5, 'reg_pu': 0.001, 'reg_qi': 0.005} : 0.44564380815328686\n",
      "74 left --- Params {'biased': False, 'init_std_dev': 0.5, 'lr_all': 0.001, 'reg_bi': 0.05, 'reg_bu': 0.5, 'reg_pu': 0.0005, 'reg_qi': 0.05} : 0.45052551805917773\n",
      "73 left --- Params {'biased': False, 'init_std_dev': 0.5, 'lr_all': 0.001, 'reg_bi': 0.05, 'reg_bu': 0.5, 'reg_pu': 0.0005, 'reg_qi': 0.01} : 0.448347101420616\n",
      "72 left --- Params {'biased': False, 'init_std_dev': 0.5, 'lr_all': 0.001, 'reg_bi': 0.05, 'reg_bu': 0.5, 'reg_pu': 0.0005, 'reg_qi': 0.005} : 0.4525374464050602\n",
      "71 left --- Params {'biased': False, 'init_std_dev': 0.5, 'lr_all': 0.001, 'reg_bi': 0.05, 'reg_bu': 0.1, 'reg_pu': 0.005, 'reg_qi': 0.05} : 0.45355935512391465\n",
      "70 left --- Params {'biased': False, 'init_std_dev': 0.5, 'lr_all': 0.001, 'reg_bi': 0.05, 'reg_bu': 0.1, 'reg_pu': 0.005, 'reg_qi': 0.01} : 0.448814777239368\n",
      "69 left --- Params {'biased': False, 'init_std_dev': 0.5, 'lr_all': 0.001, 'reg_bi': 0.05, 'reg_bu': 0.1, 'reg_pu': 0.005, 'reg_qi': 0.005} : 0.45055106749872076\n",
      "68 left --- Params {'biased': False, 'init_std_dev': 0.5, 'lr_all': 0.001, 'reg_bi': 0.05, 'reg_bu': 0.1, 'reg_pu': 0.001, 'reg_qi': 0.05} : 0.45061892033500067\n",
      "67 left --- Params {'biased': False, 'init_std_dev': 0.5, 'lr_all': 0.001, 'reg_bi': 0.05, 'reg_bu': 0.1, 'reg_pu': 0.001, 'reg_qi': 0.01} : 0.44596632325033114\n",
      "66 left --- Params {'biased': False, 'init_std_dev': 0.5, 'lr_all': 0.001, 'reg_bi': 0.05, 'reg_bu': 0.1, 'reg_pu': 0.001, 'reg_qi': 0.005} : 0.4454991185469579\n",
      "65 left --- Params {'biased': False, 'init_std_dev': 0.5, 'lr_all': 0.001, 'reg_bi': 0.05, 'reg_bu': 0.1, 'reg_pu': 0.0005, 'reg_qi': 0.05} : 0.44279447533415084\n",
      "64 left --- Params {'biased': False, 'init_std_dev': 0.5, 'lr_all': 0.001, 'reg_bi': 0.05, 'reg_bu': 0.1, 'reg_pu': 0.0005, 'reg_qi': 0.01} : 0.447109374160454\n",
      "63 left --- Params {'biased': False, 'init_std_dev': 0.5, 'lr_all': 0.001, 'reg_bi': 0.05, 'reg_bu': 0.1, 'reg_pu': 0.0005, 'reg_qi': 0.005} : 0.44582801521285004\n",
      "62 left --- Params {'biased': False, 'init_std_dev': 0.5, 'lr_all': 0.001, 'reg_bi': 0.05, 'reg_bu': 0.05, 'reg_pu': 0.005, 'reg_qi': 0.05} : 0.4476530534252304\n",
      "61 left --- Params {'biased': False, 'init_std_dev': 0.5, 'lr_all': 0.001, 'reg_bi': 0.05, 'reg_bu': 0.05, 'reg_pu': 0.005, 'reg_qi': 0.01} : 0.45185523378805503\n",
      "60 left --- Params {'biased': False, 'init_std_dev': 0.5, 'lr_all': 0.001, 'reg_bi': 0.05, 'reg_bu': 0.05, 'reg_pu': 0.005, 'reg_qi': 0.005} : 0.4447477444442075\n",
      "59 left --- Params {'biased': False, 'init_std_dev': 0.5, 'lr_all': 0.001, 'reg_bi': 0.05, 'reg_bu': 0.05, 'reg_pu': 0.001, 'reg_qi': 0.05} : 0.4489991971459947\n",
      "58 left --- Params {'biased': False, 'init_std_dev': 0.5, 'lr_all': 0.001, 'reg_bi': 0.05, 'reg_bu': 0.05, 'reg_pu': 0.001, 'reg_qi': 0.01} : 0.4444929989676854\n",
      "57 left --- Params {'biased': False, 'init_std_dev': 0.5, 'lr_all': 0.001, 'reg_bi': 0.05, 'reg_bu': 0.05, 'reg_pu': 0.001, 'reg_qi': 0.005} : 0.45759920186712477\n",
      "56 left --- Params {'biased': False, 'init_std_dev': 0.5, 'lr_all': 0.001, 'reg_bi': 0.05, 'reg_bu': 0.05, 'reg_pu': 0.0005, 'reg_qi': 0.05} : 0.44172906684153757\n",
      "55 left --- Params {'biased': False, 'init_std_dev': 0.5, 'lr_all': 0.001, 'reg_bi': 0.05, 'reg_bu': 0.05, 'reg_pu': 0.0005, 'reg_qi': 0.01} : 0.44660559249569126\n",
      "54 left --- Params {'biased': False, 'init_std_dev': 0.5, 'lr_all': 0.001, 'reg_bi': 0.05, 'reg_bu': 0.05, 'reg_pu': 0.0005, 'reg_qi': 0.005} : 0.45026192664619824\n",
      "53 left --- Params {'biased': False, 'init_std_dev': 0.5, 'lr_all': 0.001, 'reg_bi': 0.01, 'reg_bu': 0.5, 'reg_pu': 0.005, 'reg_qi': 0.05} : 0.4447636931238866\n",
      "52 left --- Params {'biased': False, 'init_std_dev': 0.5, 'lr_all': 0.001, 'reg_bi': 0.01, 'reg_bu': 0.5, 'reg_pu': 0.005, 'reg_qi': 0.01} : 0.4517945440948494\n",
      "51 left --- Params {'biased': False, 'init_std_dev': 0.5, 'lr_all': 0.001, 'reg_bi': 0.01, 'reg_bu': 0.5, 'reg_pu': 0.005, 'reg_qi': 0.005} : 0.4465920215028554\n",
      "50 left --- Params {'biased': False, 'init_std_dev': 0.5, 'lr_all': 0.001, 'reg_bi': 0.01, 'reg_bu': 0.5, 'reg_pu': 0.001, 'reg_qi': 0.05} : 0.4483708953614172\n",
      "49 left --- Params {'biased': False, 'init_std_dev': 0.5, 'lr_all': 0.001, 'reg_bi': 0.01, 'reg_bu': 0.5, 'reg_pu': 0.001, 'reg_qi': 0.01} : 0.451794367112587\n",
      "48 left --- Params {'biased': False, 'init_std_dev': 0.5, 'lr_all': 0.001, 'reg_bi': 0.01, 'reg_bu': 0.5, 'reg_pu': 0.001, 'reg_qi': 0.005} : 0.4490036622762476\n",
      "47 left --- Params {'biased': False, 'init_std_dev': 0.5, 'lr_all': 0.001, 'reg_bi': 0.01, 'reg_bu': 0.5, 'reg_pu': 0.0005, 'reg_qi': 0.05} : 0.44821217964429994\n",
      "46 left --- Params {'biased': False, 'init_std_dev': 0.5, 'lr_all': 0.001, 'reg_bi': 0.01, 'reg_bu': 0.5, 'reg_pu': 0.0005, 'reg_qi': 0.01} : 0.4544379654509258\n",
      "45 left --- Params {'biased': False, 'init_std_dev': 0.5, 'lr_all': 0.001, 'reg_bi': 0.01, 'reg_bu': 0.5, 'reg_pu': 0.0005, 'reg_qi': 0.005} : 0.4518642385587243\n",
      "44 left --- Params {'biased': False, 'init_std_dev': 0.5, 'lr_all': 0.001, 'reg_bi': 0.01, 'reg_bu': 0.1, 'reg_pu': 0.005, 'reg_qi': 0.05} : 0.44745064334531226\n",
      "43 left --- Params {'biased': False, 'init_std_dev': 0.5, 'lr_all': 0.001, 'reg_bi': 0.01, 'reg_bu': 0.1, 'reg_pu': 0.005, 'reg_qi': 0.01} : 0.4482230364709055\n",
      "42 left --- Params {'biased': False, 'init_std_dev': 0.5, 'lr_all': 0.001, 'reg_bi': 0.01, 'reg_bu': 0.1, 'reg_pu': 0.005, 'reg_qi': 0.005} : 0.4497586210392156\n",
      "41 left --- Params {'biased': False, 'init_std_dev': 0.5, 'lr_all': 0.001, 'reg_bi': 0.01, 'reg_bu': 0.1, 'reg_pu': 0.001, 'reg_qi': 0.05} : 0.44122553605186\n",
      "40 left --- Params {'biased': False, 'init_std_dev': 0.5, 'lr_all': 0.001, 'reg_bi': 0.01, 'reg_bu': 0.1, 'reg_pu': 0.001, 'reg_qi': 0.01} : 0.4481979369286986\n",
      "39 left --- Params {'biased': False, 'init_std_dev': 0.5, 'lr_all': 0.001, 'reg_bi': 0.01, 'reg_bu': 0.1, 'reg_pu': 0.001, 'reg_qi': 0.005} : 0.4516847537896038\n",
      "38 left --- Params {'biased': False, 'init_std_dev': 0.5, 'lr_all': 0.001, 'reg_bi': 0.01, 'reg_bu': 0.1, 'reg_pu': 0.0005, 'reg_qi': 0.05} : 0.44640792349988573\n",
      "37 left --- Params {'biased': False, 'init_std_dev': 0.5, 'lr_all': 0.001, 'reg_bi': 0.01, 'reg_bu': 0.1, 'reg_pu': 0.0005, 'reg_qi': 0.01} : 0.4453386705728824\n",
      "36 left --- Params {'biased': False, 'init_std_dev': 0.5, 'lr_all': 0.001, 'reg_bi': 0.01, 'reg_bu': 0.1, 'reg_pu': 0.0005, 'reg_qi': 0.005} : 0.4435071721115484\n",
      "35 left --- Params {'biased': False, 'init_std_dev': 0.5, 'lr_all': 0.001, 'reg_bi': 0.01, 'reg_bu': 0.05, 'reg_pu': 0.005, 'reg_qi': 0.05} : 0.4436075645242773\n",
      "34 left --- Params {'biased': False, 'init_std_dev': 0.5, 'lr_all': 0.001, 'reg_bi': 0.01, 'reg_bu': 0.05, 'reg_pu': 0.005, 'reg_qi': 0.01} : 0.4495732301944445\n",
      "33 left --- Params {'biased': False, 'init_std_dev': 0.5, 'lr_all': 0.001, 'reg_bi': 0.01, 'reg_bu': 0.05, 'reg_pu': 0.005, 'reg_qi': 0.005} : 0.44772817825185235\n",
      "32 left --- Params {'biased': False, 'init_std_dev': 0.5, 'lr_all': 0.001, 'reg_bi': 0.01, 'reg_bu': 0.05, 'reg_pu': 0.001, 'reg_qi': 0.05} : 0.45247847825048226\n",
      "31 left --- Params {'biased': False, 'init_std_dev': 0.5, 'lr_all': 0.001, 'reg_bi': 0.01, 'reg_bu': 0.05, 'reg_pu': 0.001, 'reg_qi': 0.01} : 0.4450073409319206\n",
      "30 left --- Params {'biased': False, 'init_std_dev': 0.5, 'lr_all': 0.001, 'reg_bi': 0.01, 'reg_bu': 0.05, 'reg_pu': 0.001, 'reg_qi': 0.005} : 0.454987410110021\n",
      "29 left --- Params {'biased': False, 'init_std_dev': 0.5, 'lr_all': 0.001, 'reg_bi': 0.01, 'reg_bu': 0.05, 'reg_pu': 0.0005, 'reg_qi': 0.05} : 0.4453200087324268\n",
      "28 left --- Params {'biased': False, 'init_std_dev': 0.5, 'lr_all': 0.001, 'reg_bi': 0.01, 'reg_bu': 0.05, 'reg_pu': 0.0005, 'reg_qi': 0.01} : 0.4506999478916744\n",
      "27 left --- Params {'biased': False, 'init_std_dev': 0.5, 'lr_all': 0.001, 'reg_bi': 0.01, 'reg_bu': 0.05, 'reg_pu': 0.0005, 'reg_qi': 0.005} : 0.44870725705587766\n",
      "26 left --- Params {'biased': False, 'init_std_dev': 0.5, 'lr_all': 0.001, 'reg_bi': 0.005, 'reg_bu': 0.5, 'reg_pu': 0.005, 'reg_qi': 0.05} : 0.4461389872911068\n",
      "25 left --- Params {'biased': False, 'init_std_dev': 0.5, 'lr_all': 0.001, 'reg_bi': 0.005, 'reg_bu': 0.5, 'reg_pu': 0.005, 'reg_qi': 0.01} : 0.44467375769736117\n",
      "24 left --- Params {'biased': False, 'init_std_dev': 0.5, 'lr_all': 0.001, 'reg_bi': 0.005, 'reg_bu': 0.5, 'reg_pu': 0.005, 'reg_qi': 0.005} : 0.45029622826957083\n",
      "23 left --- Params {'biased': False, 'init_std_dev': 0.5, 'lr_all': 0.001, 'reg_bi': 0.005, 'reg_bu': 0.5, 'reg_pu': 0.001, 'reg_qi': 0.05} : 0.4483783784498316\n",
      "22 left --- Params {'biased': False, 'init_std_dev': 0.5, 'lr_all': 0.001, 'reg_bi': 0.005, 'reg_bu': 0.5, 'reg_pu': 0.001, 'reg_qi': 0.01} : 0.45021592665111465\n",
      "21 left --- Params {'biased': False, 'init_std_dev': 0.5, 'lr_all': 0.001, 'reg_bi': 0.005, 'reg_bu': 0.5, 'reg_pu': 0.001, 'reg_qi': 0.005} : 0.4464182954317144\n",
      "20 left --- Params {'biased': False, 'init_std_dev': 0.5, 'lr_all': 0.001, 'reg_bi': 0.005, 'reg_bu': 0.5, 'reg_pu': 0.0005, 'reg_qi': 0.05} : 0.44931800852939274\n",
      "19 left --- Params {'biased': False, 'init_std_dev': 0.5, 'lr_all': 0.001, 'reg_bi': 0.005, 'reg_bu': 0.5, 'reg_pu': 0.0005, 'reg_qi': 0.01} : 0.4493738968625371\n",
      "18 left --- Params {'biased': False, 'init_std_dev': 0.5, 'lr_all': 0.001, 'reg_bi': 0.005, 'reg_bu': 0.5, 'reg_pu': 0.0005, 'reg_qi': 0.005} : 0.4473481547183965\n",
      "17 left --- Params {'biased': False, 'init_std_dev': 0.5, 'lr_all': 0.001, 'reg_bi': 0.005, 'reg_bu': 0.1, 'reg_pu': 0.005, 'reg_qi': 0.05} : 0.4443621420349405\n",
      "16 left --- Params {'biased': False, 'init_std_dev': 0.5, 'lr_all': 0.001, 'reg_bi': 0.005, 'reg_bu': 0.1, 'reg_pu': 0.005, 'reg_qi': 0.01} : 0.4451467022517662\n",
      "15 left --- Params {'biased': False, 'init_std_dev': 0.5, 'lr_all': 0.001, 'reg_bi': 0.005, 'reg_bu': 0.1, 'reg_pu': 0.005, 'reg_qi': 0.005} : 0.4446550177419404\n",
      "14 left --- Params {'biased': False, 'init_std_dev': 0.5, 'lr_all': 0.001, 'reg_bi': 0.005, 'reg_bu': 0.1, 'reg_pu': 0.001, 'reg_qi': 0.05} : 0.4498077442957294\n",
      "13 left --- Params {'biased': False, 'init_std_dev': 0.5, 'lr_all': 0.001, 'reg_bi': 0.005, 'reg_bu': 0.1, 'reg_pu': 0.001, 'reg_qi': 0.01} : 0.44629330137237083\n",
      "12 left --- Params {'biased': False, 'init_std_dev': 0.5, 'lr_all': 0.001, 'reg_bi': 0.005, 'reg_bu': 0.1, 'reg_pu': 0.001, 'reg_qi': 0.005} : 0.447714571564123\n",
      "11 left --- Params {'biased': False, 'init_std_dev': 0.5, 'lr_all': 0.001, 'reg_bi': 0.005, 'reg_bu': 0.1, 'reg_pu': 0.0005, 'reg_qi': 0.05} : 0.4469103242600216\n",
      "10 left --- Params {'biased': False, 'init_std_dev': 0.5, 'lr_all': 0.001, 'reg_bi': 0.005, 'reg_bu': 0.1, 'reg_pu': 0.0005, 'reg_qi': 0.01} : 0.44683217768846584\n",
      "9 left --- Params {'biased': False, 'init_std_dev': 0.5, 'lr_all': 0.001, 'reg_bi': 0.005, 'reg_bu': 0.1, 'reg_pu': 0.0005, 'reg_qi': 0.005} : 0.4498520903046666\n",
      "8 left --- Params {'biased': False, 'init_std_dev': 0.5, 'lr_all': 0.001, 'reg_bi': 0.005, 'reg_bu': 0.05, 'reg_pu': 0.005, 'reg_qi': 0.05} : 0.4465377718384474\n",
      "7 left --- Params {'biased': False, 'init_std_dev': 0.5, 'lr_all': 0.001, 'reg_bi': 0.005, 'reg_bu': 0.05, 'reg_pu': 0.005, 'reg_qi': 0.01} : 0.4475772410607316\n",
      "6 left --- Params {'biased': False, 'init_std_dev': 0.5, 'lr_all': 0.001, 'reg_bi': 0.005, 'reg_bu': 0.05, 'reg_pu': 0.005, 'reg_qi': 0.005} : 0.45100320168235697\n",
      "5 left --- Params {'biased': False, 'init_std_dev': 0.5, 'lr_all': 0.001, 'reg_bi': 0.005, 'reg_bu': 0.05, 'reg_pu': 0.001, 'reg_qi': 0.05} : 0.44212354420722555\n",
      "4 left --- Params {'biased': False, 'init_std_dev': 0.5, 'lr_all': 0.001, 'reg_bi': 0.005, 'reg_bu': 0.05, 'reg_pu': 0.001, 'reg_qi': 0.01} : 0.44487456066291825\n",
      "3 left --- Params {'biased': False, 'init_std_dev': 0.5, 'lr_all': 0.001, 'reg_bi': 0.005, 'reg_bu': 0.05, 'reg_pu': 0.001, 'reg_qi': 0.005} : 0.4444966925154435\n",
      "2 left --- Params {'biased': False, 'init_std_dev': 0.5, 'lr_all': 0.001, 'reg_bi': 0.005, 'reg_bu': 0.05, 'reg_pu': 0.0005, 'reg_qi': 0.05} : 0.44813748764498806\n",
      "1 left --- Params {'biased': False, 'init_std_dev': 0.5, 'lr_all': 0.001, 'reg_bi': 0.005, 'reg_bu': 0.05, 'reg_pu': 0.0005, 'reg_qi': 0.01} : 0.45134772280383545\n",
      "0 left --- Params {'biased': False, 'init_std_dev': 0.5, 'lr_all': 0.001, 'reg_bi': 0.005, 'reg_bu': 0.05, 'reg_pu': 0.0005, 'reg_qi': 0.005} : 0.450288526162628\n"
     ]
    },
    {
     "data": {
      "text/plain": [
       "({'biased': False,\n",
       "  'init_std_dev': 1,\n",
       "  'lr_all': 0.001,\n",
       "  'reg_bi': 0.05,\n",
       "  'reg_bu': 0.5,\n",
       "  'reg_pu': 0.005,\n",
       "  'reg_qi': 0.005},\n",
       " 0.10032585149744314)"
      ]
     },
     "execution_count": 103,
     "metadata": {},
     "output_type": "execute_result"
    }
   ],
   "source": [
    "# ---------------------------- GRID SEARCH FOR SVD --------------------------- #\n",
    "params = {\n",
    "    \"biased\" : [False],\n",
    "    \"init_std_dev\" : [0.5, 1, 5],\n",
    "    \"lr_all\" : [0.001],\n",
    "    \"reg_bu\" : [0.05, 0.1, 0.5],\n",
    "    \"reg_bi\" : [0.005, 0.01, 0.05],\n",
    "    \"reg_qi\" : [0.005, 0.01, 0.05],\n",
    "    \"reg_pu\" : [0.0005, 0.001, 0.005],\n",
    "}\n",
    "\n",
    "best_svd_models = MyCrossValidation(surprise.prediction_algorithms.matrix_factorization.SVD, params)()\n",
    "best_svd_models[0]"
   ]
  },
  {
   "cell_type": "markdown",
   "metadata": {},
   "source": [
    "## We need some usefull functions"
   ]
  },
  {
   "cell_type": "markdown",
   "metadata": {},
   "source": [
    "*First, how can we use the \"iteam_features.csv\" file?*\n",
    "\n",
    "**We could evaluate the similarity between items in order to give better recommendations.**\n",
    "\n",
    "Let's create a function that will give a score based on the similarity between items. For this, we will use the function defined in the Data Analysis Section : get_item_similarity. We found that the average number of similar feature between items is around 3 times bigger than the average number of similare feature value. Hence, we will score based on the following formula:\n",
    "\n",
    "$$\n",
    "score = \\dfrac {similar\\_feature\\_number + 3 \\times similar\\_feature\\_value} {4 \\times maximum\\_number\\_of\\_similar\\_feature}\n",
    "$$"
   ]
  },
  {
   "cell_type": "code",
   "execution_count": 104,
   "metadata": {},
   "outputs": [],
   "source": [
    "def get_item_similarity_score(item_features_df, item_id):\n",
    "    similarity = get_item_similarity(item_features_df, item_id)\n",
    "    if similarity is None:\n",
    "        return None\n",
    "    \n",
    "    res = (similarity.similar_feature_id + 3 * similarity.similar_value_id) / (4 * len(item_features_df[item_features_df[\"item_id\"] == item_id]))\n",
    "    return res"
   ]
  },
  {
   "cell_type": "code",
   "execution_count": 105,
   "metadata": {},
   "outputs": [
    {
     "data": {
      "text/plain": [
       "count    22205.000000\n",
       "mean         0.325376\n",
       "std          0.150175\n",
       "min          0.096154\n",
       "25%          0.211538\n",
       "50%          0.269231\n",
       "75%          0.384615\n",
       "max          0.942308\n",
       "dtype: float64"
      ]
     },
     "execution_count": 105,
     "metadata": {},
     "output_type": "execute_result"
    }
   ],
   "source": [
    "get_item_similarity_score(item_features_df, item_id=2).describe()"
   ]
  },
  {
   "cell_type": "markdown",
   "metadata": {},
   "source": [
    "*When we need to generate recommendations for our users, most of them will not be in our database. How can we use our recommendation models in this case?*\n",
    "\n",
    "**We could first make a list of the users of our training game who most resemble the users to whom we should make recommendations. We will then make our predictions on the users in this list.**\n",
    "\n",
    "Let's implement a function capable of providing us with a list of the users most likely to have consulted a series of products with their associated \"similarity\" score.\n",
    "\n",
    "*But to do this, we will have to make one prediction per user and per product, i.e. $1000000 \\times 4990 = 4,990,000,000$ predictions. This calculation is likely to be significantly long. Is there a way to speed it up?*\n",
    "\n",
    "**We could select a number of users randomly from our training set. The higher the number, the more accurate our results will be later on. Furthermore, we should make all these predictions in advance and store them in a dataframe so that we only have to make this calculation once.**\n",
    "\n",
    "Let's use our best recommendation model to generate a table associating to a number $n$ of users of our training set the predicted score for each of the 4990 items to predict."
   ]
  },
  {
   "cell_type": "code",
   "execution_count": 106,
   "metadata": {},
   "outputs": [
    {
     "data": {
      "text/plain": [
       "<surprise.prediction_algorithms.matrix_factorization.SVD at 0x7fc27fd38e80>"
      ]
     },
     "execution_count": 106,
     "metadata": {},
     "output_type": "execute_result"
    }
   ],
   "source": [
    "model = surprise.SVD(**best_svd_models[0][0])\n",
    "train_set_surprise = surprise.dataset.Dataset.load_from_df(df=train_set_df[[\"user_id\", \"item_id\", \"raw_ratings\"]], reader=rating_reader) \n",
    "model.fit(train_set_surprise.build_full_trainset())"
   ]
  },
  {
   "cell_type": "code",
   "execution_count": 119,
   "metadata": {},
   "outputs": [
    {
     "name": "stderr",
     "output_type": "stream",
     "text": [
      "/tmp/ipykernel_4450/3826817096.py:4: FutureWarning: The default dtype for empty Series will be 'object' instead of 'float64' in a future version. Specify a dtype explicitly to silence this warning.\n",
      "  X = pd.Series(index=pd.MultiIndex.from_product([training_user_to_predict_serie, candidate_items_df.item_id]), name=\"score\").reset_index()\n"
     ]
    },
    {
     "data": {
      "text/html": [
       "<div>\n",
       "<style scoped>\n",
       "    .dataframe tbody tr th:only-of-type {\n",
       "        vertical-align: middle;\n",
       "    }\n",
       "\n",
       "    .dataframe tbody tr th {\n",
       "        vertical-align: top;\n",
       "    }\n",
       "\n",
       "    .dataframe thead th {\n",
       "        text-align: right;\n",
       "    }\n",
       "</style>\n",
       "<table border=\"1\" class=\"dataframe\">\n",
       "  <thead>\n",
       "    <tr style=\"text-align: right;\">\n",
       "      <th></th>\n",
       "      <th>user_id</th>\n",
       "      <th>item_id</th>\n",
       "      <th>score</th>\n",
       "    </tr>\n",
       "  </thead>\n",
       "  <tbody>\n",
       "    <tr>\n",
       "      <th>count</th>\n",
       "      <td>4.990000e+06</td>\n",
       "      <td>4.990000e+06</td>\n",
       "      <td>4.990000e+06</td>\n",
       "    </tr>\n",
       "    <tr>\n",
       "      <th>mean</th>\n",
       "      <td>2.296108e+06</td>\n",
       "      <td>1.400704e+04</td>\n",
       "      <td>1.133420e+00</td>\n",
       "    </tr>\n",
       "    <tr>\n",
       "      <th>std</th>\n",
       "      <td>1.293225e+06</td>\n",
       "      <td>8.217409e+03</td>\n",
       "      <td>3.211122e-01</td>\n",
       "    </tr>\n",
       "    <tr>\n",
       "      <th>min</th>\n",
       "      <td>6.767000e+03</td>\n",
       "      <td>4.000000e+00</td>\n",
       "      <td>1.000000e+00</td>\n",
       "    </tr>\n",
       "    <tr>\n",
       "      <th>25%</th>\n",
       "      <td>1.134380e+06</td>\n",
       "      <td>6.833000e+03</td>\n",
       "      <td>1.000000e+00</td>\n",
       "    </tr>\n",
       "    <tr>\n",
       "      <th>50%</th>\n",
       "      <td>2.308189e+06</td>\n",
       "      <td>1.410850e+04</td>\n",
       "      <td>1.000000e+00</td>\n",
       "    </tr>\n",
       "    <tr>\n",
       "      <th>75%</th>\n",
       "      <td>3.451385e+06</td>\n",
       "      <td>2.120100e+04</td>\n",
       "      <td>1.000000e+00</td>\n",
       "    </tr>\n",
       "    <tr>\n",
       "      <th>max</th>\n",
       "      <td>4.436822e+06</td>\n",
       "      <td>2.813700e+04</td>\n",
       "      <td>2.000000e+00</td>\n",
       "    </tr>\n",
       "  </tbody>\n",
       "</table>\n",
       "</div>"
      ],
      "text/plain": [
       "            user_id       item_id         score\n",
       "count  4.990000e+06  4.990000e+06  4.990000e+06\n",
       "mean   2.296108e+06  1.400704e+04  1.133420e+00\n",
       "std    1.293225e+06  8.217409e+03  3.211122e-01\n",
       "min    6.767000e+03  4.000000e+00  1.000000e+00\n",
       "25%    1.134380e+06  6.833000e+03  1.000000e+00\n",
       "50%    2.308189e+06  1.410850e+04  1.000000e+00\n",
       "75%    3.451385e+06  2.120100e+04  1.000000e+00\n",
       "max    4.436822e+06  2.813700e+04  2.000000e+00"
      ]
     },
     "execution_count": 119,
     "metadata": {},
     "output_type": "execute_result"
    }
   ],
   "source": [
    "TRAINING_USER_NUMBER = 1000\n",
    "\n",
    "training_user_to_predict_serie = pd.Series(np.random.choice(train_session_df.session_id.unique(), TRAINING_USER_NUMBER), name=\"user_id\")\n",
    "X = pd.Series(index=pd.MultiIndex.from_product([training_user_to_predict_serie, candidate_items_df.item_id]), name=\"score\").reset_index()\n",
    "y = X.apply(lambda row : model.predict(uid=row.user_id, iid=row.item_id, verbose=False).est, axis=1)\n",
    "user_prediction = X.assign(score=y)\n",
    "user_prediction.describe()"
   ]
  },
  {
   "cell_type": "markdown",
   "metadata": {},
   "source": [
    "Now this is done, let's implement a function capable of providing us with a list of the users most likely to have consulted a series of products with their associated \"similarity\" score as said before."
   ]
  },
  {
   "cell_type": "code",
   "execution_count": 129,
   "metadata": {},
   "outputs": [
    {
     "data": {
      "text/html": [
       "<div>\n",
       "<style scoped>\n",
       "    .dataframe tbody tr th:only-of-type {\n",
       "        vertical-align: middle;\n",
       "    }\n",
       "\n",
       "    .dataframe tbody tr th {\n",
       "        vertical-align: top;\n",
       "    }\n",
       "\n",
       "    .dataframe thead th {\n",
       "        text-align: right;\n",
       "    }\n",
       "</style>\n",
       "<table border=\"1\" class=\"dataframe\">\n",
       "  <thead>\n",
       "    <tr style=\"text-align: right;\">\n",
       "      <th></th>\n",
       "      <th>user_id</th>\n",
       "      <th>score</th>\n",
       "    </tr>\n",
       "  </thead>\n",
       "  <tbody>\n",
       "    <tr>\n",
       "      <th>0</th>\n",
       "      <td>44504</td>\n",
       "      <td>6.885898</td>\n",
       "    </tr>\n",
       "    <tr>\n",
       "      <th>1</th>\n",
       "      <td>346190</td>\n",
       "      <td>6.784951</td>\n",
       "    </tr>\n",
       "    <tr>\n",
       "      <th>2</th>\n",
       "      <td>1092800</td>\n",
       "      <td>6.769259</td>\n",
       "    </tr>\n",
       "    <tr>\n",
       "      <th>3</th>\n",
       "      <td>117539</td>\n",
       "      <td>6.699970</td>\n",
       "    </tr>\n",
       "    <tr>\n",
       "      <th>4</th>\n",
       "      <td>3441225</td>\n",
       "      <td>6.627610</td>\n",
       "    </tr>\n",
       "    <tr>\n",
       "      <th>5</th>\n",
       "      <td>3667344</td>\n",
       "      <td>6.487423</td>\n",
       "    </tr>\n",
       "    <tr>\n",
       "      <th>6</th>\n",
       "      <td>2426904</td>\n",
       "      <td>6.485752</td>\n",
       "    </tr>\n",
       "    <tr>\n",
       "      <th>7</th>\n",
       "      <td>570088</td>\n",
       "      <td>6.340807</td>\n",
       "    </tr>\n",
       "    <tr>\n",
       "      <th>8</th>\n",
       "      <td>4068356</td>\n",
       "      <td>6.316350</td>\n",
       "    </tr>\n",
       "    <tr>\n",
       "      <th>9</th>\n",
       "      <td>2998028</td>\n",
       "      <td>6.294746</td>\n",
       "    </tr>\n",
       "  </tbody>\n",
       "</table>\n",
       "</div>"
      ],
      "text/plain": [
       "   user_id     score\n",
       "0    44504  6.885898\n",
       "1   346190  6.784951\n",
       "2  1092800  6.769259\n",
       "3   117539  6.699970\n",
       "4  3441225  6.627610\n",
       "5  3667344  6.487423\n",
       "6  2426904  6.485752\n",
       "7   570088  6.340807\n",
       "8  4068356  6.316350\n",
       "9  2998028  6.294746"
      ]
     },
     "execution_count": 129,
     "metadata": {},
     "output_type": "execute_result"
    }
   ],
   "source": [
    "def get_similar_user(item_list, number):\n",
    "    return user_prediction[user_prediction.item_id.isin(item_list)].groupby(\"user_id\").score.sum().sort_values(ascending=False).iloc[:number].reset_index()\n",
    "\n",
    "get_similar_user(test_final_sessions_df[test_final_sessions_df.session_id == 96].item_id, 10)"
   ]
  },
  {
   "cell_type": "markdown",
   "metadata": {},
   "source": [
    "## Let's make some recommendations"
   ]
  },
  {
   "cell_type": "markdown",
   "metadata": {},
   "source": [
    "The users using the platform in the test set are completely unknown to us. Therefore, we will proceed as follows:\n",
    "1. Identify all similar users\n",
    "2. Make predictions for each of them and weight the results by the similarity rate to the user to be predicted\n",
    "3. Further improve our results by using the similarity between the items "
   ]
  },
  {
   "cell_type": "markdown",
   "metadata": {},
   "source": [
    "### Let's implement a Class which will do that for us"
   ]
  },
  {
   "cell_type": "markdown",
   "metadata": {},
   "source": [
    "**It appears that if this class works and give good results, it take too much time to compute the 50000 users of the test set**"
   ]
  },
  {
   "cell_type": "markdown",
   "metadata": {},
   "source": [
    "*Is it possible and relevant to generate predictions using only the similarity between objects?*\n",
    "\n",
    "Let's implement a function that simply recommends for each entry in our test set the 100 items that are most similar to the items consulted by the user."
   ]
  },
  {
   "cell_type": "code",
   "execution_count": 44,
   "metadata": {},
   "outputs": [
    {
     "name": "stderr",
     "output_type": "stream",
     "text": [
      "/tmp/ipykernel_10928/713808921.py:3: FutureWarning: The default dtype for empty Series will be 'object' instead of 'float64' in a future version. Specify a dtype explicitly to silence this warning.\n",
      "  recommandations = pd.Series()\n"
     ]
    }
   ],
   "source": [
    "def compute_simple_similarity_recommandations():\n",
    "    candidate_item_feature = item_features_df[item_features_df.item_id.isin(candidate_items_df.item_id)]\n",
    "\n",
    "    recommandations = pd.Series()\n",
    "    for session_id in test_final_sessions_df.session_id.unique():\n",
    "        items = test_final_sessions_df[test_final_sessions_df.session_id == session_id][\"item_id\"]\n",
    "        item_scores = None\n",
    "        for item in items.values:\n",
    "            item = int(item)\n",
    "            temp = get_item_similarity_score(candidate_item_feature, item_id=item)\n",
    "            if temp is None:\n",
    "                continue\n",
    "            if item_scores is None:\n",
    "                item_scores = temp\n",
    "            else:\n",
    "                item_scores += temp\n",
    "            \n",
    "        if item_scores is None:\n",
    "            item_scores = candidate_items_df.item_id.sample(100)\n",
    "                \n",
    "        recommandations = pd.concat([recommandations, item_scores.sort_values(ascending=False).index.to_series()[:100]], axis=0)\n",
    "\n",
    "    length = len(test_final_sessions_df.session_id.unique())\n",
    "    col = [\n",
    "        pd.Series(np.repeat(test_final_sessions_df.session_id.unique(), 100)).rename(\"session_id\"),\n",
    "        recommandations.rename(\"item_id\"),\n",
    "        pd.Series(np.tile(np.arange(1, 101), length)).rename(\"rank\"),\n",
    "    ]\n",
    "    result = pd.DataFrame(col)\n",
    "    result.to_csv(os.path.join(\"..\", \"results\", \"simple_similarity_recommandations.csv\"), index=False)\n",
    "    \n",
    "# We won't execute this functio here because it takes a long time to compute. But its results can be found in the results folder."
   ]
  }
 ],
 "metadata": {
  "kernelspec": {
   "display_name": "Python 3.9.7 ('.venv': poetry)",
   "language": "python",
   "name": "python3"
  },
  "language_info": {
   "codemirror_mode": {
    "name": "ipython",
    "version": 3
   },
   "file_extension": ".py",
   "mimetype": "text/x-python",
   "name": "python",
   "nbconvert_exporter": "python",
   "pygments_lexer": "ipython3",
   "version": "3.9.5"
  },
  "orig_nbformat": 4,
  "vscode": {
   "interpreter": {
    "hash": "eb6d516e35c6ccbacc7077eece26ca831bb307c9b2b56521fa8c3e425b6f57cb"
   }
  }
 },
 "nbformat": 4,
 "nbformat_minor": 2
}
