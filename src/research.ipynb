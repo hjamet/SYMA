{
 "cells": [
  {
   "cell_type": "markdown",
   "metadata": {},
   "source": [
    "# RecSys Challenge 2022 Research Notebook"
   ]
  },
  {
   "cell_type": "markdown",
   "metadata": {},
   "source": [
    "## Introduction"
   ]
  },
  {
   "cell_type": "markdown",
   "metadata": {},
   "source": [
    "Authors : \n",
    "- Henri Jamet <henri.jamet@epita.fr>\n",
    "- Corentin Duchene <corentin.duchene@epita.fr>\n",
    "- Adrien Merat <adrien.merat@epita.fr>\n",
    "- Erwan Goudard <erwan.goudard@epita.fr>\n",
    "\n",
    "Projet :\n",
    "- http://www.recsyschallenge.com/2022/index.html#about\n",
    "- http://www.recsyschallenge.com/2022/dataset.html"
   ]
  },
  {
   "cell_type": "markdown",
   "metadata": {},
   "source": [
    "## Data Exploration"
   ]
  },
  {
   "cell_type": "markdown",
   "metadata": {},
   "source": [
    "The data should first be downloaded and unpacked into the data folder at the root of this project. So we should have :\n",
    "\n",
    "```shell\n",
    "data\n",
    "├── README.txt\n",
    "├── README_win.txt\n",
    "├── candidate_items.csv\n",
    "├── item_features.csv\n",
    "├── test_final_sessions.csv\n",
    "├── test_leaderboard_sessions.csv\n",
    "├── train_purchases.csv\n",
    "└── train_sessions.csv\n",
    "```\n"
   ]
  },
  {
   "cell_type": "markdown",
   "metadata": {},
   "source": [
    "**Let's load our data**"
   ]
  },
  {
   "cell_type": "code",
   "execution_count": 1,
   "metadata": {},
   "outputs": [
    {
     "name": "stdout",
     "output_type": "stream",
     "text": [
      "train_session_df\n",
      "   session_id  item_id                     date\n",
      "0           3     9655  2020-12-18 21:25:00.373\n",
      "\n",
      "train_purchase_df\n",
      "   session_id  item_id                     date\n",
      "0           3    15085  2020-12-18 21:26:47.986\n",
      "\n",
      "candidate_items_df\n",
      "   item_id\n",
      "0        4\n",
      "\n",
      "item_features_df\n",
      "   item_id  feature_category_id  feature_value_id\n",
      "0        2                   56               365\n",
      "\n",
      "test_final_sessions_df\n",
      "   session_id  item_id                     date\n",
      "0          61    27088  2021-06-01 08:12:39.664\n",
      "\n",
      "test_leaderboard_sessions_df\n",
      "   session_id  item_id                     date\n",
      "0          26    19185  2021-06-16 09:53:54.158\n",
      "\n"
     ]
    }
   ],
   "source": [
    "import pandas as pd\n",
    "import os\n",
    "\n",
    "PATH_DATA = os.path.join(\"..\", \"data\")\n",
    "\n",
    "train_session_df = pd.read_csv(os.path.join(PATH_DATA, \"train_sessions.csv\"))\n",
    "train_purchase_df = pd.read_csv(os.path.join(PATH_DATA, \"train_purchases.csv\"))\n",
    "candidate_items_df = pd.read_csv(os.path.join(PATH_DATA, \"candidate_items.csv\"))\n",
    "item_features_df = pd.read_csv(os.path.join(PATH_DATA, \"item_features.csv\"))\n",
    "test_final_sessions_df = pd.read_csv(os.path.join(PATH_DATA, \"test_final_sessions.csv\"))\n",
    "test_leaderboard_sessions_df = pd.read_csv(os.path.join(PATH_DATA, \"test_leaderboard_sessions.csv\"))\n",
    "\n",
    "dict = {\"train_session_df\" : train_session_df, \"train_purchase_df\" : train_purchase_df, \"candidate_items_df\" : candidate_items_df, \"item_features_df\" : item_features_df, \"test_final_sessions_df\" : test_final_sessions_df, \"test_leaderboard_sessions_df\" : test_leaderboard_sessions_df}\n",
    "for key in dict:\n",
    "    print(key)\n",
    "    print(dict[key].head(1), end=\"\\n\\n\")"
   ]
  },
  {
   "cell_type": "markdown",
   "metadata": {},
   "source": [
    "*How many different items does exist?*"
   ]
  },
  {
   "cell_type": "code",
   "execution_count": 2,
   "metadata": {},
   "outputs": [
    {
     "name": "stdout",
     "output_type": "stream",
     "text": [
      "Unique item number : 23691\n",
      "Item id are unique :  True\n"
     ]
    }
   ],
   "source": [
    "distinct_item_number = len(item_features_df.item_id.unique())\n",
    "print(\"Unique item number :\", distinct_item_number)\n",
    "print(\"Item id are unique : \", item_features_df.item_id.nunique() == len(item_features_df.item_id.unique()))"
   ]
  },
  {
   "cell_type": "markdown",
   "metadata": {},
   "source": [
    "*How many different sessions does exist?*"
   ]
  },
  {
   "cell_type": "code",
   "execution_count": 3,
   "metadata": {},
   "outputs": [
    {
     "name": "stdout",
     "output_type": "stream",
     "text": [
      "Unique user number : 1000000\n"
     ]
    }
   ],
   "source": [
    "distinct_session_number = len(pd.concat([train_session_df.session_id, train_purchase_df.session_id]).unique())\n",
    "print(\"Unique user number :\", distinct_session_number)"
   ]
  },
  {
   "cell_type": "markdown",
   "metadata": {},
   "source": [
    "*Does session always look an item before buying it?*"
   ]
  },
  {
   "cell_type": "code",
   "execution_count": 4,
   "metadata": {},
   "outputs": [
    {
     "name": "stdout",
     "output_type": "stream",
     "text": [
      "A user never look at one item before buying it.\n"
     ]
    },
    {
     "data": {
      "text/plain": [
       "left_only     1000000\n",
       "right_only          0\n",
       "both                0\n",
       "Name: Exist, dtype: int64"
      ]
     },
     "execution_count": 4,
     "metadata": {},
     "output_type": "execute_result"
    }
   ],
   "source": [
    "import numpy as np\n",
    "\n",
    "print(\"A user never look at one item before buying it.\")\n",
    "pd.merge(train_purchase_df, train_session_df, on=['session_id','item_id'], how='left', indicator='Exist')[\"Exist\"].value_counts()"
   ]
  },
  {
   "cell_type": "markdown",
   "metadata": {},
   "source": [
    "*Can a session look at items without buying any?*"
   ]
  },
  {
   "cell_type": "code",
   "execution_count": 5,
   "metadata": {},
   "outputs": [
    {
     "name": "stdout",
     "output_type": "stream",
     "text": [
      "Every session bought exactly one item.\n"
     ]
    },
    {
     "data": {
      "text/plain": [
       "both          4743820\n",
       "left_only           0\n",
       "right_only          0\n",
       "Name: Exist, dtype: int64"
      ]
     },
     "execution_count": 5,
     "metadata": {},
     "output_type": "execute_result"
    }
   ],
   "source": [
    "print(\"Every session bought exactly one item.\")\n",
    "\n",
    "pd.merge(train_purchase_df, train_session_df, on=['session_id'], how='left', indicator='Exist')[\"Exist\"].value_counts()"
   ]
  },
  {
   "cell_type": "markdown",
   "metadata": {},
   "source": [
    "*What is the average number of different items every user usually look?*"
   ]
  },
  {
   "cell_type": "code",
   "execution_count": 6,
   "metadata": {},
   "outputs": [
    {
     "name": "stdout",
     "output_type": "stream",
     "text": [
      "Average number of items seen by user : 4.74382\n"
     ]
    }
   ],
   "source": [
    "print(\"Average number of items seen by user :\", train_session_df.groupby(\"session_id\").count()[\"item_id\"].mean())"
   ]
  },
  {
   "cell_type": "markdown",
   "metadata": {},
   "source": [
    "*How many feature does exist?*"
   ]
  },
  {
   "cell_type": "code",
   "execution_count": 7,
   "metadata": {},
   "outputs": [
    {
     "name": "stdout",
     "output_type": "stream",
     "text": [
      "The number of different item features is :\n",
      "73\n"
     ]
    }
   ],
   "source": [
    "print(\"The number of different item features is :\")\n",
    "print(len(item_features_df[\"feature_category_id\"].unique()))"
   ]
  },
  {
   "cell_type": "markdown",
   "metadata": {},
   "source": [
    "*How many items have the same feature?*"
   ]
  },
  {
   "cell_type": "code",
   "execution_count": 8,
   "metadata": {},
   "outputs": [
    {
     "data": {
      "text/plain": [
       "Text(0.5, 1.0, 'Number of different items features')"
      ]
     },
     "execution_count": 8,
     "metadata": {},
     "output_type": "execute_result"
    }
   ],
   "source": [
    "from matplotlib import pyplot as plt\n",
    "\n",
    "fig = plt.figure(figsize=(8,6), dpi= 100, facecolor='w', edgecolor='k')\n",
    "nbr = item_features_df.groupby(\"feature_category_id\").count()[\"item_id\"]\n",
    "plt.bar(x=nbr.index, height=nbr.values)\n",
    "plt.title(\"Number of different items features\")"
   ]
  },
  {
   "cell_type": "markdown",
   "metadata": {},
   "source": [
    "*How many feature en feature_score items have in commun generaly?*\n",
    "\n",
    "This question is quite complex so we will first create a function giving this number for every items compared to one given because we will probably need this function soon or later anyway."
   ]
  },
  {
   "cell_type": "code",
   "execution_count": 9,
   "metadata": {},
   "outputs": [
    {
     "data": {
      "text/html": [
       "<div>\n",
       "<style scoped>\n",
       "    .dataframe tbody tr th:only-of-type {\n",
       "        vertical-align: middle;\n",
       "    }\n",
       "\n",
       "    .dataframe tbody tr th {\n",
       "        vertical-align: top;\n",
       "    }\n",
       "\n",
       "    .dataframe thead th {\n",
       "        text-align: right;\n",
       "    }\n",
       "</style>\n",
       "<table border=\"1\" class=\"dataframe\">\n",
       "  <thead>\n",
       "    <tr style=\"text-align: right;\">\n",
       "      <th></th>\n",
       "      <th>item_id</th>\n",
       "      <th>feature_category_id</th>\n",
       "      <th>feature_value_id</th>\n",
       "    </tr>\n",
       "  </thead>\n",
       "  <tbody>\n",
       "    <tr>\n",
       "      <th>0</th>\n",
       "      <td>2</td>\n",
       "      <td>56</td>\n",
       "      <td>365</td>\n",
       "    </tr>\n",
       "  </tbody>\n",
       "</table>\n",
       "</div>"
      ],
      "text/plain": [
       "   item_id  feature_category_id  feature_value_id\n",
       "0        2                   56               365"
      ]
     },
     "execution_count": 9,
     "metadata": {},
     "output_type": "execute_result"
    }
   ],
   "source": [
    "item_features_df.head(1)"
   ]
  },
  {
   "cell_type": "code",
   "execution_count": 10,
   "metadata": {},
   "outputs": [],
   "source": [
    "\n",
    "def get_item_similarity(item_features_df, item_id):\n",
    "    \"\"\"Get the similarity between the given item and all the others based on their features and feature values.\n",
    "\n",
    "    Args:\n",
    "        item_features_df (pd.DataFrame): The item features dataframe.\n",
    "        item_id_1 (int): The id of the first item\n",
    "\n",
    "    Returns:\n",
    "        (pd.DataFrame): item | similar_feature_id | similar_value_id\n",
    "    \"\"\"\n",
    "    item_df = item_features_df[item_features_df.item_id == item_id]\n",
    "    if len(item_df) == 0:\n",
    "        return None\n",
    "    same_feature_id = item_features_df[item_features_df.feature_category_id.isin(item_df.feature_category_id)]\n",
    "    same_value_id = same_feature_id[same_feature_id.feature_value_id.isin(item_df.feature_value_id)]\n",
    "    return pd.concat([same_feature_id.groupby(\"item_id\").count().feature_category_id.drop(index=item_id).rename(\"similar_feature_id\"), same_value_id.groupby(\"item_id\").count().feature_value_id.drop(index=item_id).rename(\"similar_value_id\")], axis=1)"
   ]
  },
  {
   "cell_type": "code",
   "execution_count": 15,
   "metadata": {},
   "outputs": [
    {
     "name": "stdout",
     "output_type": "stream",
     "text": [
      "Average number of similar features between items : 12.587787978557259\n",
      "Average number of similar feature values between items : 4.896744122240514\n"
     ]
    }
   ],
   "source": [
    "import numpy as np\n",
    "\n",
    "ESTIMATION_SAMPLE_NUMBER = 1000\n",
    "\n",
    "similar_feature_id = []\n",
    "similar_value_id = []\n",
    "for _, item_id in item_features_df.sample(ESTIMATION_SAMPLE_NUMBER).item_id.items():\n",
    "    similarity = get_item_similarity(item_features_df, item_id) / distinct_item_number\n",
    "    if similarity is None:\n",
    "        continue\n",
    "    similarity = similarity.sum()\n",
    "    similar_feature_id.append(similarity.similar_feature_id)\n",
    "    similar_value_id.append(similarity.similar_value_id)\n",
    "\n",
    "average_similar_feature = np.mean(similar_feature_id)\n",
    "average_similar_value = np.mean(similar_value_id)\n",
    "print(\"Average number of similar features between items :\", average_similar_feature)\n",
    "print(\"Average number of similar feature values between items :\", average_similar_value)\n",
    "    "
   ]
  },
  {
   "cell_type": "markdown",
   "metadata": {},
   "source": [
    "## Data Transformation"
   ]
  },
  {
   "cell_type": "markdown",
   "metadata": {},
   "source": [
    "**Let's add a score to every combination of user-item**"
   ]
  },
  {
   "cell_type": "code",
   "execution_count": 38,
   "metadata": {},
   "outputs": [
    {
     "data": {
      "text/html": [
       "<div>\n",
       "<style scoped>\n",
       "    .dataframe tbody tr th:only-of-type {\n",
       "        vertical-align: middle;\n",
       "    }\n",
       "\n",
       "    .dataframe tbody tr th {\n",
       "        vertical-align: top;\n",
       "    }\n",
       "\n",
       "    .dataframe thead th {\n",
       "        text-align: right;\n",
       "    }\n",
       "</style>\n",
       "<table border=\"1\" class=\"dataframe\">\n",
       "  <thead>\n",
       "    <tr style=\"text-align: right;\">\n",
       "      <th></th>\n",
       "      <th>user_id</th>\n",
       "      <th>item_id</th>\n",
       "      <th>date</th>\n",
       "      <th>raw_ratings</th>\n",
       "    </tr>\n",
       "  </thead>\n",
       "  <tbody>\n",
       "    <tr>\n",
       "      <th>470253</th>\n",
       "      <td>440610</td>\n",
       "      <td>27225</td>\n",
       "      <td>2020-11-01 16:49:27.499</td>\n",
       "      <td>1</td>\n",
       "    </tr>\n",
       "    <tr>\n",
       "      <th>2284733</th>\n",
       "      <td>2135908</td>\n",
       "      <td>2100</td>\n",
       "      <td>2020-06-10 12:54:42.431</td>\n",
       "      <td>1</td>\n",
       "    </tr>\n",
       "    <tr>\n",
       "      <th>2106092</th>\n",
       "      <td>1969663</td>\n",
       "      <td>17795</td>\n",
       "      <td>2020-04-18 08:34:39.384</td>\n",
       "      <td>1</td>\n",
       "    </tr>\n",
       "    <tr>\n",
       "      <th>2580411</th>\n",
       "      <td>2409668</td>\n",
       "      <td>27629</td>\n",
       "      <td>2020-08-03 21:55:53.88</td>\n",
       "      <td>1</td>\n",
       "    </tr>\n",
       "    <tr>\n",
       "      <th>4306011</th>\n",
       "      <td>4029781</td>\n",
       "      <td>23863</td>\n",
       "      <td>2020-03-15 09:18:56.558</td>\n",
       "      <td>1</td>\n",
       "    </tr>\n",
       "    <tr>\n",
       "      <th>...</th>\n",
       "      <td>...</td>\n",
       "      <td>...</td>\n",
       "      <td>...</td>\n",
       "      <td>...</td>\n",
       "    </tr>\n",
       "    <tr>\n",
       "      <th>760059</th>\n",
       "      <td>711678</td>\n",
       "      <td>23789</td>\n",
       "      <td>2020-07-05 15:37:01.773</td>\n",
       "      <td>1</td>\n",
       "    </tr>\n",
       "    <tr>\n",
       "      <th>1488354</th>\n",
       "      <td>1392963</td>\n",
       "      <td>23019</td>\n",
       "      <td>2021-05-30 15:17:29.18</td>\n",
       "      <td>1</td>\n",
       "    </tr>\n",
       "    <tr>\n",
       "      <th>1863175</th>\n",
       "      <td>1741976</td>\n",
       "      <td>27988</td>\n",
       "      <td>2020-08-05 14:31:36.785</td>\n",
       "      <td>1</td>\n",
       "    </tr>\n",
       "    <tr>\n",
       "      <th>2527594</th>\n",
       "      <td>2359624</td>\n",
       "      <td>6689</td>\n",
       "      <td>2020-05-25 07:35:21.28</td>\n",
       "      <td>1</td>\n",
       "    </tr>\n",
       "    <tr>\n",
       "      <th>3776823</th>\n",
       "      <td>3533092</td>\n",
       "      <td>2100</td>\n",
       "      <td>2020-02-03 19:25:35.435</td>\n",
       "      <td>1</td>\n",
       "    </tr>\n",
       "  </tbody>\n",
       "</table>\n",
       "<p>5743820 rows × 4 columns</p>\n",
       "</div>"
      ],
      "text/plain": [
       "         user_id  item_id                     date  raw_ratings\n",
       "470253    440610    27225  2020-11-01 16:49:27.499            1\n",
       "2284733  2135908     2100  2020-06-10 12:54:42.431            1\n",
       "2106092  1969663    17795  2020-04-18 08:34:39.384            1\n",
       "2580411  2409668    27629   2020-08-03 21:55:53.88            1\n",
       "4306011  4029781    23863  2020-03-15 09:18:56.558            1\n",
       "...          ...      ...                      ...          ...\n",
       "760059    711678    23789  2020-07-05 15:37:01.773            1\n",
       "1488354  1392963    23019   2021-05-30 15:17:29.18            1\n",
       "1863175  1741976    27988  2020-08-05 14:31:36.785            1\n",
       "2527594  2359624     6689   2020-05-25 07:35:21.28            1\n",
       "3776823  3533092     2100  2020-02-03 19:25:35.435            1\n",
       "\n",
       "[5743820 rows x 4 columns]"
      ]
     },
     "execution_count": 38,
     "metadata": {},
     "output_type": "execute_result"
    }
   ],
   "source": [
    "train_rating_df = pd.concat([train_session_df.assign(rating=1), train_purchase_df.assign(rating=2)])\n",
    "train_set_df = train_rating_df.rename(columns={\"session_id\" : \"user_id\", \"rating\" : \"raw_ratings\"}).sample(len(train_rating_df))\n",
    "train_set_df"
   ]
  },
  {
   "cell_type": "markdown",
   "metadata": {},
   "source": [
    "**Let's create a SURPRISE training dataset**"
   ]
  },
  {
   "cell_type": "code",
   "execution_count": 42,
   "metadata": {},
   "outputs": [],
   "source": [
    "TRAIN_SET_REDUCED_SIZE = 10000\n",
    "\n",
    "import surprise\n",
    "\n",
    "rating_reader = surprise.Reader(rating_scale=(1, 2))\n",
    "train_set = surprise.dataset.Dataset.load_from_df(df=train_set_df[[\"user_id\", \"item_id\", \"raw_ratings\"]], reader=rating_reader)\n",
    "train_set_reduced = surprise.dataset.Dataset.load_from_df(df=train_set_df[[\"user_id\", \"item_id\", \"raw_ratings\"]].iloc[:TRAIN_SET_REDUCED_SIZE], reader=rating_reader)"
   ]
  },
  {
   "cell_type": "markdown",
   "metadata": {},
   "source": [
    "## Metrics"
   ]
  },
  {
   "cell_type": "markdown",
   "metadata": {},
   "source": [
    "## Models"
   ]
  },
  {
   "cell_type": "markdown",
   "metadata": {},
   "source": [
    "### Let's train a simple Suprise Model"
   ]
  },
  {
   "cell_type": "code",
   "execution_count": 43,
   "metadata": {},
   "outputs": [
    {
     "name": "stdout",
     "output_type": "stream",
     "text": [
      "Evaluating RMSE of algorithm SVD on 5 split(s).\n",
      "\n",
      "                  Fold 1  Fold 2  Fold 3  Fold 4  Fold 5  Mean    Std     \n",
      "RMSE (testset)    0.3844  0.3736  0.3823  0.3809  0.3844  0.3811  0.0040  \n",
      "Fit time          0.24    0.26    0.23    0.24    0.23    0.24    0.01    \n",
      "Test time         0.01    0.01    0.01    0.01    0.01    0.01    0.00    \n"
     ]
    },
    {
     "data": {
      "text/plain": [
       "{'test_rmse': array([0.38444556, 0.37363956, 0.38234942, 0.3808684 , 0.38437717]),\n",
       " 'fit_time': (0.2350616455078125,\n",
       "  0.2608654499053955,\n",
       "  0.225067138671875,\n",
       "  0.23749852180480957,\n",
       "  0.22806382179260254),\n",
       " 'test_time': (0.007378578186035156,\n",
       "  0.0071811676025390625,\n",
       "  0.0075910091400146484,\n",
       "  0.0077953338623046875,\n",
       "  0.007299184799194336)}"
      ]
     },
     "execution_count": 43,
     "metadata": {},
     "output_type": "execute_result"
    }
   ],
   "source": [
    "model = surprise.SVD()\n",
    "\n",
    "surprise.model_selection.cross_validate(model, train_set_reduced, measures=[\"RMSE\"], cv=5, verbose=True, n_jobs=-1)"
   ]
  },
  {
   "cell_type": "markdown",
   "metadata": {},
   "source": [
    "### Let's Compare our models"
   ]
  },
  {
   "cell_type": "code",
   "execution_count": 45,
   "metadata": {},
   "outputs": [
    {
     "name": "stdout",
     "output_type": "stream",
     "text": [
      "Estimating biases using als...\n",
      "Estimating biases using als...\n",
      "Estimating biases using als...\n",
      "Estimating biases using als...\n",
      "Estimating biases using als...\n",
      "Estimating biases using als...\n",
      "Computing the msd similarity matrix...\n",
      "Done computing similarity matrix.\n",
      "Estimating biases using als...\n",
      "Computing the msd similarity matrix...\n",
      "Done computing similarity matrix.\n",
      "Estimating biases using als...\n",
      "Computing the msd similarity matrix...\n",
      "Done computing similarity matrix.\n",
      "Estimating biases using als...\n",
      "Computing the msd similarity matrix...\n",
      "Done computing similarity matrix.\n",
      "Estimating biases using als...\n",
      "Computing the msd similarity matrix...\n",
      "Done computing similarity matrix.\n",
      "Computing the msd similarity matrix...\n",
      "Done computing similarity matrix.\n",
      "Computing the msd similarity matrix...\n",
      "Done computing similarity matrix.\n",
      "Computing the msd similarity matrix...\n",
      "Done computing similarity matrix.\n",
      "Computing the msd similarity matrix...\n",
      "Done computing similarity matrix.\n",
      "Computing the msd similarity matrix...\n",
      "Done computing similarity matrix.\n",
      "Computing the msd similarity matrix...\n",
      "Done computing similarity matrix.\n",
      "Computing the msd similarity matrix...\n",
      "Done computing similarity matrix.\n",
      "Computing the msd similarity matrix...\n",
      "Done computing similarity matrix.\n",
      "Computing the msd similarity matrix...\n",
      "Done computing similarity matrix.\n",
      "Computing the msd similarity matrix...\n",
      "Done computing similarity matrix.\n",
      "Computing the msd similarity matrix...\n",
      "Done computing similarity matrix.\n",
      "Computing the msd similarity matrix...\n",
      "Done computing similarity matrix.\n",
      "Computing the msd similarity matrix...\n",
      "Done computing similarity matrix.\n",
      "Computing the msd similarity matrix...\n",
      "Done computing similarity matrix.\n",
      "Computing the msd similarity matrix...\n",
      "Done computing similarity matrix.\n"
     ]
    }
   ],
   "source": [
    "model_list = [surprise.NormalPredictor(), surprise.BaselineOnly(), surprise.KNNBaseline(), surprise.KNNBasic(), surprise.KNNWithMeans(), surprise.KNNWithZScore(), surprise.SlopeOne(), surprise.SVD(), surprise.SVDpp(), surprise.NMF(), surprise.CoClustering(), surprise.SlopeOne()]\n",
    "\n",
    "result = {}\n",
    "for model in model_list:\n",
    "    scores = surprise.model_selection.cross_validate(model, train_set_reduced, measures=[\"RMSE\"], cv=5, verbose=False)\n",
    "    result[model.__class__.__name__] = scores[\"test_rmse\"].mean()"
   ]
  },
  {
   "cell_type": "code",
   "execution_count": 46,
   "metadata": {},
   "outputs": [
    {
     "data": {
      "text/plain": [
       "[('KNNBaseline', 0.3799799321860557),\n",
       " ('KNNBasic', 0.3801997471291728),\n",
       " ('NMF', 0.3802030481463565),\n",
       " ('BaselineOnly', 0.38027947203177714),\n",
       " ('KNNWithZScore', 0.38036789238157875),\n",
       " ('KNNWithMeans', 0.3803827426169235),\n",
       " ('SlopeOne', 0.38046389634037225),\n",
       " ('CoClustering', 0.38051632761777154),\n",
       " ('SVD', 0.38066332557871174),\n",
       " ('SVDpp', 0.3812685052348684),\n",
       " ('NormalPredictor', 0.4739045570136701)]"
      ]
     },
     "execution_count": 46,
     "metadata": {},
     "output_type": "execute_result"
    }
   ],
   "source": [
    "# ------------------------- BEST ALGORITHMS WITH RMSE ------------------------ #\n",
    "sorted(result.items(), key=lambda x: x[1])"
   ]
  },
  {
   "cell_type": "markdown",
   "metadata": {},
   "source": [
    "### Now, lets perform some Grid Search on our best models"
   ]
  },
  {
   "cell_type": "markdown",
   "metadata": {},
   "source": [
    "We know that a very similar class exists in Surprise and Sklearn. However, in order to perfectly control its behaviour and to be able to run this code in parallel on the LSE cluster, we preferred to reimplement the gridSearch in our own way."
   ]
  },
  {
   "cell_type": "code",
   "execution_count": 49,
   "metadata": {},
   "outputs": [],
   "source": [
    "import sklearn.model_selection\n",
    "\n",
    "class MyCrossValidation:\n",
    "    def __init__(self, model, params):\n",
    "        self.model_list = [\n",
    "            (model(**args, verbose=False), args)\n",
    "            for args in list(sklearn.model_selection.ParameterGrid(params))\n",
    "        ]\n",
    "        self.full_train_set = train_set_reduced.build_full_trainset()\n",
    "\n",
    "    def __train_test_model(self, model, params, verbose=1):\n",
    "        model.fit(\n",
    "            self.full_train_set,\n",
    "        )\n",
    "        predictions = model.test(self.full_train_set.build_testset())\n",
    "        score = surprise.accuracy.rmse(\n",
    "            predictions, verbose=True if verbose == 2 else False\n",
    "        )\n",
    "        if verbose == 1:\n",
    "            print(\"Params {} :\".format(str(params)), score)\n",
    "        return (params, score)\n",
    "\n",
    "    def __call__(self, verbose=1):\n",
    "        res = []\n",
    "        while len(self.model_list):\n",
    "            model, params = self.model_list.pop()\n",
    "            if verbose == 1:\n",
    "                print(\"{} left\".format(len(self.model_list)), end=\" --- \")\n",
    "            res.append(self.__train_test_model(model, params, verbose))\n",
    "            del model\n",
    "        return sorted(res, key=lambda x: x[1])"
   ]
  },
  {
   "cell_type": "code",
   "execution_count": 55,
   "metadata": {},
   "outputs": [
    {
     "name": "stdout",
     "output_type": "stream",
     "text": [
      "80 left --- Params {'biased': False, 'reg_bi': 0.05, 'reg_bu': 0.5, 'reg_pu': 0.005, 'reg_qi': 0.05} : 0.1689494216094797\n",
      "79 left --- Params {'biased': False, 'reg_bi': 0.05, 'reg_bu': 0.5, 'reg_pu': 0.005, 'reg_qi': 0.01} : 0.630855463621955\n",
      "78 left --- Params {'biased': False, 'reg_bi': 0.05, 'reg_bu': 0.5, 'reg_pu': 0.005, 'reg_qi': 0.005} : 0.8178975901586434\n",
      "77 left --- Params {'biased': False, 'reg_bi': 0.05, 'reg_bu': 0.5, 'reg_pu': 0.001, 'reg_qi': 0.05} : 0.35472184334815393\n",
      "76 left --- Params {'biased': False, 'reg_bi': 0.05, 'reg_bu': 0.5, 'reg_pu': 0.001, 'reg_qi': 0.01} : 0.8512590494453293\n",
      "75 left --- Params {'biased': False, 'reg_bi': 0.05, 'reg_bu': 0.5, 'reg_pu': 0.001, 'reg_qi': 0.005} : 0.8915309489655097\n",
      "74 left --- Params {'biased': False, 'reg_bi': 0.05, 'reg_bu': 0.5, 'reg_pu': 0.0005, 'reg_qi': 0.05} : 0.4024654028030344\n",
      "73 left --- Params {'biased': False, 'reg_bi': 0.05, 'reg_bu': 0.5, 'reg_pu': 0.0005, 'reg_qi': 0.01} : 0.8660040652416524\n",
      "72 left --- Params {'biased': False, 'reg_bi': 0.05, 'reg_bu': 0.5, 'reg_pu': 0.0005, 'reg_qi': 0.005} : 0.8958151714087073\n",
      "71 left --- Params {'biased': False, 'reg_bi': 0.05, 'reg_bu': 0.1, 'reg_pu': 0.005, 'reg_qi': 0.05} : 0.16846425237678106\n",
      "70 left --- Params {'biased': False, 'reg_bi': 0.05, 'reg_bu': 0.1, 'reg_pu': 0.005, 'reg_qi': 0.01} : 0.6350101321251469\n",
      "69 left --- Params {'biased': False, 'reg_bi': 0.05, 'reg_bu': 0.1, 'reg_pu': 0.005, 'reg_qi': 0.005} : 0.8196675595575273\n",
      "68 left --- Params {'biased': False, 'reg_bi': 0.05, 'reg_bu': 0.1, 'reg_pu': 0.001, 'reg_qi': 0.05} : 0.35438433334824365\n",
      "67 left --- Params {'biased': False, 'reg_bi': 0.05, 'reg_bu': 0.1, 'reg_pu': 0.001, 'reg_qi': 0.01} : 0.8507167348188485\n",
      "66 left --- Params {'biased': False, 'reg_bi': 0.05, 'reg_bu': 0.1, 'reg_pu': 0.001, 'reg_qi': 0.005} : 0.889737175300722\n",
      "65 left --- Params {'biased': False, 'reg_bi': 0.05, 'reg_bu': 0.1, 'reg_pu': 0.0005, 'reg_qi': 0.05} : 0.40185214609081227\n",
      "64 left --- Params {'biased': False, 'reg_bi': 0.05, 'reg_bu': 0.1, 'reg_pu': 0.0005, 'reg_qi': 0.01} : 0.8676482785614974\n",
      "63 left --- Params {'biased': False, 'reg_bi': 0.05, 'reg_bu': 0.1, 'reg_pu': 0.0005, 'reg_qi': 0.005} : 0.8953871350830463\n",
      "62 left --- Params {'biased': False, 'reg_bi': 0.05, 'reg_bu': 0.05, 'reg_pu': 0.005, 'reg_qi': 0.05} : 0.16939139000709727\n",
      "61 left --- Params {'biased': False, 'reg_bi': 0.05, 'reg_bu': 0.05, 'reg_pu': 0.005, 'reg_qi': 0.01} : 0.6317038151980646\n",
      "60 left --- Params {'biased': False, 'reg_bi': 0.05, 'reg_bu': 0.05, 'reg_pu': 0.005, 'reg_qi': 0.005} : 0.8172377851668994\n",
      "59 left --- Params {'biased': False, 'reg_bi': 0.05, 'reg_bu': 0.05, 'reg_pu': 0.001, 'reg_qi': 0.05} : 0.3554979964123744\n",
      "58 left --- Params {'biased': False, 'reg_bi': 0.05, 'reg_bu': 0.05, 'reg_pu': 0.001, 'reg_qi': 0.01} : 0.8533988013882718\n",
      "57 left --- Params {'biased': False, 'reg_bi': 0.05, 'reg_bu': 0.05, 'reg_pu': 0.001, 'reg_qi': 0.005} : 0.890665457940918\n",
      "56 left --- Params {'biased': False, 'reg_bi': 0.05, 'reg_bu': 0.05, 'reg_pu': 0.0005, 'reg_qi': 0.05} : 0.40120481040708544\n",
      "55 left --- Params {'biased': False, 'reg_bi': 0.05, 'reg_bu': 0.05, 'reg_pu': 0.0005, 'reg_qi': 0.01} : 0.8646432131818413\n",
      "54 left --- Params {'biased': False, 'reg_bi': 0.05, 'reg_bu': 0.05, 'reg_pu': 0.0005, 'reg_qi': 0.005} : 0.8947069818413562\n",
      "53 left --- Params {'biased': False, 'reg_bi': 0.01, 'reg_bu': 0.5, 'reg_pu': 0.005, 'reg_qi': 0.05} : 0.16991929748014437\n",
      "52 left --- Params {'biased': False, 'reg_bi': 0.01, 'reg_bu': 0.5, 'reg_pu': 0.005, 'reg_qi': 0.01} : 0.6327402865168659\n",
      "51 left --- Params {'biased': False, 'reg_bi': 0.01, 'reg_bu': 0.5, 'reg_pu': 0.005, 'reg_qi': 0.005} : 0.8156627943652173\n",
      "50 left --- Params {'biased': False, 'reg_bi': 0.01, 'reg_bu': 0.5, 'reg_pu': 0.001, 'reg_qi': 0.05} : 0.35597397946064985\n",
      "49 left --- Params {'biased': False, 'reg_bi': 0.01, 'reg_bu': 0.5, 'reg_pu': 0.001, 'reg_qi': 0.01} : 0.8510963517147616\n",
      "48 left --- Params {'biased': False, 'reg_bi': 0.01, 'reg_bu': 0.5, 'reg_pu': 0.001, 'reg_qi': 0.005} : 0.8904524877634603\n",
      "47 left --- Params {'biased': False, 'reg_bi': 0.01, 'reg_bu': 0.5, 'reg_pu': 0.0005, 'reg_qi': 0.05} : 0.40200152955189977\n",
      "46 left --- Params {'biased': False, 'reg_bi': 0.01, 'reg_bu': 0.5, 'reg_pu': 0.0005, 'reg_qi': 0.01} : 0.867745919091932\n",
      "45 left --- Params {'biased': False, 'reg_bi': 0.01, 'reg_bu': 0.5, 'reg_pu': 0.0005, 'reg_qi': 0.005} : 0.893565557876862\n",
      "44 left --- Params {'biased': False, 'reg_bi': 0.01, 'reg_bu': 0.1, 'reg_pu': 0.005, 'reg_qi': 0.05} : 0.167929892879959\n",
      "43 left --- Params {'biased': False, 'reg_bi': 0.01, 'reg_bu': 0.1, 'reg_pu': 0.005, 'reg_qi': 0.01} : 0.6320328025151261\n",
      "42 left --- Params {'biased': False, 'reg_bi': 0.01, 'reg_bu': 0.1, 'reg_pu': 0.005, 'reg_qi': 0.005} : 0.8188056566037757\n",
      "41 left --- Params {'biased': False, 'reg_bi': 0.01, 'reg_bu': 0.1, 'reg_pu': 0.001, 'reg_qi': 0.05} : 0.3535821044709469\n",
      "40 left --- Params {'biased': False, 'reg_bi': 0.01, 'reg_bu': 0.1, 'reg_pu': 0.001, 'reg_qi': 0.01} : 0.8511755639790114\n",
      "39 left --- Params {'biased': False, 'reg_bi': 0.01, 'reg_bu': 0.1, 'reg_pu': 0.001, 'reg_qi': 0.005} : 0.890600534997843\n",
      "38 left --- Params {'biased': False, 'reg_bi': 0.01, 'reg_bu': 0.1, 'reg_pu': 0.0005, 'reg_qi': 0.05} : 0.40136320297750727\n",
      "37 left --- Params {'biased': False, 'reg_bi': 0.01, 'reg_bu': 0.1, 'reg_pu': 0.0005, 'reg_qi': 0.01} : 0.8676572673658965\n",
      "36 left --- Params {'biased': False, 'reg_bi': 0.01, 'reg_bu': 0.1, 'reg_pu': 0.0005, 'reg_qi': 0.005} : 0.8940515175619291\n",
      "35 left --- Params {'biased': False, 'reg_bi': 0.01, 'reg_bu': 0.05, 'reg_pu': 0.005, 'reg_qi': 0.05} : 0.1694777510336091\n",
      "34 left --- Params {'biased': False, 'reg_bi': 0.01, 'reg_bu': 0.05, 'reg_pu': 0.005, 'reg_qi': 0.01} : 0.6316884262577676\n",
      "33 left --- Params {'biased': False, 'reg_bi': 0.01, 'reg_bu': 0.05, 'reg_pu': 0.005, 'reg_qi': 0.005} : 0.819704917882756\n",
      "32 left --- Params {'biased': False, 'reg_bi': 0.01, 'reg_bu': 0.05, 'reg_pu': 0.001, 'reg_qi': 0.05} : 0.3523613055528869\n",
      "31 left --- Params {'biased': False, 'reg_bi': 0.01, 'reg_bu': 0.05, 'reg_pu': 0.001, 'reg_qi': 0.01} : 0.8527214981915415\n",
      "30 left --- Params {'biased': False, 'reg_bi': 0.01, 'reg_bu': 0.05, 'reg_pu': 0.001, 'reg_qi': 0.005} : 0.8920035604785506\n",
      "29 left --- Params {'biased': False, 'reg_bi': 0.01, 'reg_bu': 0.05, 'reg_pu': 0.0005, 'reg_qi': 0.05} : 0.4016188703927032\n",
      "28 left --- Params {'biased': False, 'reg_bi': 0.01, 'reg_bu': 0.05, 'reg_pu': 0.0005, 'reg_qi': 0.01} : 0.8681497709369864\n",
      "27 left --- Params {'biased': False, 'reg_bi': 0.01, 'reg_bu': 0.05, 'reg_pu': 0.0005, 'reg_qi': 0.005} : 0.8942677839087848\n",
      "26 left --- Params {'biased': False, 'reg_bi': 0.005, 'reg_bu': 0.5, 'reg_pu': 0.005, 'reg_qi': 0.05} : 0.16911866033037662\n",
      "25 left --- Params {'biased': False, 'reg_bi': 0.005, 'reg_bu': 0.5, 'reg_pu': 0.005, 'reg_qi': 0.01} : 0.6305457917116383\n",
      "24 left --- Params {'biased': False, 'reg_bi': 0.005, 'reg_bu': 0.5, 'reg_pu': 0.005, 'reg_qi': 0.005} : 0.8199226738864314\n",
      "23 left --- Params {'biased': False, 'reg_bi': 0.005, 'reg_bu': 0.5, 'reg_pu': 0.001, 'reg_qi': 0.05} : 0.3546305995454152\n",
      "22 left --- Params {'biased': False, 'reg_bi': 0.005, 'reg_bu': 0.5, 'reg_pu': 0.001, 'reg_qi': 0.01} : 0.8540701389277955\n",
      "21 left --- Params {'biased': False, 'reg_bi': 0.005, 'reg_bu': 0.5, 'reg_pu': 0.001, 'reg_qi': 0.005} : 0.8912454770143771\n",
      "20 left --- Params {'biased': False, 'reg_bi': 0.005, 'reg_bu': 0.5, 'reg_pu': 0.0005, 'reg_qi': 0.05} : 0.4003537988636744\n",
      "19 left --- Params {'biased': False, 'reg_bi': 0.005, 'reg_bu': 0.5, 'reg_pu': 0.0005, 'reg_qi': 0.01} : 0.8676852433290585\n",
      "18 left --- Params {'biased': False, 'reg_bi': 0.005, 'reg_bu': 0.5, 'reg_pu': 0.0005, 'reg_qi': 0.005} : 0.8943556690116957\n",
      "17 left --- Params {'biased': False, 'reg_bi': 0.005, 'reg_bu': 0.1, 'reg_pu': 0.005, 'reg_qi': 0.05} : 0.1696078180293097\n",
      "16 left --- Params {'biased': False, 'reg_bi': 0.005, 'reg_bu': 0.1, 'reg_pu': 0.005, 'reg_qi': 0.01} : 0.6345602504780504\n",
      "15 left --- Params {'biased': False, 'reg_bi': 0.005, 'reg_bu': 0.1, 'reg_pu': 0.005, 'reg_qi': 0.005} : 0.8176364681375619\n",
      "14 left --- Params {'biased': False, 'reg_bi': 0.005, 'reg_bu': 0.1, 'reg_pu': 0.001, 'reg_qi': 0.05} : 0.35379029992179784\n",
      "13 left --- Params {'biased': False, 'reg_bi': 0.005, 'reg_bu': 0.1, 'reg_pu': 0.001, 'reg_qi': 0.01} : 0.8507545126780773\n",
      "12 left --- Params {'biased': False, 'reg_bi': 0.005, 'reg_bu': 0.1, 'reg_pu': 0.001, 'reg_qi': 0.005} : 0.8903313256673758\n",
      "11 left --- Params {'biased': False, 'reg_bi': 0.005, 'reg_bu': 0.1, 'reg_pu': 0.0005, 'reg_qi': 0.05} : 0.40143264716456384\n",
      "10 left --- Params {'biased': False, 'reg_bi': 0.005, 'reg_bu': 0.1, 'reg_pu': 0.0005, 'reg_qi': 0.01} : 0.8667565734848708\n",
      "9 left --- Params {'biased': False, 'reg_bi': 0.005, 'reg_bu': 0.1, 'reg_pu': 0.0005, 'reg_qi': 0.005} : 0.8943982492507432\n",
      "8 left --- Params {'biased': False, 'reg_bi': 0.005, 'reg_bu': 0.05, 'reg_pu': 0.005, 'reg_qi': 0.05} : 0.16990165871138935\n",
      "7 left --- Params {'biased': False, 'reg_bi': 0.005, 'reg_bu': 0.05, 'reg_pu': 0.005, 'reg_qi': 0.01} : 0.6320026753973771\n",
      "6 left --- Params {'biased': False, 'reg_bi': 0.005, 'reg_bu': 0.05, 'reg_pu': 0.005, 'reg_qi': 0.005} : 0.8174788534430226\n",
      "5 left --- Params {'biased': False, 'reg_bi': 0.005, 'reg_bu': 0.05, 'reg_pu': 0.001, 'reg_qi': 0.05} : 0.3559931582375897\n",
      "4 left --- Params {'biased': False, 'reg_bi': 0.005, 'reg_bu': 0.05, 'reg_pu': 0.001, 'reg_qi': 0.01} : 0.8536448004925088\n",
      "3 left --- Params {'biased': False, 'reg_bi': 0.005, 'reg_bu': 0.05, 'reg_pu': 0.001, 'reg_qi': 0.005} : 0.8903944858430957\n",
      "2 left --- Params {'biased': False, 'reg_bi': 0.005, 'reg_bu': 0.05, 'reg_pu': 0.0005, 'reg_qi': 0.05} : 0.4009333739596906\n",
      "1 left --- Params {'biased': False, 'reg_bi': 0.005, 'reg_bu': 0.05, 'reg_pu': 0.0005, 'reg_qi': 0.01} : 0.8650330343361615\n",
      "0 left --- Params {'biased': False, 'reg_bi': 0.005, 'reg_bu': 0.05, 'reg_pu': 0.0005, 'reg_qi': 0.005} : 0.8951175445943473\n"
     ]
    },
    {
     "data": {
      "text/plain": [
       "({'biased': False,\n",
       "  'reg_bi': 0.01,\n",
       "  'reg_bu': 0.1,\n",
       "  'reg_pu': 0.005,\n",
       "  'reg_qi': 0.05},\n",
       " 0.167929892879959)"
      ]
     },
     "execution_count": 55,
     "metadata": {},
     "output_type": "execute_result"
    }
   ],
   "source": [
    "# ---------------------------- GRID SEARCH FOR NMF --------------------------- #\n",
    "params = {\n",
    "    \"biased\" : [False],\n",
    "    \"reg_bu\" : [0.05, 0.1, 0.5],\n",
    "    \"reg_bi\" : [0.005, 0.01, 0.05],\n",
    "    \"reg_qi\" : [0.005, 0.01, 0.05],\n",
    "    \"reg_pu\" : [0.0005, 0.001, 0.005],\n",
    "}\n",
    "\n",
    "best_nmf_models = MyCrossValidation(surprise.prediction_algorithms.matrix_factorization.NMF, params)()\n",
    "best_nmf_models[0]"
   ]
  },
  {
   "cell_type": "code",
   "execution_count": 56,
   "metadata": {},
   "outputs": [
    {
     "name": "stdout",
     "output_type": "stream",
     "text": [
      "242 left --- Params {'biased': False, 'init_std_dev': 5, 'lr_all': 0.001, 'reg_bi': 0.05, 'reg_bu': 0.5, 'reg_pu': 0.005, 'reg_qi': 0.05} : 0.90553626109996\n",
      "241 left --- Params {'biased': False, 'init_std_dev': 5, 'lr_all': 0.001, 'reg_bi': 0.05, 'reg_bu': 0.5, 'reg_pu': 0.005, 'reg_qi': 0.01} : 0.9055762371550319\n",
      "240 left --- Params {'biased': False, 'init_std_dev': 5, 'lr_all': 0.001, 'reg_bi': 0.05, 'reg_bu': 0.5, 'reg_pu': 0.005, 'reg_qi': 0.005} : 0.9045399352893427\n",
      "239 left --- Params {'biased': False, 'init_std_dev': 5, 'lr_all': 0.001, 'reg_bi': 0.05, 'reg_bu': 0.5, 'reg_pu': 0.001, 'reg_qi': 0.05} : 0.9050008062032734\n",
      "238 left --- Params {'biased': False, 'init_std_dev': 5, 'lr_all': 0.001, 'reg_bi': 0.05, 'reg_bu': 0.5, 'reg_pu': 0.001, 'reg_qi': 0.01} : 0.9041406931049152\n",
      "237 left --- Params {'biased': False, 'init_std_dev': 5, 'lr_all': 0.001, 'reg_bi': 0.05, 'reg_bu': 0.5, 'reg_pu': 0.001, 'reg_qi': 0.005} : 0.905466696711087\n",
      "236 left --- Params {'biased': False, 'init_std_dev': 5, 'lr_all': 0.001, 'reg_bi': 0.05, 'reg_bu': 0.5, 'reg_pu': 0.0005, 'reg_qi': 0.05} : 0.9046533353816232\n",
      "235 left --- Params {'biased': False, 'init_std_dev': 5, 'lr_all': 0.001, 'reg_bi': 0.05, 'reg_bu': 0.5, 'reg_pu': 0.0005, 'reg_qi': 0.01} : 0.9048388821416822\n",
      "234 left --- Params {'biased': False, 'init_std_dev': 5, 'lr_all': 0.001, 'reg_bi': 0.05, 'reg_bu': 0.5, 'reg_pu': 0.0005, 'reg_qi': 0.005} : 0.9051131592144982\n",
      "233 left --- Params {'biased': False, 'init_std_dev': 5, 'lr_all': 0.001, 'reg_bi': 0.05, 'reg_bu': 0.1, 'reg_pu': 0.005, 'reg_qi': 0.05} : 0.9056470442163553\n",
      "232 left --- Params {'biased': False, 'init_std_dev': 5, 'lr_all': 0.001, 'reg_bi': 0.05, 'reg_bu': 0.1, 'reg_pu': 0.005, 'reg_qi': 0.01} : 0.9050290756613716\n",
      "231 left --- Params {'biased': False, 'init_std_dev': 5, 'lr_all': 0.001, 'reg_bi': 0.05, 'reg_bu': 0.1, 'reg_pu': 0.005, 'reg_qi': 0.005} : 0.9056342061051396\n",
      "230 left --- Params {'biased': False, 'init_std_dev': 5, 'lr_all': 0.001, 'reg_bi': 0.05, 'reg_bu': 0.1, 'reg_pu': 0.001, 'reg_qi': 0.05} : 0.9047662549167328\n",
      "229 left --- Params {'biased': False, 'init_std_dev': 5, 'lr_all': 0.001, 'reg_bi': 0.05, 'reg_bu': 0.1, 'reg_pu': 0.001, 'reg_qi': 0.01} : 0.9058614199744662\n",
      "228 left --- Params {'biased': False, 'init_std_dev': 5, 'lr_all': 0.001, 'reg_bi': 0.05, 'reg_bu': 0.1, 'reg_pu': 0.001, 'reg_qi': 0.005} : 0.9051378004475968\n",
      "227 left --- Params {'biased': False, 'init_std_dev': 5, 'lr_all': 0.001, 'reg_bi': 0.05, 'reg_bu': 0.1, 'reg_pu': 0.0005, 'reg_qi': 0.05} : 0.9044400981411758\n",
      "226 left --- Params {'biased': False, 'init_std_dev': 5, 'lr_all': 0.001, 'reg_bi': 0.05, 'reg_bu': 0.1, 'reg_pu': 0.0005, 'reg_qi': 0.01} : 0.9054211115186802\n",
      "225 left --- Params {'biased': False, 'init_std_dev': 5, 'lr_all': 0.001, 'reg_bi': 0.05, 'reg_bu': 0.1, 'reg_pu': 0.0005, 'reg_qi': 0.005} : 0.9056500820362375\n",
      "224 left --- Params {'biased': False, 'init_std_dev': 5, 'lr_all': 0.001, 'reg_bi': 0.05, 'reg_bu': 0.05, 'reg_pu': 0.005, 'reg_qi': 0.05} : 0.9062344011931693\n",
      "223 left --- Params {'biased': False, 'init_std_dev': 5, 'lr_all': 0.001, 'reg_bi': 0.05, 'reg_bu': 0.05, 'reg_pu': 0.005, 'reg_qi': 0.01} : 0.9058528350130101\n",
      "222 left --- Params {'biased': False, 'init_std_dev': 5, 'lr_all': 0.001, 'reg_bi': 0.05, 'reg_bu': 0.05, 'reg_pu': 0.005, 'reg_qi': 0.005} : 0.9048353668368865\n",
      "221 left --- Params {'biased': False, 'init_std_dev': 5, 'lr_all': 0.001, 'reg_bi': 0.05, 'reg_bu': 0.05, 'reg_pu': 0.001, 'reg_qi': 0.05} : 0.9055938278223946\n",
      "220 left --- Params {'biased': False, 'init_std_dev': 5, 'lr_all': 0.001, 'reg_bi': 0.05, 'reg_bu': 0.05, 'reg_pu': 0.001, 'reg_qi': 0.01} : 0.9052370642264785\n",
      "219 left --- Params {'biased': False, 'init_std_dev': 5, 'lr_all': 0.001, 'reg_bi': 0.05, 'reg_bu': 0.05, 'reg_pu': 0.001, 'reg_qi': 0.005} : 0.9054235954923028\n",
      "218 left --- Params {'biased': False, 'init_std_dev': 5, 'lr_all': 0.001, 'reg_bi': 0.05, 'reg_bu': 0.05, 'reg_pu': 0.0005, 'reg_qi': 0.05} : 0.9043029856791426\n",
      "217 left --- Params {'biased': False, 'init_std_dev': 5, 'lr_all': 0.001, 'reg_bi': 0.05, 'reg_bu': 0.05, 'reg_pu': 0.0005, 'reg_qi': 0.01} : 0.9047419238289861\n",
      "216 left --- Params {'biased': False, 'init_std_dev': 5, 'lr_all': 0.001, 'reg_bi': 0.05, 'reg_bu': 0.05, 'reg_pu': 0.0005, 'reg_qi': 0.005} : 0.9054127792590718\n",
      "215 left --- Params {'biased': False, 'init_std_dev': 5, 'lr_all': 0.001, 'reg_bi': 0.01, 'reg_bu': 0.5, 'reg_pu': 0.005, 'reg_qi': 0.05} : 0.9058199043447828\n",
      "214 left --- Params {'biased': False, 'init_std_dev': 5, 'lr_all': 0.001, 'reg_bi': 0.01, 'reg_bu': 0.5, 'reg_pu': 0.005, 'reg_qi': 0.01} : 0.9051924080861922\n",
      "213 left --- Params {'biased': False, 'init_std_dev': 5, 'lr_all': 0.001, 'reg_bi': 0.01, 'reg_bu': 0.5, 'reg_pu': 0.005, 'reg_qi': 0.005} : 0.9046832311566769\n",
      "212 left --- Params {'biased': False, 'init_std_dev': 5, 'lr_all': 0.001, 'reg_bi': 0.01, 'reg_bu': 0.5, 'reg_pu': 0.001, 'reg_qi': 0.05} : 0.9049690283160663\n",
      "211 left --- Params {'biased': False, 'init_std_dev': 5, 'lr_all': 0.001, 'reg_bi': 0.01, 'reg_bu': 0.5, 'reg_pu': 0.001, 'reg_qi': 0.01} : 0.9044536254624841\n",
      "210 left --- Params {'biased': False, 'init_std_dev': 5, 'lr_all': 0.001, 'reg_bi': 0.01, 'reg_bu': 0.5, 'reg_pu': 0.001, 'reg_qi': 0.005} : 0.9056453072706243\n",
      "209 left --- Params {'biased': False, 'init_std_dev': 5, 'lr_all': 0.001, 'reg_bi': 0.01, 'reg_bu': 0.5, 'reg_pu': 0.0005, 'reg_qi': 0.05} : 0.9054173144137896\n",
      "208 left --- Params {'biased': False, 'init_std_dev': 5, 'lr_all': 0.001, 'reg_bi': 0.01, 'reg_bu': 0.5, 'reg_pu': 0.0005, 'reg_qi': 0.01} : 0.9048907427319581\n",
      "207 left --- Params {'biased': False, 'init_std_dev': 5, 'lr_all': 0.001, 'reg_bi': 0.01, 'reg_bu': 0.5, 'reg_pu': 0.0005, 'reg_qi': 0.005} : 0.9058232483167336\n",
      "206 left --- Params {'biased': False, 'init_std_dev': 5, 'lr_all': 0.001, 'reg_bi': 0.01, 'reg_bu': 0.1, 'reg_pu': 0.005, 'reg_qi': 0.05} : 0.9048815177623833\n",
      "205 left --- Params {'biased': False, 'init_std_dev': 5, 'lr_all': 0.001, 'reg_bi': 0.01, 'reg_bu': 0.1, 'reg_pu': 0.005, 'reg_qi': 0.01} : 0.9053526018356862\n",
      "204 left --- Params {'biased': False, 'init_std_dev': 5, 'lr_all': 0.001, 'reg_bi': 0.01, 'reg_bu': 0.1, 'reg_pu': 0.005, 'reg_qi': 0.005} : 0.9055028411297198\n",
      "203 left --- Params {'biased': False, 'init_std_dev': 5, 'lr_all': 0.001, 'reg_bi': 0.01, 'reg_bu': 0.1, 'reg_pu': 0.001, 'reg_qi': 0.05} : 0.9054602335114731\n",
      "202 left --- Params {'biased': False, 'init_std_dev': 5, 'lr_all': 0.001, 'reg_bi': 0.01, 'reg_bu': 0.1, 'reg_pu': 0.001, 'reg_qi': 0.01} : 0.9052864539240074\n",
      "201 left --- Params {'biased': False, 'init_std_dev': 5, 'lr_all': 0.001, 'reg_bi': 0.01, 'reg_bu': 0.1, 'reg_pu': 0.001, 'reg_qi': 0.005} : 0.9047504025213062\n",
      "200 left --- Params {'biased': False, 'init_std_dev': 5, 'lr_all': 0.001, 'reg_bi': 0.01, 'reg_bu': 0.1, 'reg_pu': 0.0005, 'reg_qi': 0.05} : 0.9052261113001744\n",
      "199 left --- Params {'biased': False, 'init_std_dev': 5, 'lr_all': 0.001, 'reg_bi': 0.01, 'reg_bu': 0.1, 'reg_pu': 0.0005, 'reg_qi': 0.01} : 0.9051585734144081\n",
      "198 left --- Params {'biased': False, 'init_std_dev': 5, 'lr_all': 0.001, 'reg_bi': 0.01, 'reg_bu': 0.1, 'reg_pu': 0.0005, 'reg_qi': 0.005} : 0.9052681459076057\n",
      "197 left --- Params {'biased': False, 'init_std_dev': 5, 'lr_all': 0.001, 'reg_bi': 0.01, 'reg_bu': 0.05, 'reg_pu': 0.005, 'reg_qi': 0.05} : 0.9047432708694009\n",
      "196 left --- Params {'biased': False, 'init_std_dev': 5, 'lr_all': 0.001, 'reg_bi': 0.01, 'reg_bu': 0.05, 'reg_pu': 0.005, 'reg_qi': 0.01} : 0.9049381829802763\n",
      "195 left --- Params {'biased': False, 'init_std_dev': 5, 'lr_all': 0.001, 'reg_bi': 0.01, 'reg_bu': 0.05, 'reg_pu': 0.005, 'reg_qi': 0.005} : 0.9052172578851068\n",
      "194 left --- Params {'biased': False, 'init_std_dev': 5, 'lr_all': 0.001, 'reg_bi': 0.01, 'reg_bu': 0.05, 'reg_pu': 0.001, 'reg_qi': 0.05} : 0.904893299881215\n",
      "193 left --- Params {'biased': False, 'init_std_dev': 5, 'lr_all': 0.001, 'reg_bi': 0.01, 'reg_bu': 0.05, 'reg_pu': 0.001, 'reg_qi': 0.01} : 0.9054201173830346\n",
      "192 left --- Params {'biased': False, 'init_std_dev': 5, 'lr_all': 0.001, 'reg_bi': 0.01, 'reg_bu': 0.05, 'reg_pu': 0.001, 'reg_qi': 0.005} : 0.9051729662004812\n",
      "191 left --- Params {'biased': False, 'init_std_dev': 5, 'lr_all': 0.001, 'reg_bi': 0.01, 'reg_bu': 0.05, 'reg_pu': 0.0005, 'reg_qi': 0.05} : 0.904052860841321\n",
      "190 left --- Params {'biased': False, 'init_std_dev': 5, 'lr_all': 0.001, 'reg_bi': 0.01, 'reg_bu': 0.05, 'reg_pu': 0.0005, 'reg_qi': 0.01} : 0.904027999277687\n",
      "189 left --- Params {'biased': False, 'init_std_dev': 5, 'lr_all': 0.001, 'reg_bi': 0.01, 'reg_bu': 0.05, 'reg_pu': 0.0005, 'reg_qi': 0.005} : 0.9047507005804126\n",
      "188 left --- Params {'biased': False, 'init_std_dev': 5, 'lr_all': 0.001, 'reg_bi': 0.005, 'reg_bu': 0.5, 'reg_pu': 0.005, 'reg_qi': 0.05} : 0.9050793669942214\n",
      "187 left --- Params {'biased': False, 'init_std_dev': 5, 'lr_all': 0.001, 'reg_bi': 0.005, 'reg_bu': 0.5, 'reg_pu': 0.005, 'reg_qi': 0.01} : 0.9048229043662291\n",
      "186 left --- Params {'biased': False, 'init_std_dev': 5, 'lr_all': 0.001, 'reg_bi': 0.005, 'reg_bu': 0.5, 'reg_pu': 0.005, 'reg_qi': 0.005} : 0.9053750372539934\n",
      "185 left --- Params {'biased': False, 'init_std_dev': 5, 'lr_all': 0.001, 'reg_bi': 0.005, 'reg_bu': 0.5, 'reg_pu': 0.001, 'reg_qi': 0.05} : 0.9054084740443127\n",
      "184 left --- Params {'biased': False, 'init_std_dev': 5, 'lr_all': 0.001, 'reg_bi': 0.005, 'reg_bu': 0.5, 'reg_pu': 0.001, 'reg_qi': 0.01} : 0.9042053301590932\n",
      "183 left --- Params {'biased': False, 'init_std_dev': 5, 'lr_all': 0.001, 'reg_bi': 0.005, 'reg_bu': 0.5, 'reg_pu': 0.001, 'reg_qi': 0.005} : 0.9055116965816491\n",
      "182 left --- Params {'biased': False, 'init_std_dev': 5, 'lr_all': 0.001, 'reg_bi': 0.005, 'reg_bu': 0.5, 'reg_pu': 0.0005, 'reg_qi': 0.05} : 0.9051926208439195\n",
      "181 left --- Params {'biased': False, 'init_std_dev': 5, 'lr_all': 0.001, 'reg_bi': 0.005, 'reg_bu': 0.5, 'reg_pu': 0.0005, 'reg_qi': 0.01} : 0.9049531208090974\n",
      "180 left --- Params {'biased': False, 'init_std_dev': 5, 'lr_all': 0.001, 'reg_bi': 0.005, 'reg_bu': 0.5, 'reg_pu': 0.0005, 'reg_qi': 0.005} : 0.9050946089630898\n",
      "179 left --- Params {'biased': False, 'init_std_dev': 5, 'lr_all': 0.001, 'reg_bi': 0.005, 'reg_bu': 0.1, 'reg_pu': 0.005, 'reg_qi': 0.05} : 0.9050112071550712\n",
      "178 left --- Params {'biased': False, 'init_std_dev': 5, 'lr_all': 0.001, 'reg_bi': 0.005, 'reg_bu': 0.1, 'reg_pu': 0.005, 'reg_qi': 0.01} : 0.9054480826828712\n",
      "177 left --- Params {'biased': False, 'init_std_dev': 5, 'lr_all': 0.001, 'reg_bi': 0.005, 'reg_bu': 0.1, 'reg_pu': 0.005, 'reg_qi': 0.005} : 0.9051774873015633\n",
      "176 left --- Params {'biased': False, 'init_std_dev': 5, 'lr_all': 0.001, 'reg_bi': 0.005, 'reg_bu': 0.1, 'reg_pu': 0.001, 'reg_qi': 0.05} : 0.9050613285684688\n",
      "175 left --- Params {'biased': False, 'init_std_dev': 5, 'lr_all': 0.001, 'reg_bi': 0.005, 'reg_bu': 0.1, 'reg_pu': 0.001, 'reg_qi': 0.01} : 0.9045867359177067\n",
      "174 left --- Params {'biased': False, 'init_std_dev': 5, 'lr_all': 0.001, 'reg_bi': 0.005, 'reg_bu': 0.1, 'reg_pu': 0.001, 'reg_qi': 0.005} : 0.9049068063112661\n",
      "173 left --- Params {'biased': False, 'init_std_dev': 5, 'lr_all': 0.001, 'reg_bi': 0.005, 'reg_bu': 0.1, 'reg_pu': 0.0005, 'reg_qi': 0.05} : 0.9052873721832174\n",
      "172 left --- Params {'biased': False, 'init_std_dev': 5, 'lr_all': 0.001, 'reg_bi': 0.005, 'reg_bu': 0.1, 'reg_pu': 0.0005, 'reg_qi': 0.01} : 0.9059047912695555\n",
      "171 left --- Params {'biased': False, 'init_std_dev': 5, 'lr_all': 0.001, 'reg_bi': 0.005, 'reg_bu': 0.1, 'reg_pu': 0.0005, 'reg_qi': 0.005} : 0.9055225866150405\n",
      "170 left --- Params {'biased': False, 'init_std_dev': 5, 'lr_all': 0.001, 'reg_bi': 0.005, 'reg_bu': 0.05, 'reg_pu': 0.005, 'reg_qi': 0.05} : 0.9053330354132476\n",
      "169 left --- Params {'biased': False, 'init_std_dev': 5, 'lr_all': 0.001, 'reg_bi': 0.005, 'reg_bu': 0.05, 'reg_pu': 0.005, 'reg_qi': 0.01} : 0.9055187378164176\n",
      "168 left --- Params {'biased': False, 'init_std_dev': 5, 'lr_all': 0.001, 'reg_bi': 0.005, 'reg_bu': 0.05, 'reg_pu': 0.005, 'reg_qi': 0.005} : 0.9049984474153215\n",
      "167 left --- Params {'biased': False, 'init_std_dev': 5, 'lr_all': 0.001, 'reg_bi': 0.005, 'reg_bu': 0.05, 'reg_pu': 0.001, 'reg_qi': 0.05} : 0.904682185185824\n",
      "166 left --- Params {'biased': False, 'init_std_dev': 5, 'lr_all': 0.001, 'reg_bi': 0.005, 'reg_bu': 0.05, 'reg_pu': 0.001, 'reg_qi': 0.01} : 0.9053347283580054\n",
      "165 left --- Params {'biased': False, 'init_std_dev': 5, 'lr_all': 0.001, 'reg_bi': 0.005, 'reg_bu': 0.05, 'reg_pu': 0.001, 'reg_qi': 0.005} : 0.9047119318833411\n",
      "164 left --- Params {'biased': False, 'init_std_dev': 5, 'lr_all': 0.001, 'reg_bi': 0.005, 'reg_bu': 0.05, 'reg_pu': 0.0005, 'reg_qi': 0.05} : 0.90481955753251\n",
      "163 left --- Params {'biased': False, 'init_std_dev': 5, 'lr_all': 0.001, 'reg_bi': 0.005, 'reg_bu': 0.05, 'reg_pu': 0.0005, 'reg_qi': 0.01} : 0.9044544981017064\n",
      "162 left --- Params {'biased': False, 'init_std_dev': 5, 'lr_all': 0.001, 'reg_bi': 0.005, 'reg_bu': 0.05, 'reg_pu': 0.0005, 'reg_qi': 0.005} : 0.9048027651588662\n",
      "161 left --- Params {'biased': False, 'init_std_dev': 1, 'lr_all': 0.001, 'reg_bi': 0.05, 'reg_bu': 0.5, 'reg_pu': 0.005, 'reg_qi': 0.05} : 0.10776593436641053\n",
      "160 left --- Params {'biased': False, 'init_std_dev': 1, 'lr_all': 0.001, 'reg_bi': 0.05, 'reg_bu': 0.5, 'reg_pu': 0.005, 'reg_qi': 0.01} : 0.10643044742078041\n",
      "159 left --- Params {'biased': False, 'init_std_dev': 1, 'lr_all': 0.001, 'reg_bi': 0.05, 'reg_bu': 0.5, 'reg_pu': 0.005, 'reg_qi': 0.005} : 0.10751378446203713\n",
      "158 left --- Params {'biased': False, 'init_std_dev': 1, 'lr_all': 0.001, 'reg_bi': 0.05, 'reg_bu': 0.5, 'reg_pu': 0.001, 'reg_qi': 0.05} : 0.10682348819536196\n",
      "157 left --- Params {'biased': False, 'init_std_dev': 1, 'lr_all': 0.001, 'reg_bi': 0.05, 'reg_bu': 0.5, 'reg_pu': 0.001, 'reg_qi': 0.01} : 0.10753633781640659\n",
      "156 left --- Params {'biased': False, 'init_std_dev': 1, 'lr_all': 0.001, 'reg_bi': 0.05, 'reg_bu': 0.5, 'reg_pu': 0.001, 'reg_qi': 0.005} : 0.10702677902567027\n",
      "155 left --- Params {'biased': False, 'init_std_dev': 1, 'lr_all': 0.001, 'reg_bi': 0.05, 'reg_bu': 0.5, 'reg_pu': 0.0005, 'reg_qi': 0.05} : 0.10919808266959159\n",
      "154 left --- Params {'biased': False, 'init_std_dev': 1, 'lr_all': 0.001, 'reg_bi': 0.05, 'reg_bu': 0.5, 'reg_pu': 0.0005, 'reg_qi': 0.01} : 0.10791414209359707\n",
      "153 left --- Params {'biased': False, 'init_std_dev': 1, 'lr_all': 0.001, 'reg_bi': 0.05, 'reg_bu': 0.5, 'reg_pu': 0.0005, 'reg_qi': 0.005} : 0.10421133613180321\n",
      "152 left --- Params {'biased': False, 'init_std_dev': 1, 'lr_all': 0.001, 'reg_bi': 0.05, 'reg_bu': 0.1, 'reg_pu': 0.005, 'reg_qi': 0.05} : 0.10547656883768565\n",
      "151 left --- Params {'biased': False, 'init_std_dev': 1, 'lr_all': 0.001, 'reg_bi': 0.05, 'reg_bu': 0.1, 'reg_pu': 0.005, 'reg_qi': 0.01} : 0.10736755879712076\n",
      "150 left --- Params {'biased': False, 'init_std_dev': 1, 'lr_all': 0.001, 'reg_bi': 0.05, 'reg_bu': 0.1, 'reg_pu': 0.005, 'reg_qi': 0.005} : 0.10671154604195258\n",
      "149 left --- Params {'biased': False, 'init_std_dev': 1, 'lr_all': 0.001, 'reg_bi': 0.05, 'reg_bu': 0.1, 'reg_pu': 0.001, 'reg_qi': 0.05} : 0.10604651054205824\n",
      "148 left --- Params {'biased': False, 'init_std_dev': 1, 'lr_all': 0.001, 'reg_bi': 0.05, 'reg_bu': 0.1, 'reg_pu': 0.001, 'reg_qi': 0.01} : 0.10395883785544445\n",
      "147 left --- Params {'biased': False, 'init_std_dev': 1, 'lr_all': 0.001, 'reg_bi': 0.05, 'reg_bu': 0.1, 'reg_pu': 0.001, 'reg_qi': 0.005} : 0.10562519918190644\n",
      "146 left --- Params {'biased': False, 'init_std_dev': 1, 'lr_all': 0.001, 'reg_bi': 0.05, 'reg_bu': 0.1, 'reg_pu': 0.0005, 'reg_qi': 0.05} : 0.10696541496606686\n",
      "145 left --- Params {'biased': False, 'init_std_dev': 1, 'lr_all': 0.001, 'reg_bi': 0.05, 'reg_bu': 0.1, 'reg_pu': 0.0005, 'reg_qi': 0.01} : 0.10668667028959208\n",
      "144 left --- Params {'biased': False, 'init_std_dev': 1, 'lr_all': 0.001, 'reg_bi': 0.05, 'reg_bu': 0.1, 'reg_pu': 0.0005, 'reg_qi': 0.005} : 0.10801454841834221\n",
      "143 left --- Params {'biased': False, 'init_std_dev': 1, 'lr_all': 0.001, 'reg_bi': 0.05, 'reg_bu': 0.05, 'reg_pu': 0.005, 'reg_qi': 0.05} : 0.1057004237502766\n",
      "142 left --- Params {'biased': False, 'init_std_dev': 1, 'lr_all': 0.001, 'reg_bi': 0.05, 'reg_bu': 0.05, 'reg_pu': 0.005, 'reg_qi': 0.01} : 0.11099367349853206\n",
      "141 left --- Params {'biased': False, 'init_std_dev': 1, 'lr_all': 0.001, 'reg_bi': 0.05, 'reg_bu': 0.05, 'reg_pu': 0.005, 'reg_qi': 0.005} : 0.1040487613911523\n",
      "140 left --- Params {'biased': False, 'init_std_dev': 1, 'lr_all': 0.001, 'reg_bi': 0.05, 'reg_bu': 0.05, 'reg_pu': 0.001, 'reg_qi': 0.05} : 0.10830566436203388\n",
      "139 left --- Params {'biased': False, 'init_std_dev': 1, 'lr_all': 0.001, 'reg_bi': 0.05, 'reg_bu': 0.05, 'reg_pu': 0.001, 'reg_qi': 0.01} : 0.10720267600022526\n",
      "138 left --- Params {'biased': False, 'init_std_dev': 1, 'lr_all': 0.001, 'reg_bi': 0.05, 'reg_bu': 0.05, 'reg_pu': 0.001, 'reg_qi': 0.005} : 0.1094700320278263\n",
      "137 left --- Params {'biased': False, 'init_std_dev': 1, 'lr_all': 0.001, 'reg_bi': 0.05, 'reg_bu': 0.05, 'reg_pu': 0.0005, 'reg_qi': 0.05} : 0.10797473446212973\n",
      "136 left --- Params {'biased': False, 'init_std_dev': 1, 'lr_all': 0.001, 'reg_bi': 0.05, 'reg_bu': 0.05, 'reg_pu': 0.0005, 'reg_qi': 0.01} : 0.10368955092338579\n",
      "135 left --- Params {'biased': False, 'init_std_dev': 1, 'lr_all': 0.001, 'reg_bi': 0.05, 'reg_bu': 0.05, 'reg_pu': 0.0005, 'reg_qi': 0.005} : 0.10455273766846544\n",
      "134 left --- Params {'biased': False, 'init_std_dev': 1, 'lr_all': 0.001, 'reg_bi': 0.01, 'reg_bu': 0.5, 'reg_pu': 0.005, 'reg_qi': 0.05} : 0.10630010177710107\n",
      "133 left --- Params {'biased': False, 'init_std_dev': 1, 'lr_all': 0.001, 'reg_bi': 0.01, 'reg_bu': 0.5, 'reg_pu': 0.005, 'reg_qi': 0.01} : 0.10650597892602562\n",
      "132 left --- Params {'biased': False, 'init_std_dev': 1, 'lr_all': 0.001, 'reg_bi': 0.01, 'reg_bu': 0.5, 'reg_pu': 0.005, 'reg_qi': 0.005} : 0.10362723224285056\n",
      "131 left --- Params {'biased': False, 'init_std_dev': 1, 'lr_all': 0.001, 'reg_bi': 0.01, 'reg_bu': 0.5, 'reg_pu': 0.001, 'reg_qi': 0.05} : 0.108226351608492\n",
      "130 left --- Params {'biased': False, 'init_std_dev': 1, 'lr_all': 0.001, 'reg_bi': 0.01, 'reg_bu': 0.5, 'reg_pu': 0.001, 'reg_qi': 0.01} : 0.10707333523714113\n",
      "129 left --- Params {'biased': False, 'init_std_dev': 1, 'lr_all': 0.001, 'reg_bi': 0.01, 'reg_bu': 0.5, 'reg_pu': 0.001, 'reg_qi': 0.005} : 0.10779229866959862\n",
      "128 left --- Params {'biased': False, 'init_std_dev': 1, 'lr_all': 0.001, 'reg_bi': 0.01, 'reg_bu': 0.5, 'reg_pu': 0.0005, 'reg_qi': 0.05} : 0.10687304587438146\n",
      "127 left --- Params {'biased': False, 'init_std_dev': 1, 'lr_all': 0.001, 'reg_bi': 0.01, 'reg_bu': 0.5, 'reg_pu': 0.0005, 'reg_qi': 0.01} : 0.10339636520134102\n",
      "126 left --- Params {'biased': False, 'init_std_dev': 1, 'lr_all': 0.001, 'reg_bi': 0.01, 'reg_bu': 0.5, 'reg_pu': 0.0005, 'reg_qi': 0.005} : 0.10982799883110075\n",
      "125 left --- Params {'biased': False, 'init_std_dev': 1, 'lr_all': 0.001, 'reg_bi': 0.01, 'reg_bu': 0.1, 'reg_pu': 0.005, 'reg_qi': 0.05} : 0.10561417603959354\n",
      "124 left --- Params {'biased': False, 'init_std_dev': 1, 'lr_all': 0.001, 'reg_bi': 0.01, 'reg_bu': 0.1, 'reg_pu': 0.005, 'reg_qi': 0.01} : 0.10889971206837402\n",
      "123 left --- Params {'biased': False, 'init_std_dev': 1, 'lr_all': 0.001, 'reg_bi': 0.01, 'reg_bu': 0.1, 'reg_pu': 0.005, 'reg_qi': 0.005} : 0.10343286492102703\n",
      "122 left --- Params {'biased': False, 'init_std_dev': 1, 'lr_all': 0.001, 'reg_bi': 0.01, 'reg_bu': 0.1, 'reg_pu': 0.001, 'reg_qi': 0.05} : 0.10757127773172885\n",
      "121 left --- Params {'biased': False, 'init_std_dev': 1, 'lr_all': 0.001, 'reg_bi': 0.01, 'reg_bu': 0.1, 'reg_pu': 0.001, 'reg_qi': 0.01} : 0.10631602582360519\n",
      "120 left --- Params {'biased': False, 'init_std_dev': 1, 'lr_all': 0.001, 'reg_bi': 0.01, 'reg_bu': 0.1, 'reg_pu': 0.001, 'reg_qi': 0.005} : 0.10217656988077073\n",
      "119 left --- Params {'biased': False, 'init_std_dev': 1, 'lr_all': 0.001, 'reg_bi': 0.01, 'reg_bu': 0.1, 'reg_pu': 0.0005, 'reg_qi': 0.05} : 0.10619104558553721\n",
      "118 left --- Params {'biased': False, 'init_std_dev': 1, 'lr_all': 0.001, 'reg_bi': 0.01, 'reg_bu': 0.1, 'reg_pu': 0.0005, 'reg_qi': 0.01} : 0.10804450709882676\n",
      "117 left --- Params {'biased': False, 'init_std_dev': 1, 'lr_all': 0.001, 'reg_bi': 0.01, 'reg_bu': 0.1, 'reg_pu': 0.0005, 'reg_qi': 0.005} : 0.10686193849341173\n",
      "116 left --- Params {'biased': False, 'init_std_dev': 1, 'lr_all': 0.001, 'reg_bi': 0.01, 'reg_bu': 0.05, 'reg_pu': 0.005, 'reg_qi': 0.05} : 0.10580511736381289\n",
      "115 left --- Params {'biased': False, 'init_std_dev': 1, 'lr_all': 0.001, 'reg_bi': 0.01, 'reg_bu': 0.05, 'reg_pu': 0.005, 'reg_qi': 0.01} : 0.10830897635521375\n",
      "114 left --- Params {'biased': False, 'init_std_dev': 1, 'lr_all': 0.001, 'reg_bi': 0.01, 'reg_bu': 0.05, 'reg_pu': 0.005, 'reg_qi': 0.005} : 0.10586131438822942\n",
      "113 left --- Params {'biased': False, 'init_std_dev': 1, 'lr_all': 0.001, 'reg_bi': 0.01, 'reg_bu': 0.05, 'reg_pu': 0.001, 'reg_qi': 0.05} : 0.10842833478941223\n",
      "112 left --- Params {'biased': False, 'init_std_dev': 1, 'lr_all': 0.001, 'reg_bi': 0.01, 'reg_bu': 0.05, 'reg_pu': 0.001, 'reg_qi': 0.01} : 0.10470207141698608\n",
      "111 left --- Params {'biased': False, 'init_std_dev': 1, 'lr_all': 0.001, 'reg_bi': 0.01, 'reg_bu': 0.05, 'reg_pu': 0.001, 'reg_qi': 0.005} : 0.11036693121985801\n",
      "110 left --- Params {'biased': False, 'init_std_dev': 1, 'lr_all': 0.001, 'reg_bi': 0.01, 'reg_bu': 0.05, 'reg_pu': 0.0005, 'reg_qi': 0.05} : 0.10602115951890119\n",
      "109 left --- Params {'biased': False, 'init_std_dev': 1, 'lr_all': 0.001, 'reg_bi': 0.01, 'reg_bu': 0.05, 'reg_pu': 0.0005, 'reg_qi': 0.01} : 0.1094808647567955\n",
      "108 left --- Params {'biased': False, 'init_std_dev': 1, 'lr_all': 0.001, 'reg_bi': 0.01, 'reg_bu': 0.05, 'reg_pu': 0.0005, 'reg_qi': 0.005} : 0.10764598511219152\n",
      "107 left --- Params {'biased': False, 'init_std_dev': 1, 'lr_all': 0.001, 'reg_bi': 0.005, 'reg_bu': 0.5, 'reg_pu': 0.005, 'reg_qi': 0.05} : 0.10390497979168747\n",
      "106 left --- Params {'biased': False, 'init_std_dev': 1, 'lr_all': 0.001, 'reg_bi': 0.005, 'reg_bu': 0.5, 'reg_pu': 0.005, 'reg_qi': 0.01} : 0.10617063747555303\n",
      "105 left --- Params {'biased': False, 'init_std_dev': 1, 'lr_all': 0.001, 'reg_bi': 0.005, 'reg_bu': 0.5, 'reg_pu': 0.005, 'reg_qi': 0.005} : 0.1073307277824781\n",
      "104 left --- Params {'biased': False, 'init_std_dev': 1, 'lr_all': 0.001, 'reg_bi': 0.005, 'reg_bu': 0.5, 'reg_pu': 0.001, 'reg_qi': 0.05} : 0.10685109826379226\n",
      "103 left --- Params {'biased': False, 'init_std_dev': 1, 'lr_all': 0.001, 'reg_bi': 0.005, 'reg_bu': 0.5, 'reg_pu': 0.001, 'reg_qi': 0.01} : 0.10743762439530012\n",
      "102 left --- Params {'biased': False, 'init_std_dev': 1, 'lr_all': 0.001, 'reg_bi': 0.005, 'reg_bu': 0.5, 'reg_pu': 0.001, 'reg_qi': 0.005} : 0.10341373666357338\n",
      "101 left --- Params {'biased': False, 'init_std_dev': 1, 'lr_all': 0.001, 'reg_bi': 0.005, 'reg_bu': 0.5, 'reg_pu': 0.0005, 'reg_qi': 0.05} : 0.1081466779459694\n",
      "100 left --- Params {'biased': False, 'init_std_dev': 1, 'lr_all': 0.001, 'reg_bi': 0.005, 'reg_bu': 0.5, 'reg_pu': 0.0005, 'reg_qi': 0.01} : 0.10506861145204206\n",
      "99 left --- Params {'biased': False, 'init_std_dev': 1, 'lr_all': 0.001, 'reg_bi': 0.005, 'reg_bu': 0.5, 'reg_pu': 0.0005, 'reg_qi': 0.005} : 0.10570356974480742\n",
      "98 left --- Params {'biased': False, 'init_std_dev': 1, 'lr_all': 0.001, 'reg_bi': 0.005, 'reg_bu': 0.1, 'reg_pu': 0.005, 'reg_qi': 0.05} : 0.10943315684035697\n",
      "97 left --- Params {'biased': False, 'init_std_dev': 1, 'lr_all': 0.001, 'reg_bi': 0.005, 'reg_bu': 0.1, 'reg_pu': 0.005, 'reg_qi': 0.01} : 0.10555835889267146\n",
      "96 left --- Params {'biased': False, 'init_std_dev': 1, 'lr_all': 0.001, 'reg_bi': 0.005, 'reg_bu': 0.1, 'reg_pu': 0.005, 'reg_qi': 0.005} : 0.1097046061935782\n",
      "95 left --- Params {'biased': False, 'init_std_dev': 1, 'lr_all': 0.001, 'reg_bi': 0.005, 'reg_bu': 0.1, 'reg_pu': 0.001, 'reg_qi': 0.05} : 0.10908731928449505\n",
      "94 left --- Params {'biased': False, 'init_std_dev': 1, 'lr_all': 0.001, 'reg_bi': 0.005, 'reg_bu': 0.1, 'reg_pu': 0.001, 'reg_qi': 0.01} : 0.10850288155702792\n",
      "93 left --- Params {'biased': False, 'init_std_dev': 1, 'lr_all': 0.001, 'reg_bi': 0.005, 'reg_bu': 0.1, 'reg_pu': 0.001, 'reg_qi': 0.005} : 0.10862969421085826\n",
      "92 left --- Params {'biased': False, 'init_std_dev': 1, 'lr_all': 0.001, 'reg_bi': 0.005, 'reg_bu': 0.1, 'reg_pu': 0.0005, 'reg_qi': 0.05} : 0.11113480163204638\n",
      "91 left --- Params {'biased': False, 'init_std_dev': 1, 'lr_all': 0.001, 'reg_bi': 0.005, 'reg_bu': 0.1, 'reg_pu': 0.0005, 'reg_qi': 0.01} : 0.11012935963749781\n",
      "90 left --- Params {'biased': False, 'init_std_dev': 1, 'lr_all': 0.001, 'reg_bi': 0.005, 'reg_bu': 0.1, 'reg_pu': 0.0005, 'reg_qi': 0.005} : 0.10948983852985744\n",
      "89 left --- Params {'biased': False, 'init_std_dev': 1, 'lr_all': 0.001, 'reg_bi': 0.005, 'reg_bu': 0.05, 'reg_pu': 0.005, 'reg_qi': 0.05} : 0.10661888016268121\n",
      "88 left --- Params {'biased': False, 'init_std_dev': 1, 'lr_all': 0.001, 'reg_bi': 0.005, 'reg_bu': 0.05, 'reg_pu': 0.005, 'reg_qi': 0.01} : 0.10537783779688038\n",
      "87 left --- Params {'biased': False, 'init_std_dev': 1, 'lr_all': 0.001, 'reg_bi': 0.005, 'reg_bu': 0.05, 'reg_pu': 0.005, 'reg_qi': 0.005} : 0.10351268323550296\n",
      "86 left --- Params {'biased': False, 'init_std_dev': 1, 'lr_all': 0.001, 'reg_bi': 0.005, 'reg_bu': 0.05, 'reg_pu': 0.001, 'reg_qi': 0.05} : 0.1080163010253524\n",
      "85 left --- Params {'biased': False, 'init_std_dev': 1, 'lr_all': 0.001, 'reg_bi': 0.005, 'reg_bu': 0.05, 'reg_pu': 0.001, 'reg_qi': 0.01} : 0.11010229717225914\n",
      "84 left --- Params {'biased': False, 'init_std_dev': 1, 'lr_all': 0.001, 'reg_bi': 0.005, 'reg_bu': 0.05, 'reg_pu': 0.001, 'reg_qi': 0.005} : 0.10672171796616049\n",
      "83 left --- Params {'biased': False, 'init_std_dev': 1, 'lr_all': 0.001, 'reg_bi': 0.005, 'reg_bu': 0.05, 'reg_pu': 0.0005, 'reg_qi': 0.05} : 0.10526345446868428\n",
      "82 left --- Params {'biased': False, 'init_std_dev': 1, 'lr_all': 0.001, 'reg_bi': 0.005, 'reg_bu': 0.05, 'reg_pu': 0.0005, 'reg_qi': 0.01} : 0.10707619648969455\n",
      "81 left --- Params {'biased': False, 'init_std_dev': 1, 'lr_all': 0.001, 'reg_bi': 0.005, 'reg_bu': 0.05, 'reg_pu': 0.0005, 'reg_qi': 0.005} : 0.10502517109293454\n",
      "80 left --- Params {'biased': False, 'init_std_dev': 0.5, 'lr_all': 0.001, 'reg_bi': 0.05, 'reg_bu': 0.5, 'reg_pu': 0.005, 'reg_qi': 0.05} : 0.4457024076792373\n",
      "79 left --- Params {'biased': False, 'init_std_dev': 0.5, 'lr_all': 0.001, 'reg_bi': 0.05, 'reg_bu': 0.5, 'reg_pu': 0.005, 'reg_qi': 0.01} : 0.44860421038098575\n",
      "78 left --- Params {'biased': False, 'init_std_dev': 0.5, 'lr_all': 0.001, 'reg_bi': 0.05, 'reg_bu': 0.5, 'reg_pu': 0.005, 'reg_qi': 0.005} : 0.4512606386185125\n",
      "77 left --- Params {'biased': False, 'init_std_dev': 0.5, 'lr_all': 0.001, 'reg_bi': 0.05, 'reg_bu': 0.5, 'reg_pu': 0.001, 'reg_qi': 0.05} : 0.44714149317378404\n",
      "76 left --- Params {'biased': False, 'init_std_dev': 0.5, 'lr_all': 0.001, 'reg_bi': 0.05, 'reg_bu': 0.5, 'reg_pu': 0.001, 'reg_qi': 0.01} : 0.44930433264032565\n",
      "75 left --- Params {'biased': False, 'init_std_dev': 0.5, 'lr_all': 0.001, 'reg_bi': 0.05, 'reg_bu': 0.5, 'reg_pu': 0.001, 'reg_qi': 0.005} : 0.4495819338791263\n",
      "74 left --- Params {'biased': False, 'init_std_dev': 0.5, 'lr_all': 0.001, 'reg_bi': 0.05, 'reg_bu': 0.5, 'reg_pu': 0.0005, 'reg_qi': 0.05} : 0.45121348601990774\n",
      "73 left --- Params {'biased': False, 'init_std_dev': 0.5, 'lr_all': 0.001, 'reg_bi': 0.05, 'reg_bu': 0.5, 'reg_pu': 0.0005, 'reg_qi': 0.01} : 0.4537866438664452\n",
      "72 left --- Params {'biased': False, 'init_std_dev': 0.5, 'lr_all': 0.001, 'reg_bi': 0.05, 'reg_bu': 0.5, 'reg_pu': 0.0005, 'reg_qi': 0.005} : 0.4492641259994279\n",
      "71 left --- Params {'biased': False, 'init_std_dev': 0.5, 'lr_all': 0.001, 'reg_bi': 0.05, 'reg_bu': 0.1, 'reg_pu': 0.005, 'reg_qi': 0.05} : 0.44153392518026247\n",
      "70 left --- Params {'biased': False, 'init_std_dev': 0.5, 'lr_all': 0.001, 'reg_bi': 0.05, 'reg_bu': 0.1, 'reg_pu': 0.005, 'reg_qi': 0.01} : 0.4461515208974249\n",
      "69 left --- Params {'biased': False, 'init_std_dev': 0.5, 'lr_all': 0.001, 'reg_bi': 0.05, 'reg_bu': 0.1, 'reg_pu': 0.005, 'reg_qi': 0.005} : 0.45237524947208235\n",
      "68 left --- Params {'biased': False, 'init_std_dev': 0.5, 'lr_all': 0.001, 'reg_bi': 0.05, 'reg_bu': 0.1, 'reg_pu': 0.001, 'reg_qi': 0.05} : 0.4481542202178584\n",
      "67 left --- Params {'biased': False, 'init_std_dev': 0.5, 'lr_all': 0.001, 'reg_bi': 0.05, 'reg_bu': 0.1, 'reg_pu': 0.001, 'reg_qi': 0.01} : 0.44894616863067455\n",
      "66 left --- Params {'biased': False, 'init_std_dev': 0.5, 'lr_all': 0.001, 'reg_bi': 0.05, 'reg_bu': 0.1, 'reg_pu': 0.001, 'reg_qi': 0.005} : 0.4532033143011229\n",
      "65 left --- Params {'biased': False, 'init_std_dev': 0.5, 'lr_all': 0.001, 'reg_bi': 0.05, 'reg_bu': 0.1, 'reg_pu': 0.0005, 'reg_qi': 0.05} : 0.45553808726043615\n",
      "64 left --- Params {'biased': False, 'init_std_dev': 0.5, 'lr_all': 0.001, 'reg_bi': 0.05, 'reg_bu': 0.1, 'reg_pu': 0.0005, 'reg_qi': 0.01} : 0.44585205437472725\n",
      "63 left --- Params {'biased': False, 'init_std_dev': 0.5, 'lr_all': 0.001, 'reg_bi': 0.05, 'reg_bu': 0.1, 'reg_pu': 0.0005, 'reg_qi': 0.005} : 0.45579844254676644\n",
      "62 left --- Params {'biased': False, 'init_std_dev': 0.5, 'lr_all': 0.001, 'reg_bi': 0.05, 'reg_bu': 0.05, 'reg_pu': 0.005, 'reg_qi': 0.05} : 0.4471892648065783\n",
      "61 left --- Params {'biased': False, 'init_std_dev': 0.5, 'lr_all': 0.001, 'reg_bi': 0.05, 'reg_bu': 0.05, 'reg_pu': 0.005, 'reg_qi': 0.01} : 0.4512199789388418\n",
      "60 left --- Params {'biased': False, 'init_std_dev': 0.5, 'lr_all': 0.001, 'reg_bi': 0.05, 'reg_bu': 0.05, 'reg_pu': 0.005, 'reg_qi': 0.005} : 0.44814770672638643\n",
      "59 left --- Params {'biased': False, 'init_std_dev': 0.5, 'lr_all': 0.001, 'reg_bi': 0.05, 'reg_bu': 0.05, 'reg_pu': 0.001, 'reg_qi': 0.05} : 0.4479401614506835\n",
      "58 left --- Params {'biased': False, 'init_std_dev': 0.5, 'lr_all': 0.001, 'reg_bi': 0.05, 'reg_bu': 0.05, 'reg_pu': 0.001, 'reg_qi': 0.01} : 0.4502226139654616\n",
      "57 left --- Params {'biased': False, 'init_std_dev': 0.5, 'lr_all': 0.001, 'reg_bi': 0.05, 'reg_bu': 0.05, 'reg_pu': 0.001, 'reg_qi': 0.005} : 0.4436263872572907\n",
      "56 left --- Params {'biased': False, 'init_std_dev': 0.5, 'lr_all': 0.001, 'reg_bi': 0.05, 'reg_bu': 0.05, 'reg_pu': 0.0005, 'reg_qi': 0.05} : 0.45157477522393097\n",
      "55 left --- Params {'biased': False, 'init_std_dev': 0.5, 'lr_all': 0.001, 'reg_bi': 0.05, 'reg_bu': 0.05, 'reg_pu': 0.0005, 'reg_qi': 0.01} : 0.43819360609133345\n",
      "54 left --- Params {'biased': False, 'init_std_dev': 0.5, 'lr_all': 0.001, 'reg_bi': 0.05, 'reg_bu': 0.05, 'reg_pu': 0.0005, 'reg_qi': 0.005} : 0.4501698653063185\n",
      "53 left --- Params {'biased': False, 'init_std_dev': 0.5, 'lr_all': 0.001, 'reg_bi': 0.01, 'reg_bu': 0.5, 'reg_pu': 0.005, 'reg_qi': 0.05} : 0.4474612624002361\n",
      "52 left --- Params {'biased': False, 'init_std_dev': 0.5, 'lr_all': 0.001, 'reg_bi': 0.01, 'reg_bu': 0.5, 'reg_pu': 0.005, 'reg_qi': 0.01} : 0.4532085645359864\n",
      "51 left --- Params {'biased': False, 'init_std_dev': 0.5, 'lr_all': 0.001, 'reg_bi': 0.01, 'reg_bu': 0.5, 'reg_pu': 0.005, 'reg_qi': 0.005} : 0.44742617145299846\n",
      "50 left --- Params {'biased': False, 'init_std_dev': 0.5, 'lr_all': 0.001, 'reg_bi': 0.01, 'reg_bu': 0.5, 'reg_pu': 0.001, 'reg_qi': 0.05} : 0.44470663627989154\n",
      "49 left --- Params {'biased': False, 'init_std_dev': 0.5, 'lr_all': 0.001, 'reg_bi': 0.01, 'reg_bu': 0.5, 'reg_pu': 0.001, 'reg_qi': 0.01} : 0.45446843849278507\n",
      "48 left --- Params {'biased': False, 'init_std_dev': 0.5, 'lr_all': 0.001, 'reg_bi': 0.01, 'reg_bu': 0.5, 'reg_pu': 0.001, 'reg_qi': 0.005} : 0.44942431997345705\n",
      "47 left --- Params {'biased': False, 'init_std_dev': 0.5, 'lr_all': 0.001, 'reg_bi': 0.01, 'reg_bu': 0.5, 'reg_pu': 0.0005, 'reg_qi': 0.05} : 0.44929441005374104\n",
      "46 left --- Params {'biased': False, 'init_std_dev': 0.5, 'lr_all': 0.001, 'reg_bi': 0.01, 'reg_bu': 0.5, 'reg_pu': 0.0005, 'reg_qi': 0.01} : 0.4518670547604608\n",
      "45 left --- Params {'biased': False, 'init_std_dev': 0.5, 'lr_all': 0.001, 'reg_bi': 0.01, 'reg_bu': 0.5, 'reg_pu': 0.0005, 'reg_qi': 0.005} : 0.4460965836301469\n",
      "44 left --- Params {'biased': False, 'init_std_dev': 0.5, 'lr_all': 0.001, 'reg_bi': 0.01, 'reg_bu': 0.1, 'reg_pu': 0.005, 'reg_qi': 0.05} : 0.44837701180490663\n",
      "43 left --- Params {'biased': False, 'init_std_dev': 0.5, 'lr_all': 0.001, 'reg_bi': 0.01, 'reg_bu': 0.1, 'reg_pu': 0.005, 'reg_qi': 0.01} : 0.45153812577034963\n",
      "42 left --- Params {'biased': False, 'init_std_dev': 0.5, 'lr_all': 0.001, 'reg_bi': 0.01, 'reg_bu': 0.1, 'reg_pu': 0.005, 'reg_qi': 0.005} : 0.4482633265201769\n",
      "41 left --- Params {'biased': False, 'init_std_dev': 0.5, 'lr_all': 0.001, 'reg_bi': 0.01, 'reg_bu': 0.1, 'reg_pu': 0.001, 'reg_qi': 0.05} : 0.4551181632570628\n",
      "40 left --- Params {'biased': False, 'init_std_dev': 0.5, 'lr_all': 0.001, 'reg_bi': 0.01, 'reg_bu': 0.1, 'reg_pu': 0.001, 'reg_qi': 0.01} : 0.45049697311307324\n",
      "39 left --- Params {'biased': False, 'init_std_dev': 0.5, 'lr_all': 0.001, 'reg_bi': 0.01, 'reg_bu': 0.1, 'reg_pu': 0.001, 'reg_qi': 0.005} : 0.44872927982807304\n",
      "38 left --- Params {'biased': False, 'init_std_dev': 0.5, 'lr_all': 0.001, 'reg_bi': 0.01, 'reg_bu': 0.1, 'reg_pu': 0.0005, 'reg_qi': 0.05} : 0.4459056900770795\n",
      "37 left --- Params {'biased': False, 'init_std_dev': 0.5, 'lr_all': 0.001, 'reg_bi': 0.01, 'reg_bu': 0.1, 'reg_pu': 0.0005, 'reg_qi': 0.01} : 0.4482280881498487\n",
      "36 left --- Params {'biased': False, 'init_std_dev': 0.5, 'lr_all': 0.001, 'reg_bi': 0.01, 'reg_bu': 0.1, 'reg_pu': 0.0005, 'reg_qi': 0.005} : 0.44546279644928066\n",
      "35 left --- Params {'biased': False, 'init_std_dev': 0.5, 'lr_all': 0.001, 'reg_bi': 0.01, 'reg_bu': 0.05, 'reg_pu': 0.005, 'reg_qi': 0.05} : 0.4474639831647686\n",
      "34 left --- Params {'biased': False, 'init_std_dev': 0.5, 'lr_all': 0.001, 'reg_bi': 0.01, 'reg_bu': 0.05, 'reg_pu': 0.005, 'reg_qi': 0.01} : 0.4500432587730417\n",
      "33 left --- Params {'biased': False, 'init_std_dev': 0.5, 'lr_all': 0.001, 'reg_bi': 0.01, 'reg_bu': 0.05, 'reg_pu': 0.005, 'reg_qi': 0.005} : 0.4531050056157263\n",
      "32 left --- Params {'biased': False, 'init_std_dev': 0.5, 'lr_all': 0.001, 'reg_bi': 0.01, 'reg_bu': 0.05, 'reg_pu': 0.001, 'reg_qi': 0.05} : 0.44627063861392724\n",
      "31 left --- Params {'biased': False, 'init_std_dev': 0.5, 'lr_all': 0.001, 'reg_bi': 0.01, 'reg_bu': 0.05, 'reg_pu': 0.001, 'reg_qi': 0.01} : 0.44580471264979377\n",
      "30 left --- Params {'biased': False, 'init_std_dev': 0.5, 'lr_all': 0.001, 'reg_bi': 0.01, 'reg_bu': 0.05, 'reg_pu': 0.001, 'reg_qi': 0.005} : 0.45225865048843156\n",
      "29 left --- Params {'biased': False, 'init_std_dev': 0.5, 'lr_all': 0.001, 'reg_bi': 0.01, 'reg_bu': 0.05, 'reg_pu': 0.0005, 'reg_qi': 0.05} : 0.4444786317833949\n",
      "28 left --- Params {'biased': False, 'init_std_dev': 0.5, 'lr_all': 0.001, 'reg_bi': 0.01, 'reg_bu': 0.05, 'reg_pu': 0.0005, 'reg_qi': 0.01} : 0.45073596672213595\n",
      "27 left --- Params {'biased': False, 'init_std_dev': 0.5, 'lr_all': 0.001, 'reg_bi': 0.01, 'reg_bu': 0.05, 'reg_pu': 0.0005, 'reg_qi': 0.005} : 0.4505263990011703\n",
      "26 left --- Params {'biased': False, 'init_std_dev': 0.5, 'lr_all': 0.001, 'reg_bi': 0.005, 'reg_bu': 0.5, 'reg_pu': 0.005, 'reg_qi': 0.05} : 0.44554440387827027\n",
      "25 left --- Params {'biased': False, 'init_std_dev': 0.5, 'lr_all': 0.001, 'reg_bi': 0.005, 'reg_bu': 0.5, 'reg_pu': 0.005, 'reg_qi': 0.01} : 0.4464856127090652\n",
      "24 left --- Params {'biased': False, 'init_std_dev': 0.5, 'lr_all': 0.001, 'reg_bi': 0.005, 'reg_bu': 0.5, 'reg_pu': 0.005, 'reg_qi': 0.005} : 0.44952048848915455\n",
      "23 left --- Params {'biased': False, 'init_std_dev': 0.5, 'lr_all': 0.001, 'reg_bi': 0.005, 'reg_bu': 0.5, 'reg_pu': 0.001, 'reg_qi': 0.05} : 0.44699518690590556\n",
      "22 left --- Params {'biased': False, 'init_std_dev': 0.5, 'lr_all': 0.001, 'reg_bi': 0.005, 'reg_bu': 0.5, 'reg_pu': 0.001, 'reg_qi': 0.01} : 0.4519070111719003\n",
      "21 left --- Params {'biased': False, 'init_std_dev': 0.5, 'lr_all': 0.001, 'reg_bi': 0.005, 'reg_bu': 0.5, 'reg_pu': 0.001, 'reg_qi': 0.005} : 0.4528374273776736\n",
      "20 left --- Params {'biased': False, 'init_std_dev': 0.5, 'lr_all': 0.001, 'reg_bi': 0.005, 'reg_bu': 0.5, 'reg_pu': 0.0005, 'reg_qi': 0.05} : 0.4498722100704516\n",
      "19 left --- Params {'biased': False, 'init_std_dev': 0.5, 'lr_all': 0.001, 'reg_bi': 0.005, 'reg_bu': 0.5, 'reg_pu': 0.0005, 'reg_qi': 0.01} : 0.4471090777080359\n",
      "18 left --- Params {'biased': False, 'init_std_dev': 0.5, 'lr_all': 0.001, 'reg_bi': 0.005, 'reg_bu': 0.5, 'reg_pu': 0.0005, 'reg_qi': 0.005} : 0.44791407695942925\n",
      "17 left --- Params {'biased': False, 'init_std_dev': 0.5, 'lr_all': 0.001, 'reg_bi': 0.005, 'reg_bu': 0.1, 'reg_pu': 0.005, 'reg_qi': 0.05} : 0.4501606923817826\n",
      "16 left --- Params {'biased': False, 'init_std_dev': 0.5, 'lr_all': 0.001, 'reg_bi': 0.005, 'reg_bu': 0.1, 'reg_pu': 0.005, 'reg_qi': 0.01} : 0.4504468676476801\n",
      "15 left --- Params {'biased': False, 'init_std_dev': 0.5, 'lr_all': 0.001, 'reg_bi': 0.005, 'reg_bu': 0.1, 'reg_pu': 0.005, 'reg_qi': 0.005} : 0.44297092007657757\n",
      "14 left --- Params {'biased': False, 'init_std_dev': 0.5, 'lr_all': 0.001, 'reg_bi': 0.005, 'reg_bu': 0.1, 'reg_pu': 0.001, 'reg_qi': 0.05} : 0.4520797866298038\n",
      "13 left --- Params {'biased': False, 'init_std_dev': 0.5, 'lr_all': 0.001, 'reg_bi': 0.005, 'reg_bu': 0.1, 'reg_pu': 0.001, 'reg_qi': 0.01} : 0.4453460786336298\n",
      "12 left --- Params {'biased': False, 'init_std_dev': 0.5, 'lr_all': 0.001, 'reg_bi': 0.005, 'reg_bu': 0.1, 'reg_pu': 0.001, 'reg_qi': 0.005} : 0.4510380436619044\n",
      "11 left --- Params {'biased': False, 'init_std_dev': 0.5, 'lr_all': 0.001, 'reg_bi': 0.005, 'reg_bu': 0.1, 'reg_pu': 0.0005, 'reg_qi': 0.05} : 0.4468635242160574\n",
      "10 left --- Params {'biased': False, 'init_std_dev': 0.5, 'lr_all': 0.001, 'reg_bi': 0.005, 'reg_bu': 0.1, 'reg_pu': 0.0005, 'reg_qi': 0.01} : 0.4478248516543509\n",
      "9 left --- Params {'biased': False, 'init_std_dev': 0.5, 'lr_all': 0.001, 'reg_bi': 0.005, 'reg_bu': 0.1, 'reg_pu': 0.0005, 'reg_qi': 0.005} : 0.4522638593152071\n",
      "8 left --- Params {'biased': False, 'init_std_dev': 0.5, 'lr_all': 0.001, 'reg_bi': 0.005, 'reg_bu': 0.05, 'reg_pu': 0.005, 'reg_qi': 0.05} : 0.4477694386712805\n",
      "7 left --- Params {'biased': False, 'init_std_dev': 0.5, 'lr_all': 0.001, 'reg_bi': 0.005, 'reg_bu': 0.05, 'reg_pu': 0.005, 'reg_qi': 0.01} : 0.4527445203669052\n",
      "6 left --- Params {'biased': False, 'init_std_dev': 0.5, 'lr_all': 0.001, 'reg_bi': 0.005, 'reg_bu': 0.05, 'reg_pu': 0.005, 'reg_qi': 0.005} : 0.4487378769715951\n",
      "5 left --- Params {'biased': False, 'init_std_dev': 0.5, 'lr_all': 0.001, 'reg_bi': 0.005, 'reg_bu': 0.05, 'reg_pu': 0.001, 'reg_qi': 0.05} : 0.4446423421970061\n",
      "4 left --- Params {'biased': False, 'init_std_dev': 0.5, 'lr_all': 0.001, 'reg_bi': 0.005, 'reg_bu': 0.05, 'reg_pu': 0.001, 'reg_qi': 0.01} : 0.44882145357289677\n",
      "3 left --- Params {'biased': False, 'init_std_dev': 0.5, 'lr_all': 0.001, 'reg_bi': 0.005, 'reg_bu': 0.05, 'reg_pu': 0.001, 'reg_qi': 0.005} : 0.44752255481553316\n",
      "2 left --- Params {'biased': False, 'init_std_dev': 0.5, 'lr_all': 0.001, 'reg_bi': 0.005, 'reg_bu': 0.05, 'reg_pu': 0.0005, 'reg_qi': 0.05} : 0.44959753163666455\n",
      "1 left --- Params {'biased': False, 'init_std_dev': 0.5, 'lr_all': 0.001, 'reg_bi': 0.005, 'reg_bu': 0.05, 'reg_pu': 0.0005, 'reg_qi': 0.01} : 0.44627317434579034\n",
      "0 left --- Params {'biased': False, 'init_std_dev': 0.5, 'lr_all': 0.001, 'reg_bi': 0.005, 'reg_bu': 0.05, 'reg_pu': 0.0005, 'reg_qi': 0.005} : 0.44669316303014844\n"
     ]
    },
    {
     "data": {
      "text/plain": [
       "({'biased': False,\n",
       "  'init_std_dev': 1,\n",
       "  'lr_all': 0.001,\n",
       "  'reg_bi': 0.01,\n",
       "  'reg_bu': 0.1,\n",
       "  'reg_pu': 0.001,\n",
       "  'reg_qi': 0.005},\n",
       " 0.10217656988077073)"
      ]
     },
     "execution_count": 56,
     "metadata": {},
     "output_type": "execute_result"
    }
   ],
   "source": [
    "# ---------------------------- GRID SEARCH FOR SVD --------------------------- #\n",
    "params = {\n",
    "    \"biased\" : [False],\n",
    "    \"init_std_dev\" : [0.5, 1, 5],\n",
    "    \"lr_all\" : [0.001],\n",
    "    \"reg_bu\" : [0.05, 0.1, 0.5],\n",
    "    \"reg_bi\" : [0.005, 0.01, 0.05],\n",
    "    \"reg_qi\" : [0.005, 0.01, 0.05],\n",
    "    \"reg_pu\" : [0.0005, 0.001, 0.005],\n",
    "}\n",
    "\n",
    "best_svd_models = MyCrossValidation(surprise.prediction_algorithms.matrix_factorization.SVD, params)()\n",
    "best_svd_models[0]"
   ]
  },
  {
   "cell_type": "markdown",
   "metadata": {},
   "source": [
    "## Evaluation"
   ]
  },
  {
   "cell_type": "markdown",
   "metadata": {},
   "source": [
    "**Let's create a function that will give a score based on the similarity between items. For this, we will use the function defined in the Data Analysis Section : get_item_similarity. We found that the average number of similar feature between items is around 3 times bigger than the average number of similare feature value. Hence, we will score based on the following formula:**\n",
    "\n",
    "$$\n",
    "score = \\dfrac {similar\\_feature\\_number + 3 \\times similar\\_feature\\_value} {average\\_similare\\_feature + 3 \\times average\\_similar\\_feature\\_value}\n",
    "$$"
   ]
  },
  {
   "cell_type": "code",
   "execution_count": 32,
   "metadata": {},
   "outputs": [],
   "source": [
    "def get_item_similarity_score(item_features_df, item_id):\n",
    "    similarity = get_item_similarity(item_features_df, item_id)\n",
    "    if similarity is None:\n",
    "        return None\n",
    "    \n",
    "    res = (similarity.similar_feature_id + 3 * similarity.similar_value_id) / (similarity.similar_feature_id.mean() + 3 * similarity.similar_value_id.mean())\n",
    "    res /= max(res)\n",
    "    return res"
   ]
  },
  {
   "cell_type": "code",
   "execution_count": 33,
   "metadata": {},
   "outputs": [
    {
     "data": {
      "text/plain": [
       "count    22205.000000\n",
       "mean         0.345297\n",
       "std          0.159369\n",
       "min          0.102041\n",
       "25%          0.224490\n",
       "50%          0.285714\n",
       "75%          0.408163\n",
       "max          1.000000\n",
       "dtype: float64"
      ]
     },
     "execution_count": 33,
     "metadata": {},
     "output_type": "execute_result"
    }
   ],
   "source": [
    "get_item_similarity_score(item_features_df, item_id=2).describe()"
   ]
  },
  {
   "cell_type": "markdown",
   "metadata": {},
   "source": [
    "The users using the platform in the test set are completely unknown to us. Therefore, we will proceed as follows:\n",
    "1. Identify all similar users\n",
    "2. Make predictions for each of them and weight the results by the similarity rate to the user to be predicted\n",
    "3. Further improve our results by using the similarity between the items "
   ]
  },
  {
   "cell_type": "code",
   "execution_count": null,
   "metadata": {},
   "outputs": [],
   "source": []
  }
 ],
 "metadata": {
  "kernelspec": {
   "display_name": "Python 3.9.7 ('.venv': poetry)",
   "language": "python",
   "name": "python3"
  },
  "language_info": {
   "codemirror_mode": {
    "name": "ipython",
    "version": 3
   },
   "file_extension": ".py",
   "mimetype": "text/x-python",
   "name": "python",
   "nbconvert_exporter": "python",
   "pygments_lexer": "ipython3",
   "version": "3.9.7"
  },
  "orig_nbformat": 4,
  "vscode": {
   "interpreter": {
    "hash": "eb6d516e35c6ccbacc7077eece26ca831bb307c9b2b56521fa8c3e425b6f57cb"
   }
  }
 },
 "nbformat": 4,
 "nbformat_minor": 2
}
