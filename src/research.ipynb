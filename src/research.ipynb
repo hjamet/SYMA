{
 "cells": [
  {
   "cell_type": "markdown",
   "metadata": {},
   "source": [
    "# RecSys Challenge 2022 Research Notebook"
   ]
  },
  {
   "cell_type": "markdown",
   "metadata": {},
   "source": [
    "## Introduction"
   ]
  },
  {
   "cell_type": "markdown",
   "metadata": {},
   "source": [
    "Authors : \n",
    "- Henri Jamet <henri.jamet@epita.fr>\n",
    "- Corentin Duchene <corentin.duchene@epita.fr>\n",
    "- Adrien Merat <adrien.merat@epita.fr>\n",
    "- Erwan Goudard <erwan.goudard@epita.fr>\n",
    "\n",
    "Projet :\n",
    "- http://www.recsyschallenge.com/2022/index.html#about\n",
    "- http://www.recsyschallenge.com/2022/dataset.html"
   ]
  },
  {
   "cell_type": "markdown",
   "metadata": {},
   "source": [
    "## Data Exploration"
   ]
  },
  {
   "cell_type": "markdown",
   "metadata": {},
   "source": [
    "The data should first be downloaded and unpacked into the data folder at the root of this project. So we should have :\n",
    "\n",
    "```shell\n",
    "data\n",
    "├── README.txt\n",
    "├── README_win.txt\n",
    "├── candidate_items.csv\n",
    "├── item_features.csv\n",
    "├── test_final_sessions.csv\n",
    "├── test_leaderboard_sessions.csv\n",
    "├── train_purchases.csv\n",
    "└── train_sessions.csv\n",
    "```\n"
   ]
  },
  {
   "cell_type": "markdown",
   "metadata": {},
   "source": [
    "**Let's load our data**"
   ]
  },
  {
   "cell_type": "code",
   "execution_count": 1,
   "metadata": {},
   "outputs": [
    {
     "name": "stdout",
     "output_type": "stream",
     "text": [
      "train_session_df\n",
      "   session_id  item_id                     date\n",
      "0           3     9655  2020-12-18 21:25:00.373\n",
      "\n",
      "train_purchase_df\n",
      "   session_id  item_id                     date\n",
      "0           3    15085  2020-12-18 21:26:47.986\n",
      "\n",
      "candidate_items_df\n",
      "   item_id\n",
      "0        4\n",
      "\n",
      "item_features_df\n",
      "   item_id  feature_category_id  feature_value_id\n",
      "0        2                   56               365\n",
      "\n",
      "test_final_sessions_df\n",
      "   session_id  item_id                     date\n",
      "0          61    27088  2021-06-01 08:12:39.664\n",
      "\n",
      "test_leaderboard_sessions_df\n",
      "   session_id  item_id                     date\n",
      "0          26    19185  2021-06-16 09:53:54.158\n",
      "\n"
     ]
    }
   ],
   "source": [
    "import pandas as pd\n",
    "import os\n",
    "\n",
    "PATH_DATA = os.path.join(\"..\", \"data\")\n",
    "\n",
    "train_session_df = pd.read_csv(os.path.join(PATH_DATA, \"train_sessions.csv\"))\n",
    "train_purchase_df = pd.read_csv(os.path.join(PATH_DATA, \"train_purchases.csv\"))\n",
    "candidate_items_df = pd.read_csv(os.path.join(PATH_DATA, \"candidate_items.csv\"))\n",
    "item_features_df = pd.read_csv(os.path.join(PATH_DATA, \"item_features.csv\"))\n",
    "test_final_sessions_df = pd.read_csv(os.path.join(PATH_DATA, \"test_final_sessions.csv\"))\n",
    "test_leaderboard_sessions_df = pd.read_csv(os.path.join(PATH_DATA, \"test_leaderboard_sessions.csv\"))\n",
    "\n",
    "dict = {\"train_session_df\" : train_session_df, \"train_purchase_df\" : train_purchase_df, \"candidate_items_df\" : candidate_items_df, \"item_features_df\" : item_features_df, \"test_final_sessions_df\" : test_final_sessions_df, \"test_leaderboard_sessions_df\" : test_leaderboard_sessions_df}\n",
    "for key in dict:\n",
    "    print(key)\n",
    "    print(dict[key].head(1), end=\"\\n\\n\")"
   ]
  },
  {
   "cell_type": "markdown",
   "metadata": {},
   "source": [
    "*How many different items does exist?*"
   ]
  },
  {
   "cell_type": "code",
   "execution_count": 2,
   "metadata": {},
   "outputs": [
    {
     "name": "stdout",
     "output_type": "stream",
     "text": [
      "Unique item number : 23691\n",
      "Item id are unique :  True\n"
     ]
    }
   ],
   "source": [
    "distinct_item_number = len(item_features_df.item_id.unique())\n",
    "print(\"Unique item number :\", distinct_item_number)\n",
    "print(\"Item id are unique : \", item_features_df.item_id.nunique() == len(item_features_df.item_id.unique()))"
   ]
  },
  {
   "cell_type": "markdown",
   "metadata": {},
   "source": [
    "*How many different sessions does exist?*"
   ]
  },
  {
   "cell_type": "code",
   "execution_count": 3,
   "metadata": {},
   "outputs": [
    {
     "name": "stdout",
     "output_type": "stream",
     "text": [
      "Unique user number : 1000000\n"
     ]
    }
   ],
   "source": [
    "distinct_session_number = len(pd.concat([train_session_df.session_id, train_purchase_df.session_id]).unique())\n",
    "print(\"Unique user number :\", distinct_session_number)"
   ]
  },
  {
   "cell_type": "markdown",
   "metadata": {},
   "source": [
    "*How many candidate items exist?*"
   ]
  },
  {
   "cell_type": "code",
   "execution_count": 4,
   "metadata": {},
   "outputs": [
    {
     "name": "stdout",
     "output_type": "stream",
     "text": [
      "it exists 4990 different candidate items\n"
     ]
    }
   ],
   "source": [
    "print(\"it exists\", len(candidate_items_df.item_id.unique()), \"different candidate items\")"
   ]
  },
  {
   "cell_type": "markdown",
   "metadata": {},
   "source": [
    "*Does session always look an item before buying it?*"
   ]
  },
  {
   "cell_type": "code",
   "execution_count": 5,
   "metadata": {},
   "outputs": [
    {
     "name": "stdout",
     "output_type": "stream",
     "text": [
      "A user never look at one item before buying it.\n"
     ]
    },
    {
     "data": {
      "text/plain": [
       "left_only     1000000\n",
       "right_only          0\n",
       "both                0\n",
       "Name: Exist, dtype: int64"
      ]
     },
     "execution_count": 5,
     "metadata": {},
     "output_type": "execute_result"
    }
   ],
   "source": [
    "import numpy as np\n",
    "\n",
    "print(\"A user never look at one item before buying it.\")\n",
    "pd.merge(train_purchase_df, train_session_df, on=['session_id','item_id'], how='left', indicator='Exist')[\"Exist\"].value_counts()"
   ]
  },
  {
   "cell_type": "markdown",
   "metadata": {},
   "source": [
    "*Can a session look at items without buying any?*"
   ]
  },
  {
   "cell_type": "code",
   "execution_count": 6,
   "metadata": {},
   "outputs": [
    {
     "name": "stdout",
     "output_type": "stream",
     "text": [
      "Every session bought exactly one item.\n"
     ]
    },
    {
     "data": {
      "text/plain": [
       "both          4743820\n",
       "left_only           0\n",
       "right_only          0\n",
       "Name: Exist, dtype: int64"
      ]
     },
     "execution_count": 6,
     "metadata": {},
     "output_type": "execute_result"
    }
   ],
   "source": [
    "print(\"Every session bought exactly one item.\")\n",
    "\n",
    "pd.merge(train_purchase_df, train_session_df, on=['session_id'], how='left', indicator='Exist')[\"Exist\"].value_counts()"
   ]
  },
  {
   "cell_type": "markdown",
   "metadata": {},
   "source": [
    "*What is the average number of different items every user usually look?*"
   ]
  },
  {
   "cell_type": "code",
   "execution_count": 7,
   "metadata": {},
   "outputs": [
    {
     "name": "stdout",
     "output_type": "stream",
     "text": [
      "Average number of items seen by user : 4.74382\n"
     ]
    }
   ],
   "source": [
    "print(\"Average number of items seen by user :\", train_session_df.groupby(\"session_id\").count()[\"item_id\"].mean())"
   ]
  },
  {
   "cell_type": "markdown",
   "metadata": {},
   "source": [
    "*How many feature does exist?*"
   ]
  },
  {
   "cell_type": "code",
   "execution_count": 8,
   "metadata": {},
   "outputs": [
    {
     "name": "stdout",
     "output_type": "stream",
     "text": [
      "The number of different item features is :\n",
      "73\n"
     ]
    }
   ],
   "source": [
    "print(\"The number of different item features is :\")\n",
    "print(len(item_features_df[\"feature_category_id\"].unique()))"
   ]
  },
  {
   "cell_type": "markdown",
   "metadata": {},
   "source": [
    "*How many items have the same feature?*"
   ]
  },
  {
   "cell_type": "code",
   "execution_count": 9,
   "metadata": {},
   "outputs": [
    {
     "data": {
      "text/plain": [
       "Text(0.5, 1.0, 'Number of different items features')"
      ]
     },
     "execution_count": 9,
     "metadata": {},
     "output_type": "execute_result"
    },
    {
     "data": {
      "image/png": "[encoded data removed]",
      "text/plain": [
       "<Figure size 800x600 with 1 Axes>"
      ]
     },
     "metadata": {},
     "output_type": "display_data"
    }
   ],
   "source": [
    "from matplotlib import pyplot as plt\n",
    "\n",
    "fig = plt.figure(figsize=(8,6), dpi= 100, facecolor='w', edgecolor='k')\n",
    "nbr = item_features_df.groupby(\"feature_category_id\").count()[\"item_id\"]\n",
    "plt.bar(x=nbr.index, height=nbr.values)\n",
    "plt.title(\"Number of different items features\")"
   ]
  },
  {
   "cell_type": "markdown",
   "metadata": {},
   "source": [
    "*How many feature en feature_score items have in commun generaly?*\n",
    "\n",
    "This question is quite complex so we will first create a function giving this number for every items compared to one given because we will probably need this function soon or later anyway."
   ]
  },
  {
   "cell_type": "code",
   "execution_count": 10,
   "metadata": {},
   "outputs": [],
   "source": [
    "\n",
    "def get_item_similarity(item_features_df, item_id):\n",
    "    \"\"\"Get the similarity between the given item and all the others based on their features and feature values.\n",
    "\n",
    "    Args:\n",
    "        item_features_df (pd.DataFrame): The item features dataframe.\n",
    "        item_id_1 (int): The id of the first item\n",
    "\n",
    "    Returns:\n",
    "        (pd.DataFrame): item | similar_feature_id | similar_value_id\n",
    "    \"\"\"\n",
    "    item_df = item_features_df[item_features_df.item_id == item_id]\n",
    "    if len(item_df) == 0:\n",
    "        return None\n",
    "    same_feature_id = item_features_df[item_features_df.feature_category_id.isin(item_df.feature_category_id)]\n",
    "    same_value_id = same_feature_id[same_feature_id.feature_value_id.isin(item_df.feature_value_id)]\n",
    "    return pd.concat([same_feature_id.groupby(\"item_id\").count().feature_category_id.drop(index=item_id).rename(\"similar_feature_id\"), same_value_id.groupby(\"item_id\").count().feature_value_id.drop(index=item_id).rename(\"similar_value_id\")], axis=1)"
   ]
  },
  {
   "cell_type": "code",
   "execution_count": 11,
   "metadata": {},
   "outputs": [
    {
     "name": "stdout",
     "output_type": "stream",
     "text": [
      "Average number of similar features between items : 12.395297117048669\n",
      "Average number of similar feature values between items : 4.753088641256174\n"
     ]
    }
   ],
   "source": [
    "import numpy as np\n",
    "\n",
    "ESTIMATION_SAMPLE_NUMBER = 1000\n",
    "\n",
    "similar_feature_id = []\n",
    "similar_value_id = []\n",
    "for _, item_id in item_features_df.sample(ESTIMATION_SAMPLE_NUMBER).item_id.items():\n",
    "    similarity = get_item_similarity(item_features_df, item_id) / distinct_item_number\n",
    "    if similarity is None:\n",
    "        continue\n",
    "    similarity = similarity.sum()\n",
    "    similar_feature_id.append(similarity.similar_feature_id)\n",
    "    similar_value_id.append(similarity.similar_value_id)\n",
    "\n",
    "average_similar_feature = np.mean(similar_feature_id)\n",
    "average_similar_value = np.mean(similar_value_id)\n",
    "print(\"Average number of similar features between items :\", average_similar_feature)\n",
    "print(\"Average number of similar feature values between items :\", average_similar_value)\n",
    "    "
   ]
  },
  {
   "cell_type": "markdown",
   "metadata": {},
   "source": [
    "## Data Transformation"
   ]
  },
  {
   "cell_type": "markdown",
   "metadata": {},
   "source": [
    "*We need a scoer to predict for each user-item combination. How can we generate this score?*\n",
    "\n",
    "**We could assign a score of 2 to items purchased by the user, 1 to those he looked at and 0 to those he didn't even look at.**\n",
    "\n",
    "*But this solution risks giving a training set that is far too large and the training time is likely to be far too long! How can we reduce the size of our training set?*\n",
    "\n",
    "**One solution would be not to take all the items that the user has not looked at but to select for each user a number of random items that he has not looked at and add them to the training set with a score of 0.**\n",
    "\n",
    "Let's generate our training set followinf this idea."
   ]
  },
  {
   "cell_type": "code",
   "execution_count": 12,
   "metadata": {},
   "outputs": [
    {
     "data": {
      "text/html": [
       "<div>\n",
       "<style scoped>\n",
       "    .dataframe tbody tr th:only-of-type {\n",
       "        vertical-align: middle;\n",
       "    }\n",
       "\n",
       "    .dataframe tbody tr th {\n",
       "        vertical-align: top;\n",
       "    }\n",
       "\n",
       "    .dataframe thead th {\n",
       "        text-align: right;\n",
       "    }\n",
       "</style>\n",
       "<table border=\"1\" class=\"dataframe\">\n",
       "  <thead>\n",
       "    <tr style=\"text-align: right;\">\n",
       "      <th></th>\n",
       "      <th>user_id</th>\n",
       "      <th>item_id</th>\n",
       "      <th>date</th>\n",
       "      <th>raw_ratings</th>\n",
       "    </tr>\n",
       "  </thead>\n",
       "  <tbody>\n",
       "    <tr>\n",
       "      <th>2031756</th>\n",
       "      <td>1898905</td>\n",
       "      <td>5741</td>\n",
       "      <td>2020-06-27 07:49:30.038</td>\n",
       "      <td>1</td>\n",
       "    </tr>\n",
       "    <tr>\n",
       "      <th>1454030</th>\n",
       "      <td>1361195</td>\n",
       "      <td>21890</td>\n",
       "      <td>2021-04-14 18:32:24.369</td>\n",
       "      <td>1</td>\n",
       "    </tr>\n",
       "    <tr>\n",
       "      <th>395591</th>\n",
       "      <td>370736</td>\n",
       "      <td>20629</td>\n",
       "      <td>2021-05-21 12:56:07.559</td>\n",
       "      <td>1</td>\n",
       "    </tr>\n",
       "    <tr>\n",
       "      <th>555189</th>\n",
       "      <td>2464841</td>\n",
       "      <td>10666</td>\n",
       "      <td>2021-03-04 22:27:16.134</td>\n",
       "      <td>2</td>\n",
       "    </tr>\n",
       "    <tr>\n",
       "      <th>3801049</th>\n",
       "      <td>3555631</td>\n",
       "      <td>7858</td>\n",
       "      <td>2020-07-22 08:08:57.392</td>\n",
       "      <td>1</td>\n",
       "    </tr>\n",
       "    <tr>\n",
       "      <th>...</th>\n",
       "      <td>...</td>\n",
       "      <td>...</td>\n",
       "      <td>...</td>\n",
       "      <td>...</td>\n",
       "    </tr>\n",
       "    <tr>\n",
       "      <th>725</th>\n",
       "      <td>4388868</td>\n",
       "      <td>16029</td>\n",
       "      <td>NaN</td>\n",
       "      <td>0</td>\n",
       "    </tr>\n",
       "    <tr>\n",
       "      <th>726</th>\n",
       "      <td>4419390</td>\n",
       "      <td>14292</td>\n",
       "      <td>NaN</td>\n",
       "      <td>0</td>\n",
       "    </tr>\n",
       "    <tr>\n",
       "      <th>727</th>\n",
       "      <td>4424472</td>\n",
       "      <td>15438</td>\n",
       "      <td>NaN</td>\n",
       "      <td>0</td>\n",
       "    </tr>\n",
       "    <tr>\n",
       "      <th>728</th>\n",
       "      <td>4424652</td>\n",
       "      <td>1982</td>\n",
       "      <td>NaN</td>\n",
       "      <td>0</td>\n",
       "    </tr>\n",
       "    <tr>\n",
       "      <th>729</th>\n",
       "      <td>4429499</td>\n",
       "      <td>9405</td>\n",
       "      <td>NaN</td>\n",
       "      <td>0</td>\n",
       "    </tr>\n",
       "  </tbody>\n",
       "</table>\n",
       "<p>8743820 rows × 4 columns</p>\n",
       "</div>"
      ],
      "text/plain": [
       "         user_id  item_id                     date  raw_ratings\n",
       "2031756  1898905     5741  2020-06-27 07:49:30.038            1\n",
       "1454030  1361195    21890  2021-04-14 18:32:24.369            1\n",
       "395591    370736    20629  2021-05-21 12:56:07.559            1\n",
       "555189   2464841    10666  2021-03-04 22:27:16.134            2\n",
       "3801049  3555631     7858  2020-07-22 08:08:57.392            1\n",
       "...          ...      ...                      ...          ...\n",
       "725      4388868    16029                      NaN            0\n",
       "726      4419390    14292                      NaN            0\n",
       "727      4424472    15438                      NaN            0\n",
       "728      4424652     1982                      NaN            0\n",
       "729      4429499     9405                      NaN            0\n",
       "\n",
       "[8743820 rows x 4 columns]"
      ]
     },
     "execution_count": 12,
     "metadata": {},
     "output_type": "execute_result"
    }
   ],
   "source": [
    "NUMBER_OF_0_BY_USER = 3\n",
    "\n",
    "train_rating_df = pd.concat([train_session_df.assign(rating=1), train_purchase_df.assign(rating=2)])\n",
    "train_set_df = train_rating_df.rename(columns={\"session_id\" : \"user_id\", \"rating\" : \"raw_ratings\"}).sample(len(train_rating_df))\n",
    "\n",
    "# We add 0\n",
    "item_list = item_features_df.item_id.unique()\n",
    "\n",
    "Continue = True\n",
    "while Continue:\n",
    "    zero_by_user = train_set_df.assign(is_0 = (train_set_df.raw_ratings == 0)).groupby(\"user_id\").sum()[\"is_0\"]\n",
    "    zero_to_add =  zero_by_user.loc[zero_by_user < NUMBER_OF_0_BY_USER]\n",
    "    Continue = len(zero_to_add) > 0\n",
    "    zero_to_add = zero_to_add.reset_index().drop(columns=\"is_0\").assign(item_id=np.random.choice(item_list, zero_to_add.shape[0]), raw_ratings=0)\n",
    "    zero_to_add = zero_to_add[~zero_to_add.index.isin(pd.merge(zero_to_add.reset_index(), train_set_df, on=[\"user_id\", \"item_id\"], how=\"inner\").set_index(\"index\").index)]\n",
    "    train_set_df = pd.concat([train_set_df, zero_to_add])\n",
    "\n",
    "train_set_df"
   ]
  },
  {
   "cell_type": "code",
   "execution_count": 13,
   "metadata": {},
   "outputs": [
    {
     "data": {
      "text/html": [
       "<div>\n",
       "<style scoped>\n",
       "    .dataframe tbody tr th:only-of-type {\n",
       "        vertical-align: middle;\n",
       "    }\n",
       "\n",
       "    .dataframe tbody tr th {\n",
       "        vertical-align: top;\n",
       "    }\n",
       "\n",
       "    .dataframe thead th {\n",
       "        text-align: right;\n",
       "    }\n",
       "</style>\n",
       "<table border=\"1\" class=\"dataframe\">\n",
       "  <thead>\n",
       "    <tr style=\"text-align: right;\">\n",
       "      <th></th>\n",
       "      <th>user_id</th>\n",
       "      <th>item_id</th>\n",
       "      <th>date</th>\n",
       "      <th>raw_ratings</th>\n",
       "    </tr>\n",
       "  </thead>\n",
       "  <tbody>\n",
       "    <tr>\n",
       "      <th>0</th>\n",
       "      <td>3</td>\n",
       "      <td>15085</td>\n",
       "      <td>2020-12-18 21:26:47.986</td>\n",
       "      <td>2</td>\n",
       "    </tr>\n",
       "    <tr>\n",
       "      <th>1</th>\n",
       "      <td>3</td>\n",
       "      <td>9655</td>\n",
       "      <td>2020-12-18 21:19:48.093</td>\n",
       "      <td>1</td>\n",
       "    </tr>\n",
       "    <tr>\n",
       "      <th>0</th>\n",
       "      <td>3</td>\n",
       "      <td>9655</td>\n",
       "      <td>2020-12-18 21:25:00.373</td>\n",
       "      <td>1</td>\n",
       "    </tr>\n",
       "    <tr>\n",
       "      <th>0</th>\n",
       "      <td>3</td>\n",
       "      <td>7136</td>\n",
       "      <td>NaN</td>\n",
       "      <td>0</td>\n",
       "    </tr>\n",
       "    <tr>\n",
       "      <th>0</th>\n",
       "      <td>3</td>\n",
       "      <td>5442</td>\n",
       "      <td>NaN</td>\n",
       "      <td>0</td>\n",
       "    </tr>\n",
       "    <tr>\n",
       "      <th>0</th>\n",
       "      <td>3</td>\n",
       "      <td>12823</td>\n",
       "      <td>NaN</td>\n",
       "      <td>0</td>\n",
       "    </tr>\n",
       "  </tbody>\n",
       "</table>\n",
       "</div>"
      ],
      "text/plain": [
       "   user_id  item_id                     date  raw_ratings\n",
       "0        3    15085  2020-12-18 21:26:47.986            2\n",
       "1        3     9655  2020-12-18 21:19:48.093            1\n",
       "0        3     9655  2020-12-18 21:25:00.373            1\n",
       "0        3     7136                      NaN            0\n",
       "0        3     5442                      NaN            0\n",
       "0        3    12823                      NaN            0"
      ]
     },
     "execution_count": 13,
     "metadata": {},
     "output_type": "execute_result"
    }
   ],
   "source": [
    "train_set_df[train_set_df.user_id == 3]"
   ]
  },
  {
   "cell_type": "markdown",
   "metadata": {},
   "source": [
    "**Let's create a SURPRISE training dataset**"
   ]
  },
  {
   "cell_type": "code",
   "execution_count": 14,
   "metadata": {},
   "outputs": [],
   "source": [
    "TRAIN_SET_REDUCED_SIZE = 10000\n",
    "\n",
    "import surprise\n",
    "\n",
    "rating_reader = surprise.Reader(rating_scale=(0, 2))\n",
    "train_set = surprise.dataset.Dataset.load_from_df(df=train_set_df[[\"user_id\", \"item_id\", \"raw_ratings\"]], reader=rating_reader)\n",
    "train_set_reduced = surprise.dataset.Dataset.load_from_df(df=train_set_df[[\"user_id\", \"item_id\", \"raw_ratings\"]].iloc[:TRAIN_SET_REDUCED_SIZE], reader=rating_reader)"
   ]
  },
  {
   "cell_type": "markdown",
   "metadata": {},
   "source": [
    "## Metrics"
   ]
  },
  {
   "cell_type": "markdown",
   "metadata": {},
   "source": [
    "## Models"
   ]
  },
  {
   "cell_type": "markdown",
   "metadata": {},
   "source": [
    "### Let's train a simple Suprise Model"
   ]
  },
  {
   "cell_type": "code",
   "execution_count": 15,
   "metadata": {},
   "outputs": [
    {
     "name": "stdout",
     "output_type": "stream",
     "text": [
      "Evaluating RMSE of algorithm SVD on 5 split(s).\n",
      "\n",
      "                  Fold 1  Fold 2  Fold 3  Fold 4  Fold 5  Mean    Std     \n",
      "RMSE (testset)    0.3752  0.3878  0.3768  0.3901  0.3818  0.3824  0.0059  \n",
      "Fit time          0.24    0.25    0.23    0.24    0.24    0.24    0.01    \n",
      "Test time         0.01    0.01    0.01    0.01    0.01    0.01    0.00    \n"
     ]
    },
    {
     "data": {
      "text/plain": [
       "{'test_rmse': array([0.37519819, 0.38781994, 0.37684025, 0.39007023, 0.38183323]),\n",
       " 'fit_time': (0.2391965389251709,\n",
       "  0.2536623477935791,\n",
       "  0.23442435264587402,\n",
       "  0.23561573028564453,\n",
       "  0.23688578605651855),\n",
       " 'test_time': (0.005506992340087891,\n",
       "  0.0053768157958984375,\n",
       "  0.005633354187011719,\n",
       "  0.005553722381591797,\n",
       "  0.0061953067779541016)}"
      ]
     },
     "execution_count": 15,
     "metadata": {},
     "output_type": "execute_result"
    }
   ],
   "source": [
    "model = surprise.SVD()\n",
    "\n",
    "surprise.model_selection.cross_validate(model, train_set_reduced, measures=[\"RMSE\"], cv=5, verbose=True, n_jobs=-1)"
   ]
  },
  {
   "cell_type": "markdown",
   "metadata": {},
   "source": [
    "### Let's Compare our models"
   ]
  },
  {
   "cell_type": "code",
   "execution_count": 16,
   "metadata": {},
   "outputs": [
    {
     "name": "stdout",
     "output_type": "stream",
     "text": [
      "Estimating biases using als...\n",
      "Estimating biases using als...\n",
      "Estimating biases using als...\n",
      "Estimating biases using als...\n",
      "Estimating biases using als...\n",
      "Estimating biases using als...\n",
      "Computing the msd similarity matrix...\n",
      "Done computing similarity matrix.\n",
      "Estimating biases using als...\n",
      "Computing the msd similarity matrix...\n",
      "Done computing similarity matrix.\n",
      "Estimating biases using als...\n",
      "Computing the msd similarity matrix...\n",
      "Done computing similarity matrix.\n",
      "Estimating biases using als...\n",
      "Computing the msd similarity matrix...\n",
      "Done computing similarity matrix.\n",
      "Estimating biases using als...\n",
      "Computing the msd similarity matrix...\n",
      "Done computing similarity matrix.\n",
      "Computing the msd similarity matrix...\n",
      "Done computing similarity matrix.\n",
      "Computing the msd similarity matrix...\n",
      "Done computing similarity matrix.\n",
      "Computing the msd similarity matrix...\n",
      "Done computing similarity matrix.\n",
      "Computing the msd similarity matrix...\n",
      "Done computing similarity matrix.\n",
      "Computing the msd similarity matrix...\n",
      "Done computing similarity matrix.\n",
      "Computing the msd similarity matrix...\n",
      "Done computing similarity matrix.\n",
      "Computing the msd similarity matrix...\n",
      "Done computing similarity matrix.\n",
      "Computing the msd similarity matrix...\n",
      "Done computing similarity matrix.\n",
      "Computing the msd similarity matrix...\n",
      "Done computing similarity matrix.\n",
      "Computing the msd similarity matrix...\n",
      "Done computing similarity matrix.\n",
      "Computing the msd similarity matrix...\n",
      "Done computing similarity matrix.\n",
      "Computing the msd similarity matrix...\n",
      "Done computing similarity matrix.\n",
      "Computing the msd similarity matrix...\n",
      "Done computing similarity matrix.\n",
      "Computing the msd similarity matrix...\n",
      "Done computing similarity matrix.\n",
      "Computing the msd similarity matrix...\n",
      "Done computing similarity matrix.\n"
     ]
    }
   ],
   "source": [
    "model_list = [surprise.NormalPredictor(), surprise.BaselineOnly(), surprise.KNNBaseline(), surprise.KNNBasic(), surprise.KNNWithMeans(), surprise.KNNWithZScore(), surprise.SlopeOne(), surprise.SVD(), surprise.SVDpp(), surprise.NMF(), surprise.CoClustering(), surprise.SlopeOne()]\n",
    "\n",
    "result = {}\n",
    "for model in model_list:\n",
    "    scores = surprise.model_selection.cross_validate(model, train_set_reduced, measures=[\"RMSE\"], cv=5, verbose=False)\n",
    "    result[model.__class__.__name__] = scores[\"test_rmse\"].mean()"
   ]
  },
  {
   "cell_type": "code",
   "execution_count": 17,
   "metadata": {},
   "outputs": [
    {
     "data": {
      "text/plain": [
       "[('KNNBasic', 0.38172427627506905),\n",
       " ('KNNBaseline', 0.3820056473236555),\n",
       " ('KNNWithZScore', 0.3820308764281658),\n",
       " ('SVD', 0.3820579572434806),\n",
       " ('KNNWithMeans', 0.3820798398266646),\n",
       " ('SlopeOne', 0.38213003478282587),\n",
       " ('NMF', 0.38250379714406135),\n",
       " ('BaselineOnly', 0.3826833270790552),\n",
       " ('CoClustering', 0.38311510570279644),\n",
       " ('SVDpp', 0.3831358528435833),\n",
       " ('NormalPredictor', 0.5378873830845352)]"
      ]
     },
     "execution_count": 17,
     "metadata": {},
     "output_type": "execute_result"
    }
   ],
   "source": [
    "# ------------------------- BEST ALGORITHMS WITH RMSE ------------------------ #\n",
    "sorted(result.items(), key=lambda x: x[1])"
   ]
  },
  {
   "cell_type": "markdown",
   "metadata": {},
   "source": [
    "### Now, lets perform some Grid Search on our best models"
   ]
  },
  {
   "cell_type": "markdown",
   "metadata": {},
   "source": [
    "We know that a very similar class exists in Surprise and Sklearn. However, in order to perfectly control its behaviour and to be able to run this code in parallel on the LSE cluster, we preferred to reimplement the gridSearch in our own way."
   ]
  },
  {
   "cell_type": "code",
   "execution_count": 18,
   "metadata": {},
   "outputs": [],
   "source": [
    "import sklearn.model_selection\n",
    "\n",
    "class MyCrossValidation:\n",
    "    def __init__(self, model, params):\n",
    "        self.model_list = [\n",
    "            (model(**args, verbose=False), args)\n",
    "            for args in list(sklearn.model_selection.ParameterGrid(params))\n",
    "        ]\n",
    "        self.full_train_set = train_set_reduced.build_full_trainset()\n",
    "\n",
    "    def __train_test_model(self, model, params, verbose=1):\n",
    "        model.fit(\n",
    "            self.full_train_set,\n",
    "        )\n",
    "        predictions = model.test(self.full_train_set.build_testset())\n",
    "        score = surprise.accuracy.rmse(\n",
    "            predictions, verbose=True if verbose == 2 else False\n",
    "        )\n",
    "        if verbose == 1:\n",
    "            print(\"Params {} :\".format(str(params)), score)\n",
    "        return (params, score)\n",
    "\n",
    "    def __call__(self, verbose=1):\n",
    "        res = []\n",
    "        while len(self.model_list):\n",
    "            model, params = self.model_list.pop()\n",
    "            if verbose == 1:\n",
    "                print(\"{} left\".format(len(self.model_list)), end=\" --- \")\n",
    "            res.append(self.__train_test_model(model, params, verbose))\n",
    "            del model\n",
    "        return sorted(res, key=lambda x: x[1])"
   ]
  },
  {
   "cell_type": "code",
   "execution_count": 19,
   "metadata": {},
   "outputs": [
    {
     "name": "stdout",
     "output_type": "stream",
     "text": [
      "80 left --- Params {'biased': False, 'reg_bi': 0.05, 'reg_bu': 0.5, 'reg_pu': 0.005, 'reg_qi': 0.05} : 0.1691998391127207\n",
      "79 left --- Params {'biased': False, 'reg_bi': 0.05, 'reg_bu': 0.5, 'reg_pu': 0.005, 'reg_qi': 0.01} : 0.6293635637277619\n",
      "78 left --- Params {'biased': False, 'reg_bi': 0.05, 'reg_bu': 0.5, 'reg_pu': 0.005, 'reg_qi': 0.005} : 0.8182999272080891\n",
      "77 left --- Params {'biased': False, 'reg_bi': 0.05, 'reg_bu': 0.5, 'reg_pu': 0.001, 'reg_qi': 0.05} : 0.35378066570932104\n",
      "76 left --- Params {'biased': False, 'reg_bi': 0.05, 'reg_bu': 0.5, 'reg_pu': 0.001, 'reg_qi': 0.01} : 0.85018319772609\n",
      "75 left --- Params {'biased': False, 'reg_bi': 0.05, 'reg_bu': 0.5, 'reg_pu': 0.001, 'reg_qi': 0.005} : 0.8896630224300752\n",
      "74 left --- Params {'biased': False, 'reg_bi': 0.05, 'reg_bu': 0.5, 'reg_pu': 0.0005, 'reg_qi': 0.05} : 0.39852829461117945\n",
      "73 left --- Params {'biased': False, 'reg_bi': 0.05, 'reg_bu': 0.5, 'reg_pu': 0.0005, 'reg_qi': 0.01} : 0.8662943448870783\n",
      "72 left --- Params {'biased': False, 'reg_bi': 0.05, 'reg_bu': 0.5, 'reg_pu': 0.0005, 'reg_qi': 0.005} : 0.8924686595080946\n",
      "71 left --- Params {'biased': False, 'reg_bi': 0.05, 'reg_bu': 0.1, 'reg_pu': 0.005, 'reg_qi': 0.05} : 0.1690563294412974\n",
      "70 left --- Params {'biased': False, 'reg_bi': 0.05, 'reg_bu': 0.1, 'reg_pu': 0.005, 'reg_qi': 0.01} : 0.635025013726813\n",
      "69 left --- Params {'biased': False, 'reg_bi': 0.05, 'reg_bu': 0.1, 'reg_pu': 0.005, 'reg_qi': 0.005} : 0.8171400771623728\n",
      "68 left --- Params {'biased': False, 'reg_bi': 0.05, 'reg_bu': 0.1, 'reg_pu': 0.001, 'reg_qi': 0.05} : 0.35355168257079017\n",
      "67 left --- Params {'biased': False, 'reg_bi': 0.05, 'reg_bu': 0.1, 'reg_pu': 0.001, 'reg_qi': 0.01} : 0.8508623761666133\n",
      "66 left --- Params {'biased': False, 'reg_bi': 0.05, 'reg_bu': 0.1, 'reg_pu': 0.001, 'reg_qi': 0.005} : 0.8888834904763858\n",
      "65 left --- Params {'biased': False, 'reg_bi': 0.05, 'reg_bu': 0.1, 'reg_pu': 0.0005, 'reg_qi': 0.05} : 0.4008445324687522\n",
      "64 left --- Params {'biased': False, 'reg_bi': 0.05, 'reg_bu': 0.1, 'reg_pu': 0.0005, 'reg_qi': 0.01} : 0.8658697180818852\n",
      "63 left --- Params {'biased': False, 'reg_bi': 0.05, 'reg_bu': 0.1, 'reg_pu': 0.0005, 'reg_qi': 0.005} : 0.8935851287893593\n",
      "62 left --- Params {'biased': False, 'reg_bi': 0.05, 'reg_bu': 0.05, 'reg_pu': 0.005, 'reg_qi': 0.05} : 0.16893404211915697\n",
      "61 left --- Params {'biased': False, 'reg_bi': 0.05, 'reg_bu': 0.05, 'reg_pu': 0.005, 'reg_qi': 0.01} : 0.6300223042807865\n",
      "60 left --- Params {'biased': False, 'reg_bi': 0.05, 'reg_bu': 0.05, 'reg_pu': 0.005, 'reg_qi': 0.005} : 0.8194796871043579\n",
      "59 left --- Params {'biased': False, 'reg_bi': 0.05, 'reg_bu': 0.05, 'reg_pu': 0.001, 'reg_qi': 0.05} : 0.34988102589057973\n",
      "58 left --- Params {'biased': False, 'reg_bi': 0.05, 'reg_bu': 0.05, 'reg_pu': 0.001, 'reg_qi': 0.01} : 0.8497208212571715\n",
      "57 left --- Params {'biased': False, 'reg_bi': 0.05, 'reg_bu': 0.05, 'reg_pu': 0.001, 'reg_qi': 0.005} : 0.8898273439512293\n",
      "56 left --- Params {'biased': False, 'reg_bi': 0.05, 'reg_bu': 0.05, 'reg_pu': 0.0005, 'reg_qi': 0.05} : 0.39879446348348907\n",
      "55 left --- Params {'biased': False, 'reg_bi': 0.05, 'reg_bu': 0.05, 'reg_pu': 0.0005, 'reg_qi': 0.01} : 0.8662905057271602\n",
      "54 left --- Params {'biased': False, 'reg_bi': 0.05, 'reg_bu': 0.05, 'reg_pu': 0.0005, 'reg_qi': 0.005} : 0.8939315593992402\n",
      "53 left --- Params {'biased': False, 'reg_bi': 0.01, 'reg_bu': 0.5, 'reg_pu': 0.005, 'reg_qi': 0.05} : 0.1691726078083326\n",
      "52 left --- Params {'biased': False, 'reg_bi': 0.01, 'reg_bu': 0.5, 'reg_pu': 0.005, 'reg_qi': 0.01} : 0.631325276672368\n",
      "51 left --- Params {'biased': False, 'reg_bi': 0.01, 'reg_bu': 0.5, 'reg_pu': 0.005, 'reg_qi': 0.005} : 0.8186186086223196\n",
      "50 left --- Params {'biased': False, 'reg_bi': 0.01, 'reg_bu': 0.5, 'reg_pu': 0.001, 'reg_qi': 0.05} : 0.35160330269645085\n",
      "49 left --- Params {'biased': False, 'reg_bi': 0.01, 'reg_bu': 0.5, 'reg_pu': 0.001, 'reg_qi': 0.01} : 0.8502430566477298\n",
      "48 left --- Params {'biased': False, 'reg_bi': 0.01, 'reg_bu': 0.5, 'reg_pu': 0.001, 'reg_qi': 0.005} : 0.8906787359551481\n",
      "47 left --- Params {'biased': False, 'reg_bi': 0.01, 'reg_bu': 0.5, 'reg_pu': 0.0005, 'reg_qi': 0.05} : 0.40070899979418756\n",
      "46 left --- Params {'biased': False, 'reg_bi': 0.01, 'reg_bu': 0.5, 'reg_pu': 0.0005, 'reg_qi': 0.01} : 0.8655761496108507\n",
      "45 left --- Params {'biased': False, 'reg_bi': 0.01, 'reg_bu': 0.5, 'reg_pu': 0.0005, 'reg_qi': 0.005} : 0.8925349822958891\n",
      "44 left --- Params {'biased': False, 'reg_bi': 0.01, 'reg_bu': 0.1, 'reg_pu': 0.005, 'reg_qi': 0.05} : 0.16874477703612206\n",
      "43 left --- Params {'biased': False, 'reg_bi': 0.01, 'reg_bu': 0.1, 'reg_pu': 0.005, 'reg_qi': 0.01} : 0.6320471385033639\n",
      "42 left --- Params {'biased': False, 'reg_bi': 0.01, 'reg_bu': 0.1, 'reg_pu': 0.005, 'reg_qi': 0.005} : 0.8147276224790757\n",
      "41 left --- Params {'biased': False, 'reg_bi': 0.01, 'reg_bu': 0.1, 'reg_pu': 0.001, 'reg_qi': 0.05} : 0.354365082995573\n",
      "40 left --- Params {'biased': False, 'reg_bi': 0.01, 'reg_bu': 0.1, 'reg_pu': 0.001, 'reg_qi': 0.01} : 0.8500070039479907\n",
      "39 left --- Params {'biased': False, 'reg_bi': 0.01, 'reg_bu': 0.1, 'reg_pu': 0.001, 'reg_qi': 0.005} : 0.8880092961337026\n",
      "38 left --- Params {'biased': False, 'reg_bi': 0.01, 'reg_bu': 0.1, 'reg_pu': 0.0005, 'reg_qi': 0.05} : 0.40047051348470053\n",
      "37 left --- Params {'biased': False, 'reg_bi': 0.01, 'reg_bu': 0.1, 'reg_pu': 0.0005, 'reg_qi': 0.01} : 0.8659755496493403\n",
      "36 left --- Params {'biased': False, 'reg_bi': 0.01, 'reg_bu': 0.1, 'reg_pu': 0.0005, 'reg_qi': 0.005} : 0.8931020321681157\n",
      "35 left --- Params {'biased': False, 'reg_bi': 0.01, 'reg_bu': 0.05, 'reg_pu': 0.005, 'reg_qi': 0.05} : 0.16965086689288264\n",
      "34 left --- Params {'biased': False, 'reg_bi': 0.01, 'reg_bu': 0.05, 'reg_pu': 0.005, 'reg_qi': 0.01} : 0.631786015219698\n",
      "33 left --- Params {'biased': False, 'reg_bi': 0.01, 'reg_bu': 0.05, 'reg_pu': 0.005, 'reg_qi': 0.005} : 0.8201166395002556\n",
      "32 left --- Params {'biased': False, 'reg_bi': 0.01, 'reg_bu': 0.05, 'reg_pu': 0.001, 'reg_qi': 0.05} : 0.3529254913693407\n",
      "31 left --- Params {'biased': False, 'reg_bi': 0.01, 'reg_bu': 0.05, 'reg_pu': 0.001, 'reg_qi': 0.01} : 0.8511822085097014\n",
      "30 left --- Params {'biased': False, 'reg_bi': 0.01, 'reg_bu': 0.05, 'reg_pu': 0.001, 'reg_qi': 0.005} : 0.8903105548727309\n",
      "29 left --- Params {'biased': False, 'reg_bi': 0.01, 'reg_bu': 0.05, 'reg_pu': 0.0005, 'reg_qi': 0.05} : 0.39969828129799273\n",
      "28 left --- Params {'biased': False, 'reg_bi': 0.01, 'reg_bu': 0.05, 'reg_pu': 0.0005, 'reg_qi': 0.01} : 0.8624561757444351\n",
      "27 left --- Params {'biased': False, 'reg_bi': 0.01, 'reg_bu': 0.05, 'reg_pu': 0.0005, 'reg_qi': 0.005} : 0.8927266360241832\n",
      "26 left --- Params {'biased': False, 'reg_bi': 0.005, 'reg_bu': 0.5, 'reg_pu': 0.005, 'reg_qi': 0.05} : 0.1684731764744729\n",
      "25 left --- Params {'biased': False, 'reg_bi': 0.005, 'reg_bu': 0.5, 'reg_pu': 0.005, 'reg_qi': 0.01} : 0.6302984747676288\n",
      "24 left --- Params {'biased': False, 'reg_bi': 0.005, 'reg_bu': 0.5, 'reg_pu': 0.005, 'reg_qi': 0.005} : 0.8190357871833296\n",
      "23 left --- Params {'biased': False, 'reg_bi': 0.005, 'reg_bu': 0.5, 'reg_pu': 0.001, 'reg_qi': 0.05} : 0.3522200709344558\n",
      "22 left --- Params {'biased': False, 'reg_bi': 0.005, 'reg_bu': 0.5, 'reg_pu': 0.001, 'reg_qi': 0.01} : 0.8513633900604888\n",
      "21 left --- Params {'biased': False, 'reg_bi': 0.005, 'reg_bu': 0.5, 'reg_pu': 0.001, 'reg_qi': 0.005} : 0.887834644750543\n",
      "20 left --- Params {'biased': False, 'reg_bi': 0.005, 'reg_bu': 0.5, 'reg_pu': 0.0005, 'reg_qi': 0.05} : 0.4016344733110236\n",
      "19 left --- Params {'biased': False, 'reg_bi': 0.005, 'reg_bu': 0.5, 'reg_pu': 0.0005, 'reg_qi': 0.01} : 0.8683970989671523\n",
      "18 left --- Params {'biased': False, 'reg_bi': 0.005, 'reg_bu': 0.5, 'reg_pu': 0.0005, 'reg_qi': 0.005} : 0.8943377051294155\n",
      "17 left --- Params {'biased': False, 'reg_bi': 0.005, 'reg_bu': 0.1, 'reg_pu': 0.005, 'reg_qi': 0.05} : 0.16898623331335405\n",
      "16 left --- Params {'biased': False, 'reg_bi': 0.005, 'reg_bu': 0.1, 'reg_pu': 0.005, 'reg_qi': 0.01} : 0.6289087794251035\n",
      "15 left --- Params {'biased': False, 'reg_bi': 0.005, 'reg_bu': 0.1, 'reg_pu': 0.005, 'reg_qi': 0.005} : 0.817236745207606\n",
      "14 left --- Params {'biased': False, 'reg_bi': 0.005, 'reg_bu': 0.1, 'reg_pu': 0.001, 'reg_qi': 0.05} : 0.35320703102695383\n",
      "13 left --- Params {'biased': False, 'reg_bi': 0.005, 'reg_bu': 0.1, 'reg_pu': 0.001, 'reg_qi': 0.01} : 0.8501476867075356\n",
      "12 left --- Params {'biased': False, 'reg_bi': 0.005, 'reg_bu': 0.1, 'reg_pu': 0.001, 'reg_qi': 0.005} : 0.8895867322906212\n",
      "11 left --- Params {'biased': False, 'reg_bi': 0.005, 'reg_bu': 0.1, 'reg_pu': 0.0005, 'reg_qi': 0.05} : 0.4017252158822008\n",
      "10 left --- Params {'biased': False, 'reg_bi': 0.005, 'reg_bu': 0.1, 'reg_pu': 0.0005, 'reg_qi': 0.01} : 0.8627790808515282\n",
      "9 left --- Params {'biased': False, 'reg_bi': 0.005, 'reg_bu': 0.1, 'reg_pu': 0.0005, 'reg_qi': 0.005} : 0.8936163857119137\n",
      "8 left --- Params {'biased': False, 'reg_bi': 0.005, 'reg_bu': 0.05, 'reg_pu': 0.005, 'reg_qi': 0.05} : 0.16869710291950749\n",
      "7 left --- Params {'biased': False, 'reg_bi': 0.005, 'reg_bu': 0.05, 'reg_pu': 0.005, 'reg_qi': 0.01} : 0.6318259235539878\n",
      "6 left --- Params {'biased': False, 'reg_bi': 0.005, 'reg_bu': 0.05, 'reg_pu': 0.005, 'reg_qi': 0.005} : 0.8175136769101266\n",
      "5 left --- Params {'biased': False, 'reg_bi': 0.005, 'reg_bu': 0.05, 'reg_pu': 0.001, 'reg_qi': 0.05} : 0.35227255135653984\n",
      "4 left --- Params {'biased': False, 'reg_bi': 0.005, 'reg_bu': 0.05, 'reg_pu': 0.001, 'reg_qi': 0.01} : 0.8495722601445813\n",
      "3 left --- Params {'biased': False, 'reg_bi': 0.005, 'reg_bu': 0.05, 'reg_pu': 0.001, 'reg_qi': 0.005} : 0.8884822631602112\n",
      "2 left --- Params {'biased': False, 'reg_bi': 0.005, 'reg_bu': 0.05, 'reg_pu': 0.0005, 'reg_qi': 0.05} : 0.3996491280201094\n",
      "1 left --- Params {'biased': False, 'reg_bi': 0.005, 'reg_bu': 0.05, 'reg_pu': 0.0005, 'reg_qi': 0.01} : 0.8669788896978716\n",
      "0 left --- Params {'biased': False, 'reg_bi': 0.005, 'reg_bu': 0.05, 'reg_pu': 0.0005, 'reg_qi': 0.005} : 0.8945585939201425\n"
     ]
    },
    {
     "data": {
      "text/plain": [
       "({'biased': False,\n",
       "  'reg_bi': 0.005,\n",
       "  'reg_bu': 0.5,\n",
       "  'reg_pu': 0.005,\n",
       "  'reg_qi': 0.05},\n",
       " 0.1684731764744729)"
      ]
     },
     "execution_count": 19,
     "metadata": {},
     "output_type": "execute_result"
    }
   ],
   "source": [
    "# ---------------------------- GRID SEARCH FOR NMF --------------------------- #\n",
    "params = {\n",
    "    \"biased\" : [False],\n",
    "    \"reg_bu\" : [0.05, 0.1, 0.5],\n",
    "    \"reg_bi\" : [0.005, 0.01, 0.05],\n",
    "    \"reg_qi\" : [0.005, 0.01, 0.05],\n",
    "    \"reg_pu\" : [0.0005, 0.001, 0.005],\n",
    "}\n",
    "\n",
    "best_nmf_models = MyCrossValidation(surprise.prediction_algorithms.matrix_factorization.NMF, params)()\n",
    "best_nmf_models[0]"
   ]
  },
  {
   "cell_type": "code",
   "execution_count": 20,
   "metadata": {},
   "outputs": [
    {
     "name": "stdout",
     "output_type": "stream",
     "text": [
      "242 left --- Params {'biased': False, 'init_std_dev': 5, 'lr_all': 0.001, 'reg_bi': 0.05, 'reg_bu': 0.5, 'reg_pu': 0.005, 'reg_qi': 0.05} : 0.9061849013438212\n",
      "241 left --- Params {'biased': False, 'init_std_dev': 5, 'lr_all': 0.001, 'reg_bi': 0.05, 'reg_bu': 0.5, 'reg_pu': 0.005, 'reg_qi': 0.01} : 0.9056766047389532\n",
      "240 left --- Params {'biased': False, 'init_std_dev': 5, 'lr_all': 0.001, 'reg_bi': 0.05, 'reg_bu': 0.5, 'reg_pu': 0.005, 'reg_qi': 0.005} : 0.9055730924261075\n",
      "239 left --- Params {'biased': False, 'init_std_dev': 5, 'lr_all': 0.001, 'reg_bi': 0.05, 'reg_bu': 0.5, 'reg_pu': 0.001, 'reg_qi': 0.05} : 0.9057487194078204\n",
      "238 left --- Params {'biased': False, 'init_std_dev': 5, 'lr_all': 0.001, 'reg_bi': 0.05, 'reg_bu': 0.5, 'reg_pu': 0.001, 'reg_qi': 0.01} : 0.9059475339492905\n",
      "237 left --- Params {'biased': False, 'init_std_dev': 5, 'lr_all': 0.001, 'reg_bi': 0.05, 'reg_bu': 0.5, 'reg_pu': 0.001, 'reg_qi': 0.005} : 0.905968459957091\n",
      "236 left --- Params {'biased': False, 'init_std_dev': 5, 'lr_all': 0.001, 'reg_bi': 0.05, 'reg_bu': 0.5, 'reg_pu': 0.0005, 'reg_qi': 0.05} : 0.9044847864648167\n",
      "235 left --- Params {'biased': False, 'init_std_dev': 5, 'lr_all': 0.001, 'reg_bi': 0.05, 'reg_bu': 0.5, 'reg_pu': 0.0005, 'reg_qi': 0.01} : 0.9056407249194566\n",
      "234 left --- Params {'biased': False, 'init_std_dev': 5, 'lr_all': 0.001, 'reg_bi': 0.05, 'reg_bu': 0.5, 'reg_pu': 0.0005, 'reg_qi': 0.005} : 0.9049835105586762\n",
      "233 left --- Params {'biased': False, 'init_std_dev': 5, 'lr_all': 0.001, 'reg_bi': 0.05, 'reg_bu': 0.1, 'reg_pu': 0.005, 'reg_qi': 0.05} : 0.9052693406870087\n",
      "232 left --- Params {'biased': False, 'init_std_dev': 5, 'lr_all': 0.001, 'reg_bi': 0.05, 'reg_bu': 0.1, 'reg_pu': 0.005, 'reg_qi': 0.01} : 0.9059294702333142\n",
      "231 left --- Params {'biased': False, 'init_std_dev': 5, 'lr_all': 0.001, 'reg_bi': 0.05, 'reg_bu': 0.1, 'reg_pu': 0.005, 'reg_qi': 0.005} : 0.9058176376302438\n",
      "230 left --- Params {'biased': False, 'init_std_dev': 5, 'lr_all': 0.001, 'reg_bi': 0.05, 'reg_bu': 0.1, 'reg_pu': 0.001, 'reg_qi': 0.05} : 0.9058682938529483\n",
      "229 left --- Params {'biased': False, 'init_std_dev': 5, 'lr_all': 0.001, 'reg_bi': 0.05, 'reg_bu': 0.1, 'reg_pu': 0.001, 'reg_qi': 0.01} : 0.9057417262779429\n",
      "228 left --- Params {'biased': False, 'init_std_dev': 5, 'lr_all': 0.001, 'reg_bi': 0.05, 'reg_bu': 0.1, 'reg_pu': 0.001, 'reg_qi': 0.005} : 0.9050238536754397\n",
      "227 left --- Params {'biased': False, 'init_std_dev': 5, 'lr_all': 0.001, 'reg_bi': 0.05, 'reg_bu': 0.1, 'reg_pu': 0.0005, 'reg_qi': 0.05} : 0.9049670031466468\n",
      "226 left --- Params {'biased': False, 'init_std_dev': 5, 'lr_all': 0.001, 'reg_bi': 0.05, 'reg_bu': 0.1, 'reg_pu': 0.0005, 'reg_qi': 0.01} : 0.905637129430951\n",
      "225 left --- Params {'biased': False, 'init_std_dev': 5, 'lr_all': 0.001, 'reg_bi': 0.05, 'reg_bu': 0.1, 'reg_pu': 0.0005, 'reg_qi': 0.005} : 0.9054898413050753\n",
      "224 left --- Params {'biased': False, 'init_std_dev': 5, 'lr_all': 0.001, 'reg_bi': 0.05, 'reg_bu': 0.05, 'reg_pu': 0.005, 'reg_qi': 0.05} : 0.905827068026035\n",
      "223 left --- Params {'biased': False, 'init_std_dev': 5, 'lr_all': 0.001, 'reg_bi': 0.05, 'reg_bu': 0.05, 'reg_pu': 0.005, 'reg_qi': 0.01} : 0.9050796422500413\n",
      "222 left --- Params {'biased': False, 'init_std_dev': 5, 'lr_all': 0.001, 'reg_bi': 0.05, 'reg_bu': 0.05, 'reg_pu': 0.005, 'reg_qi': 0.005} : 0.9056896053901615\n",
      "221 left --- Params {'biased': False, 'init_std_dev': 5, 'lr_all': 0.001, 'reg_bi': 0.05, 'reg_bu': 0.05, 'reg_pu': 0.001, 'reg_qi': 0.05} : 0.9059584492405981\n",
      "220 left --- Params {'biased': False, 'init_std_dev': 5, 'lr_all': 0.001, 'reg_bi': 0.05, 'reg_bu': 0.05, 'reg_pu': 0.001, 'reg_qi': 0.01} : 0.9056971706478272\n",
      "219 left --- Params {'biased': False, 'init_std_dev': 5, 'lr_all': 0.001, 'reg_bi': 0.05, 'reg_bu': 0.05, 'reg_pu': 0.001, 'reg_qi': 0.005} : 0.9056514715498779\n",
      "218 left --- Params {'biased': False, 'init_std_dev': 5, 'lr_all': 0.001, 'reg_bi': 0.05, 'reg_bu': 0.05, 'reg_pu': 0.0005, 'reg_qi': 0.05} : 0.9050482991097004\n",
      "217 left --- Params {'biased': False, 'init_std_dev': 5, 'lr_all': 0.001, 'reg_bi': 0.05, 'reg_bu': 0.05, 'reg_pu': 0.0005, 'reg_qi': 0.01} : 0.9053910644788328\n",
      "216 left --- Params {'biased': False, 'init_std_dev': 5, 'lr_all': 0.001, 'reg_bi': 0.05, 'reg_bu': 0.05, 'reg_pu': 0.0005, 'reg_qi': 0.005} : 0.9068103858865826\n",
      "215 left --- Params {'biased': False, 'init_std_dev': 5, 'lr_all': 0.001, 'reg_bi': 0.01, 'reg_bu': 0.5, 'reg_pu': 0.005, 'reg_qi': 0.05} : 0.9064624160077921\n",
      "214 left --- Params {'biased': False, 'init_std_dev': 5, 'lr_all': 0.001, 'reg_bi': 0.01, 'reg_bu': 0.5, 'reg_pu': 0.005, 'reg_qi': 0.01} : 0.905699454561753\n",
      "213 left --- Params {'biased': False, 'init_std_dev': 5, 'lr_all': 0.001, 'reg_bi': 0.01, 'reg_bu': 0.5, 'reg_pu': 0.005, 'reg_qi': 0.005} : 0.9062798053895713\n",
      "212 left --- Params {'biased': False, 'init_std_dev': 5, 'lr_all': 0.001, 'reg_bi': 0.01, 'reg_bu': 0.5, 'reg_pu': 0.001, 'reg_qi': 0.05} : 0.9050906805376592\n",
      "211 left --- Params {'biased': False, 'init_std_dev': 5, 'lr_all': 0.001, 'reg_bi': 0.01, 'reg_bu': 0.5, 'reg_pu': 0.001, 'reg_qi': 0.01} : 0.9054307967351055\n",
      "210 left --- Params {'biased': False, 'init_std_dev': 5, 'lr_all': 0.001, 'reg_bi': 0.01, 'reg_bu': 0.5, 'reg_pu': 0.001, 'reg_qi': 0.005} : 0.9060278433118177\n",
      "209 left --- Params {'biased': False, 'init_std_dev': 5, 'lr_all': 0.001, 'reg_bi': 0.01, 'reg_bu': 0.5, 'reg_pu': 0.0005, 'reg_qi': 0.05} : 0.9058445550156741\n",
      "208 left --- Params {'biased': False, 'init_std_dev': 5, 'lr_all': 0.001, 'reg_bi': 0.01, 'reg_bu': 0.5, 'reg_pu': 0.0005, 'reg_qi': 0.01} : 0.9061512651139261\n",
      "207 left --- Params {'biased': False, 'init_std_dev': 5, 'lr_all': 0.001, 'reg_bi': 0.01, 'reg_bu': 0.5, 'reg_pu': 0.0005, 'reg_qi': 0.005} : 0.9068911682927459\n",
      "206 left --- Params {'biased': False, 'init_std_dev': 5, 'lr_all': 0.001, 'reg_bi': 0.01, 'reg_bu': 0.1, 'reg_pu': 0.005, 'reg_qi': 0.05} : 0.9062150612252694\n",
      "205 left --- Params {'biased': False, 'init_std_dev': 5, 'lr_all': 0.001, 'reg_bi': 0.01, 'reg_bu': 0.1, 'reg_pu': 0.005, 'reg_qi': 0.01} : 0.906532964392925\n",
      "204 left --- Params {'biased': False, 'init_std_dev': 5, 'lr_all': 0.001, 'reg_bi': 0.01, 'reg_bu': 0.1, 'reg_pu': 0.005, 'reg_qi': 0.005} : 0.9061444469629779\n",
      "203 left --- Params {'biased': False, 'init_std_dev': 5, 'lr_all': 0.001, 'reg_bi': 0.01, 'reg_bu': 0.1, 'reg_pu': 0.001, 'reg_qi': 0.05} : 0.905522944995128\n",
      "202 left --- Params {'biased': False, 'init_std_dev': 5, 'lr_all': 0.001, 'reg_bi': 0.01, 'reg_bu': 0.1, 'reg_pu': 0.001, 'reg_qi': 0.01} : 0.9065628219724231\n",
      "201 left --- Params {'biased': False, 'init_std_dev': 5, 'lr_all': 0.001, 'reg_bi': 0.01, 'reg_bu': 0.1, 'reg_pu': 0.001, 'reg_qi': 0.005} : 0.9057814755951697\n",
      "200 left --- Params {'biased': False, 'init_std_dev': 5, 'lr_all': 0.001, 'reg_bi': 0.01, 'reg_bu': 0.1, 'reg_pu': 0.0005, 'reg_qi': 0.05} : 0.9053925738640082\n",
      "199 left --- Params {'biased': False, 'init_std_dev': 5, 'lr_all': 0.001, 'reg_bi': 0.01, 'reg_bu': 0.1, 'reg_pu': 0.0005, 'reg_qi': 0.01} : 0.9056556107648256\n",
      "198 left --- Params {'biased': False, 'init_std_dev': 5, 'lr_all': 0.001, 'reg_bi': 0.01, 'reg_bu': 0.1, 'reg_pu': 0.0005, 'reg_qi': 0.005} : 0.9053014571025924\n",
      "197 left --- Params {'biased': False, 'init_std_dev': 5, 'lr_all': 0.001, 'reg_bi': 0.01, 'reg_bu': 0.05, 'reg_pu': 0.005, 'reg_qi': 0.05} : 0.905302110877864\n",
      "196 left --- Params {'biased': False, 'init_std_dev': 5, 'lr_all': 0.001, 'reg_bi': 0.01, 'reg_bu': 0.05, 'reg_pu': 0.005, 'reg_qi': 0.01} : 0.9064276711630639\n",
      "195 left --- Params {'biased': False, 'init_std_dev': 5, 'lr_all': 0.001, 'reg_bi': 0.01, 'reg_bu': 0.05, 'reg_pu': 0.005, 'reg_qi': 0.005} : 0.9054801391959075\n",
      "194 left --- Params {'biased': False, 'init_std_dev': 5, 'lr_all': 0.001, 'reg_bi': 0.01, 'reg_bu': 0.05, 'reg_pu': 0.001, 'reg_qi': 0.05} : 0.9056892828928264\n",
      "193 left --- Params {'biased': False, 'init_std_dev': 5, 'lr_all': 0.001, 'reg_bi': 0.01, 'reg_bu': 0.05, 'reg_pu': 0.001, 'reg_qi': 0.01} : 0.9054469121018264\n",
      "192 left --- Params {'biased': False, 'init_std_dev': 5, 'lr_all': 0.001, 'reg_bi': 0.01, 'reg_bu': 0.05, 'reg_pu': 0.001, 'reg_qi': 0.005} : 0.9058077638251781\n",
      "191 left --- Params {'biased': False, 'init_std_dev': 5, 'lr_all': 0.001, 'reg_bi': 0.01, 'reg_bu': 0.05, 'reg_pu': 0.0005, 'reg_qi': 0.05} : 0.9050243310945247\n",
      "190 left --- Params {'biased': False, 'init_std_dev': 5, 'lr_all': 0.001, 'reg_bi': 0.01, 'reg_bu': 0.05, 'reg_pu': 0.0005, 'reg_qi': 0.01} : 0.9054320500833292\n",
      "189 left --- Params {'biased': False, 'init_std_dev': 5, 'lr_all': 0.001, 'reg_bi': 0.01, 'reg_bu': 0.05, 'reg_pu': 0.0005, 'reg_qi': 0.005} : 0.9055483931779799\n",
      "188 left --- Params {'biased': False, 'init_std_dev': 5, 'lr_all': 0.001, 'reg_bi': 0.005, 'reg_bu': 0.5, 'reg_pu': 0.005, 'reg_qi': 0.05} : 0.9057261419361691\n",
      "187 left --- Params {'biased': False, 'init_std_dev': 5, 'lr_all': 0.001, 'reg_bi': 0.005, 'reg_bu': 0.5, 'reg_pu': 0.005, 'reg_qi': 0.01} : 0.9055892181214232\n",
      "186 left --- Params {'biased': False, 'init_std_dev': 5, 'lr_all': 0.001, 'reg_bi': 0.005, 'reg_bu': 0.5, 'reg_pu': 0.005, 'reg_qi': 0.005} : 0.9067945696937899\n",
      "185 left --- Params {'biased': False, 'init_std_dev': 5, 'lr_all': 0.001, 'reg_bi': 0.005, 'reg_bu': 0.5, 'reg_pu': 0.001, 'reg_qi': 0.05} : 0.9063901913026003\n",
      "184 left --- Params {'biased': False, 'init_std_dev': 5, 'lr_all': 0.001, 'reg_bi': 0.005, 'reg_bu': 0.5, 'reg_pu': 0.001, 'reg_qi': 0.01} : 0.9063697059554535\n",
      "183 left --- Params {'biased': False, 'init_std_dev': 5, 'lr_all': 0.001, 'reg_bi': 0.005, 'reg_bu': 0.5, 'reg_pu': 0.001, 'reg_qi': 0.005} : 0.9053858335530528\n",
      "182 left --- Params {'biased': False, 'init_std_dev': 5, 'lr_all': 0.001, 'reg_bi': 0.005, 'reg_bu': 0.5, 'reg_pu': 0.0005, 'reg_qi': 0.05} : 0.9060607900983207\n",
      "181 left --- Params {'biased': False, 'init_std_dev': 5, 'lr_all': 0.001, 'reg_bi': 0.005, 'reg_bu': 0.5, 'reg_pu': 0.0005, 'reg_qi': 0.01} : 0.9065151082576847\n",
      "180 left --- Params {'biased': False, 'init_std_dev': 5, 'lr_all': 0.001, 'reg_bi': 0.005, 'reg_bu': 0.5, 'reg_pu': 0.0005, 'reg_qi': 0.005} : 0.9054588327426825\n",
      "179 left --- Params {'biased': False, 'init_std_dev': 5, 'lr_all': 0.001, 'reg_bi': 0.005, 'reg_bu': 0.1, 'reg_pu': 0.005, 'reg_qi': 0.05} : 0.905639192305568\n",
      "178 left --- Params {'biased': False, 'init_std_dev': 5, 'lr_all': 0.001, 'reg_bi': 0.005, 'reg_bu': 0.1, 'reg_pu': 0.005, 'reg_qi': 0.01} : 0.9057462154892697\n",
      "177 left --- Params {'biased': False, 'init_std_dev': 5, 'lr_all': 0.001, 'reg_bi': 0.005, 'reg_bu': 0.1, 'reg_pu': 0.005, 'reg_qi': 0.005} : 0.9051677900768123\n",
      "176 left --- Params {'biased': False, 'init_std_dev': 5, 'lr_all': 0.001, 'reg_bi': 0.005, 'reg_bu': 0.1, 'reg_pu': 0.001, 'reg_qi': 0.05} : 0.9056841435742837\n",
      "175 left --- Params {'biased': False, 'init_std_dev': 5, 'lr_all': 0.001, 'reg_bi': 0.005, 'reg_bu': 0.1, 'reg_pu': 0.001, 'reg_qi': 0.01} : 0.905905347365987\n",
      "174 left --- Params {'biased': False, 'init_std_dev': 5, 'lr_all': 0.001, 'reg_bi': 0.005, 'reg_bu': 0.1, 'reg_pu': 0.001, 'reg_qi': 0.005} : 0.9049998838083947\n",
      "173 left --- Params {'biased': False, 'init_std_dev': 5, 'lr_all': 0.001, 'reg_bi': 0.005, 'reg_bu': 0.1, 'reg_pu': 0.0005, 'reg_qi': 0.05} : 0.9052078921580409\n",
      "172 left --- Params {'biased': False, 'init_std_dev': 5, 'lr_all': 0.001, 'reg_bi': 0.005, 'reg_bu': 0.1, 'reg_pu': 0.0005, 'reg_qi': 0.01} : 0.9056713148968579\n",
      "171 left --- Params {'biased': False, 'init_std_dev': 5, 'lr_all': 0.001, 'reg_bi': 0.005, 'reg_bu': 0.1, 'reg_pu': 0.0005, 'reg_qi': 0.005} : 0.9056276759894015\n",
      "170 left --- Params {'biased': False, 'init_std_dev': 5, 'lr_all': 0.001, 'reg_bi': 0.005, 'reg_bu': 0.05, 'reg_pu': 0.005, 'reg_qi': 0.05} : 0.9054299392408371\n",
      "169 left --- Params {'biased': False, 'init_std_dev': 5, 'lr_all': 0.001, 'reg_bi': 0.005, 'reg_bu': 0.05, 'reg_pu': 0.005, 'reg_qi': 0.01} : 0.9057509923559469\n",
      "168 left --- Params {'biased': False, 'init_std_dev': 5, 'lr_all': 0.001, 'reg_bi': 0.005, 'reg_bu': 0.05, 'reg_pu': 0.005, 'reg_qi': 0.005} : 0.9053480098908423\n",
      "167 left --- Params {'biased': False, 'init_std_dev': 5, 'lr_all': 0.001, 'reg_bi': 0.005, 'reg_bu': 0.05, 'reg_pu': 0.001, 'reg_qi': 0.05} : 0.9055845767440085\n",
      "166 left --- Params {'biased': False, 'init_std_dev': 5, 'lr_all': 0.001, 'reg_bi': 0.005, 'reg_bu': 0.05, 'reg_pu': 0.001, 'reg_qi': 0.01} : 0.9051828133410417\n",
      "165 left --- Params {'biased': False, 'init_std_dev': 5, 'lr_all': 0.001, 'reg_bi': 0.005, 'reg_bu': 0.05, 'reg_pu': 0.001, 'reg_qi': 0.005} : 0.9068624948833768\n",
      "164 left --- Params {'biased': False, 'init_std_dev': 5, 'lr_all': 0.001, 'reg_bi': 0.005, 'reg_bu': 0.05, 'reg_pu': 0.0005, 'reg_qi': 0.05} : 0.9062399838745192\n",
      "163 left --- Params {'biased': False, 'init_std_dev': 5, 'lr_all': 0.001, 'reg_bi': 0.005, 'reg_bu': 0.05, 'reg_pu': 0.0005, 'reg_qi': 0.01} : 0.9064871271651648\n",
      "162 left --- Params {'biased': False, 'init_std_dev': 5, 'lr_all': 0.001, 'reg_bi': 0.005, 'reg_bu': 0.05, 'reg_pu': 0.0005, 'reg_qi': 0.005} : 0.905968805450172\n",
      "161 left --- Params {'biased': False, 'init_std_dev': 1, 'lr_all': 0.001, 'reg_bi': 0.05, 'reg_bu': 0.5, 'reg_pu': 0.005, 'reg_qi': 0.05} : 0.15595007748638912\n",
      "160 left --- Params {'biased': False, 'init_std_dev': 1, 'lr_all': 0.001, 'reg_bi': 0.05, 'reg_bu': 0.5, 'reg_pu': 0.005, 'reg_qi': 0.01} : 0.15541570621333778\n",
      "159 left --- Params {'biased': False, 'init_std_dev': 1, 'lr_all': 0.001, 'reg_bi': 0.05, 'reg_bu': 0.5, 'reg_pu': 0.005, 'reg_qi': 0.005} : 0.15357878996722193\n",
      "158 left --- Params {'biased': False, 'init_std_dev': 1, 'lr_all': 0.001, 'reg_bi': 0.05, 'reg_bu': 0.5, 'reg_pu': 0.001, 'reg_qi': 0.05} : 0.1500256494476662\n",
      "157 left --- Params {'biased': False, 'init_std_dev': 1, 'lr_all': 0.001, 'reg_bi': 0.05, 'reg_bu': 0.5, 'reg_pu': 0.001, 'reg_qi': 0.01} : 0.14902950290219408\n",
      "156 left --- Params {'biased': False, 'init_std_dev': 1, 'lr_all': 0.001, 'reg_bi': 0.05, 'reg_bu': 0.5, 'reg_pu': 0.001, 'reg_qi': 0.005} : 0.14912218979805344\n",
      "155 left --- Params {'biased': False, 'init_std_dev': 1, 'lr_all': 0.001, 'reg_bi': 0.05, 'reg_bu': 0.5, 'reg_pu': 0.0005, 'reg_qi': 0.05} : 0.15269008396078942\n",
      "154 left --- Params {'biased': False, 'init_std_dev': 1, 'lr_all': 0.001, 'reg_bi': 0.05, 'reg_bu': 0.5, 'reg_pu': 0.0005, 'reg_qi': 0.01} : 0.1509704228802004\n",
      "153 left --- Params {'biased': False, 'init_std_dev': 1, 'lr_all': 0.001, 'reg_bi': 0.05, 'reg_bu': 0.5, 'reg_pu': 0.0005, 'reg_qi': 0.005} : 0.15056112677287792\n",
      "152 left --- Params {'biased': False, 'init_std_dev': 1, 'lr_all': 0.001, 'reg_bi': 0.05, 'reg_bu': 0.1, 'reg_pu': 0.005, 'reg_qi': 0.05} : 0.14852398344520512\n",
      "151 left --- Params {'biased': False, 'init_std_dev': 1, 'lr_all': 0.001, 'reg_bi': 0.05, 'reg_bu': 0.1, 'reg_pu': 0.005, 'reg_qi': 0.01} : 0.1506609277845838\n",
      "150 left --- Params {'biased': False, 'init_std_dev': 1, 'lr_all': 0.001, 'reg_bi': 0.05, 'reg_bu': 0.1, 'reg_pu': 0.005, 'reg_qi': 0.005} : 0.15398479712369037\n",
      "149 left --- Params {'biased': False, 'init_std_dev': 1, 'lr_all': 0.001, 'reg_bi': 0.05, 'reg_bu': 0.1, 'reg_pu': 0.001, 'reg_qi': 0.05} : 0.1500407095923921\n",
      "148 left --- Params {'biased': False, 'init_std_dev': 1, 'lr_all': 0.001, 'reg_bi': 0.05, 'reg_bu': 0.1, 'reg_pu': 0.001, 'reg_qi': 0.01} : 0.15014790892017926\n",
      "147 left --- Params {'biased': False, 'init_std_dev': 1, 'lr_all': 0.001, 'reg_bi': 0.05, 'reg_bu': 0.1, 'reg_pu': 0.001, 'reg_qi': 0.005} : 0.15058907631565221\n",
      "146 left --- Params {'biased': False, 'init_std_dev': 1, 'lr_all': 0.001, 'reg_bi': 0.05, 'reg_bu': 0.1, 'reg_pu': 0.0005, 'reg_qi': 0.05} : 0.1512020652265689\n",
      "145 left --- Params {'biased': False, 'init_std_dev': 1, 'lr_all': 0.001, 'reg_bi': 0.05, 'reg_bu': 0.1, 'reg_pu': 0.0005, 'reg_qi': 0.01} : 0.15092988223270992\n",
      "144 left --- Params {'biased': False, 'init_std_dev': 1, 'lr_all': 0.001, 'reg_bi': 0.05, 'reg_bu': 0.1, 'reg_pu': 0.0005, 'reg_qi': 0.005} : 0.14911099266315817\n",
      "143 left --- Params {'biased': False, 'init_std_dev': 1, 'lr_all': 0.001, 'reg_bi': 0.05, 'reg_bu': 0.05, 'reg_pu': 0.005, 'reg_qi': 0.05} : 0.15395398933195215\n",
      "142 left --- Params {'biased': False, 'init_std_dev': 1, 'lr_all': 0.001, 'reg_bi': 0.05, 'reg_bu': 0.05, 'reg_pu': 0.005, 'reg_qi': 0.01} : 0.15087790953466287\n",
      "141 left --- Params {'biased': False, 'init_std_dev': 1, 'lr_all': 0.001, 'reg_bi': 0.05, 'reg_bu': 0.05, 'reg_pu': 0.005, 'reg_qi': 0.005} : 0.15056029596972303\n",
      "140 left --- Params {'biased': False, 'init_std_dev': 1, 'lr_all': 0.001, 'reg_bi': 0.05, 'reg_bu': 0.05, 'reg_pu': 0.001, 'reg_qi': 0.05} : 0.14897334195206025\n",
      "139 left --- Params {'biased': False, 'init_std_dev': 1, 'lr_all': 0.001, 'reg_bi': 0.05, 'reg_bu': 0.05, 'reg_pu': 0.001, 'reg_qi': 0.01} : 0.15212339000491254\n",
      "138 left --- Params {'biased': False, 'init_std_dev': 1, 'lr_all': 0.001, 'reg_bi': 0.05, 'reg_bu': 0.05, 'reg_pu': 0.001, 'reg_qi': 0.005} : 0.14686394398786587\n",
      "137 left --- Params {'biased': False, 'init_std_dev': 1, 'lr_all': 0.001, 'reg_bi': 0.05, 'reg_bu': 0.05, 'reg_pu': 0.0005, 'reg_qi': 0.05} : 0.1497531140016026\n",
      "136 left --- Params {'biased': False, 'init_std_dev': 1, 'lr_all': 0.001, 'reg_bi': 0.05, 'reg_bu': 0.05, 'reg_pu': 0.0005, 'reg_qi': 0.01} : 0.14865041082560118\n",
      "135 left --- Params {'biased': False, 'init_std_dev': 1, 'lr_all': 0.001, 'reg_bi': 0.05, 'reg_bu': 0.05, 'reg_pu': 0.0005, 'reg_qi': 0.005} : 0.1504292692629122\n",
      "134 left --- Params {'biased': False, 'init_std_dev': 1, 'lr_all': 0.001, 'reg_bi': 0.01, 'reg_bu': 0.5, 'reg_pu': 0.005, 'reg_qi': 0.05} : 0.14733023698995176\n",
      "133 left --- Params {'biased': False, 'init_std_dev': 1, 'lr_all': 0.001, 'reg_bi': 0.01, 'reg_bu': 0.5, 'reg_pu': 0.005, 'reg_qi': 0.01} : 0.1495969806106923\n",
      "132 left --- Params {'biased': False, 'init_std_dev': 1, 'lr_all': 0.001, 'reg_bi': 0.01, 'reg_bu': 0.5, 'reg_pu': 0.005, 'reg_qi': 0.005} : 0.1539273186079219\n",
      "131 left --- Params {'biased': False, 'init_std_dev': 1, 'lr_all': 0.001, 'reg_bi': 0.01, 'reg_bu': 0.5, 'reg_pu': 0.001, 'reg_qi': 0.05} : 0.1515559473575306\n",
      "130 left --- Params {'biased': False, 'init_std_dev': 1, 'lr_all': 0.001, 'reg_bi': 0.01, 'reg_bu': 0.5, 'reg_pu': 0.001, 'reg_qi': 0.01} : 0.14870457410464077\n",
      "129 left --- Params {'biased': False, 'init_std_dev': 1, 'lr_all': 0.001, 'reg_bi': 0.01, 'reg_bu': 0.5, 'reg_pu': 0.001, 'reg_qi': 0.005} : 0.14766621841832658\n",
      "128 left --- Params {'biased': False, 'init_std_dev': 1, 'lr_all': 0.001, 'reg_bi': 0.01, 'reg_bu': 0.5, 'reg_pu': 0.0005, 'reg_qi': 0.05} : 0.15241475370970808\n",
      "127 left --- Params {'biased': False, 'init_std_dev': 1, 'lr_all': 0.001, 'reg_bi': 0.01, 'reg_bu': 0.5, 'reg_pu': 0.0005, 'reg_qi': 0.01} : 0.15134428497870342\n",
      "126 left --- Params {'biased': False, 'init_std_dev': 1, 'lr_all': 0.001, 'reg_bi': 0.01, 'reg_bu': 0.5, 'reg_pu': 0.0005, 'reg_qi': 0.005} : 0.15308858650182175\n",
      "125 left --- Params {'biased': False, 'init_std_dev': 1, 'lr_all': 0.001, 'reg_bi': 0.01, 'reg_bu': 0.1, 'reg_pu': 0.005, 'reg_qi': 0.05} : 0.15181966344641154\n",
      "124 left --- Params {'biased': False, 'init_std_dev': 1, 'lr_all': 0.001, 'reg_bi': 0.01, 'reg_bu': 0.1, 'reg_pu': 0.005, 'reg_qi': 0.01} : 0.15453813432623453\n",
      "123 left --- Params {'biased': False, 'init_std_dev': 1, 'lr_all': 0.001, 'reg_bi': 0.01, 'reg_bu': 0.1, 'reg_pu': 0.005, 'reg_qi': 0.005} : 0.14964241404217982\n",
      "122 left --- Params {'biased': False, 'init_std_dev': 1, 'lr_all': 0.001, 'reg_bi': 0.01, 'reg_bu': 0.1, 'reg_pu': 0.001, 'reg_qi': 0.05} : 0.14897434609768218\n",
      "121 left --- Params {'biased': False, 'init_std_dev': 1, 'lr_all': 0.001, 'reg_bi': 0.01, 'reg_bu': 0.1, 'reg_pu': 0.001, 'reg_qi': 0.01} : 0.15022964552013404\n",
      "120 left --- Params {'biased': False, 'init_std_dev': 1, 'lr_all': 0.001, 'reg_bi': 0.01, 'reg_bu': 0.1, 'reg_pu': 0.001, 'reg_qi': 0.005} : 0.14958666989048916\n",
      "119 left --- Params {'biased': False, 'init_std_dev': 1, 'lr_all': 0.001, 'reg_bi': 0.01, 'reg_bu': 0.1, 'reg_pu': 0.0005, 'reg_qi': 0.05} : 0.15045913524173865\n",
      "118 left --- Params {'biased': False, 'init_std_dev': 1, 'lr_all': 0.001, 'reg_bi': 0.01, 'reg_bu': 0.1, 'reg_pu': 0.0005, 'reg_qi': 0.01} : 0.1515910001404255\n",
      "117 left --- Params {'biased': False, 'init_std_dev': 1, 'lr_all': 0.001, 'reg_bi': 0.01, 'reg_bu': 0.1, 'reg_pu': 0.0005, 'reg_qi': 0.005} : 0.1507709132434186\n",
      "116 left --- Params {'biased': False, 'init_std_dev': 1, 'lr_all': 0.001, 'reg_bi': 0.01, 'reg_bu': 0.05, 'reg_pu': 0.005, 'reg_qi': 0.05} : 0.1505037146313373\n",
      "115 left --- Params {'biased': False, 'init_std_dev': 1, 'lr_all': 0.001, 'reg_bi': 0.01, 'reg_bu': 0.05, 'reg_pu': 0.005, 'reg_qi': 0.01} : 0.15255560062214477\n",
      "114 left --- Params {'biased': False, 'init_std_dev': 1, 'lr_all': 0.001, 'reg_bi': 0.01, 'reg_bu': 0.05, 'reg_pu': 0.005, 'reg_qi': 0.005} : 0.14568953734917656\n",
      "113 left --- Params {'biased': False, 'init_std_dev': 1, 'lr_all': 0.001, 'reg_bi': 0.01, 'reg_bu': 0.05, 'reg_pu': 0.001, 'reg_qi': 0.05} : 0.1532776455332139\n",
      "112 left --- Params {'biased': False, 'init_std_dev': 1, 'lr_all': 0.001, 'reg_bi': 0.01, 'reg_bu': 0.05, 'reg_pu': 0.001, 'reg_qi': 0.01} : 0.1568028149631177\n",
      "111 left --- Params {'biased': False, 'init_std_dev': 1, 'lr_all': 0.001, 'reg_bi': 0.01, 'reg_bu': 0.05, 'reg_pu': 0.001, 'reg_qi': 0.005} : 0.14491813823549077\n",
      "110 left --- Params {'biased': False, 'init_std_dev': 1, 'lr_all': 0.001, 'reg_bi': 0.01, 'reg_bu': 0.05, 'reg_pu': 0.0005, 'reg_qi': 0.05} : 0.14861367871101885\n",
      "109 left --- Params {'biased': False, 'init_std_dev': 1, 'lr_all': 0.001, 'reg_bi': 0.01, 'reg_bu': 0.05, 'reg_pu': 0.0005, 'reg_qi': 0.01} : 0.14969922024015422\n",
      "108 left --- Params {'biased': False, 'init_std_dev': 1, 'lr_all': 0.001, 'reg_bi': 0.01, 'reg_bu': 0.05, 'reg_pu': 0.0005, 'reg_qi': 0.005} : 0.14431897492774284\n",
      "107 left --- Params {'biased': False, 'init_std_dev': 1, 'lr_all': 0.001, 'reg_bi': 0.005, 'reg_bu': 0.5, 'reg_pu': 0.005, 'reg_qi': 0.05} : 0.15235807129318404\n",
      "106 left --- Params {'biased': False, 'init_std_dev': 1, 'lr_all': 0.001, 'reg_bi': 0.005, 'reg_bu': 0.5, 'reg_pu': 0.005, 'reg_qi': 0.01} : 0.1541792095284316\n",
      "105 left --- Params {'biased': False, 'init_std_dev': 1, 'lr_all': 0.001, 'reg_bi': 0.005, 'reg_bu': 0.5, 'reg_pu': 0.005, 'reg_qi': 0.005} : 0.15155749139240687\n",
      "104 left --- Params {'biased': False, 'init_std_dev': 1, 'lr_all': 0.001, 'reg_bi': 0.005, 'reg_bu': 0.5, 'reg_pu': 0.001, 'reg_qi': 0.05} : 0.1475137816030732\n",
      "103 left --- Params {'biased': False, 'init_std_dev': 1, 'lr_all': 0.001, 'reg_bi': 0.005, 'reg_bu': 0.5, 'reg_pu': 0.001, 'reg_qi': 0.01} : 0.14921621871193613\n",
      "102 left --- Params {'biased': False, 'init_std_dev': 1, 'lr_all': 0.001, 'reg_bi': 0.005, 'reg_bu': 0.5, 'reg_pu': 0.001, 'reg_qi': 0.005} : 0.1501232164161227\n",
      "101 left --- Params {'biased': False, 'init_std_dev': 1, 'lr_all': 0.001, 'reg_bi': 0.005, 'reg_bu': 0.5, 'reg_pu': 0.0005, 'reg_qi': 0.05} : 0.15126214890837594\n",
      "100 left --- Params {'biased': False, 'init_std_dev': 1, 'lr_all': 0.001, 'reg_bi': 0.005, 'reg_bu': 0.5, 'reg_pu': 0.0005, 'reg_qi': 0.01} : 0.15419095880445344\n",
      "99 left --- Params {'biased': False, 'init_std_dev': 1, 'lr_all': 0.001, 'reg_bi': 0.005, 'reg_bu': 0.5, 'reg_pu': 0.0005, 'reg_qi': 0.005} : 0.1566907295685578\n",
      "98 left --- Params {'biased': False, 'init_std_dev': 1, 'lr_all': 0.001, 'reg_bi': 0.005, 'reg_bu': 0.1, 'reg_pu': 0.005, 'reg_qi': 0.05} : 0.15362416692729167\n",
      "97 left --- Params {'biased': False, 'init_std_dev': 1, 'lr_all': 0.001, 'reg_bi': 0.005, 'reg_bu': 0.1, 'reg_pu': 0.005, 'reg_qi': 0.01} : 0.1470324827821574\n",
      "96 left --- Params {'biased': False, 'init_std_dev': 1, 'lr_all': 0.001, 'reg_bi': 0.005, 'reg_bu': 0.1, 'reg_pu': 0.005, 'reg_qi': 0.005} : 0.15105701586616754\n",
      "95 left --- Params {'biased': False, 'init_std_dev': 1, 'lr_all': 0.001, 'reg_bi': 0.005, 'reg_bu': 0.1, 'reg_pu': 0.001, 'reg_qi': 0.05} : 0.1493273838105962\n",
      "94 left --- Params {'biased': False, 'init_std_dev': 1, 'lr_all': 0.001, 'reg_bi': 0.005, 'reg_bu': 0.1, 'reg_pu': 0.001, 'reg_qi': 0.01} : 0.15284162993709954\n",
      "93 left --- Params {'biased': False, 'init_std_dev': 1, 'lr_all': 0.001, 'reg_bi': 0.005, 'reg_bu': 0.1, 'reg_pu': 0.001, 'reg_qi': 0.005} : 0.1507946782499576\n",
      "92 left --- Params {'biased': False, 'init_std_dev': 1, 'lr_all': 0.001, 'reg_bi': 0.005, 'reg_bu': 0.1, 'reg_pu': 0.0005, 'reg_qi': 0.05} : 0.14911754954421774\n",
      "91 left --- Params {'biased': False, 'init_std_dev': 1, 'lr_all': 0.001, 'reg_bi': 0.005, 'reg_bu': 0.1, 'reg_pu': 0.0005, 'reg_qi': 0.01} : 0.1522069624146249\n",
      "90 left --- Params {'biased': False, 'init_std_dev': 1, 'lr_all': 0.001, 'reg_bi': 0.005, 'reg_bu': 0.1, 'reg_pu': 0.0005, 'reg_qi': 0.005} : 0.1467107552695747\n",
      "89 left --- Params {'biased': False, 'init_std_dev': 1, 'lr_all': 0.001, 'reg_bi': 0.005, 'reg_bu': 0.05, 'reg_pu': 0.005, 'reg_qi': 0.05} : 0.1500120097163104\n",
      "88 left --- Params {'biased': False, 'init_std_dev': 1, 'lr_all': 0.001, 'reg_bi': 0.005, 'reg_bu': 0.05, 'reg_pu': 0.005, 'reg_qi': 0.01} : 0.1511664645817734\n",
      "87 left --- Params {'biased': False, 'init_std_dev': 1, 'lr_all': 0.001, 'reg_bi': 0.005, 'reg_bu': 0.05, 'reg_pu': 0.005, 'reg_qi': 0.005} : 0.14808432196987878\n",
      "86 left --- Params {'biased': False, 'init_std_dev': 1, 'lr_all': 0.001, 'reg_bi': 0.005, 'reg_bu': 0.05, 'reg_pu': 0.001, 'reg_qi': 0.05} : 0.15078704146833427\n",
      "85 left --- Params {'biased': False, 'init_std_dev': 1, 'lr_all': 0.001, 'reg_bi': 0.005, 'reg_bu': 0.05, 'reg_pu': 0.001, 'reg_qi': 0.01} : 0.15169849044989986\n",
      "84 left --- Params {'biased': False, 'init_std_dev': 1, 'lr_all': 0.001, 'reg_bi': 0.005, 'reg_bu': 0.05, 'reg_pu': 0.001, 'reg_qi': 0.005} : 0.14861405738588723\n",
      "83 left --- Params {'biased': False, 'init_std_dev': 1, 'lr_all': 0.001, 'reg_bi': 0.005, 'reg_bu': 0.05, 'reg_pu': 0.0005, 'reg_qi': 0.05} : 0.15492033963380522\n",
      "82 left --- Params {'biased': False, 'init_std_dev': 1, 'lr_all': 0.001, 'reg_bi': 0.005, 'reg_bu': 0.05, 'reg_pu': 0.0005, 'reg_qi': 0.01} : 0.15030882461142886\n",
      "81 left --- Params {'biased': False, 'init_std_dev': 1, 'lr_all': 0.001, 'reg_bi': 0.005, 'reg_bu': 0.05, 'reg_pu': 0.0005, 'reg_qi': 0.005} : 0.1503872898320307\n",
      "80 left --- Params {'biased': False, 'init_std_dev': 0.5, 'lr_all': 0.001, 'reg_bi': 0.05, 'reg_bu': 0.5, 'reg_pu': 0.005, 'reg_qi': 0.05} : 0.7796075932133483\n",
      "79 left --- Params {'biased': False, 'init_std_dev': 0.5, 'lr_all': 0.001, 'reg_bi': 0.05, 'reg_bu': 0.5, 'reg_pu': 0.005, 'reg_qi': 0.01} : 0.7749717988518731\n",
      "78 left --- Params {'biased': False, 'init_std_dev': 0.5, 'lr_all': 0.001, 'reg_bi': 0.05, 'reg_bu': 0.5, 'reg_pu': 0.005, 'reg_qi': 0.005} : 0.7804878592329481\n",
      "77 left --- Params {'biased': False, 'init_std_dev': 0.5, 'lr_all': 0.001, 'reg_bi': 0.05, 'reg_bu': 0.5, 'reg_pu': 0.001, 'reg_qi': 0.05} : 0.7889462419081555\n",
      "76 left --- Params {'biased': False, 'init_std_dev': 0.5, 'lr_all': 0.001, 'reg_bi': 0.05, 'reg_bu': 0.5, 'reg_pu': 0.001, 'reg_qi': 0.01} : 0.7849332333556467\n",
      "75 left --- Params {'biased': False, 'init_std_dev': 0.5, 'lr_all': 0.001, 'reg_bi': 0.05, 'reg_bu': 0.5, 'reg_pu': 0.001, 'reg_qi': 0.005} : 0.7889101991933423\n",
      "74 left --- Params {'biased': False, 'init_std_dev': 0.5, 'lr_all': 0.001, 'reg_bi': 0.05, 'reg_bu': 0.5, 'reg_pu': 0.0005, 'reg_qi': 0.05} : 0.7799620111299774\n",
      "73 left --- Params {'biased': False, 'init_std_dev': 0.5, 'lr_all': 0.001, 'reg_bi': 0.05, 'reg_bu': 0.5, 'reg_pu': 0.0005, 'reg_qi': 0.01} : 0.7840537623207221\n",
      "72 left --- Params {'biased': False, 'init_std_dev': 0.5, 'lr_all': 0.001, 'reg_bi': 0.05, 'reg_bu': 0.5, 'reg_pu': 0.0005, 'reg_qi': 0.005} : 0.7759338464235924\n",
      "71 left --- Params {'biased': False, 'init_std_dev': 0.5, 'lr_all': 0.001, 'reg_bi': 0.05, 'reg_bu': 0.1, 'reg_pu': 0.005, 'reg_qi': 0.05} : 0.7820399084811281\n",
      "70 left --- Params {'biased': False, 'init_std_dev': 0.5, 'lr_all': 0.001, 'reg_bi': 0.05, 'reg_bu': 0.1, 'reg_pu': 0.005, 'reg_qi': 0.01} : 0.7783914816744201\n",
      "69 left --- Params {'biased': False, 'init_std_dev': 0.5, 'lr_all': 0.001, 'reg_bi': 0.05, 'reg_bu': 0.1, 'reg_pu': 0.005, 'reg_qi': 0.005} : 0.7755952667035182\n",
      "68 left --- Params {'biased': False, 'init_std_dev': 0.5, 'lr_all': 0.001, 'reg_bi': 0.05, 'reg_bu': 0.1, 'reg_pu': 0.001, 'reg_qi': 0.05} : 0.7784662469827727\n",
      "67 left --- Params {'biased': False, 'init_std_dev': 0.5, 'lr_all': 0.001, 'reg_bi': 0.05, 'reg_bu': 0.1, 'reg_pu': 0.001, 'reg_qi': 0.01} : 0.7805223018609946\n",
      "66 left --- Params {'biased': False, 'init_std_dev': 0.5, 'lr_all': 0.001, 'reg_bi': 0.05, 'reg_bu': 0.1, 'reg_pu': 0.001, 'reg_qi': 0.005} : 0.7806086140971638\n",
      "65 left --- Params {'biased': False, 'init_std_dev': 0.5, 'lr_all': 0.001, 'reg_bi': 0.05, 'reg_bu': 0.1, 'reg_pu': 0.0005, 'reg_qi': 0.05} : 0.7855440819965408\n",
      "64 left --- Params {'biased': False, 'init_std_dev': 0.5, 'lr_all': 0.001, 'reg_bi': 0.05, 'reg_bu': 0.1, 'reg_pu': 0.0005, 'reg_qi': 0.01} : 0.7797254440460065\n",
      "63 left --- Params {'biased': False, 'init_std_dev': 0.5, 'lr_all': 0.001, 'reg_bi': 0.05, 'reg_bu': 0.1, 'reg_pu': 0.0005, 'reg_qi': 0.005} : 0.7829155115513595\n",
      "62 left --- Params {'biased': False, 'init_std_dev': 0.5, 'lr_all': 0.001, 'reg_bi': 0.05, 'reg_bu': 0.05, 'reg_pu': 0.005, 'reg_qi': 0.05} : 0.7829577726308269\n",
      "61 left --- Params {'biased': False, 'init_std_dev': 0.5, 'lr_all': 0.001, 'reg_bi': 0.05, 'reg_bu': 0.05, 'reg_pu': 0.005, 'reg_qi': 0.01} : 0.7776530541712204\n",
      "60 left --- Params {'biased': False, 'init_std_dev': 0.5, 'lr_all': 0.001, 'reg_bi': 0.05, 'reg_bu': 0.05, 'reg_pu': 0.005, 'reg_qi': 0.005} : 0.7741080183643836\n",
      "59 left --- Params {'biased': False, 'init_std_dev': 0.5, 'lr_all': 0.001, 'reg_bi': 0.05, 'reg_bu': 0.05, 'reg_pu': 0.001, 'reg_qi': 0.05} : 0.7764167890190802\n",
      "58 left --- Params {'biased': False, 'init_std_dev': 0.5, 'lr_all': 0.001, 'reg_bi': 0.05, 'reg_bu': 0.05, 'reg_pu': 0.001, 'reg_qi': 0.01} : 0.7822671377508559\n",
      "57 left --- Params {'biased': False, 'init_std_dev': 0.5, 'lr_all': 0.001, 'reg_bi': 0.05, 'reg_bu': 0.05, 'reg_pu': 0.001, 'reg_qi': 0.005} : 0.7784446652025565\n",
      "56 left --- Params {'biased': False, 'init_std_dev': 0.5, 'lr_all': 0.001, 'reg_bi': 0.05, 'reg_bu': 0.05, 'reg_pu': 0.0005, 'reg_qi': 0.05} : 0.7886848698281257\n",
      "55 left --- Params {'biased': False, 'init_std_dev': 0.5, 'lr_all': 0.001, 'reg_bi': 0.05, 'reg_bu': 0.05, 'reg_pu': 0.0005, 'reg_qi': 0.01} : 0.7781260576129572\n",
      "54 left --- Params {'biased': False, 'init_std_dev': 0.5, 'lr_all': 0.001, 'reg_bi': 0.05, 'reg_bu': 0.05, 'reg_pu': 0.0005, 'reg_qi': 0.005} : 0.7823106178580499\n",
      "53 left --- Params {'biased': False, 'init_std_dev': 0.5, 'lr_all': 0.001, 'reg_bi': 0.01, 'reg_bu': 0.5, 'reg_pu': 0.005, 'reg_qi': 0.05} : 0.7802194017801343\n",
      "52 left --- Params {'biased': False, 'init_std_dev': 0.5, 'lr_all': 0.001, 'reg_bi': 0.01, 'reg_bu': 0.5, 'reg_pu': 0.005, 'reg_qi': 0.01} : 0.7795446262057889\n",
      "51 left --- Params {'biased': False, 'init_std_dev': 0.5, 'lr_all': 0.001, 'reg_bi': 0.01, 'reg_bu': 0.5, 'reg_pu': 0.005, 'reg_qi': 0.005} : 0.7882761312197225\n",
      "50 left --- Params {'biased': False, 'init_std_dev': 0.5, 'lr_all': 0.001, 'reg_bi': 0.01, 'reg_bu': 0.5, 'reg_pu': 0.001, 'reg_qi': 0.05} : 0.7737405561028282\n",
      "49 left --- Params {'biased': False, 'init_std_dev': 0.5, 'lr_all': 0.001, 'reg_bi': 0.01, 'reg_bu': 0.5, 'reg_pu': 0.001, 'reg_qi': 0.01} : 0.7772872651155052\n",
      "48 left --- Params {'biased': False, 'init_std_dev': 0.5, 'lr_all': 0.001, 'reg_bi': 0.01, 'reg_bu': 0.5, 'reg_pu': 0.001, 'reg_qi': 0.005} : 0.7803604995212826\n",
      "47 left --- Params {'biased': False, 'init_std_dev': 0.5, 'lr_all': 0.001, 'reg_bi': 0.01, 'reg_bu': 0.5, 'reg_pu': 0.0005, 'reg_qi': 0.05} : 0.7794515719703626\n",
      "46 left --- Params {'biased': False, 'init_std_dev': 0.5, 'lr_all': 0.001, 'reg_bi': 0.01, 'reg_bu': 0.5, 'reg_pu': 0.0005, 'reg_qi': 0.01} : 0.7853369012985234\n",
      "45 left --- Params {'biased': False, 'init_std_dev': 0.5, 'lr_all': 0.001, 'reg_bi': 0.01, 'reg_bu': 0.5, 'reg_pu': 0.0005, 'reg_qi': 0.005} : 0.7781860270976405\n",
      "44 left --- Params {'biased': False, 'init_std_dev': 0.5, 'lr_all': 0.001, 'reg_bi': 0.01, 'reg_bu': 0.1, 'reg_pu': 0.005, 'reg_qi': 0.05} : 0.7813360725899151\n",
      "43 left --- Params {'biased': False, 'init_std_dev': 0.5, 'lr_all': 0.001, 'reg_bi': 0.01, 'reg_bu': 0.1, 'reg_pu': 0.005, 'reg_qi': 0.01} : 0.7775535924926548\n",
      "42 left --- Params {'biased': False, 'init_std_dev': 0.5, 'lr_all': 0.001, 'reg_bi': 0.01, 'reg_bu': 0.1, 'reg_pu': 0.005, 'reg_qi': 0.005} : 0.7812312572489244\n",
      "41 left --- Params {'biased': False, 'init_std_dev': 0.5, 'lr_all': 0.001, 'reg_bi': 0.01, 'reg_bu': 0.1, 'reg_pu': 0.001, 'reg_qi': 0.05} : 0.7774485905314893\n",
      "40 left --- Params {'biased': False, 'init_std_dev': 0.5, 'lr_all': 0.001, 'reg_bi': 0.01, 'reg_bu': 0.1, 'reg_pu': 0.001, 'reg_qi': 0.01} : 0.7809635407923333\n",
      "39 left --- Params {'biased': False, 'init_std_dev': 0.5, 'lr_all': 0.001, 'reg_bi': 0.01, 'reg_bu': 0.1, 'reg_pu': 0.001, 'reg_qi': 0.005} : 0.7819027014428359\n",
      "38 left --- Params {'biased': False, 'init_std_dev': 0.5, 'lr_all': 0.001, 'reg_bi': 0.01, 'reg_bu': 0.1, 'reg_pu': 0.0005, 'reg_qi': 0.05} : 0.7806318161939476\n",
      "37 left --- Params {'biased': False, 'init_std_dev': 0.5, 'lr_all': 0.001, 'reg_bi': 0.01, 'reg_bu': 0.1, 'reg_pu': 0.0005, 'reg_qi': 0.01} : 0.7843406539702934\n",
      "36 left --- Params {'biased': False, 'init_std_dev': 0.5, 'lr_all': 0.001, 'reg_bi': 0.01, 'reg_bu': 0.1, 'reg_pu': 0.0005, 'reg_qi': 0.005} : 0.779006500744016\n",
      "35 left --- Params {'biased': False, 'init_std_dev': 0.5, 'lr_all': 0.001, 'reg_bi': 0.01, 'reg_bu': 0.05, 'reg_pu': 0.005, 'reg_qi': 0.05} : 0.7827878963033404\n",
      "34 left --- Params {'biased': False, 'init_std_dev': 0.5, 'lr_all': 0.001, 'reg_bi': 0.01, 'reg_bu': 0.05, 'reg_pu': 0.005, 'reg_qi': 0.01} : 0.7811333066035379\n",
      "33 left --- Params {'biased': False, 'init_std_dev': 0.5, 'lr_all': 0.001, 'reg_bi': 0.01, 'reg_bu': 0.05, 'reg_pu': 0.005, 'reg_qi': 0.005} : 0.7765859567011512\n",
      "32 left --- Params {'biased': False, 'init_std_dev': 0.5, 'lr_all': 0.001, 'reg_bi': 0.01, 'reg_bu': 0.05, 'reg_pu': 0.001, 'reg_qi': 0.05} : 0.7804758151218557\n",
      "31 left --- Params {'biased': False, 'init_std_dev': 0.5, 'lr_all': 0.001, 'reg_bi': 0.01, 'reg_bu': 0.05, 'reg_pu': 0.001, 'reg_qi': 0.01} : 0.7781149226053156\n",
      "30 left --- Params {'biased': False, 'init_std_dev': 0.5, 'lr_all': 0.001, 'reg_bi': 0.01, 'reg_bu': 0.05, 'reg_pu': 0.001, 'reg_qi': 0.005} : 0.7778549422937672\n",
      "29 left --- Params {'biased': False, 'init_std_dev': 0.5, 'lr_all': 0.001, 'reg_bi': 0.01, 'reg_bu': 0.05, 'reg_pu': 0.0005, 'reg_qi': 0.05} : 0.7816823299266287\n",
      "28 left --- Params {'biased': False, 'init_std_dev': 0.5, 'lr_all': 0.001, 'reg_bi': 0.01, 'reg_bu': 0.05, 'reg_pu': 0.0005, 'reg_qi': 0.01} : 0.7797220483203908\n",
      "27 left --- Params {'biased': False, 'init_std_dev': 0.5, 'lr_all': 0.001, 'reg_bi': 0.01, 'reg_bu': 0.05, 'reg_pu': 0.0005, 'reg_qi': 0.005} : 0.7786204047145212\n",
      "26 left --- Params {'biased': False, 'init_std_dev': 0.5, 'lr_all': 0.001, 'reg_bi': 0.005, 'reg_bu': 0.5, 'reg_pu': 0.005, 'reg_qi': 0.05} : 0.7739840266865978\n",
      "25 left --- Params {'biased': False, 'init_std_dev': 0.5, 'lr_all': 0.001, 'reg_bi': 0.005, 'reg_bu': 0.5, 'reg_pu': 0.005, 'reg_qi': 0.01} : 0.7769897531786403\n",
      "24 left --- Params {'biased': False, 'init_std_dev': 0.5, 'lr_all': 0.001, 'reg_bi': 0.005, 'reg_bu': 0.5, 'reg_pu': 0.005, 'reg_qi': 0.005} : 0.7764129093499996\n",
      "23 left --- Params {'biased': False, 'init_std_dev': 0.5, 'lr_all': 0.001, 'reg_bi': 0.005, 'reg_bu': 0.5, 'reg_pu': 0.001, 'reg_qi': 0.05} : 0.7741489569423874\n",
      "22 left --- Params {'biased': False, 'init_std_dev': 0.5, 'lr_all': 0.001, 'reg_bi': 0.005, 'reg_bu': 0.5, 'reg_pu': 0.001, 'reg_qi': 0.01} : 0.7869755163546435\n",
      "21 left --- Params {'biased': False, 'init_std_dev': 0.5, 'lr_all': 0.001, 'reg_bi': 0.005, 'reg_bu': 0.5, 'reg_pu': 0.001, 'reg_qi': 0.005} : 0.7795247047776671\n",
      "20 left --- Params {'biased': False, 'init_std_dev': 0.5, 'lr_all': 0.001, 'reg_bi': 0.005, 'reg_bu': 0.5, 'reg_pu': 0.0005, 'reg_qi': 0.05} : 0.7845957845937449\n",
      "19 left --- Params {'biased': False, 'init_std_dev': 0.5, 'lr_all': 0.001, 'reg_bi': 0.005, 'reg_bu': 0.5, 'reg_pu': 0.0005, 'reg_qi': 0.01} : 0.7814904090173399\n",
      "18 left --- Params {'biased': False, 'init_std_dev': 0.5, 'lr_all': 0.001, 'reg_bi': 0.005, 'reg_bu': 0.5, 'reg_pu': 0.0005, 'reg_qi': 0.005} : 0.7785241743722999\n",
      "17 left --- Params {'biased': False, 'init_std_dev': 0.5, 'lr_all': 0.001, 'reg_bi': 0.005, 'reg_bu': 0.1, 'reg_pu': 0.005, 'reg_qi': 0.05} : 0.777603294555145\n",
      "16 left --- Params {'biased': False, 'init_std_dev': 0.5, 'lr_all': 0.001, 'reg_bi': 0.005, 'reg_bu': 0.1, 'reg_pu': 0.005, 'reg_qi': 0.01} : 0.7865326717473241\n",
      "15 left --- Params {'biased': False, 'init_std_dev': 0.5, 'lr_all': 0.001, 'reg_bi': 0.005, 'reg_bu': 0.1, 'reg_pu': 0.005, 'reg_qi': 0.005} : 0.7787976492045666\n",
      "14 left --- Params {'biased': False, 'init_std_dev': 0.5, 'lr_all': 0.001, 'reg_bi': 0.005, 'reg_bu': 0.1, 'reg_pu': 0.001, 'reg_qi': 0.05} : 0.781444987784971\n",
      "13 left --- Params {'biased': False, 'init_std_dev': 0.5, 'lr_all': 0.001, 'reg_bi': 0.005, 'reg_bu': 0.1, 'reg_pu': 0.001, 'reg_qi': 0.01} : 0.7830307806091412\n",
      "12 left --- Params {'biased': False, 'init_std_dev': 0.5, 'lr_all': 0.001, 'reg_bi': 0.005, 'reg_bu': 0.1, 'reg_pu': 0.001, 'reg_qi': 0.005} : 0.7851702576261634\n",
      "11 left --- Params {'biased': False, 'init_std_dev': 0.5, 'lr_all': 0.001, 'reg_bi': 0.005, 'reg_bu': 0.1, 'reg_pu': 0.0005, 'reg_qi': 0.05} : 0.7760187543855749\n",
      "10 left --- Params {'biased': False, 'init_std_dev': 0.5, 'lr_all': 0.001, 'reg_bi': 0.005, 'reg_bu': 0.1, 'reg_pu': 0.0005, 'reg_qi': 0.01} : 0.7753008452113118\n",
      "9 left --- Params {'biased': False, 'init_std_dev': 0.5, 'lr_all': 0.001, 'reg_bi': 0.005, 'reg_bu': 0.1, 'reg_pu': 0.0005, 'reg_qi': 0.005} : 0.7740786800114455\n",
      "8 left --- Params {'biased': False, 'init_std_dev': 0.5, 'lr_all': 0.001, 'reg_bi': 0.005, 'reg_bu': 0.05, 'reg_pu': 0.005, 'reg_qi': 0.05} : 0.7812499907244719\n",
      "7 left --- Params {'biased': False, 'init_std_dev': 0.5, 'lr_all': 0.001, 'reg_bi': 0.005, 'reg_bu': 0.05, 'reg_pu': 0.005, 'reg_qi': 0.01} : 0.7817019472186304\n",
      "6 left --- Params {'biased': False, 'init_std_dev': 0.5, 'lr_all': 0.001, 'reg_bi': 0.005, 'reg_bu': 0.05, 'reg_pu': 0.005, 'reg_qi': 0.005} : 0.7842046190615055\n",
      "5 left --- Params {'biased': False, 'init_std_dev': 0.5, 'lr_all': 0.001, 'reg_bi': 0.005, 'reg_bu': 0.05, 'reg_pu': 0.001, 'reg_qi': 0.05} : 0.7888181271822577\n",
      "4 left --- Params {'biased': False, 'init_std_dev': 0.5, 'lr_all': 0.001, 'reg_bi': 0.005, 'reg_bu': 0.05, 'reg_pu': 0.001, 'reg_qi': 0.01} : 0.7760946564480007\n",
      "3 left --- Params {'biased': False, 'init_std_dev': 0.5, 'lr_all': 0.001, 'reg_bi': 0.005, 'reg_bu': 0.05, 'reg_pu': 0.001, 'reg_qi': 0.005} : 0.7787604851374795\n",
      "2 left --- Params {'biased': False, 'init_std_dev': 0.5, 'lr_all': 0.001, 'reg_bi': 0.005, 'reg_bu': 0.05, 'reg_pu': 0.0005, 'reg_qi': 0.05} : 0.7867376061452368\n",
      "1 left --- Params {'biased': False, 'init_std_dev': 0.5, 'lr_all': 0.001, 'reg_bi': 0.005, 'reg_bu': 0.05, 'reg_pu': 0.0005, 'reg_qi': 0.01} : 0.7737492997770424\n",
      "0 left --- Params {'biased': False, 'init_std_dev': 0.5, 'lr_all': 0.001, 'reg_bi': 0.005, 'reg_bu': 0.05, 'reg_pu': 0.0005, 'reg_qi': 0.005} : 0.7802746647692543\n"
     ]
    },
    {
     "data": {
      "text/plain": [
       "({'biased': False,\n",
       "  'init_std_dev': 1,\n",
       "  'lr_all': 0.001,\n",
       "  'reg_bi': 0.01,\n",
       "  'reg_bu': 0.05,\n",
       "  'reg_pu': 0.0005,\n",
       "  'reg_qi': 0.005},\n",
       " 0.14431897492774284)"
      ]
     },
     "execution_count": 20,
     "metadata": {},
     "output_type": "execute_result"
    }
   ],
   "source": [
    "# ---------------------------- GRID SEARCH FOR SVD --------------------------- #\n",
    "params = {\n",
    "    \"biased\" : [False],\n",
    "    \"init_std_dev\" : [0.5, 1, 5],\n",
    "    \"lr_all\" : [0.001],\n",
    "    \"reg_bu\" : [0.05, 0.1, 0.5],\n",
    "    \"reg_bi\" : [0.005, 0.01, 0.05],\n",
    "    \"reg_qi\" : [0.005, 0.01, 0.05],\n",
    "    \"reg_pu\" : [0.0005, 0.001, 0.005],\n",
    "}\n",
    "\n",
    "best_svd_models = MyCrossValidation(surprise.prediction_algorithms.matrix_factorization.SVD, params)()\n",
    "best_svd_models[0]"
   ]
  },
  {
   "cell_type": "markdown",
   "metadata": {},
   "source": [
    "## We need some usefull functions"
   ]
  },
  {
   "cell_type": "markdown",
   "metadata": {},
   "source": [
    "*First, how can we use the \"iteam_features.csv\" file?*\n",
    "\n",
    "**We could evaluate the similarity between items in order to give better recommendations.**\n",
    "\n",
    "Let's create a function that will give a score based on the similarity between items. For this, we will use the function defined in the Data Analysis Section : get_item_similarity. We found that the average number of similar feature between items is around 3 times bigger than the average number of similare feature value. Hence, we will score based on the following formula:\n",
    "\n",
    "$$\n",
    "score = \\dfrac {similar\\_feature\\_number + 3 \\times similar\\_feature\\_value} {4 \\times maximum\\_number\\_of\\_similar\\_feature}\n",
    "$$"
   ]
  },
  {
   "cell_type": "code",
   "execution_count": 21,
   "metadata": {},
   "outputs": [],
   "source": [
    "def get_item_similarity_score(item_features_df, item_id):\n",
    "    similarity = get_item_similarity(item_features_df, item_id)\n",
    "    if similarity is None:\n",
    "        return None\n",
    "    \n",
    "    res = (similarity.similar_feature_id + 3 * similarity.similar_value_id) / (4 * len(item_features_df[item_features_df[\"item_id\"] == item_id]))\n",
    "    return res"
   ]
  },
  {
   "cell_type": "code",
   "execution_count": 22,
   "metadata": {},
   "outputs": [
    {
     "data": {
      "text/plain": [
       "count    22205.000000\n",
       "mean         0.325376\n",
       "std          0.150175\n",
       "min          0.096154\n",
       "25%          0.211538\n",
       "50%          0.269231\n",
       "75%          0.384615\n",
       "max          0.942308\n",
       "dtype: float64"
      ]
     },
     "execution_count": 22,
     "metadata": {},
     "output_type": "execute_result"
    }
   ],
   "source": [
    "get_item_similarity_score(item_features_df, item_id=2).describe()"
   ]
  },
  {
   "cell_type": "markdown",
   "metadata": {},
   "source": [
    "*When we need to generate recommendations for our users, most of them will not be in our database. How can we use our recommendation models in this case?*\n",
    "\n",
    "**We could first make a list of the users of our training game who most resemble the users to whom we should make recommendations. We will then make our predictions on the users in this list.**\n",
    "\n",
    "Let's implement a function capable of providing us with a list of the users most likely to have consulted a series of products with their associated \"similarity\" score.\n",
    "\n",
    "*But to do this, we will have to make one prediction per user and per product, i.e. $1000000 \\times 4990 = 4,990,000,000$ predictions. This calculation is likely to be significantly long. Is there a way to speed it up?*\n",
    "\n",
    "**We could select a number of users randomly from our training set. The higher the number, the more accurate our results will be later on. Furthermore, we should make all these predictions in advance and store them in a dataframe so that we only have to make this calculation once.**\n",
    "\n",
    "Let's use our best recommendation model to generate a table associating to a number $n$ of users of our training set the predicted score for each of the 4990 items to predict."
   ]
  },
  {
   "cell_type": "code",
   "execution_count": 23,
   "metadata": {},
   "outputs": [
    {
     "data": {
      "text/plain": [
       "<surprise.prediction_algorithms.matrix_factorization.SVD at 0x7f461b7da220>"
      ]
     },
     "execution_count": 23,
     "metadata": {},
     "output_type": "execute_result"
    }
   ],
   "source": [
    "model = surprise.SVD(**best_svd_models[0][0])\n",
    "train_set_surprise = surprise.dataset.Dataset.load_from_df(df=train_set_df[[\"user_id\", \"item_id\", \"raw_ratings\"]], reader=rating_reader) \n",
    "model.fit(train_set_surprise.build_full_trainset())"
   ]
  },
  {
   "cell_type": "code",
   "execution_count": 24,
   "metadata": {},
   "outputs": [
    {
     "name": "stderr",
     "output_type": "stream",
     "text": [
      "/tmp/ipykernel_1176/3826817096.py:4: FutureWarning: The default dtype for empty Series will be 'object' instead of 'float64' in a future version. Specify a dtype explicitly to silence this warning.\n",
      "  X = pd.Series(index=pd.MultiIndex.from_product([training_user_to_predict_serie, candidate_items_df.item_id]), name=\"score\").reset_index()\n"
     ]
    },
    {
     "data": {
      "text/html": [
       "<div>\n",
       "<style scoped>\n",
       "    .dataframe tbody tr th:only-of-type {\n",
       "        vertical-align: middle;\n",
       "    }\n",
       "\n",
       "    .dataframe tbody tr th {\n",
       "        vertical-align: top;\n",
       "    }\n",
       "\n",
       "    .dataframe thead th {\n",
       "        text-align: right;\n",
       "    }\n",
       "</style>\n",
       "<table border=\"1\" class=\"dataframe\">\n",
       "  <thead>\n",
       "    <tr style=\"text-align: right;\">\n",
       "      <th></th>\n",
       "      <th>user_id</th>\n",
       "      <th>item_id</th>\n",
       "      <th>score</th>\n",
       "    </tr>\n",
       "  </thead>\n",
       "  <tbody>\n",
       "    <tr>\n",
       "      <th>count</th>\n",
       "      <td>4.990000e+06</td>\n",
       "      <td>4.990000e+06</td>\n",
       "      <td>4.990000e+06</td>\n",
       "    </tr>\n",
       "    <tr>\n",
       "      <th>mean</th>\n",
       "      <td>2.179396e+06</td>\n",
       "      <td>1.400704e+04</td>\n",
       "      <td>4.378755e-01</td>\n",
       "    </tr>\n",
       "    <tr>\n",
       "      <th>std</th>\n",
       "      <td>1.275804e+06</td>\n",
       "      <td>8.217409e+03</td>\n",
       "      <td>6.670408e-01</td>\n",
       "    </tr>\n",
       "    <tr>\n",
       "      <th>min</th>\n",
       "      <td>7.098000e+03</td>\n",
       "      <td>4.000000e+00</td>\n",
       "      <td>0.000000e+00</td>\n",
       "    </tr>\n",
       "    <tr>\n",
       "      <th>25%</th>\n",
       "      <td>1.081910e+06</td>\n",
       "      <td>6.833000e+03</td>\n",
       "      <td>0.000000e+00</td>\n",
       "    </tr>\n",
       "    <tr>\n",
       "      <th>50%</th>\n",
       "      <td>2.140528e+06</td>\n",
       "      <td>1.410850e+04</td>\n",
       "      <td>0.000000e+00</td>\n",
       "    </tr>\n",
       "    <tr>\n",
       "      <th>75%</th>\n",
       "      <td>3.281210e+06</td>\n",
       "      <td>2.120100e+04</td>\n",
       "      <td>6.273866e-01</td>\n",
       "    </tr>\n",
       "    <tr>\n",
       "      <th>max</th>\n",
       "      <td>4.433303e+06</td>\n",
       "      <td>2.813700e+04</td>\n",
       "      <td>2.000000e+00</td>\n",
       "    </tr>\n",
       "  </tbody>\n",
       "</table>\n",
       "</div>"
      ],
      "text/plain": [
       "            user_id       item_id         score\n",
       "count  4.990000e+06  4.990000e+06  4.990000e+06\n",
       "mean   2.179396e+06  1.400704e+04  4.378755e-01\n",
       "std    1.275804e+06  8.217409e+03  6.670408e-01\n",
       "min    7.098000e+03  4.000000e+00  0.000000e+00\n",
       "25%    1.081910e+06  6.833000e+03  0.000000e+00\n",
       "50%    2.140528e+06  1.410850e+04  0.000000e+00\n",
       "75%    3.281210e+06  2.120100e+04  6.273866e-01\n",
       "max    4.433303e+06  2.813700e+04  2.000000e+00"
      ]
     },
     "execution_count": 24,
     "metadata": {},
     "output_type": "execute_result"
    }
   ],
   "source": [
    "TRAINING_USER_NUMBER = 1000\n",
    "\n",
    "training_user_to_predict_serie = pd.Series(np.random.choice(train_session_df.session_id.unique(), TRAINING_USER_NUMBER), name=\"user_id\")\n",
    "X = pd.Series(index=pd.MultiIndex.from_product([training_user_to_predict_serie, candidate_items_df.item_id]), name=\"score\").reset_index()\n",
    "y = X.apply(lambda row : model.predict(uid=row.user_id, iid=row.item_id, verbose=False).est, axis=1)\n",
    "user_prediction = X.assign(score=y)\n",
    "user_prediction.describe()"
   ]
  },
  {
   "cell_type": "markdown",
   "metadata": {},
   "source": [
    "Now this is done, let's implement a function capable of providing us with a list of the users most likely to have consulted a series of products with their associated \"similarity\" score as said before."
   ]
  },
  {
   "cell_type": "code",
   "execution_count": 25,
   "metadata": {},
   "outputs": [
    {
     "data": {
      "text/html": [
       "<div>\n",
       "<style scoped>\n",
       "    .dataframe tbody tr th:only-of-type {\n",
       "        vertical-align: middle;\n",
       "    }\n",
       "\n",
       "    .dataframe tbody tr th {\n",
       "        vertical-align: top;\n",
       "    }\n",
       "\n",
       "    .dataframe thead th {\n",
       "        text-align: right;\n",
       "    }\n",
       "</style>\n",
       "<table border=\"1\" class=\"dataframe\">\n",
       "  <thead>\n",
       "    <tr style=\"text-align: right;\">\n",
       "      <th></th>\n",
       "      <th>user_id</th>\n",
       "      <th>similarity</th>\n",
       "    </tr>\n",
       "  </thead>\n",
       "  <tbody>\n",
       "    <tr>\n",
       "      <th>0</th>\n",
       "      <td>3263320</td>\n",
       "      <td>4.565624</td>\n",
       "    </tr>\n",
       "    <tr>\n",
       "      <th>1</th>\n",
       "      <td>495146</td>\n",
       "      <td>4.519934</td>\n",
       "    </tr>\n",
       "    <tr>\n",
       "      <th>2</th>\n",
       "      <td>474231</td>\n",
       "      <td>4.442822</td>\n",
       "    </tr>\n",
       "    <tr>\n",
       "      <th>3</th>\n",
       "      <td>695736</td>\n",
       "      <td>4.251842</td>\n",
       "    </tr>\n",
       "    <tr>\n",
       "      <th>4</th>\n",
       "      <td>3893706</td>\n",
       "      <td>4.243138</td>\n",
       "    </tr>\n",
       "    <tr>\n",
       "      <th>5</th>\n",
       "      <td>1338035</td>\n",
       "      <td>4.090168</td>\n",
       "    </tr>\n",
       "    <tr>\n",
       "      <th>6</th>\n",
       "      <td>375341</td>\n",
       "      <td>4.020586</td>\n",
       "    </tr>\n",
       "    <tr>\n",
       "      <th>7</th>\n",
       "      <td>771433</td>\n",
       "      <td>3.905698</td>\n",
       "    </tr>\n",
       "    <tr>\n",
       "      <th>8</th>\n",
       "      <td>2421703</td>\n",
       "      <td>3.865271</td>\n",
       "    </tr>\n",
       "    <tr>\n",
       "      <th>9</th>\n",
       "      <td>573730</td>\n",
       "      <td>3.864395</td>\n",
       "    </tr>\n",
       "  </tbody>\n",
       "</table>\n",
       "</div>"
      ],
      "text/plain": [
       "   user_id  similarity\n",
       "0  3263320    4.565624\n",
       "1   495146    4.519934\n",
       "2   474231    4.442822\n",
       "3   695736    4.251842\n",
       "4  3893706    4.243138\n",
       "5  1338035    4.090168\n",
       "6   375341    4.020586\n",
       "7   771433    3.905698\n",
       "8  2421703    3.865271\n",
       "9   573730    3.864395"
      ]
     },
     "execution_count": 25,
     "metadata": {},
     "output_type": "execute_result"
    }
   ],
   "source": [
    "def get_similar_user(item_list, number):\n",
    "    res = user_prediction[user_prediction.item_id.isin(item_list)].groupby(\"user_id\").score.sum().sort_values(ascending=False).iloc[:number].reset_index().rename(columns={\"score\": \"similarity\"})\n",
    "    while len(res) == 0:\n",
    "        res = user_prediction[user_prediction.item_id.isin(train_session_df[train_session_df.session_id == np.random.choice(train_session_df.session_id)].item_id)].groupby(\"user_id\").score.sum().sort_values(ascending=False).iloc[:number].reset_index().rename(columns={\"score\": \"similarity\"})\n",
    "    return res\n",
    "\n",
    "get_similar_user(test_final_sessions_df[test_final_sessions_df.session_id == 96].item_id, 10)"
   ]
  },
  {
   "cell_type": "markdown",
   "metadata": {},
   "source": [
    "## Let's make some recommendations"
   ]
  },
  {
   "cell_type": "code",
   "execution_count": 26,
   "metadata": {},
   "outputs": [
    {
     "data": {
      "text/html": [
       "<div>\n",
       "<style scoped>\n",
       "    .dataframe tbody tr th:only-of-type {\n",
       "        vertical-align: middle;\n",
       "    }\n",
       "\n",
       "    .dataframe tbody tr th {\n",
       "        vertical-align: top;\n",
       "    }\n",
       "\n",
       "    .dataframe thead th {\n",
       "        text-align: right;\n",
       "    }\n",
       "</style>\n",
       "<table border=\"1\" class=\"dataframe\">\n",
       "  <thead>\n",
       "    <tr style=\"text-align: right;\">\n",
       "      <th></th>\n",
       "      <th>session_id</th>\n",
       "      <th>item_id</th>\n",
       "      <th>date</th>\n",
       "    </tr>\n",
       "  </thead>\n",
       "  <tbody>\n",
       "    <tr>\n",
       "      <th>201</th>\n",
       "      <td>5127</td>\n",
       "      <td>11327</td>\n",
       "      <td>2021-06-11 08:05:46.823</td>\n",
       "    </tr>\n",
       "    <tr>\n",
       "      <th>202</th>\n",
       "      <td>5127</td>\n",
       "      <td>22751</td>\n",
       "      <td>2021-06-11 08:05:50.422</td>\n",
       "    </tr>\n",
       "    <tr>\n",
       "      <th>203</th>\n",
       "      <td>5127</td>\n",
       "      <td>15249</td>\n",
       "      <td>2021-06-11 08:06:07.193</td>\n",
       "    </tr>\n",
       "    <tr>\n",
       "      <th>204</th>\n",
       "      <td>5127</td>\n",
       "      <td>3024</td>\n",
       "      <td>2021-06-11 08:07:15.665</td>\n",
       "    </tr>\n",
       "    <tr>\n",
       "      <th>258</th>\n",
       "      <td>7019</td>\n",
       "      <td>26828</td>\n",
       "      <td>2021-06-21 18:03:12.938</td>\n",
       "    </tr>\n",
       "    <tr>\n",
       "      <th>...</th>\n",
       "      <td>...</td>\n",
       "      <td>...</td>\n",
       "      <td>...</td>\n",
       "    </tr>\n",
       "    <tr>\n",
       "      <th>225870</th>\n",
       "      <td>4435436</td>\n",
       "      <td>107</td>\n",
       "      <td>2021-06-03 16:42:27.943</td>\n",
       "    </tr>\n",
       "    <tr>\n",
       "      <th>225871</th>\n",
       "      <td>4435436</td>\n",
       "      <td>3825</td>\n",
       "      <td>2021-06-03 16:42:30.511</td>\n",
       "    </tr>\n",
       "    <tr>\n",
       "      <th>225872</th>\n",
       "      <td>4435436</td>\n",
       "      <td>7400</td>\n",
       "      <td>2021-06-03 16:42:34.298</td>\n",
       "    </tr>\n",
       "    <tr>\n",
       "      <th>225873</th>\n",
       "      <td>4435436</td>\n",
       "      <td>107</td>\n",
       "      <td>2021-06-03 16:42:38.267</td>\n",
       "    </tr>\n",
       "    <tr>\n",
       "      <th>225874</th>\n",
       "      <td>4435436</td>\n",
       "      <td>8815</td>\n",
       "      <td>2021-06-03 16:47:17.708</td>\n",
       "    </tr>\n",
       "  </tbody>\n",
       "</table>\n",
       "<p>4500 rows × 3 columns</p>\n",
       "</div>"
      ],
      "text/plain": [
       "        session_id  item_id                     date\n",
       "201           5127    11327  2021-06-11 08:05:46.823\n",
       "202           5127    22751  2021-06-11 08:05:50.422\n",
       "203           5127    15249  2021-06-11 08:06:07.193\n",
       "204           5127     3024  2021-06-11 08:07:15.665\n",
       "258           7019    26828  2021-06-21 18:03:12.938\n",
       "...            ...      ...                      ...\n",
       "225870     4435436      107  2021-06-03 16:42:27.943\n",
       "225871     4435436     3825  2021-06-03 16:42:30.511\n",
       "225872     4435436     7400  2021-06-03 16:42:34.298\n",
       "225873     4435436      107  2021-06-03 16:42:38.267\n",
       "225874     4435436     8815  2021-06-03 16:47:17.708\n",
       "\n",
       "[4500 rows x 3 columns]"
      ]
     },
     "execution_count": 26,
     "metadata": {},
     "output_type": "execute_result"
    }
   ],
   "source": [
    "# Because the functions we will execute in the next steps can take some time to run, we will execute them here on a reduced test set.\n",
    "NUMBER_OF_SESSION = 1000\n",
    "\n",
    "reduced_test_set = test_final_sessions_df[test_final_sessions_df.session_id.isin(np.random.choice(test_final_sessions_df.session_id.unique(), NUMBER_OF_SESSION))]\n",
    "reduced_test_set"
   ]
  },
  {
   "cell_type": "markdown",
   "metadata": {},
   "source": [
    "*Is it possible and relevant to generate predictions using only the similarity between objects?*\n",
    "\n",
    "Let's implement a function that simply recommends for each entry in our test set the 100 items that are most similar to the items consulted by the user."
   ]
  },
  {
   "cell_type": "code",
   "execution_count": 27,
   "metadata": {},
   "outputs": [
    {
     "name": "stderr",
     "output_type": "stream",
     "text": [
      "/tmp/ipykernel_1176/2050438717.py:4: FutureWarning: The default dtype for empty Series will be 'object' instead of 'float64' in a future version. Specify a dtype explicitly to silence this warning.\n",
      "  recommandations = pd.Series()\n"
     ]
    }
   ],
   "source": [
    "def compute_simple_similarity_recommandations(test_df):\n",
    "    candidate_item_feature = item_features_df[item_features_df.item_id.isin(candidate_items_df.item_id)]\n",
    "\n",
    "    recommandations = pd.Series()\n",
    "    for session_id in test_df.session_id.unique():\n",
    "        items = test_df[test_df.session_id == session_id][\"item_id\"]\n",
    "        item_scores = None\n",
    "        for item in items.values:\n",
    "            item = int(item)\n",
    "            temp = get_item_similarity_score(candidate_item_feature, item_id=item)\n",
    "            if temp is None:\n",
    "                continue\n",
    "            if item_scores is None:\n",
    "                item_scores = temp\n",
    "            else:\n",
    "                item_scores += temp\n",
    "            \n",
    "        if item_scores is None:\n",
    "            item_scores = candidate_items_df.item_id.sample(100)\n",
    "                \n",
    "        recommandations = pd.concat([recommandations, item_scores.sort_values(ascending=False).index.to_series()[:100]], axis=0)\n",
    "\n",
    "    length = len(test_df.session_id.unique())\n",
    "    col = [\n",
    "        pd.Series(np.repeat(test_df.session_id.unique(), 100)).rename(\"session_id\"),\n",
    "        recommandations.rename(\"item_id\").reset_index(drop=True),\n",
    "        pd.Series(np.tile(np.arange(1, 101), length)).rename(\"rank\"),\n",
    "    ]\n",
    "    result = pd.concat(col, axis=1)\n",
    "    result.to_csv(os.path.join(\"..\", \"results\", \"simple_similarity_recommandations.csv\"), index=False)\n",
    "    return result\n",
    "\n",
    "# Because this function take some time to run on the full test session, we will make prediction only for the first 1000 sessions   \n",
    "item_similarity_recommandations = compute_simple_similarity_recommandations(reduced_test_set)"
   ]
  },
  {
   "cell_type": "markdown",
   "metadata": {},
   "source": [
    "Let us now use our recommendation model. We will proceed as follows for each of the sessions in the test set:\n",
    "1. Identify all similar users\n",
    "2. Make predictions for each of them and weight the results by the similarity rate to the user to be predicted\n",
    "3. Further improve our results by using the similarity between the items "
   ]
  },
  {
   "cell_type": "code",
   "execution_count": 28,
   "metadata": {},
   "outputs": [
    {
     "name": "stderr",
     "output_type": "stream",
     "text": [
      "/tmp/ipykernel_1176/4048413912.py:5: FutureWarning: The default dtype for empty Series will be 'object' instead of 'float64' in a future version. Specify a dtype explicitly to silence this warning.\n",
      "  recommandations = pd.Series()\n"
     ]
    }
   ],
   "source": [
    "SIMILAR_USER_NUMBER = 10\n",
    "PREDICTION_NUMBER = 100\n",
    "\n",
    "def compute_user_similarity_recommandations(test_df):\n",
    "    recommandations = pd.Series()\n",
    "    for session_id in test_df.session_id.unique():\n",
    "        \n",
    "        item_list = test_df[test_df.session_id == session_id][\"item_id\"]\n",
    "        \n",
    "        similar_user = get_similar_user(item_list, SIMILAR_USER_NUMBER)\n",
    "        similar_user_predictions = pd.merge(similar_user, user_prediction, on=\"user_id\")\n",
    "        similar_user_predictions.score *= similar_user_predictions.similarity / similar_user_predictions.similarity.max()\n",
    "        \n",
    "        recommandations = pd.concat([recommandations, similar_user_predictions.sort_values(by=\"score\", ascending=False).iloc[:PREDICTION_NUMBER].item_id], axis=0)\n",
    "\n",
    "    length = len(test_df.session_id.unique())\n",
    "    col = [\n",
    "        pd.Series(np.repeat(test_df.session_id.unique(), 100)).rename(\"session_id\"),\n",
    "        recommandations.rename(\"item_id\").reset_index(drop=True),\n",
    "        pd.Series(np.tile(np.arange(1, 101), length)).rename(\"rank\"),\n",
    "    ]\n",
    "    result = pd.concat(col, axis=1)\n",
    "    result.to_csv(os.path.join(\"..\", \"results\", \"user_similarity_recommandation.csv\"), index=False)\n",
    "    return result\n",
    "\n",
    "user_similarity_recommandations = compute_user_similarity_recommandations(reduced_test_set)"
   ]
  }
 ],
 "metadata": {
  "kernelspec": {
   "display_name": "Python 3.9.7 ('.venv': poetry)",
   "language": "python",
   "name": "python3"
  },
  "language_info": {
   "codemirror_mode": {
    "name": "ipython",
    "version": 3
   },
   "file_extension": ".py",
   "mimetype": "text/x-python",
   "name": "python",
   "nbconvert_exporter": "python",
   "pygments_lexer": "ipython3",
   "version": "3.9.5"
  },
  "orig_nbformat": 4,
  "vscode": {
   "interpreter": {
    "hash": "eb6d516e35c6ccbacc7077eece26ca831bb307c9b2b56521fa8c3e425b6f57cb"
   }
  }
 },
 "nbformat": 4,
 "nbformat_minor": 2
}
