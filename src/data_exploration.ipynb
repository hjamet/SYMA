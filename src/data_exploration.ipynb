{
 "cells": [
  {
   "cell_type": "markdown",
   "metadata": {},
   "source": [
    "# SYMA"
   ]
  },
  {
   "cell_type": "code",
   "execution_count": 76,
   "metadata": {},
   "outputs": [],
   "source": [
    "import pandas as pd\n",
    "import os"
   ]
  },
  {
   "cell_type": "markdown",
   "metadata": {},
   "source": [
    "## Loading Data"
   ]
  },
  {
   "cell_type": "code",
   "execution_count": 77,
   "metadata": {},
   "outputs": [],
   "source": [
    "PATH_DATA = os.path.join(\"..\", \"data\")\n",
    "\n",
    "train_session_df = pd.read_csv(os.path.join(PATH_DATA, \"train_sessions.csv\"))\n",
    "train_purchase_df = pd.read_csv(os.path.join(PATH_DATA, \"train_purchases.csv\"))\n",
    "\n",
    "candidate_items_df = pd.read_csv(os.path.join(PATH_DATA, \"candidate_items.csv\"))\n",
    "item_features_df = pd.read_csv(os.path.join(PATH_DATA, \"item_features.csv\"))"
   ]
  },
  {
   "cell_type": "code",
   "execution_count": 78,
   "metadata": {},
   "outputs": [
    {
     "data": {
      "text/html": [
       "<div>\n",
       "<style scoped>\n",
       "    .dataframe tbody tr th:only-of-type {\n",
       "        vertical-align: middle;\n",
       "    }\n",
       "\n",
       "    .dataframe tbody tr th {\n",
       "        vertical-align: top;\n",
       "    }\n",
       "\n",
       "    .dataframe thead th {\n",
       "        text-align: right;\n",
       "    }\n",
       "</style>\n",
       "<table border=\"1\" class=\"dataframe\">\n",
       "  <thead>\n",
       "    <tr style=\"text-align: right;\">\n",
       "      <th></th>\n",
       "      <th>session_id</th>\n",
       "      <th>item_id</th>\n",
       "    </tr>\n",
       "  </thead>\n",
       "  <tbody>\n",
       "    <tr>\n",
       "      <th>count</th>\n",
       "      <td>4.743820e+06</td>\n",
       "      <td>4.743820e+06</td>\n",
       "    </tr>\n",
       "    <tr>\n",
       "      <th>mean</th>\n",
       "      <td>2.218286e+06</td>\n",
       "      <td>1.402211e+04</td>\n",
       "    </tr>\n",
       "    <tr>\n",
       "      <th>std</th>\n",
       "      <td>1.281012e+06</td>\n",
       "      <td>8.177893e+03</td>\n",
       "    </tr>\n",
       "    <tr>\n",
       "      <th>min</th>\n",
       "      <td>3.000000e+00</td>\n",
       "      <td>2.000000e+00</td>\n",
       "    </tr>\n",
       "    <tr>\n",
       "      <th>25%</th>\n",
       "      <td>1.110000e+06</td>\n",
       "      <td>6.946000e+03</td>\n",
       "    </tr>\n",
       "    <tr>\n",
       "      <th>50%</th>\n",
       "      <td>2.214788e+06</td>\n",
       "      <td>1.403300e+04</td>\n",
       "    </tr>\n",
       "    <tr>\n",
       "      <th>75%</th>\n",
       "      <td>3.325631e+06</td>\n",
       "      <td>2.100000e+04</td>\n",
       "    </tr>\n",
       "    <tr>\n",
       "      <th>max</th>\n",
       "      <td>4.440001e+06</td>\n",
       "      <td>2.814300e+04</td>\n",
       "    </tr>\n",
       "  </tbody>\n",
       "</table>\n",
       "</div>"
      ],
      "text/plain": [
       "         session_id       item_id\n",
       "count  4.743820e+06  4.743820e+06\n",
       "mean   2.218286e+06  1.402211e+04\n",
       "std    1.281012e+06  8.177893e+03\n",
       "min    3.000000e+00  2.000000e+00\n",
       "25%    1.110000e+06  6.946000e+03\n",
       "50%    2.214788e+06  1.403300e+04\n",
       "75%    3.325631e+06  2.100000e+04\n",
       "max    4.440001e+06  2.814300e+04"
      ]
     },
     "execution_count": 78,
     "metadata": {},
     "output_type": "execute_result"
    }
   ],
   "source": [
    "train_session_df.describe()"
   ]
  },
  {
   "cell_type": "code",
   "execution_count": 79,
   "metadata": {},
   "outputs": [
    {
     "data": {
      "text/html": [
       "<div>\n",
       "<style scoped>\n",
       "    .dataframe tbody tr th:only-of-type {\n",
       "        vertical-align: middle;\n",
       "    }\n",
       "\n",
       "    .dataframe tbody tr th {\n",
       "        vertical-align: top;\n",
       "    }\n",
       "\n",
       "    .dataframe thead th {\n",
       "        text-align: right;\n",
       "    }\n",
       "</style>\n",
       "<table border=\"1\" class=\"dataframe\">\n",
       "  <thead>\n",
       "    <tr style=\"text-align: right;\">\n",
       "      <th></th>\n",
       "      <th>session_id</th>\n",
       "      <th>item_id</th>\n",
       "    </tr>\n",
       "  </thead>\n",
       "  <tbody>\n",
       "    <tr>\n",
       "      <th>count</th>\n",
       "      <td>1.000000e+06</td>\n",
       "      <td>1000000.000000</td>\n",
       "    </tr>\n",
       "    <tr>\n",
       "      <th>mean</th>\n",
       "      <td>2.221071e+06</td>\n",
       "      <td>13978.825051</td>\n",
       "    </tr>\n",
       "    <tr>\n",
       "      <th>std</th>\n",
       "      <td>1.281018e+06</td>\n",
       "      <td>8187.993593</td>\n",
       "    </tr>\n",
       "    <tr>\n",
       "      <th>min</th>\n",
       "      <td>3.000000e+00</td>\n",
       "      <td>3.000000</td>\n",
       "    </tr>\n",
       "    <tr>\n",
       "      <th>25%</th>\n",
       "      <td>1.112741e+06</td>\n",
       "      <td>6977.000000</td>\n",
       "    </tr>\n",
       "    <tr>\n",
       "      <th>50%</th>\n",
       "      <td>2.220268e+06</td>\n",
       "      <td>13922.000000</td>\n",
       "    </tr>\n",
       "    <tr>\n",
       "      <th>75%</th>\n",
       "      <td>3.329927e+06</td>\n",
       "      <td>20879.000000</td>\n",
       "    </tr>\n",
       "    <tr>\n",
       "      <th>max</th>\n",
       "      <td>4.440001e+06</td>\n",
       "      <td>28143.000000</td>\n",
       "    </tr>\n",
       "  </tbody>\n",
       "</table>\n",
       "</div>"
      ],
      "text/plain": [
       "         session_id         item_id\n",
       "count  1.000000e+06  1000000.000000\n",
       "mean   2.221071e+06    13978.825051\n",
       "std    1.281018e+06     8187.993593\n",
       "min    3.000000e+00        3.000000\n",
       "25%    1.112741e+06     6977.000000\n",
       "50%    2.220268e+06    13922.000000\n",
       "75%    3.329927e+06    20879.000000\n",
       "max    4.440001e+06    28143.000000"
      ]
     },
     "execution_count": 79,
     "metadata": {},
     "output_type": "execute_result"
    }
   ],
   "source": [
    "train_purchase_df.describe()"
   ]
  },
  {
   "cell_type": "code",
   "execution_count": 80,
   "metadata": {},
   "outputs": [
    {
     "data": {
      "text/html": [
       "<div>\n",
       "<style scoped>\n",
       "    .dataframe tbody tr th:only-of-type {\n",
       "        vertical-align: middle;\n",
       "    }\n",
       "\n",
       "    .dataframe tbody tr th {\n",
       "        vertical-align: top;\n",
       "    }\n",
       "\n",
       "    .dataframe thead th {\n",
       "        text-align: right;\n",
       "    }\n",
       "</style>\n",
       "<table border=\"1\" class=\"dataframe\">\n",
       "  <thead>\n",
       "    <tr style=\"text-align: right;\">\n",
       "      <th></th>\n",
       "      <th>item_id</th>\n",
       "    </tr>\n",
       "  </thead>\n",
       "  <tbody>\n",
       "    <tr>\n",
       "      <th>count</th>\n",
       "      <td>4990.000000</td>\n",
       "    </tr>\n",
       "    <tr>\n",
       "      <th>mean</th>\n",
       "      <td>14007.035271</td>\n",
       "    </tr>\n",
       "    <tr>\n",
       "      <th>std</th>\n",
       "      <td>8218.231425</td>\n",
       "    </tr>\n",
       "    <tr>\n",
       "      <th>min</th>\n",
       "      <td>4.000000</td>\n",
       "    </tr>\n",
       "    <tr>\n",
       "      <th>25%</th>\n",
       "      <td>6833.500000</td>\n",
       "    </tr>\n",
       "    <tr>\n",
       "      <th>50%</th>\n",
       "      <td>14108.500000</td>\n",
       "    </tr>\n",
       "    <tr>\n",
       "      <th>75%</th>\n",
       "      <td>21200.000000</td>\n",
       "    </tr>\n",
       "    <tr>\n",
       "      <th>max</th>\n",
       "      <td>28137.000000</td>\n",
       "    </tr>\n",
       "  </tbody>\n",
       "</table>\n",
       "</div>"
      ],
      "text/plain": [
       "            item_id\n",
       "count   4990.000000\n",
       "mean   14007.035271\n",
       "std     8218.231425\n",
       "min        4.000000\n",
       "25%     6833.500000\n",
       "50%    14108.500000\n",
       "75%    21200.000000\n",
       "max    28137.000000"
      ]
     },
     "execution_count": 80,
     "metadata": {},
     "output_type": "execute_result"
    }
   ],
   "source": [
    "candidate_items_df.describe()"
   ]
  },
  {
   "cell_type": "code",
   "execution_count": 81,
   "metadata": {},
   "outputs": [
    {
     "data": {
      "text/html": [
       "<div>\n",
       "<style scoped>\n",
       "    .dataframe tbody tr th:only-of-type {\n",
       "        vertical-align: middle;\n",
       "    }\n",
       "\n",
       "    .dataframe tbody tr th {\n",
       "        vertical-align: top;\n",
       "    }\n",
       "\n",
       "    .dataframe thead th {\n",
       "        text-align: right;\n",
       "    }\n",
       "</style>\n",
       "<table border=\"1\" class=\"dataframe\">\n",
       "  <thead>\n",
       "    <tr style=\"text-align: right;\">\n",
       "      <th></th>\n",
       "      <th>item_id</th>\n",
       "      <th>feature_category_id</th>\n",
       "      <th>feature_value_id</th>\n",
       "    </tr>\n",
       "  </thead>\n",
       "  <tbody>\n",
       "    <tr>\n",
       "      <th>count</th>\n",
       "      <td>471751.000000</td>\n",
       "      <td>471751.000000</td>\n",
       "      <td>471751.000000</td>\n",
       "    </tr>\n",
       "    <tr>\n",
       "      <th>mean</th>\n",
       "      <td>14058.539477</td>\n",
       "      <td>42.424597</td>\n",
       "      <td>486.345578</td>\n",
       "    </tr>\n",
       "    <tr>\n",
       "      <th>std</th>\n",
       "      <td>8107.465455</td>\n",
       "      <td>22.186285</td>\n",
       "      <td>258.865151</td>\n",
       "    </tr>\n",
       "    <tr>\n",
       "      <th>min</th>\n",
       "      <td>2.000000</td>\n",
       "      <td>1.000000</td>\n",
       "      <td>1.000000</td>\n",
       "    </tr>\n",
       "    <tr>\n",
       "      <th>25%</th>\n",
       "      <td>7060.000000</td>\n",
       "      <td>25.000000</td>\n",
       "      <td>273.000000</td>\n",
       "    </tr>\n",
       "    <tr>\n",
       "      <th>50%</th>\n",
       "      <td>14045.000000</td>\n",
       "      <td>47.000000</td>\n",
       "      <td>512.000000</td>\n",
       "    </tr>\n",
       "    <tr>\n",
       "      <th>75%</th>\n",
       "      <td>21063.000000</td>\n",
       "      <td>61.000000</td>\n",
       "      <td>708.000000</td>\n",
       "    </tr>\n",
       "    <tr>\n",
       "      <th>max</th>\n",
       "      <td>28143.000000</td>\n",
       "      <td>73.000000</td>\n",
       "      <td>905.000000</td>\n",
       "    </tr>\n",
       "  </tbody>\n",
       "</table>\n",
       "</div>"
      ],
      "text/plain": [
       "             item_id  feature_category_id  feature_value_id\n",
       "count  471751.000000        471751.000000     471751.000000\n",
       "mean    14058.539477            42.424597        486.345578\n",
       "std      8107.465455            22.186285        258.865151\n",
       "min         2.000000             1.000000          1.000000\n",
       "25%      7060.000000            25.000000        273.000000\n",
       "50%     14045.000000            47.000000        512.000000\n",
       "75%     21063.000000            61.000000        708.000000\n",
       "max     28143.000000            73.000000        905.000000"
      ]
     },
     "execution_count": 81,
     "metadata": {},
     "output_type": "execute_result"
    }
   ],
   "source": [
    "item_features_df.describe()"
   ]
  },
  {
   "cell_type": "markdown",
   "metadata": {},
   "source": [
    "## Data exploration"
   ]
  },
  {
   "cell_type": "markdown",
   "metadata": {},
   "source": [
    "*How many different items does exist?*"
   ]
  },
  {
   "cell_type": "code",
   "execution_count": 82,
   "metadata": {},
   "outputs": [
    {
     "name": "stdout",
     "output_type": "stream",
     "text": [
      "Unique item number : 23691\n",
      "Item id are unique :  True\n"
     ]
    }
   ],
   "source": [
    "distinct_item_number = len(item_features_df.item_id.unique())\n",
    "print(\"Unique item number :\", distinct_item_number)\n",
    "print(\"Item id are unique : \", item_features_df.item_id.nunique() == len(item_features_df.item_id.unique()))"
   ]
  },
  {
   "cell_type": "markdown",
   "metadata": {},
   "source": [
    "*How many different sessions does exist?*"
   ]
  },
  {
   "cell_type": "code",
   "execution_count": 83,
   "metadata": {},
   "outputs": [
    {
     "name": "stdout",
     "output_type": "stream",
     "text": [
      "Unique user number : 1000000\n"
     ]
    }
   ],
   "source": [
    "distinct_session_number = len(pd.concat([train_session_df.session_id, train_purchase_df.session_id]).unique())\n",
    "print(\"Unique user number :\", distinct_session_number)"
   ]
  },
  {
   "cell_type": "markdown",
   "metadata": {},
   "source": [
    "*Does session always look an item before buying it?*"
   ]
  },
  {
   "cell_type": "code",
   "execution_count": 84,
   "metadata": {},
   "outputs": [
    {
     "name": "stdout",
     "output_type": "stream",
     "text": [
      "A user never look at one item before buying it.\n"
     ]
    },
    {
     "data": {
      "text/plain": [
       "left_only     1000000\n",
       "right_only          0\n",
       "both                0\n",
       "Name: Exist, dtype: int64"
      ]
     },
     "execution_count": 84,
     "metadata": {},
     "output_type": "execute_result"
    }
   ],
   "source": [
    "import numpy as np\n",
    "\n",
    "print(\"A user never look at one item before buying it.\")\n",
    "pd.merge(train_purchase_df, train_session_df, on=['session_id','item_id'], how='left', indicator='Exist')[\"Exist\"].value_counts()"
   ]
  },
  {
   "cell_type": "markdown",
   "metadata": {},
   "source": [
    "*Can a session look at items without buying any?*"
   ]
  },
  {
   "cell_type": "code",
   "execution_count": 85,
   "metadata": {},
   "outputs": [
    {
     "name": "stdout",
     "output_type": "stream",
     "text": [
      "Every session bought exactly one item.\n"
     ]
    },
    {
     "data": {
      "text/plain": [
       "both          4743820\n",
       "left_only           0\n",
       "right_only          0\n",
       "Name: Exist, dtype: int64"
      ]
     },
     "execution_count": 85,
     "metadata": {},
     "output_type": "execute_result"
    }
   ],
   "source": [
    "print(\"Every session bought exactly one item.\")\n",
    "\n",
    "pd.merge(train_purchase_df, train_session_df, on=['session_id'], how='left', indicator='Exist')[\"Exist\"].value_counts()"
   ]
  },
  {
   "cell_type": "markdown",
   "metadata": {},
   "source": [
    "## SVD++"
   ]
  },
  {
   "cell_type": "markdown",
   "metadata": {},
   "source": [
    "We want to create ratings given by every session for every item. We will first choose the following rating system:\n",
    "- If the user has seen the item, we will give it a rating of 1.\n",
    "- If the user purchased the item, we will give it a rating of 2. "
   ]
  },
  {
   "cell_type": "markdown",
   "metadata": {},
   "source": [
    "*What will be the size of our rating matrix?*"
   ]
  },
  {
   "cell_type": "code",
   "execution_count": 86,
   "metadata": {},
   "outputs": [
    {
     "name": "stdout",
     "output_type": "stream",
     "text": [
      "Size of the maximum full rating matrix :  (23691000000, 3)\n"
     ]
    }
   ],
   "source": [
    "print(\"Size of the maximum full rating matrix : \", (distinct_session_number * distinct_item_number, 3))"
   ]
  },
  {
   "cell_type": "code",
   "execution_count": 87,
   "metadata": {},
   "outputs": [
    {
     "data": {
      "text/html": [
       "<div>\n",
       "<style scoped>\n",
       "    .dataframe tbody tr th:only-of-type {\n",
       "        vertical-align: middle;\n",
       "    }\n",
       "\n",
       "    .dataframe tbody tr th {\n",
       "        vertical-align: top;\n",
       "    }\n",
       "\n",
       "    .dataframe thead th {\n",
       "        text-align: right;\n",
       "    }\n",
       "</style>\n",
       "<table border=\"1\" class=\"dataframe\">\n",
       "  <thead>\n",
       "    <tr style=\"text-align: right;\">\n",
       "      <th></th>\n",
       "      <th>session_id</th>\n",
       "      <th>item_id</th>\n",
       "      <th>rating</th>\n",
       "    </tr>\n",
       "  </thead>\n",
       "  <tbody>\n",
       "    <tr>\n",
       "      <th>count</th>\n",
       "      <td>5.743820e+06</td>\n",
       "      <td>5.743820e+06</td>\n",
       "      <td>5.743820e+06</td>\n",
       "    </tr>\n",
       "    <tr>\n",
       "      <th>mean</th>\n",
       "      <td>2.218771e+06</td>\n",
       "      <td>1.401457e+04</td>\n",
       "      <td>1.174100e+00</td>\n",
       "    </tr>\n",
       "    <tr>\n",
       "      <th>std</th>\n",
       "      <td>1.281013e+06</td>\n",
       "      <td>8.179668e+03</td>\n",
       "      <td>3.791956e-01</td>\n",
       "    </tr>\n",
       "    <tr>\n",
       "      <th>min</th>\n",
       "      <td>3.000000e+00</td>\n",
       "      <td>2.000000e+00</td>\n",
       "      <td>1.000000e+00</td>\n",
       "    </tr>\n",
       "    <tr>\n",
       "      <th>25%</th>\n",
       "      <td>1.110573e+06</td>\n",
       "      <td>6.952000e+03</td>\n",
       "      <td>1.000000e+00</td>\n",
       "    </tr>\n",
       "    <tr>\n",
       "      <th>50%</th>\n",
       "      <td>2.215782e+06</td>\n",
       "      <td>1.401700e+04</td>\n",
       "      <td>1.000000e+00</td>\n",
       "    </tr>\n",
       "    <tr>\n",
       "      <th>75%</th>\n",
       "      <td>3.326251e+06</td>\n",
       "      <td>2.096900e+04</td>\n",
       "      <td>1.000000e+00</td>\n",
       "    </tr>\n",
       "    <tr>\n",
       "      <th>max</th>\n",
       "      <td>4.440001e+06</td>\n",
       "      <td>2.814300e+04</td>\n",
       "      <td>2.000000e+00</td>\n",
       "    </tr>\n",
       "  </tbody>\n",
       "</table>\n",
       "</div>"
      ],
      "text/plain": [
       "         session_id       item_id        rating\n",
       "count  5.743820e+06  5.743820e+06  5.743820e+06\n",
       "mean   2.218771e+06  1.401457e+04  1.174100e+00\n",
       "std    1.281013e+06  8.179668e+03  3.791956e-01\n",
       "min    3.000000e+00  2.000000e+00  1.000000e+00\n",
       "25%    1.110573e+06  6.952000e+03  1.000000e+00\n",
       "50%    2.215782e+06  1.401700e+04  1.000000e+00\n",
       "75%    3.326251e+06  2.096900e+04  1.000000e+00\n",
       "max    4.440001e+06  2.814300e+04  2.000000e+00"
      ]
     },
     "execution_count": 87,
     "metadata": {},
     "output_type": "execute_result"
    }
   ],
   "source": [
    "\n",
    "# ----------------------------- WE CREATE RATINGS ---------------------------- #\n",
    "\n",
    "train_rating_df = pd.concat([train_session_df.assign(rating=1), train_purchase_df.assign(rating=2)])\n",
    "train_ratings_df_shuffled = train_rating_df.sample(len(train_rating_df))\n",
    "train_ratings_df_shuffled.describe()"
   ]
  },
  {
   "cell_type": "code",
   "execution_count": 88,
   "metadata": {},
   "outputs": [],
   "source": [
    "# -------------- WE REDUCE THE SIZE OF OUR DATASET FOR RESEARCH -------------- #\n",
    "\n",
    "train_rating_df = train_rating_df[:100000]"
   ]
  },
  {
   "cell_type": "code",
   "execution_count": 89,
   "metadata": {},
   "outputs": [],
   "source": [
    "# --------------------------- WE CREATE A TRAIN SET -------------------------- #\n",
    "\n",
    "import surprise\n",
    "\n",
    "rating_reader = surprise.Reader(rating_scale=(1, 2))\n",
    "trainset_df = surprise.dataset.Dataset.load_from_df(df=train_rating_df[[\"session_id\", \"item_id\", \"rating\"]], reader=rating_reader)"
   ]
  },
  {
   "cell_type": "code",
   "execution_count": 90,
   "metadata": {},
   "outputs": [
    {
     "name": "stdout",
     "output_type": "stream",
     "text": [
      "RMSE: 0.0601\n",
      "SVD RMSE : 0.06012020438539535\n",
      "RMSE: 0.0000\n",
      "Random normal law distribution RMSE : 0.0\n",
      "RMSE: 0.0588\n",
      "SVD RMSE : 0.05883645111131686\n",
      "RMSE: 0.0000\n",
      "Random normal law distribution RMSE : 0.0\n",
      "RMSE: 0.0586\n",
      "SVD RMSE : 0.05863753265548446\n",
      "RMSE: 0.0000\n",
      "Random normal law distribution RMSE : 0.0\n",
      "RMSE: 0.0588\n",
      "SVD RMSE : 0.05878795893723654\n",
      "RMSE: 0.0000\n",
      "Random normal law distribution RMSE : 0.0\n",
      "RMSE: 0.0605\n",
      "SVD RMSE : 0.06052888975007615\n",
      "RMSE: 0.0000\n",
      "Random normal law distribution RMSE : 0.0\n",
      "RMSE: 0.0608\n",
      "SVD RMSE : 0.060794088022735504\n",
      "RMSE: 0.0000\n",
      "Random normal law distribution RMSE : 0.0\n",
      "RMSE: 0.0603\n",
      "SVD RMSE : 0.060288039404525956\n",
      "RMSE: 0.0000\n",
      "Random normal law distribution RMSE : 0.0\n",
      "RMSE: 0.0597\n",
      "SVD RMSE : 0.05967860561007402\n",
      "RMSE: 0.0000\n",
      "Random normal law distribution RMSE : 0.0\n",
      "RMSE: 0.0592\n",
      "SVD RMSE : 0.059239246851956924\n",
      "RMSE: 0.0000\n",
      "Random normal law distribution RMSE : 0.0\n",
      "RMSE: 0.0591\n",
      "SVD RMSE : 0.059134250468023224\n",
      "RMSE: 0.0000\n",
      "Random normal law distribution RMSE : 0.0\n"
     ]
    }
   ],
   "source": [
    "KFOLD_SPLIT_NUMBER = 10\n",
    "\n",
    "recommandation_algorithm = surprise.SVD()\n",
    "comparizon_algorithm = surprise.prediction_algorithms.random_pred.NormalPredictor()\n",
    "kfold_split = surprise.model_selection.KFold(n_splits=KFOLD_SPLIT_NUMBER)\n",
    "\n",
    "for trainset, testset in kfold_split.split(trainset_df):\n",
    "    \n",
    "    # train and test algorithm.\n",
    "    comparizon_algorithm.fit(trainset)\n",
    "    recommandation_algorithm.fit(trainset)\n",
    "\n",
    "    predictions = recommandation_algorithm.test(testset)\n",
    "    predictions_comparizon = comparizon_algorithm.test(testset)\n",
    "\n",
    "    # Compute and print Root Mean Squared Error\n",
    "    print(\"SVD RMSE :\", surprise.accuracy.rmse(predictions, verbose=True))\n",
    "    print(\"Random normal law distribution RMSE :\", surprise.accuracy.rmse(predictions_comparizon, verbose=True))"
   ]
  },
  {
   "cell_type": "code",
   "execution_count": null,
   "metadata": {},
   "outputs": [],
   "source": []
  }
 ],
 "metadata": {
  "interpreter": {
   "hash": "e9a52546c4e957e053486a924b19bc854fd75fae9b0430b0277efb1012ca5e24"
  },
  "kernelspec": {
   "display_name": "Python 3.9.5 ('.venv': poetry)",
   "language": "python",
   "name": "python3"
  },
  "language_info": {
   "codemirror_mode": {
    "name": "ipython",
    "version": 3
   },
   "file_extension": ".py",
   "mimetype": "text/x-python",
   "name": "python",
   "nbconvert_exporter": "python",
   "pygments_lexer": "ipython3",
   "version": "3.9.5"
  },
  "orig_nbformat": 4
 },
 "nbformat": 4,
 "nbformat_minor": 2
}
