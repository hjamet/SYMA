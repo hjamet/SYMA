{
 "cells": [
  {
   "cell_type": "markdown",
   "metadata": {},
   "source": [
    "# SYMA"
   ]
  },
  {
   "cell_type": "code",
   "execution_count": 1,
   "metadata": {},
   "outputs": [],
   "source": [
    "import pandas as pd\n",
    "import os"
   ]
  },
  {
   "cell_type": "markdown",
   "metadata": {},
   "source": [
    "## Loading Data"
   ]
  },
  {
   "cell_type": "code",
   "execution_count": 2,
   "metadata": {},
   "outputs": [],
   "source": [
    "PATH_DATA = os.path.join(\"..\", \"data\")\n",
    "\n",
    "train_session_df = pd.read_csv(os.path.join(PATH_DATA, \"train_sessions.csv\"))\n",
    "train_purchase_df = pd.read_csv(os.path.join(PATH_DATA, \"train_purchases.csv\"))\n",
    "\n",
    "candidate_items_df = pd.read_csv(os.path.join(PATH_DATA, \"candidate_items.csv\"))\n",
    "item_features_df = pd.read_csv(os.path.join(PATH_DATA, \"item_features.csv\"))"
   ]
  },
  {
   "cell_type": "code",
   "execution_count": 3,
   "metadata": {},
   "outputs": [
    {
     "data": {
      "text/html": [
       "<div>\n",
       "<style scoped>\n",
       "    .dataframe tbody tr th:only-of-type {\n",
       "        vertical-align: middle;\n",
       "    }\n",
       "\n",
       "    .dataframe tbody tr th {\n",
       "        vertical-align: top;\n",
       "    }\n",
       "\n",
       "    .dataframe thead th {\n",
       "        text-align: right;\n",
       "    }\n",
       "</style>\n",
       "<table border=\"1\" class=\"dataframe\">\n",
       "  <thead>\n",
       "    <tr style=\"text-align: right;\">\n",
       "      <th></th>\n",
       "      <th>session_id</th>\n",
       "      <th>item_id</th>\n",
       "    </tr>\n",
       "  </thead>\n",
       "  <tbody>\n",
       "    <tr>\n",
       "      <th>count</th>\n",
       "      <td>4.743820e+06</td>\n",
       "      <td>4.743820e+06</td>\n",
       "    </tr>\n",
       "    <tr>\n",
       "      <th>mean</th>\n",
       "      <td>2.218286e+06</td>\n",
       "      <td>1.402211e+04</td>\n",
       "    </tr>\n",
       "    <tr>\n",
       "      <th>std</th>\n",
       "      <td>1.281012e+06</td>\n",
       "      <td>8.177893e+03</td>\n",
       "    </tr>\n",
       "    <tr>\n",
       "      <th>min</th>\n",
       "      <td>3.000000e+00</td>\n",
       "      <td>2.000000e+00</td>\n",
       "    </tr>\n",
       "    <tr>\n",
       "      <th>25%</th>\n",
       "      <td>1.110000e+06</td>\n",
       "      <td>6.946000e+03</td>\n",
       "    </tr>\n",
       "    <tr>\n",
       "      <th>50%</th>\n",
       "      <td>2.214788e+06</td>\n",
       "      <td>1.403300e+04</td>\n",
       "    </tr>\n",
       "    <tr>\n",
       "      <th>75%</th>\n",
       "      <td>3.325631e+06</td>\n",
       "      <td>2.100000e+04</td>\n",
       "    </tr>\n",
       "    <tr>\n",
       "      <th>max</th>\n",
       "      <td>4.440001e+06</td>\n",
       "      <td>2.814300e+04</td>\n",
       "    </tr>\n",
       "  </tbody>\n",
       "</table>\n",
       "</div>"
      ],
      "text/plain": [
       "         session_id       item_id\n",
       "count  4.743820e+06  4.743820e+06\n",
       "mean   2.218286e+06  1.402211e+04\n",
       "std    1.281012e+06  8.177893e+03\n",
       "min    3.000000e+00  2.000000e+00\n",
       "25%    1.110000e+06  6.946000e+03\n",
       "50%    2.214788e+06  1.403300e+04\n",
       "75%    3.325631e+06  2.100000e+04\n",
       "max    4.440001e+06  2.814300e+04"
      ]
     },
     "execution_count": 3,
     "metadata": {},
     "output_type": "execute_result"
    }
   ],
   "source": [
    "train_session_df.describe()"
   ]
  },
  {
   "cell_type": "code",
   "execution_count": 4,
   "metadata": {},
   "outputs": [
    {
     "data": {
      "text/html": [
       "<div>\n",
       "<style scoped>\n",
       "    .dataframe tbody tr th:only-of-type {\n",
       "        vertical-align: middle;\n",
       "    }\n",
       "\n",
       "    .dataframe tbody tr th {\n",
       "        vertical-align: top;\n",
       "    }\n",
       "\n",
       "    .dataframe thead th {\n",
       "        text-align: right;\n",
       "    }\n",
       "</style>\n",
       "<table border=\"1\" class=\"dataframe\">\n",
       "  <thead>\n",
       "    <tr style=\"text-align: right;\">\n",
       "      <th></th>\n",
       "      <th>session_id</th>\n",
       "      <th>item_id</th>\n",
       "    </tr>\n",
       "  </thead>\n",
       "  <tbody>\n",
       "    <tr>\n",
       "      <th>count</th>\n",
       "      <td>1.000000e+06</td>\n",
       "      <td>1000000.000000</td>\n",
       "    </tr>\n",
       "    <tr>\n",
       "      <th>mean</th>\n",
       "      <td>2.221071e+06</td>\n",
       "      <td>13978.825051</td>\n",
       "    </tr>\n",
       "    <tr>\n",
       "      <th>std</th>\n",
       "      <td>1.281018e+06</td>\n",
       "      <td>8187.993593</td>\n",
       "    </tr>\n",
       "    <tr>\n",
       "      <th>min</th>\n",
       "      <td>3.000000e+00</td>\n",
       "      <td>3.000000</td>\n",
       "    </tr>\n",
       "    <tr>\n",
       "      <th>25%</th>\n",
       "      <td>1.112741e+06</td>\n",
       "      <td>6977.000000</td>\n",
       "    </tr>\n",
       "    <tr>\n",
       "      <th>50%</th>\n",
       "      <td>2.220268e+06</td>\n",
       "      <td>13922.000000</td>\n",
       "    </tr>\n",
       "    <tr>\n",
       "      <th>75%</th>\n",
       "      <td>3.329927e+06</td>\n",
       "      <td>20879.000000</td>\n",
       "    </tr>\n",
       "    <tr>\n",
       "      <th>max</th>\n",
       "      <td>4.440001e+06</td>\n",
       "      <td>28143.000000</td>\n",
       "    </tr>\n",
       "  </tbody>\n",
       "</table>\n",
       "</div>"
      ],
      "text/plain": [
       "         session_id         item_id\n",
       "count  1.000000e+06  1000000.000000\n",
       "mean   2.221071e+06    13978.825051\n",
       "std    1.281018e+06     8187.993593\n",
       "min    3.000000e+00        3.000000\n",
       "25%    1.112741e+06     6977.000000\n",
       "50%    2.220268e+06    13922.000000\n",
       "75%    3.329927e+06    20879.000000\n",
       "max    4.440001e+06    28143.000000"
      ]
     },
     "execution_count": 4,
     "metadata": {},
     "output_type": "execute_result"
    }
   ],
   "source": [
    "train_purchase_df.describe()"
   ]
  },
  {
   "cell_type": "code",
   "execution_count": 5,
   "metadata": {},
   "outputs": [
    {
     "data": {
      "text/html": [
       "<div>\n",
       "<style scoped>\n",
       "    .dataframe tbody tr th:only-of-type {\n",
       "        vertical-align: middle;\n",
       "    }\n",
       "\n",
       "    .dataframe tbody tr th {\n",
       "        vertical-align: top;\n",
       "    }\n",
       "\n",
       "    .dataframe thead th {\n",
       "        text-align: right;\n",
       "    }\n",
       "</style>\n",
       "<table border=\"1\" class=\"dataframe\">\n",
       "  <thead>\n",
       "    <tr style=\"text-align: right;\">\n",
       "      <th></th>\n",
       "      <th>item_id</th>\n",
       "    </tr>\n",
       "  </thead>\n",
       "  <tbody>\n",
       "    <tr>\n",
       "      <th>count</th>\n",
       "      <td>4990.000000</td>\n",
       "    </tr>\n",
       "    <tr>\n",
       "      <th>mean</th>\n",
       "      <td>14007.035271</td>\n",
       "    </tr>\n",
       "    <tr>\n",
       "      <th>std</th>\n",
       "      <td>8218.231425</td>\n",
       "    </tr>\n",
       "    <tr>\n",
       "      <th>min</th>\n",
       "      <td>4.000000</td>\n",
       "    </tr>\n",
       "    <tr>\n",
       "      <th>25%</th>\n",
       "      <td>6833.500000</td>\n",
       "    </tr>\n",
       "    <tr>\n",
       "      <th>50%</th>\n",
       "      <td>14108.500000</td>\n",
       "    </tr>\n",
       "    <tr>\n",
       "      <th>75%</th>\n",
       "      <td>21200.000000</td>\n",
       "    </tr>\n",
       "    <tr>\n",
       "      <th>max</th>\n",
       "      <td>28137.000000</td>\n",
       "    </tr>\n",
       "  </tbody>\n",
       "</table>\n",
       "</div>"
      ],
      "text/plain": [
       "            item_id\n",
       "count   4990.000000\n",
       "mean   14007.035271\n",
       "std     8218.231425\n",
       "min        4.000000\n",
       "25%     6833.500000\n",
       "50%    14108.500000\n",
       "75%    21200.000000\n",
       "max    28137.000000"
      ]
     },
     "execution_count": 5,
     "metadata": {},
     "output_type": "execute_result"
    }
   ],
   "source": [
    "candidate_items_df.describe()"
   ]
  },
  {
   "cell_type": "code",
   "execution_count": 6,
   "metadata": {},
   "outputs": [
    {
     "data": {
      "text/html": [
       "<div>\n",
       "<style scoped>\n",
       "    .dataframe tbody tr th:only-of-type {\n",
       "        vertical-align: middle;\n",
       "    }\n",
       "\n",
       "    .dataframe tbody tr th {\n",
       "        vertical-align: top;\n",
       "    }\n",
       "\n",
       "    .dataframe thead th {\n",
       "        text-align: right;\n",
       "    }\n",
       "</style>\n",
       "<table border=\"1\" class=\"dataframe\">\n",
       "  <thead>\n",
       "    <tr style=\"text-align: right;\">\n",
       "      <th></th>\n",
       "      <th>item_id</th>\n",
       "      <th>feature_category_id</th>\n",
       "      <th>feature_value_id</th>\n",
       "    </tr>\n",
       "  </thead>\n",
       "  <tbody>\n",
       "    <tr>\n",
       "      <th>count</th>\n",
       "      <td>471751.000000</td>\n",
       "      <td>471751.000000</td>\n",
       "      <td>471751.000000</td>\n",
       "    </tr>\n",
       "    <tr>\n",
       "      <th>mean</th>\n",
       "      <td>14058.539477</td>\n",
       "      <td>42.424597</td>\n",
       "      <td>486.345578</td>\n",
       "    </tr>\n",
       "    <tr>\n",
       "      <th>std</th>\n",
       "      <td>8107.465455</td>\n",
       "      <td>22.186285</td>\n",
       "      <td>258.865151</td>\n",
       "    </tr>\n",
       "    <tr>\n",
       "      <th>min</th>\n",
       "      <td>2.000000</td>\n",
       "      <td>1.000000</td>\n",
       "      <td>1.000000</td>\n",
       "    </tr>\n",
       "    <tr>\n",
       "      <th>25%</th>\n",
       "      <td>7060.000000</td>\n",
       "      <td>25.000000</td>\n",
       "      <td>273.000000</td>\n",
       "    </tr>\n",
       "    <tr>\n",
       "      <th>50%</th>\n",
       "      <td>14045.000000</td>\n",
       "      <td>47.000000</td>\n",
       "      <td>512.000000</td>\n",
       "    </tr>\n",
       "    <tr>\n",
       "      <th>75%</th>\n",
       "      <td>21063.000000</td>\n",
       "      <td>61.000000</td>\n",
       "      <td>708.000000</td>\n",
       "    </tr>\n",
       "    <tr>\n",
       "      <th>max</th>\n",
       "      <td>28143.000000</td>\n",
       "      <td>73.000000</td>\n",
       "      <td>905.000000</td>\n",
       "    </tr>\n",
       "  </tbody>\n",
       "</table>\n",
       "</div>"
      ],
      "text/plain": [
       "             item_id  feature_category_id  feature_value_id\n",
       "count  471751.000000        471751.000000     471751.000000\n",
       "mean    14058.539477            42.424597        486.345578\n",
       "std      8107.465455            22.186285        258.865151\n",
       "min         2.000000             1.000000          1.000000\n",
       "25%      7060.000000            25.000000        273.000000\n",
       "50%     14045.000000            47.000000        512.000000\n",
       "75%     21063.000000            61.000000        708.000000\n",
       "max     28143.000000            73.000000        905.000000"
      ]
     },
     "execution_count": 6,
     "metadata": {},
     "output_type": "execute_result"
    }
   ],
   "source": [
    "item_features_df.describe()"
   ]
  },
  {
   "cell_type": "markdown",
   "metadata": {},
   "source": [
    "## Data exploration"
   ]
  },
  {
   "cell_type": "markdown",
   "metadata": {},
   "source": [
    "*How many different items does exist?*"
   ]
  },
  {
   "cell_type": "code",
   "execution_count": 7,
   "metadata": {},
   "outputs": [
    {
     "name": "stdout",
     "output_type": "stream",
     "text": [
      "Unique item number : 23691\n",
      "Item id are unique :  True\n"
     ]
    }
   ],
   "source": [
    "distinct_item_number = len(item_features_df.item_id.unique())\n",
    "print(\"Unique item number :\", distinct_item_number)\n",
    "print(\"Item id are unique : \", item_features_df.item_id.nunique() == len(item_features_df.item_id.unique()))"
   ]
  },
  {
   "cell_type": "markdown",
   "metadata": {},
   "source": [
    "*How many different sessions does exist?*"
   ]
  },
  {
   "cell_type": "code",
   "execution_count": 8,
   "metadata": {},
   "outputs": [
    {
     "name": "stdout",
     "output_type": "stream",
     "text": [
      "Unique user number : 1000000\n"
     ]
    }
   ],
   "source": [
    "distinct_session_number = len(pd.concat([train_session_df.session_id, train_purchase_df.session_id]).unique())\n",
    "print(\"Unique user number :\", distinct_session_number)"
   ]
  },
  {
   "cell_type": "markdown",
   "metadata": {},
   "source": [
    "*Does session always look an item before buying it?*"
   ]
  },
  {
   "cell_type": "code",
   "execution_count": 9,
   "metadata": {},
   "outputs": [
    {
     "name": "stdout",
     "output_type": "stream",
     "text": [
      "A user never look at one item before buying it.\n"
     ]
    },
    {
     "data": {
      "text/plain": [
       "left_only     1000000\n",
       "right_only          0\n",
       "both                0\n",
       "Name: Exist, dtype: int64"
      ]
     },
     "execution_count": 9,
     "metadata": {},
     "output_type": "execute_result"
    }
   ],
   "source": [
    "import numpy as np\n",
    "\n",
    "print(\"A user never look at one item before buying it.\")\n",
    "pd.merge(train_purchase_df, train_session_df, on=['session_id','item_id'], how='left', indicator='Exist')[\"Exist\"].value_counts()"
   ]
  },
  {
   "cell_type": "markdown",
   "metadata": {},
   "source": [
    "*Can a session look at items without buying any?*"
   ]
  },
  {
   "cell_type": "code",
   "execution_count": 10,
   "metadata": {},
   "outputs": [
    {
     "name": "stdout",
     "output_type": "stream",
     "text": [
      "Every session bought exactly one item.\n"
     ]
    },
    {
     "data": {
      "text/plain": [
       "both          4743820\n",
       "left_only           0\n",
       "right_only          0\n",
       "Name: Exist, dtype: int64"
      ]
     },
     "execution_count": 10,
     "metadata": {},
     "output_type": "execute_result"
    }
   ],
   "source": [
    "print(\"Every session bought exactly one item.\")\n",
    "\n",
    "pd.merge(train_purchase_df, train_session_df, on=['session_id'], how='left', indicator='Exist')[\"Exist\"].value_counts()"
   ]
  },
  {
   "cell_type": "markdown",
   "metadata": {},
   "source": [
    "*What is the average number of different items every user usually look?*"
   ]
  },
  {
   "cell_type": "code",
   "execution_count": 11,
   "metadata": {},
   "outputs": [
    {
     "name": "stdout",
     "output_type": "stream",
     "text": [
      "Average number of items seen by user : 4.74382\n"
     ]
    }
   ],
   "source": [
    "print(\"Average number of items seen by user :\", train_session_df.groupby(\"session_id\").count()[\"item_id\"].mean())"
   ]
  },
  {
   "cell_type": "markdown",
   "metadata": {},
   "source": [
    "*What will be the size of our rating matrix?*"
   ]
  },
  {
   "cell_type": "code",
   "execution_count": 12,
   "metadata": {},
   "outputs": [
    {
     "name": "stdout",
     "output_type": "stream",
     "text": [
      "Size of the maximum full rating matrix :  (23691000000, 3)\n"
     ]
    }
   ],
   "source": [
    "print(\"Size of the maximum full rating matrix : \", (distinct_session_number * distinct_item_number, 3))"
   ]
  },
  {
   "cell_type": "markdown",
   "metadata": {},
   "source": [
    "## SVD++"
   ]
  },
  {
   "cell_type": "markdown",
   "metadata": {},
   "source": [
    "We want to create ratings given by every session for every item. We will first choose the following rating system:\n",
    "- If the user has seen the item, we will give it a rating of 1.\n",
    "- If the user purchased the item, we will give it a rating of 2. "
   ]
  },
  {
   "cell_type": "code",
   "execution_count": 13,
   "metadata": {},
   "outputs": [
    {
     "data": {
      "text/html": [
       "<div>\n",
       "<style scoped>\n",
       "    .dataframe tbody tr th:only-of-type {\n",
       "        vertical-align: middle;\n",
       "    }\n",
       "\n",
       "    .dataframe tbody tr th {\n",
       "        vertical-align: top;\n",
       "    }\n",
       "\n",
       "    .dataframe thead th {\n",
       "        text-align: right;\n",
       "    }\n",
       "</style>\n",
       "<table border=\"1\" class=\"dataframe\">\n",
       "  <thead>\n",
       "    <tr style=\"text-align: right;\">\n",
       "      <th></th>\n",
       "      <th>session_id</th>\n",
       "      <th>item_id</th>\n",
       "      <th>rating</th>\n",
       "    </tr>\n",
       "  </thead>\n",
       "  <tbody>\n",
       "    <tr>\n",
       "      <th>count</th>\n",
       "      <td>5.743820e+06</td>\n",
       "      <td>5.743820e+06</td>\n",
       "      <td>5.743820e+06</td>\n",
       "    </tr>\n",
       "    <tr>\n",
       "      <th>mean</th>\n",
       "      <td>2.218771e+06</td>\n",
       "      <td>1.401457e+04</td>\n",
       "      <td>1.174100e+00</td>\n",
       "    </tr>\n",
       "    <tr>\n",
       "      <th>std</th>\n",
       "      <td>1.281013e+06</td>\n",
       "      <td>8.179668e+03</td>\n",
       "      <td>3.791956e-01</td>\n",
       "    </tr>\n",
       "    <tr>\n",
       "      <th>min</th>\n",
       "      <td>3.000000e+00</td>\n",
       "      <td>2.000000e+00</td>\n",
       "      <td>1.000000e+00</td>\n",
       "    </tr>\n",
       "    <tr>\n",
       "      <th>25%</th>\n",
       "      <td>1.110573e+06</td>\n",
       "      <td>6.952000e+03</td>\n",
       "      <td>1.000000e+00</td>\n",
       "    </tr>\n",
       "    <tr>\n",
       "      <th>50%</th>\n",
       "      <td>2.215782e+06</td>\n",
       "      <td>1.401700e+04</td>\n",
       "      <td>1.000000e+00</td>\n",
       "    </tr>\n",
       "    <tr>\n",
       "      <th>75%</th>\n",
       "      <td>3.326251e+06</td>\n",
       "      <td>2.096900e+04</td>\n",
       "      <td>1.000000e+00</td>\n",
       "    </tr>\n",
       "    <tr>\n",
       "      <th>max</th>\n",
       "      <td>4.440001e+06</td>\n",
       "      <td>2.814300e+04</td>\n",
       "      <td>2.000000e+00</td>\n",
       "    </tr>\n",
       "  </tbody>\n",
       "</table>\n",
       "</div>"
      ],
      "text/plain": [
       "         session_id       item_id        rating\n",
       "count  5.743820e+06  5.743820e+06  5.743820e+06\n",
       "mean   2.218771e+06  1.401457e+04  1.174100e+00\n",
       "std    1.281013e+06  8.179668e+03  3.791956e-01\n",
       "min    3.000000e+00  2.000000e+00  1.000000e+00\n",
       "25%    1.110573e+06  6.952000e+03  1.000000e+00\n",
       "50%    2.215782e+06  1.401700e+04  1.000000e+00\n",
       "75%    3.326251e+06  2.096900e+04  1.000000e+00\n",
       "max    4.440001e+06  2.814300e+04  2.000000e+00"
      ]
     },
     "execution_count": 13,
     "metadata": {},
     "output_type": "execute_result"
    }
   ],
   "source": [
    "# ----------------------------- WE CREATE RATINGS ---------------------------- #\n",
    "train_rating_df = pd.concat([train_session_df.assign(rating=1), train_purchase_df.assign(rating=2)])\n",
    "train_rating_df.describe()"
   ]
  },
  {
   "cell_type": "code",
   "execution_count": 14,
   "metadata": {},
   "outputs": [],
   "source": [
    "# --------------------------- TRAIN TEST SET SPLIT --------------------------- #\n",
    "import sklearn.model_selection\n",
    "\n",
    "\n",
    "train_ratings_df_shuffled = train_rating_df.sample(len(train_rating_df))\n",
    "\n",
    "train_set, test_set = sklearn.model_selection.train_test_split(train_ratings_df_shuffled, test_size=0.2, random_state=42)"
   ]
  },
  {
   "cell_type": "code",
   "execution_count": 15,
   "metadata": {},
   "outputs": [],
   "source": [
    "# -------------- WE REDUCE THE SIZE OF OUR DATASET FOR RESEARCH -------------- #\n",
    "\n",
    "train_set_reduced = train_set[:10000]"
   ]
  },
  {
   "cell_type": "code",
   "execution_count": 16,
   "metadata": {},
   "outputs": [],
   "source": [
    "# ----------------------------- WE CREATE OUR SET ---------------------------- #\n",
    "\n",
    "import surprise\n",
    "\n",
    "rating_reader = surprise.Reader(rating_scale=(1, 2))\n",
    "train_set = surprise.dataset.Dataset.load_from_df(df=train_set_reduced[[\"session_id\", \"item_id\", \"rating\"]], reader=rating_reader)\n",
    "test_set = surprise.dataset.Dataset.load_from_df(df=test_set[[\"session_id\", \"item_id\", \"rating\"]], reader=rating_reader)"
   ]
  },
  {
   "cell_type": "code",
   "execution_count": 17,
   "metadata": {},
   "outputs": [
    {
     "name": "stdout",
     "output_type": "stream",
     "text": [
      "Evaluating RMSE, MAE of algorithm SVD on 5 split(s).\n",
      "\n",
      "                  Fold 1  Fold 2  Fold 3  Fold 4  Fold 5  Mean    Std     \n",
      "RMSE (testset)    0.3844  0.3818  0.3865  0.3793  0.3834  0.3831  0.0024  \n",
      "MAE (testset)     0.2949  0.2930  0.2956  0.2906  0.2943  0.2937  0.0017  \n",
      "Fit time          0.46    0.50    0.44    0.48    0.47    0.47    0.02    \n",
      "Test time         0.02    0.01    0.02    0.01    0.01    0.01    0.00    \n"
     ]
    },
    {
     "data": {
      "text/plain": [
       "{'test_rmse': array([0.3844343 , 0.38177514, 0.38649137, 0.37933862, 0.3834367 ]),\n",
       " 'test_mae': array([0.29489116, 0.29295948, 0.29561399, 0.29064797, 0.29428904]),\n",
       " 'fit_time': (0.4564938545227051,\n",
       "  0.5017485618591309,\n",
       "  0.438387393951416,\n",
       "  0.4776496887207031,\n",
       "  0.4745056629180908),\n",
       " 'test_time': (0.015576839447021484,\n",
       "  0.009366989135742188,\n",
       "  0.01679062843322754,\n",
       "  0.009724617004394531,\n",
       "  0.010237932205200195)}"
      ]
     },
     "execution_count": 17,
     "metadata": {},
     "output_type": "execute_result"
    }
   ],
   "source": [
    "# ------------------------- WE TRAIN OUR FIRST MODEL ------------------------- #\n",
    "\n",
    "model = surprise.SVD()\n",
    "\n",
    "surprise.model_selection.cross_validate(model, train_set, measures=[\"RMSE\", \"MAE\"], cv=5, verbose=True, n_jobs=-1)"
   ]
  },
  {
   "cell_type": "markdown",
   "metadata": {},
   "source": [
    "# Let's compare our models"
   ]
  },
  {
   "cell_type": "code",
   "execution_count": 18,
   "metadata": {},
   "outputs": [
    {
     "name": "stdout",
     "output_type": "stream",
     "text": [
      "Estimating biases using als...\n",
      "Estimating biases using als...\n",
      "Estimating biases using als...\n",
      "Estimating biases using als...\n",
      "Estimating biases using als...\n",
      "Estimating biases using als...\n",
      "Computing the msd similarity matrix...\n",
      "Done computing similarity matrix.\n",
      "Estimating biases using als...\n",
      "Computing the msd similarity matrix...\n",
      "Done computing similarity matrix.\n",
      "Estimating biases using als...\n",
      "Computing the msd similarity matrix...\n",
      "Done computing similarity matrix.\n",
      "Estimating biases using als...\n",
      "Computing the msd similarity matrix...\n",
      "Done computing similarity matrix.\n",
      "Estimating biases using als...\n",
      "Computing the msd similarity matrix...\n",
      "Done computing similarity matrix.\n",
      "Computing the msd similarity matrix...\n"
     ]
    },
    {
     "ename": "",
     "evalue": "",
     "output_type": "error",
     "traceback": [
      "\u001b[1;31mCanceled future for execute_request message before replies were done"
     ]
    },
    {
     "ename": "",
     "evalue": "",
     "output_type": "error",
     "traceback": [
      "\u001b[1;31mThe Kernel crashed while executing code in the the current cell or a previous cell. Please review the code in the cell(s) to identify a possible cause of the failure. Click <a href='https://aka.ms/vscodeJupyterKernelCrash'>here</a> for more info. View Jupyter <a href='command:jupyter.viewOutput'>log</a> for further details."
     ]
    }
   ],
   "source": [
    "model_list = [surprise.NormalPredictor(), surprise.BaselineOnly(), surprise.KNNBaseline(), surprise.KNNBasic(), surprise.KNNWithMeans(), surprise.KNNWithZScore(), surprise.SlopeOne(), surprise.SVD(), surprise.SVDpp(), surprise.NMF(), surprise.CoClustering(), surprise.SlopeOne()]\n",
    "\n",
    "result = {}\n",
    "for model in model_list:\n",
    "    scores = surprise.model_selection.cross_validate(model, train_set, measures=[\"RMSE\", \"MAE\"], cv=5, verbose=False)\n",
    "    result[model.__class__.__name__] = (scores[\"test_rmse\"].mean(), scores[\"test_mae\"].mean())"
   ]
  },
  {
   "cell_type": "code",
   "execution_count": null,
   "metadata": {},
   "outputs": [
    {
     "data": {
      "text/plain": [
       "[('SVD', (0.3795323715181679, 0.29001879870668973)),\n",
       " ('BaselineOnly', (0.3799472231153003, 0.2901737096361625)),\n",
       " ('KNNBaseline', (0.3801831994698909, 0.2901044349344999)),\n",
       " ('SVDpp', (0.38065748297560986, 0.2896657723644876)),\n",
       " ('NMF', (0.3811061017480477, 0.28942517230474896)),\n",
       " ('KNNBasic', (0.38114509738811597, 0.2905057958333333)),\n",
       " ('KNNWithMeans', (0.3815050259896631, 0.2896348)),\n",
       " ('SlopeOne', (0.3817983521556306, 0.2897450125)),\n",
       " ('KNNWithZScore', (0.3820940947667248, 0.29010767499999995)),\n",
       " ('CoClustering', (0.3824299486433041, 0.2907501434982519)),\n",
       " ('NormalPredictor', (0.47464981981254295, 0.33872879395316297))]"
      ]
     },
     "execution_count": 29,
     "metadata": {},
     "output_type": "execute_result"
    }
   ],
   "source": [
    "# ------------------------- BEST ALGORITHMS WITH RMSE ------------------------ #\n",
    "sorted(result.items(), key=lambda x: x[1][0])"
   ]
  },
  {
   "cell_type": "code",
   "execution_count": null,
   "metadata": {},
   "outputs": [
    {
     "data": {
      "text/plain": [
       "[('NMF', (0.3811061017480477, 0.28942517230474896)),\n",
       " ('KNNWithMeans', (0.3815050259896631, 0.2896348)),\n",
       " ('SVDpp', (0.38065748297560986, 0.2896657723644876)),\n",
       " ('SlopeOne', (0.3817983521556306, 0.2897450125)),\n",
       " ('SVD', (0.3795323715181679, 0.29001879870668973)),\n",
       " ('KNNBaseline', (0.3801831994698909, 0.2901044349344999)),\n",
       " ('KNNWithZScore', (0.3820940947667248, 0.29010767499999995)),\n",
       " ('BaselineOnly', (0.3799472231153003, 0.2901737096361625)),\n",
       " ('KNNBasic', (0.38114509738811597, 0.2905057958333333)),\n",
       " ('CoClustering', (0.3824299486433041, 0.2907501434982519)),\n",
       " ('NormalPredictor', (0.47464981981254295, 0.33872879395316297))]"
      ]
     },
     "execution_count": 30,
     "metadata": {},
     "output_type": "execute_result"
    }
   ],
   "source": [
    "# ------------------------- BEST ALGORITHMS WITH MAE ------------------------- #\n",
    "sorted(result.items(), key=lambda x: x[1][1])"
   ]
  },
  {
   "cell_type": "code",
   "execution_count": null,
   "metadata": {},
   "outputs": [
    {
     "data": {
      "text/plain": [
       "[('SVD', (0.3795323715181679, 0.29001879870668973)),\n",
       " ('BaselineOnly', (0.3799472231153003, 0.2901737096361625)),\n",
       " ('KNNBaseline', (0.3801831994698909, 0.2901044349344999)),\n",
       " ('SVDpp', (0.38065748297560986, 0.2896657723644876)),\n",
       " ('NMF', (0.3811061017480477, 0.28942517230474896)),\n",
       " ('KNNWithMeans', (0.3815050259896631, 0.2896348)),\n",
       " ('SlopeOne', (0.3817983521556306, 0.2897450125)),\n",
       " ('KNNBasic', (0.38114509738811597, 0.2905057958333333)),\n",
       " ('KNNWithZScore', (0.3820940947667248, 0.29010767499999995)),\n",
       " ('CoClustering', (0.3824299486433041, 0.2907501434982519)),\n",
       " ('NormalPredictor', (0.47464981981254295, 0.33872879395316297))]"
      ]
     },
     "execution_count": 31,
     "metadata": {},
     "output_type": "execute_result"
    }
   ],
   "source": [
    "# ------------------------------ BEST ALGORITHMS ----------------------------- #\n",
    "import numpy as np\n",
    "sorted(result.items(), key=lambda x: np.mean(x[1]))"
   ]
  },
  {
   "cell_type": "markdown",
   "metadata": {},
   "source": [
    "## Now perform some Grid Search"
   ]
  },
  {
   "cell_type": "code",
   "execution_count": null,
   "metadata": {},
   "outputs": [
    {
     "ename": "AttributeError",
     "evalue": "'DataFrame' object has no attribute 'global_mean'",
     "output_type": "error",
     "traceback": [
      "\u001b[0;31m---------------------------------------------------------------------------\u001b[0m",
      "\u001b[0;31mAttributeError\u001b[0m                            Traceback (most recent call last)",
      "\u001b[1;32m/home/lopilo/Epita/Ing2/TP_Ing2_Epita/matrices_recommandation/Projet/SYMA/src/data_exploration.ipynb Cell 35'\u001b[0m in \u001b[0;36m<cell line: 11>\u001b[0;34m()\u001b[0m\n\u001b[1;32m     <a href='vscode-notebook-cell://wsl%2Bubuntu/home/lopilo/Epita/Ing2/TP_Ing2_Epita/matrices_recommandation/Projet/SYMA/src/data_exploration.ipynb#ch0000038vscode-remote?line=9'>10</a>\u001b[0m res \u001b[39m=\u001b[39m []\n\u001b[1;32m     <a href='vscode-notebook-cell://wsl%2Bubuntu/home/lopilo/Epita/Ing2/TP_Ing2_Epita/matrices_recommandation/Projet/SYMA/src/data_exploration.ipynb#ch0000038vscode-remote?line=10'>11</a>\u001b[0m \u001b[39mfor\u001b[39;00m svd_model, svd_params \u001b[39min\u001b[39;00m SVD_list:\n\u001b[0;32m---> <a href='vscode-notebook-cell://wsl%2Bubuntu/home/lopilo/Epita/Ing2/TP_Ing2_Epita/matrices_recommandation/Projet/SYMA/src/data_exploration.ipynb#ch0000038vscode-remote?line=11'>12</a>\u001b[0m     svd_model\u001b[39m.\u001b[39;49mfit(train_set)\n\u001b[1;32m     <a href='vscode-notebook-cell://wsl%2Bubuntu/home/lopilo/Epita/Ing2/TP_Ing2_Epita/matrices_recommandation/Projet/SYMA/src/data_exploration.ipynb#ch0000038vscode-remote?line=12'>13</a>\u001b[0m     predictions \u001b[39m=\u001b[39m svd_model\u001b[39m.\u001b[39mtest(test_set)\n\u001b[1;32m     <a href='vscode-notebook-cell://wsl%2Bubuntu/home/lopilo/Epita/Ing2/TP_Ing2_Epita/matrices_recommandation/Projet/SYMA/src/data_exploration.ipynb#ch0000038vscode-remote?line=13'>14</a>\u001b[0m     res\u001b[39m.\u001b[39mappend((svd_model, svd_params, surprise\u001b[39m.\u001b[39maccuracy\u001b[39m.\u001b[39mrmse(predictions)))\n",
      "File \u001b[0;32m~/Epita/Ing2/TP_Ing2_Epita/matrices_recommandation/Projet/SYMA/.venv/lib/python3.9/site-packages/surprise/prediction_algorithms/matrix_factorization.pyx:155\u001b[0m, in \u001b[0;36msurprise.prediction_algorithms.matrix_factorization.SVD.fit\u001b[0;34m()\u001b[0m\n",
      "File \u001b[0;32m~/Epita/Ing2/TP_Ing2_Epita/matrices_recommandation/Projet/SYMA/.venv/lib/python3.9/site-packages/surprise/prediction_algorithms/matrix_factorization.pyx:204\u001b[0m, in \u001b[0;36msurprise.prediction_algorithms.matrix_factorization.SVD.sgd\u001b[0;34m()\u001b[0m\n",
      "File \u001b[0;32m~/Epita/Ing2/TP_Ing2_Epita/matrices_recommandation/Projet/SYMA/.venv/lib/python3.9/site-packages/pandas/core/generic.py:5575\u001b[0m, in \u001b[0;36mNDFrame.__getattr__\u001b[0;34m(self, name)\u001b[0m\n\u001b[1;32m   <a href='file:///home/lopilo/Epita/Ing2/TP_Ing2_Epita/matrices_recommandation/Projet/SYMA/.venv/lib/python3.9/site-packages/pandas/core/generic.py?line=5567'>5568</a>\u001b[0m \u001b[39mif\u001b[39;00m (\n\u001b[1;32m   <a href='file:///home/lopilo/Epita/Ing2/TP_Ing2_Epita/matrices_recommandation/Projet/SYMA/.venv/lib/python3.9/site-packages/pandas/core/generic.py?line=5568'>5569</a>\u001b[0m     name \u001b[39mnot\u001b[39;00m \u001b[39min\u001b[39;00m \u001b[39mself\u001b[39m\u001b[39m.\u001b[39m_internal_names_set\n\u001b[1;32m   <a href='file:///home/lopilo/Epita/Ing2/TP_Ing2_Epita/matrices_recommandation/Projet/SYMA/.venv/lib/python3.9/site-packages/pandas/core/generic.py?line=5569'>5570</a>\u001b[0m     \u001b[39mand\u001b[39;00m name \u001b[39mnot\u001b[39;00m \u001b[39min\u001b[39;00m \u001b[39mself\u001b[39m\u001b[39m.\u001b[39m_metadata\n\u001b[1;32m   <a href='file:///home/lopilo/Epita/Ing2/TP_Ing2_Epita/matrices_recommandation/Projet/SYMA/.venv/lib/python3.9/site-packages/pandas/core/generic.py?line=5570'>5571</a>\u001b[0m     \u001b[39mand\u001b[39;00m name \u001b[39mnot\u001b[39;00m \u001b[39min\u001b[39;00m \u001b[39mself\u001b[39m\u001b[39m.\u001b[39m_accessors\n\u001b[1;32m   <a href='file:///home/lopilo/Epita/Ing2/TP_Ing2_Epita/matrices_recommandation/Projet/SYMA/.venv/lib/python3.9/site-packages/pandas/core/generic.py?line=5571'>5572</a>\u001b[0m     \u001b[39mand\u001b[39;00m \u001b[39mself\u001b[39m\u001b[39m.\u001b[39m_info_axis\u001b[39m.\u001b[39m_can_hold_identifiers_and_holds_name(name)\n\u001b[1;32m   <a href='file:///home/lopilo/Epita/Ing2/TP_Ing2_Epita/matrices_recommandation/Projet/SYMA/.venv/lib/python3.9/site-packages/pandas/core/generic.py?line=5572'>5573</a>\u001b[0m ):\n\u001b[1;32m   <a href='file:///home/lopilo/Epita/Ing2/TP_Ing2_Epita/matrices_recommandation/Projet/SYMA/.venv/lib/python3.9/site-packages/pandas/core/generic.py?line=5573'>5574</a>\u001b[0m     \u001b[39mreturn\u001b[39;00m \u001b[39mself\u001b[39m[name]\n\u001b[0;32m-> <a href='file:///home/lopilo/Epita/Ing2/TP_Ing2_Epita/matrices_recommandation/Projet/SYMA/.venv/lib/python3.9/site-packages/pandas/core/generic.py?line=5574'>5575</a>\u001b[0m \u001b[39mreturn\u001b[39;00m \u001b[39mobject\u001b[39;49m\u001b[39m.\u001b[39;49m\u001b[39m__getattribute__\u001b[39;49m(\u001b[39mself\u001b[39;49m, name)\n",
      "\u001b[0;31mAttributeError\u001b[0m: 'DataFrame' object has no attribute 'global_mean'"
     ]
    }
   ],
   "source": [
    "import sklearn.model_selection\n",
    "from multiprocessing import Pool\n",
    "\n",
    "params = {\n",
    "    \"n_factors\" : [50, 100, 150, 200],\n",
    "    \"biased\" : [True, False],\n",
    "}\n",
    "\n",
    "SVD_list = [(surprise.SVD(**args), args) for args in list(sklearn.model_selection.ParameterGrid(params))]\n",
    "\n",
    "def train_test_model(svd_model, params):\n",
    "    svd_model.fit(train_set)\n",
    "    predictions = svd_model.test(test_set)\n",
    "    return (svd_model, params, predictions)\n",
    "\n",
    "with Pool() as pool:\n",
    "# for svd_model, svd_params in SVD_list:\n",
    "    res = pool.map(train_test_model, SVD_list)"
   ]
  }
 ],
 "metadata": {
  "interpreter": {
   "hash": "916dbcbb3f70747c44a77c7bcd40155683ae19c65e1c03b4aa3499c5328201f1"
  },
  "kernelspec": {
   "display_name": "Python 3.8.10 64-bit",
   "language": "python",
   "name": "python3"
  },
  "language_info": {
   "codemirror_mode": {
    "name": "ipython",
    "version": 3
   },
   "file_extension": ".py",
   "mimetype": "text/x-python",
   "name": "python",
   "nbconvert_exporter": "python",
   "pygments_lexer": "ipython3",
   "version": "3.8.10"
  },
  "orig_nbformat": 4
 },
 "nbformat": 4,
 "nbformat_minor": 2
}
