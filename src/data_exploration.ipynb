{
 "cells": [
  {
   "cell_type": "markdown",
   "metadata": {},
   "source": [
    "# SYMA"
   ]
  },
  {
   "cell_type": "code",
   "execution_count": 1,
   "metadata": {},
   "outputs": [],
   "source": [
    "import pandas as pd\n",
    "import os"
   ]
  },
  {
   "cell_type": "markdown",
   "metadata": {},
   "source": [
    "## Loading Data"
   ]
  },
  {
   "cell_type": "code",
   "execution_count": 2,
   "metadata": {},
   "outputs": [],
   "source": [
    "PATH_DATA = os.path.join(\"..\", \"data\")\n",
    "\n",
    "train_session_df = pd.read_csv(os.path.join(PATH_DATA, \"train_sessions.csv\"))\n",
    "train_purchase_df = pd.read_csv(os.path.join(PATH_DATA, \"train_purchases.csv\"))\n",
    "\n",
    "candidate_items_df = pd.read_csv(os.path.join(PATH_DATA, \"candidate_items.csv\"))\n",
    "item_features_df = pd.read_csv(os.path.join(PATH_DATA, \"item_features.csv\"))"
   ]
  },
  {
   "cell_type": "code",
   "execution_count": 3,
   "metadata": {},
   "outputs": [
    {
     "data": {
      "text/html": [
       "<div>\n",
       "<style scoped>\n",
       "    .dataframe tbody tr th:only-of-type {\n",
       "        vertical-align: middle;\n",
       "    }\n",
       "\n",
       "    .dataframe tbody tr th {\n",
       "        vertical-align: top;\n",
       "    }\n",
       "\n",
       "    .dataframe thead th {\n",
       "        text-align: right;\n",
       "    }\n",
       "</style>\n",
       "<table border=\"1\" class=\"dataframe\">\n",
       "  <thead>\n",
       "    <tr style=\"text-align: right;\">\n",
       "      <th></th>\n",
       "      <th>session_id</th>\n",
       "      <th>item_id</th>\n",
       "    </tr>\n",
       "  </thead>\n",
       "  <tbody>\n",
       "    <tr>\n",
       "      <th>count</th>\n",
       "      <td>4.743820e+06</td>\n",
       "      <td>4.743820e+06</td>\n",
       "    </tr>\n",
       "    <tr>\n",
       "      <th>mean</th>\n",
       "      <td>2.218286e+06</td>\n",
       "      <td>1.402211e+04</td>\n",
       "    </tr>\n",
       "    <tr>\n",
       "      <th>std</th>\n",
       "      <td>1.281012e+06</td>\n",
       "      <td>8.177893e+03</td>\n",
       "    </tr>\n",
       "    <tr>\n",
       "      <th>min</th>\n",
       "      <td>3.000000e+00</td>\n",
       "      <td>2.000000e+00</td>\n",
       "    </tr>\n",
       "    <tr>\n",
       "      <th>25%</th>\n",
       "      <td>1.110000e+06</td>\n",
       "      <td>6.946000e+03</td>\n",
       "    </tr>\n",
       "    <tr>\n",
       "      <th>50%</th>\n",
       "      <td>2.214788e+06</td>\n",
       "      <td>1.403300e+04</td>\n",
       "    </tr>\n",
       "    <tr>\n",
       "      <th>75%</th>\n",
       "      <td>3.325631e+06</td>\n",
       "      <td>2.100000e+04</td>\n",
       "    </tr>\n",
       "    <tr>\n",
       "      <th>max</th>\n",
       "      <td>4.440001e+06</td>\n",
       "      <td>2.814300e+04</td>\n",
       "    </tr>\n",
       "  </tbody>\n",
       "</table>\n",
       "</div>"
      ],
      "text/plain": [
       "         session_id       item_id\n",
       "count  4.743820e+06  4.743820e+06\n",
       "mean   2.218286e+06  1.402211e+04\n",
       "std    1.281012e+06  8.177893e+03\n",
       "min    3.000000e+00  2.000000e+00\n",
       "25%    1.110000e+06  6.946000e+03\n",
       "50%    2.214788e+06  1.403300e+04\n",
       "75%    3.325631e+06  2.100000e+04\n",
       "max    4.440001e+06  2.814300e+04"
      ]
     },
     "execution_count": 3,
     "metadata": {},
     "output_type": "execute_result"
    }
   ],
   "source": [
    "train_session_df.describe()"
   ]
  },
  {
   "cell_type": "code",
   "execution_count": 4,
   "metadata": {},
   "outputs": [
    {
     "data": {
      "text/html": [
       "<div>\n",
       "<style scoped>\n",
       "    .dataframe tbody tr th:only-of-type {\n",
       "        vertical-align: middle;\n",
       "    }\n",
       "\n",
       "    .dataframe tbody tr th {\n",
       "        vertical-align: top;\n",
       "    }\n",
       "\n",
       "    .dataframe thead th {\n",
       "        text-align: right;\n",
       "    }\n",
       "</style>\n",
       "<table border=\"1\" class=\"dataframe\">\n",
       "  <thead>\n",
       "    <tr style=\"text-align: right;\">\n",
       "      <th></th>\n",
       "      <th>session_id</th>\n",
       "      <th>item_id</th>\n",
       "    </tr>\n",
       "  </thead>\n",
       "  <tbody>\n",
       "    <tr>\n",
       "      <th>count</th>\n",
       "      <td>1.000000e+06</td>\n",
       "      <td>1000000.000000</td>\n",
       "    </tr>\n",
       "    <tr>\n",
       "      <th>mean</th>\n",
       "      <td>2.221071e+06</td>\n",
       "      <td>13978.825051</td>\n",
       "    </tr>\n",
       "    <tr>\n",
       "      <th>std</th>\n",
       "      <td>1.281018e+06</td>\n",
       "      <td>8187.993593</td>\n",
       "    </tr>\n",
       "    <tr>\n",
       "      <th>min</th>\n",
       "      <td>3.000000e+00</td>\n",
       "      <td>3.000000</td>\n",
       "    </tr>\n",
       "    <tr>\n",
       "      <th>25%</th>\n",
       "      <td>1.112741e+06</td>\n",
       "      <td>6977.000000</td>\n",
       "    </tr>\n",
       "    <tr>\n",
       "      <th>50%</th>\n",
       "      <td>2.220268e+06</td>\n",
       "      <td>13922.000000</td>\n",
       "    </tr>\n",
       "    <tr>\n",
       "      <th>75%</th>\n",
       "      <td>3.329927e+06</td>\n",
       "      <td>20879.000000</td>\n",
       "    </tr>\n",
       "    <tr>\n",
       "      <th>max</th>\n",
       "      <td>4.440001e+06</td>\n",
       "      <td>28143.000000</td>\n",
       "    </tr>\n",
       "  </tbody>\n",
       "</table>\n",
       "</div>"
      ],
      "text/plain": [
       "         session_id         item_id\n",
       "count  1.000000e+06  1000000.000000\n",
       "mean   2.221071e+06    13978.825051\n",
       "std    1.281018e+06     8187.993593\n",
       "min    3.000000e+00        3.000000\n",
       "25%    1.112741e+06     6977.000000\n",
       "50%    2.220268e+06    13922.000000\n",
       "75%    3.329927e+06    20879.000000\n",
       "max    4.440001e+06    28143.000000"
      ]
     },
     "execution_count": 4,
     "metadata": {},
     "output_type": "execute_result"
    }
   ],
   "source": [
    "train_purchase_df.describe()"
   ]
  },
  {
   "cell_type": "code",
   "execution_count": 5,
   "metadata": {},
   "outputs": [
    {
     "data": {
      "text/html": [
       "<div>\n",
       "<style scoped>\n",
       "    .dataframe tbody tr th:only-of-type {\n",
       "        vertical-align: middle;\n",
       "    }\n",
       "\n",
       "    .dataframe tbody tr th {\n",
       "        vertical-align: top;\n",
       "    }\n",
       "\n",
       "    .dataframe thead th {\n",
       "        text-align: right;\n",
       "    }\n",
       "</style>\n",
       "<table border=\"1\" class=\"dataframe\">\n",
       "  <thead>\n",
       "    <tr style=\"text-align: right;\">\n",
       "      <th></th>\n",
       "      <th>item_id</th>\n",
       "    </tr>\n",
       "  </thead>\n",
       "  <tbody>\n",
       "    <tr>\n",
       "      <th>count</th>\n",
       "      <td>4990.000000</td>\n",
       "    </tr>\n",
       "    <tr>\n",
       "      <th>mean</th>\n",
       "      <td>14007.035271</td>\n",
       "    </tr>\n",
       "    <tr>\n",
       "      <th>std</th>\n",
       "      <td>8218.231425</td>\n",
       "    </tr>\n",
       "    <tr>\n",
       "      <th>min</th>\n",
       "      <td>4.000000</td>\n",
       "    </tr>\n",
       "    <tr>\n",
       "      <th>25%</th>\n",
       "      <td>6833.500000</td>\n",
       "    </tr>\n",
       "    <tr>\n",
       "      <th>50%</th>\n",
       "      <td>14108.500000</td>\n",
       "    </tr>\n",
       "    <tr>\n",
       "      <th>75%</th>\n",
       "      <td>21200.000000</td>\n",
       "    </tr>\n",
       "    <tr>\n",
       "      <th>max</th>\n",
       "      <td>28137.000000</td>\n",
       "    </tr>\n",
       "  </tbody>\n",
       "</table>\n",
       "</div>"
      ],
      "text/plain": [
       "            item_id\n",
       "count   4990.000000\n",
       "mean   14007.035271\n",
       "std     8218.231425\n",
       "min        4.000000\n",
       "25%     6833.500000\n",
       "50%    14108.500000\n",
       "75%    21200.000000\n",
       "max    28137.000000"
      ]
     },
     "execution_count": 5,
     "metadata": {},
     "output_type": "execute_result"
    }
   ],
   "source": [
    "candidate_items_df.describe()"
   ]
  },
  {
   "cell_type": "code",
   "execution_count": 6,
   "metadata": {},
   "outputs": [
    {
     "data": {
      "text/html": [
       "<div>\n",
       "<style scoped>\n",
       "    .dataframe tbody tr th:only-of-type {\n",
       "        vertical-align: middle;\n",
       "    }\n",
       "\n",
       "    .dataframe tbody tr th {\n",
       "        vertical-align: top;\n",
       "    }\n",
       "\n",
       "    .dataframe thead th {\n",
       "        text-align: right;\n",
       "    }\n",
       "</style>\n",
       "<table border=\"1\" class=\"dataframe\">\n",
       "  <thead>\n",
       "    <tr style=\"text-align: right;\">\n",
       "      <th></th>\n",
       "      <th>item_id</th>\n",
       "      <th>feature_category_id</th>\n",
       "      <th>feature_value_id</th>\n",
       "    </tr>\n",
       "  </thead>\n",
       "  <tbody>\n",
       "    <tr>\n",
       "      <th>count</th>\n",
       "      <td>471751.000000</td>\n",
       "      <td>471751.000000</td>\n",
       "      <td>471751.000000</td>\n",
       "    </tr>\n",
       "    <tr>\n",
       "      <th>mean</th>\n",
       "      <td>14058.539477</td>\n",
       "      <td>42.424597</td>\n",
       "      <td>486.345578</td>\n",
       "    </tr>\n",
       "    <tr>\n",
       "      <th>std</th>\n",
       "      <td>8107.465455</td>\n",
       "      <td>22.186285</td>\n",
       "      <td>258.865151</td>\n",
       "    </tr>\n",
       "    <tr>\n",
       "      <th>min</th>\n",
       "      <td>2.000000</td>\n",
       "      <td>1.000000</td>\n",
       "      <td>1.000000</td>\n",
       "    </tr>\n",
       "    <tr>\n",
       "      <th>25%</th>\n",
       "      <td>7060.000000</td>\n",
       "      <td>25.000000</td>\n",
       "      <td>273.000000</td>\n",
       "    </tr>\n",
       "    <tr>\n",
       "      <th>50%</th>\n",
       "      <td>14045.000000</td>\n",
       "      <td>47.000000</td>\n",
       "      <td>512.000000</td>\n",
       "    </tr>\n",
       "    <tr>\n",
       "      <th>75%</th>\n",
       "      <td>21063.000000</td>\n",
       "      <td>61.000000</td>\n",
       "      <td>708.000000</td>\n",
       "    </tr>\n",
       "    <tr>\n",
       "      <th>max</th>\n",
       "      <td>28143.000000</td>\n",
       "      <td>73.000000</td>\n",
       "      <td>905.000000</td>\n",
       "    </tr>\n",
       "  </tbody>\n",
       "</table>\n",
       "</div>"
      ],
      "text/plain": [
       "             item_id  feature_category_id  feature_value_id\n",
       "count  471751.000000        471751.000000     471751.000000\n",
       "mean    14058.539477            42.424597        486.345578\n",
       "std      8107.465455            22.186285        258.865151\n",
       "min         2.000000             1.000000          1.000000\n",
       "25%      7060.000000            25.000000        273.000000\n",
       "50%     14045.000000            47.000000        512.000000\n",
       "75%     21063.000000            61.000000        708.000000\n",
       "max     28143.000000            73.000000        905.000000"
      ]
     },
     "execution_count": 6,
     "metadata": {},
     "output_type": "execute_result"
    }
   ],
   "source": [
    "item_features_df.describe()"
   ]
  },
  {
   "cell_type": "markdown",
   "metadata": {},
   "source": [
    "## Data exploration"
   ]
  },
  {
   "cell_type": "markdown",
   "metadata": {},
   "source": [
    "*How many different items does exist?*"
   ]
  },
  {
   "cell_type": "code",
   "execution_count": 7,
   "metadata": {},
   "outputs": [
    {
     "name": "stdout",
     "output_type": "stream",
     "text": [
      "Unique item number : 23691\n",
      "Item id are unique :  True\n"
     ]
    }
   ],
   "source": [
    "distinct_item_number = len(item_features_df.item_id.unique())\n",
    "print(\"Unique item number :\", distinct_item_number)\n",
    "print(\"Item id are unique : \", item_features_df.item_id.nunique() == len(item_features_df.item_id.unique()))"
   ]
  },
  {
   "cell_type": "markdown",
   "metadata": {},
   "source": [
    "*How many different sessions does exist?*"
   ]
  },
  {
   "cell_type": "code",
   "execution_count": 8,
   "metadata": {},
   "outputs": [
    {
     "name": "stdout",
     "output_type": "stream",
     "text": [
      "Unique user number : 1000000\n"
     ]
    }
   ],
   "source": [
    "distinct_session_number = len(pd.concat([train_session_df.session_id, train_purchase_df.session_id]).unique())\n",
    "print(\"Unique user number :\", distinct_session_number)"
   ]
  },
  {
   "cell_type": "markdown",
   "metadata": {},
   "source": [
    "*Does session always look an item before buying it?*"
   ]
  },
  {
   "cell_type": "code",
   "execution_count": 9,
   "metadata": {},
   "outputs": [
    {
     "name": "stdout",
     "output_type": "stream",
     "text": [
      "A user never look at one item before buying it.\n"
     ]
    },
    {
     "data": {
      "text/plain": [
       "left_only     1000000\n",
       "right_only          0\n",
       "both                0\n",
       "Name: Exist, dtype: int64"
      ]
     },
     "execution_count": 9,
     "metadata": {},
     "output_type": "execute_result"
    }
   ],
   "source": [
    "import numpy as np\n",
    "\n",
    "print(\"A user never look at one item before buying it.\")\n",
    "pd.merge(train_purchase_df, train_session_df, on=['session_id','item_id'], how='left', indicator='Exist')[\"Exist\"].value_counts()"
   ]
  },
  {
   "cell_type": "markdown",
   "metadata": {},
   "source": [
    "*Can a session look at items without buying any?*"
   ]
  },
  {
   "cell_type": "code",
   "execution_count": 10,
   "metadata": {},
   "outputs": [
    {
     "name": "stdout",
     "output_type": "stream",
     "text": [
      "Every session bought exactly one item.\n"
     ]
    },
    {
     "data": {
      "text/plain": [
       "both          4743820\n",
       "left_only           0\n",
       "right_only          0\n",
       "Name: Exist, dtype: int64"
      ]
     },
     "execution_count": 10,
     "metadata": {},
     "output_type": "execute_result"
    }
   ],
   "source": [
    "print(\"Every session bought exactly one item.\")\n",
    "\n",
    "pd.merge(train_purchase_df, train_session_df, on=['session_id'], how='left', indicator='Exist')[\"Exist\"].value_counts()"
   ]
  },
  {
   "cell_type": "markdown",
   "metadata": {},
   "source": [
    "*What is the average number of different items every user usually look?*"
   ]
  },
  {
   "cell_type": "code",
   "execution_count": 11,
   "metadata": {},
   "outputs": [
    {
     "name": "stdout",
     "output_type": "stream",
     "text": [
      "Average number of items seen by user : 4.74382\n"
     ]
    }
   ],
   "source": [
    "print(\"Average number of items seen by user :\", train_session_df.groupby(\"session_id\").count()[\"item_id\"].mean())"
   ]
  },
  {
   "cell_type": "markdown",
   "metadata": {},
   "source": [
    "*What will be the size of our rating matrix?*"
   ]
  },
  {
   "cell_type": "code",
   "execution_count": 12,
   "metadata": {},
   "outputs": [
    {
     "name": "stdout",
     "output_type": "stream",
     "text": [
      "Size of the maximum full rating matrix :  (23691000000, 3)\n"
     ]
    }
   ],
   "source": [
    "print(\"Size of the maximum full rating matrix : \", (distinct_session_number * distinct_item_number, 3))"
   ]
  },
  {
   "cell_type": "markdown",
   "metadata": {},
   "source": [
    "## SVD++"
   ]
  },
  {
   "cell_type": "markdown",
   "metadata": {},
   "source": [
    "We want to create ratings given by every session for every item. We will first choose the following rating system:\n",
    "- If the user has seen the item, we will give it a rating of 1.\n",
    "- If the user purchased the item, we will give it a rating of 2. "
   ]
  },
  {
   "cell_type": "code",
   "execution_count": 13,
   "metadata": {},
   "outputs": [
    {
     "data": {
      "text/html": [
       "<div>\n",
       "<style scoped>\n",
       "    .dataframe tbody tr th:only-of-type {\n",
       "        vertical-align: middle;\n",
       "    }\n",
       "\n",
       "    .dataframe tbody tr th {\n",
       "        vertical-align: top;\n",
       "    }\n",
       "\n",
       "    .dataframe thead th {\n",
       "        text-align: right;\n",
       "    }\n",
       "</style>\n",
       "<table border=\"1\" class=\"dataframe\">\n",
       "  <thead>\n",
       "    <tr style=\"text-align: right;\">\n",
       "      <th></th>\n",
       "      <th>session_id</th>\n",
       "      <th>item_id</th>\n",
       "      <th>rating</th>\n",
       "    </tr>\n",
       "  </thead>\n",
       "  <tbody>\n",
       "    <tr>\n",
       "      <th>count</th>\n",
       "      <td>5.743820e+06</td>\n",
       "      <td>5.743820e+06</td>\n",
       "      <td>5.743820e+06</td>\n",
       "    </tr>\n",
       "    <tr>\n",
       "      <th>mean</th>\n",
       "      <td>2.218771e+06</td>\n",
       "      <td>1.401457e+04</td>\n",
       "      <td>1.174100e+00</td>\n",
       "    </tr>\n",
       "    <tr>\n",
       "      <th>std</th>\n",
       "      <td>1.281013e+06</td>\n",
       "      <td>8.179668e+03</td>\n",
       "      <td>3.791956e-01</td>\n",
       "    </tr>\n",
       "    <tr>\n",
       "      <th>min</th>\n",
       "      <td>3.000000e+00</td>\n",
       "      <td>2.000000e+00</td>\n",
       "      <td>1.000000e+00</td>\n",
       "    </tr>\n",
       "    <tr>\n",
       "      <th>25%</th>\n",
       "      <td>1.110573e+06</td>\n",
       "      <td>6.952000e+03</td>\n",
       "      <td>1.000000e+00</td>\n",
       "    </tr>\n",
       "    <tr>\n",
       "      <th>50%</th>\n",
       "      <td>2.215782e+06</td>\n",
       "      <td>1.401700e+04</td>\n",
       "      <td>1.000000e+00</td>\n",
       "    </tr>\n",
       "    <tr>\n",
       "      <th>75%</th>\n",
       "      <td>3.326251e+06</td>\n",
       "      <td>2.096900e+04</td>\n",
       "      <td>1.000000e+00</td>\n",
       "    </tr>\n",
       "    <tr>\n",
       "      <th>max</th>\n",
       "      <td>4.440001e+06</td>\n",
       "      <td>2.814300e+04</td>\n",
       "      <td>2.000000e+00</td>\n",
       "    </tr>\n",
       "  </tbody>\n",
       "</table>\n",
       "</div>"
      ],
      "text/plain": [
       "         session_id       item_id        rating\n",
       "count  5.743820e+06  5.743820e+06  5.743820e+06\n",
       "mean   2.218771e+06  1.401457e+04  1.174100e+00\n",
       "std    1.281013e+06  8.179668e+03  3.791956e-01\n",
       "min    3.000000e+00  2.000000e+00  1.000000e+00\n",
       "25%    1.110573e+06  6.952000e+03  1.000000e+00\n",
       "50%    2.215782e+06  1.401700e+04  1.000000e+00\n",
       "75%    3.326251e+06  2.096900e+04  1.000000e+00\n",
       "max    4.440001e+06  2.814300e+04  2.000000e+00"
      ]
     },
     "execution_count": 13,
     "metadata": {},
     "output_type": "execute_result"
    }
   ],
   "source": [
    "# ----------------------------- WE CREATE RATINGS ---------------------------- #\n",
    "train_rating_df = pd.concat([train_session_df.assign(rating=1), train_purchase_df.assign(rating=2)])\n",
    "train_rating_df.describe()"
   ]
  },
  {
   "cell_type": "code",
   "execution_count": 14,
   "metadata": {},
   "outputs": [],
   "source": [
    "# ---------------------------- SHUFFLE AND RENAME ---------------------------- #\n",
    "train_ratings_df_shuffled = train_rating_df.sample(len(train_rating_df))\n",
    "train_ratings_df_shuffled.rename(columns={\"session_id\" : \"user_id\", \"rating\" : \"raw_ratings\"}, inplace=True)"
   ]
  },
  {
   "cell_type": "code",
   "execution_count": 15,
   "metadata": {},
   "outputs": [],
   "source": [
    "# -------------- WE REDUCE THE SIZE OF OUR DATASET FOR RESEARCH -------------- #\n",
    "\n",
    "train_set_df_reduced = train_ratings_df_shuffled[:10000]"
   ]
  },
  {
   "cell_type": "code",
   "execution_count": 16,
   "metadata": {},
   "outputs": [],
   "source": [
    "# ----------------------------- WE CREATE OUR SET ---------------------------- #\n",
    "\n",
    "import surprise\n",
    "\n",
    "rating_reader = surprise.Reader(rating_scale=(1, 2))\n",
    "dataset = surprise.dataset.Dataset.load_from_df(df=train_set_df_reduced[[\"user_id\", \"item_id\", \"raw_ratings\"]], reader=rating_reader)"
   ]
  },
  {
   "cell_type": "code",
   "execution_count": 17,
   "metadata": {},
   "outputs": [],
   "source": [
    "import surprise\n",
    "import sklearn.model_selection\n",
    "\n",
    "train_set_df, test_set_df = sklearn.model_selection.train_test_split(train_set_df_reduced)\n",
    "\n",
    "rating_reader = surprise.Reader(rating_scale=(1, 2))\n",
    "train_set = surprise.dataset.Dataset.load_from_df(df=train_set_df[[\"user_id\", \"item_id\", \"raw_ratings\"]], reader=rating_reader)\n",
    "test_set = surprise.dataset.Dataset.load_from_df(df=test_set_df[[\"user_id\", \"item_id\", \"raw_ratings\"]], reader=rating_reader)"
   ]
  },
  {
   "cell_type": "code",
   "execution_count": 18,
   "metadata": {},
   "outputs": [
    {
     "name": "stdout",
     "output_type": "stream",
     "text": [
      "Evaluating RMSE, MAE of algorithm SVD on 5 split(s).\n",
      "\n",
      "                  Fold 1  Fold 2  Fold 3  Fold 4  Fold 5  Mean    Std     \n",
      "RMSE (testset)    0.4007  0.3775  0.3869  0.3798  0.3780  0.3846  0.0087  \n",
      "MAE (testset)     0.3050  0.2913  0.2967  0.2942  0.2919  0.2958  0.0050  \n",
      "Fit time          0.42    0.38    0.38    0.37    0.34    0.38    0.02    \n",
      "Test time         0.01    0.01    0.01    0.01    0.01    0.01    0.00    \n"
     ]
    },
    {
     "data": {
      "text/plain": [
       "{'test_rmse': array([0.40073756, 0.37754943, 0.38685571, 0.37975056, 0.3780363 ]),\n",
       " 'test_mae': array([0.30503739, 0.29134224, 0.29667013, 0.29417354, 0.29190019]),\n",
       " 'fit_time': (0.41888904571533203,\n",
       "  0.3776090145111084,\n",
       "  0.3796830177307129,\n",
       "  0.36913299560546875,\n",
       "  0.34375572204589844),\n",
       " 'test_time': (0.0073473453521728516,\n",
       "  0.0070340633392333984,\n",
       "  0.0073549747467041016,\n",
       "  0.007274627685546875,\n",
       "  0.007431983947753906)}"
      ]
     },
     "execution_count": 18,
     "metadata": {},
     "output_type": "execute_result"
    }
   ],
   "source": [
    "# ------------------------- WE TRAIN OUR FIRST MODEL ------------------------- #\n",
    "\n",
    "model = surprise.SVD()\n",
    "\n",
    "surprise.model_selection.cross_validate(model, train_set, measures=[\"RMSE\", \"MAE\"], cv=5, verbose=True, n_jobs=-1)"
   ]
  },
  {
   "cell_type": "markdown",
   "metadata": {},
   "source": [
    "# Let's compare our models"
   ]
  },
  {
   "cell_type": "code",
   "execution_count": 19,
   "metadata": {},
   "outputs": [
    {
     "name": "stdout",
     "output_type": "stream",
     "text": [
      "Estimating biases using als...\n",
      "Estimating biases using als...\n",
      "Estimating biases using als...\n",
      "Estimating biases using als...\n",
      "Estimating biases using als...\n",
      "Estimating biases using als...\n",
      "Computing the msd similarity matrix...\n",
      "Done computing similarity matrix.\n",
      "Estimating biases using als...\n",
      "Computing the msd similarity matrix...\n",
      "Done computing similarity matrix.\n",
      "Estimating biases using als...\n",
      "Computing the msd similarity matrix...\n",
      "Done computing similarity matrix.\n",
      "Estimating biases using als...\n",
      "Computing the msd similarity matrix...\n",
      "Done computing similarity matrix.\n",
      "Estimating biases using als...\n",
      "Computing the msd similarity matrix...\n",
      "Done computing similarity matrix.\n",
      "Computing the msd similarity matrix...\n",
      "Done computing similarity matrix.\n",
      "Computing the msd similarity matrix...\n",
      "Done computing similarity matrix.\n",
      "Computing the msd similarity matrix...\n",
      "Done computing similarity matrix.\n",
      "Computing the msd similarity matrix...\n",
      "Done computing similarity matrix.\n",
      "Computing the msd similarity matrix...\n",
      "Done computing similarity matrix.\n",
      "Computing the msd similarity matrix...\n",
      "Done computing similarity matrix.\n",
      "Computing the msd similarity matrix...\n",
      "Done computing similarity matrix.\n",
      "Computing the msd similarity matrix...\n",
      "Done computing similarity matrix.\n",
      "Computing the msd similarity matrix...\n",
      "Done computing similarity matrix.\n",
      "Computing the msd similarity matrix...\n",
      "Done computing similarity matrix.\n",
      "Computing the msd similarity matrix...\n",
      "Done computing similarity matrix.\n",
      "Computing the msd similarity matrix...\n",
      "Done computing similarity matrix.\n",
      "Computing the msd similarity matrix...\n",
      "Done computing similarity matrix.\n",
      "Computing the msd similarity matrix...\n",
      "Done computing similarity matrix.\n",
      "Computing the msd similarity matrix...\n",
      "Done computing similarity matrix.\n"
     ]
    }
   ],
   "source": [
    "model_list = [surprise.NormalPredictor(), surprise.BaselineOnly(), surprise.KNNBaseline(), surprise.KNNBasic(), surprise.KNNWithMeans(), surprise.KNNWithZScore(), surprise.SlopeOne(), surprise.SVD(), surprise.SVDpp(), surprise.NMF(), surprise.CoClustering(), surprise.SlopeOne()]\n",
    "\n",
    "result = {}\n",
    "for model in model_list:\n",
    "    scores = surprise.model_selection.cross_validate(model, train_set, measures=[\"RMSE\", \"MAE\"], cv=5, verbose=False)\n",
    "    result[model.__class__.__name__] = (scores[\"test_rmse\"].mean(), scores[\"test_mae\"].mean())"
   ]
  },
  {
   "cell_type": "code",
   "execution_count": 20,
   "metadata": {},
   "outputs": [
    {
     "data": {
      "text/plain": [
       "[('NMF', (0.38369588696351264, 0.2938766559314043)),\n",
       " ('KNNBasic', (0.3837257562018383, 0.2945646222222222)),\n",
       " ('KNNWithZScore', (0.3841332625352265, 0.2942441777777777)),\n",
       " ('SVD', (0.384250641636696, 0.295959336022494)),\n",
       " ('KNNWithMeans', (0.3842585331632329, 0.29434948888888884)),\n",
       " ('CoClustering', (0.38436807181465554, 0.2946157482084649)),\n",
       " ('BaselineOnly', (0.3844058431766527, 0.29594424904499)),\n",
       " ('KNNBaseline', (0.38442519243575096, 0.2959769510388076)),\n",
       " ('SlopeOne', (0.3845823851505409, 0.2944956888888889)),\n",
       " ('SVDpp', (0.3852439814173815, 0.29590232904094227)),\n",
       " ('NormalPredictor', (0.4803733198128734, 0.34588960079227177))]"
      ]
     },
     "execution_count": 20,
     "metadata": {},
     "output_type": "execute_result"
    }
   ],
   "source": [
    "# ------------------------- BEST ALGORITHMS WITH RMSE ------------------------ #\n",
    "sorted(result.items(), key=lambda x: x[1][0])"
   ]
  },
  {
   "cell_type": "code",
   "execution_count": 21,
   "metadata": {},
   "outputs": [
    {
     "data": {
      "text/plain": [
       "[('NMF', (0.38369588696351264, 0.2938766559314043)),\n",
       " ('KNNWithZScore', (0.3841332625352265, 0.2942441777777777)),\n",
       " ('KNNWithMeans', (0.3842585331632329, 0.29434948888888884)),\n",
       " ('SlopeOne', (0.3845823851505409, 0.2944956888888889)),\n",
       " ('KNNBasic', (0.3837257562018383, 0.2945646222222222)),\n",
       " ('CoClustering', (0.38436807181465554, 0.2946157482084649)),\n",
       " ('SVDpp', (0.3852439814173815, 0.29590232904094227)),\n",
       " ('BaselineOnly', (0.3844058431766527, 0.29594424904499)),\n",
       " ('SVD', (0.384250641636696, 0.295959336022494)),\n",
       " ('KNNBaseline', (0.38442519243575096, 0.2959769510388076)),\n",
       " ('NormalPredictor', (0.4803733198128734, 0.34588960079227177))]"
      ]
     },
     "execution_count": 21,
     "metadata": {},
     "output_type": "execute_result"
    }
   ],
   "source": [
    "# ------------------------- BEST ALGORITHMS WITH MAE ------------------------- #\n",
    "sorted(result.items(), key=lambda x: x[1][1])"
   ]
  },
  {
   "cell_type": "code",
   "execution_count": 22,
   "metadata": {},
   "outputs": [
    {
     "data": {
      "text/plain": [
       "[('NMF', (0.38369588696351264, 0.2938766559314043)),\n",
       " ('KNNBasic', (0.3837257562018383, 0.2945646222222222)),\n",
       " ('KNNWithZScore', (0.3841332625352265, 0.2942441777777777)),\n",
       " ('KNNWithMeans', (0.3842585331632329, 0.29434948888888884)),\n",
       " ('CoClustering', (0.38436807181465554, 0.2946157482084649)),\n",
       " ('SlopeOne', (0.3845823851505409, 0.2944956888888889)),\n",
       " ('SVD', (0.384250641636696, 0.295959336022494)),\n",
       " ('BaselineOnly', (0.3844058431766527, 0.29594424904499)),\n",
       " ('KNNBaseline', (0.38442519243575096, 0.2959769510388076)),\n",
       " ('SVDpp', (0.3852439814173815, 0.29590232904094227)),\n",
       " ('NormalPredictor', (0.4803733198128734, 0.34588960079227177))]"
      ]
     },
     "execution_count": 22,
     "metadata": {},
     "output_type": "execute_result"
    }
   ],
   "source": [
    "# ------------------------------ BEST ALGORITHMS ----------------------------- #\n",
    "import numpy as np\n",
    "sorted(result.items(), key=lambda x: np.mean(x[1]))"
   ]
  },
  {
   "cell_type": "markdown",
   "metadata": {},
   "source": [
    "## Now perform some Grid Search"
   ]
  },
  {
   "cell_type": "code",
   "execution_count": 27,
   "metadata": {},
   "outputs": [],
   "source": [
    "class MyCrossValidation:\n",
    "    def __init__(self, params):\n",
    "        self.SVD_list = [\n",
    "            (surprise.SVD(**args, verbose=False), args)\n",
    "            for args in list(sklearn.model_selection.ParameterGrid(params))\n",
    "        ]\n",
    "        self.full_train_set = train_set.build_full_trainset()\n",
    "\n",
    "    def __train_test_model(self, svd_model, params, verbose=1):\n",
    "        svd_model.fit(\n",
    "            self.full_train_set,\n",
    "        )\n",
    "        predictions = svd_model.test(self.full_train_set.build_testset())\n",
    "        score = surprise.accuracy.rmse(\n",
    "            predictions, verbose=True if verbose == 2 else False\n",
    "        )\n",
    "        if verbose == 1:\n",
    "            print(\"Params {} :\".format(str(params)), score)\n",
    "        return (params, score)\n",
    "\n",
    "    def __call__(self, verbose=1):\n",
    "        res = []\n",
    "        while len(self.SVD_list):\n",
    "            svd_model, params = self.SVD_list.pop()\n",
    "            if verbose == 1:\n",
    "                print(\"{} left\".format(len(self.SVD_list)), end=\" --- \")\n",
    "            res.append(self.__train_test_model(svd_model, params, verbose))\n",
    "            del svd_model\n",
    "        return sorted(res, key=lambda x: x[1])"
   ]
  },
  {
   "cell_type": "code",
   "execution_count": 32,
   "metadata": {},
   "outputs": [
    {
     "name": "stdout",
     "output_type": "stream",
     "text": [
      "242 left --- Params {'biased': False, 'init_std_dev': 5, 'lr_all': 0.001, 'reg_bi': 0.05, 'reg_bu': 0.5, 'reg_pu': 0.005, 'reg_qi': 0.05} : 0.9026155442740667\n",
      "241 left --- Params {'biased': False, 'init_std_dev': 5, 'lr_all': 0.001, 'reg_bi': 0.05, 'reg_bu': 0.5, 'reg_pu': 0.005, 'reg_qi': 0.01} : 0.9019266173524731\n",
      "240 left --- Params {'biased': False, 'init_std_dev': 5, 'lr_all': 0.001, 'reg_bi': 0.05, 'reg_bu': 0.5, 'reg_pu': 0.005, 'reg_qi': 0.005} : 0.9025194111872448\n",
      "239 left --- Params {'biased': False, 'init_std_dev': 5, 'lr_all': 0.001, 'reg_bi': 0.05, 'reg_bu': 0.5, 'reg_pu': 0.001, 'reg_qi': 0.05} : 0.902583424200978\n",
      "238 left --- Params {'biased': False, 'init_std_dev': 5, 'lr_all': 0.001, 'reg_bi': 0.05, 'reg_bu': 0.5, 'reg_pu': 0.001, 'reg_qi': 0.01} : 0.9035917745211172\n",
      "237 left --- Params {'biased': False, 'init_std_dev': 5, 'lr_all': 0.001, 'reg_bi': 0.05, 'reg_bu': 0.5, 'reg_pu': 0.001, 'reg_qi': 0.005} : 0.9030834966496667\n",
      "236 left --- Params {'biased': False, 'init_std_dev': 5, 'lr_all': 0.001, 'reg_bi': 0.05, 'reg_bu': 0.5, 'reg_pu': 0.0005, 'reg_qi': 0.05} : 0.9029765904987723\n",
      "235 left --- Params {'biased': False, 'init_std_dev': 5, 'lr_all': 0.001, 'reg_bi': 0.05, 'reg_bu': 0.5, 'reg_pu': 0.0005, 'reg_qi': 0.01} : 0.9023971476338849\n",
      "234 left --- Params {'biased': False, 'init_std_dev': 5, 'lr_all': 0.001, 'reg_bi': 0.05, 'reg_bu': 0.5, 'reg_pu': 0.0005, 'reg_qi': 0.005} : 0.9017039357393825\n",
      "233 left --- Params {'biased': False, 'init_std_dev': 5, 'lr_all': 0.001, 'reg_bi': 0.05, 'reg_bu': 0.1, 'reg_pu': 0.005, 'reg_qi': 0.05} : 0.9016906382573147\n",
      "232 left --- Params {'biased': False, 'init_std_dev': 5, 'lr_all': 0.001, 'reg_bi': 0.05, 'reg_bu': 0.1, 'reg_pu': 0.005, 'reg_qi': 0.01} : 0.902864656681054\n",
      "231 left --- Params {'biased': False, 'init_std_dev': 5, 'lr_all': 0.001, 'reg_bi': 0.05, 'reg_bu': 0.1, 'reg_pu': 0.005, 'reg_qi': 0.005} : 0.9029851331543849\n",
      "230 left --- Params {'biased': False, 'init_std_dev': 5, 'lr_all': 0.001, 'reg_bi': 0.05, 'reg_bu': 0.1, 'reg_pu': 0.001, 'reg_qi': 0.05} : 0.9025559121330152\n",
      "229 left --- Params {'biased': False, 'init_std_dev': 5, 'lr_all': 0.001, 'reg_bi': 0.05, 'reg_bu': 0.1, 'reg_pu': 0.001, 'reg_qi': 0.01} : 0.9029228898461046\n",
      "228 left --- Params {'biased': False, 'init_std_dev': 5, 'lr_all': 0.001, 'reg_bi': 0.05, 'reg_bu': 0.1, 'reg_pu': 0.001, 'reg_qi': 0.005} : 0.9023685459294959\n",
      "227 left --- Params {'biased': False, 'init_std_dev': 5, 'lr_all': 0.001, 'reg_bi': 0.05, 'reg_bu': 0.1, 'reg_pu': 0.0005, 'reg_qi': 0.05} : 0.9027261595772867\n",
      "226 left --- Params {'biased': False, 'init_std_dev': 5, 'lr_all': 0.001, 'reg_bi': 0.05, 'reg_bu': 0.1, 'reg_pu': 0.0005, 'reg_qi': 0.01} : 0.9035411807143418\n",
      "225 left --- Params {'biased': False, 'init_std_dev': 5, 'lr_all': 0.001, 'reg_bi': 0.05, 'reg_bu': 0.1, 'reg_pu': 0.0005, 'reg_qi': 0.005} : 0.901892368079616\n",
      "224 left --- Params {'biased': False, 'init_std_dev': 5, 'lr_all': 0.001, 'reg_bi': 0.05, 'reg_bu': 0.05, 'reg_pu': 0.005, 'reg_qi': 0.05} : 0.9027317081018438\n",
      "223 left --- Params {'biased': False, 'init_std_dev': 5, 'lr_all': 0.001, 'reg_bi': 0.05, 'reg_bu': 0.05, 'reg_pu': 0.005, 'reg_qi': 0.01} : 0.9026113219441733\n",
      "222 left --- Params {'biased': False, 'init_std_dev': 5, 'lr_all': 0.001, 'reg_bi': 0.05, 'reg_bu': 0.05, 'reg_pu': 0.005, 'reg_qi': 0.005} : 0.9029011826125721\n",
      "221 left --- Params {'biased': False, 'init_std_dev': 5, 'lr_all': 0.001, 'reg_bi': 0.05, 'reg_bu': 0.05, 'reg_pu': 0.001, 'reg_qi': 0.05} : 0.9022490623169513\n",
      "220 left --- Params {'biased': False, 'init_std_dev': 5, 'lr_all': 0.001, 'reg_bi': 0.05, 'reg_bu': 0.05, 'reg_pu': 0.001, 'reg_qi': 0.01} : 0.9023505762475629\n",
      "219 left --- Params {'biased': False, 'init_std_dev': 5, 'lr_all': 0.001, 'reg_bi': 0.05, 'reg_bu': 0.05, 'reg_pu': 0.001, 'reg_qi': 0.005} : 0.9032350018344776\n",
      "218 left --- Params {'biased': False, 'init_std_dev': 5, 'lr_all': 0.001, 'reg_bi': 0.05, 'reg_bu': 0.05, 'reg_pu': 0.0005, 'reg_qi': 0.05} : 0.9020364729939262\n",
      "217 left --- Params {'biased': False, 'init_std_dev': 5, 'lr_all': 0.001, 'reg_bi': 0.05, 'reg_bu': 0.05, 'reg_pu': 0.0005, 'reg_qi': 0.01} : 0.9023695870592303\n",
      "216 left --- Params {'biased': False, 'init_std_dev': 5, 'lr_all': 0.001, 'reg_bi': 0.05, 'reg_bu': 0.05, 'reg_pu': 0.0005, 'reg_qi': 0.005} : 0.902067009539078\n",
      "215 left --- Params {'biased': False, 'init_std_dev': 5, 'lr_all': 0.001, 'reg_bi': 0.01, 'reg_bu': 0.5, 'reg_pu': 0.005, 'reg_qi': 0.05} : 0.9025902928687219\n",
      "214 left --- Params {'biased': False, 'init_std_dev': 5, 'lr_all': 0.001, 'reg_bi': 0.01, 'reg_bu': 0.5, 'reg_pu': 0.005, 'reg_qi': 0.01} : 0.90207639166126\n",
      "213 left --- Params {'biased': False, 'init_std_dev': 5, 'lr_all': 0.001, 'reg_bi': 0.01, 'reg_bu': 0.5, 'reg_pu': 0.005, 'reg_qi': 0.005} : 0.9015566715272246\n",
      "212 left --- Params {'biased': False, 'init_std_dev': 5, 'lr_all': 0.001, 'reg_bi': 0.01, 'reg_bu': 0.5, 'reg_pu': 0.001, 'reg_qi': 0.05} : 0.9029194100318888\n",
      "211 left --- Params {'biased': False, 'init_std_dev': 5, 'lr_all': 0.001, 'reg_bi': 0.01, 'reg_bu': 0.5, 'reg_pu': 0.001, 'reg_qi': 0.01} : 0.9028101316529786\n",
      "210 left --- Params {'biased': False, 'init_std_dev': 5, 'lr_all': 0.001, 'reg_bi': 0.01, 'reg_bu': 0.5, 'reg_pu': 0.001, 'reg_qi': 0.005} : 0.9029032219606322\n",
      "209 left --- Params {'biased': False, 'init_std_dev': 5, 'lr_all': 0.001, 'reg_bi': 0.01, 'reg_bu': 0.5, 'reg_pu': 0.0005, 'reg_qi': 0.05} : 0.9020141843078244\n",
      "208 left --- Params {'biased': False, 'init_std_dev': 5, 'lr_all': 0.001, 'reg_bi': 0.01, 'reg_bu': 0.5, 'reg_pu': 0.0005, 'reg_qi': 0.01} : 0.9018832416837977\n",
      "207 left --- Params {'biased': False, 'init_std_dev': 5, 'lr_all': 0.001, 'reg_bi': 0.01, 'reg_bu': 0.5, 'reg_pu': 0.0005, 'reg_qi': 0.005} : 0.9027460328862889\n",
      "206 left --- Params {'biased': False, 'init_std_dev': 5, 'lr_all': 0.001, 'reg_bi': 0.01, 'reg_bu': 0.1, 'reg_pu': 0.005, 'reg_qi': 0.05} : 0.902345937524424\n",
      "205 left --- Params {'biased': False, 'init_std_dev': 5, 'lr_all': 0.001, 'reg_bi': 0.01, 'reg_bu': 0.1, 'reg_pu': 0.005, 'reg_qi': 0.01} : 0.9017627248568606\n",
      "204 left --- Params {'biased': False, 'init_std_dev': 5, 'lr_all': 0.001, 'reg_bi': 0.01, 'reg_bu': 0.1, 'reg_pu': 0.005, 'reg_qi': 0.005} : 0.9027527153012227\n",
      "203 left --- Params {'biased': False, 'init_std_dev': 5, 'lr_all': 0.001, 'reg_bi': 0.01, 'reg_bu': 0.1, 'reg_pu': 0.001, 'reg_qi': 0.05} : 0.9022504141826081\n",
      "202 left --- Params {'biased': False, 'init_std_dev': 5, 'lr_all': 0.001, 'reg_bi': 0.01, 'reg_bu': 0.1, 'reg_pu': 0.001, 'reg_qi': 0.01} : 0.9028110504949346\n",
      "201 left --- Params {'biased': False, 'init_std_dev': 5, 'lr_all': 0.001, 'reg_bi': 0.01, 'reg_bu': 0.1, 'reg_pu': 0.001, 'reg_qi': 0.005} : 0.9022079423115372\n",
      "200 left --- Params {'biased': False, 'init_std_dev': 5, 'lr_all': 0.001, 'reg_bi': 0.01, 'reg_bu': 0.1, 'reg_pu': 0.0005, 'reg_qi': 0.05} : 0.9028801293877781\n",
      "199 left --- Params {'biased': False, 'init_std_dev': 5, 'lr_all': 0.001, 'reg_bi': 0.01, 'reg_bu': 0.1, 'reg_pu': 0.0005, 'reg_qi': 0.01} : 0.9028878281431382\n",
      "198 left --- Params {'biased': False, 'init_std_dev': 5, 'lr_all': 0.001, 'reg_bi': 0.01, 'reg_bu': 0.1, 'reg_pu': 0.0005, 'reg_qi': 0.005} : 0.9022911638300778\n",
      "197 left --- Params {'biased': False, 'init_std_dev': 5, 'lr_all': 0.001, 'reg_bi': 0.01, 'reg_bu': 0.05, 'reg_pu': 0.005, 'reg_qi': 0.05} : 0.9027934850522219\n",
      "196 left --- Params {'biased': False, 'init_std_dev': 5, 'lr_all': 0.001, 'reg_bi': 0.01, 'reg_bu': 0.05, 'reg_pu': 0.005, 'reg_qi': 0.01} : 0.9015012716684597\n",
      "195 left --- Params {'biased': False, 'init_std_dev': 5, 'lr_all': 0.001, 'reg_bi': 0.01, 'reg_bu': 0.05, 'reg_pu': 0.005, 'reg_qi': 0.005} : 0.9035416038400371\n",
      "194 left --- Params {'biased': False, 'init_std_dev': 5, 'lr_all': 0.001, 'reg_bi': 0.01, 'reg_bu': 0.05, 'reg_pu': 0.001, 'reg_qi': 0.05} : 0.90330565321429\n",
      "193 left --- Params {'biased': False, 'init_std_dev': 5, 'lr_all': 0.001, 'reg_bi': 0.01, 'reg_bu': 0.05, 'reg_pu': 0.001, 'reg_qi': 0.01} : 0.9014858098863335\n",
      "192 left --- Params {'biased': False, 'init_std_dev': 5, 'lr_all': 0.001, 'reg_bi': 0.01, 'reg_bu': 0.05, 'reg_pu': 0.001, 'reg_qi': 0.005} : 0.9019908354212637\n",
      "191 left --- Params {'biased': False, 'init_std_dev': 5, 'lr_all': 0.001, 'reg_bi': 0.01, 'reg_bu': 0.05, 'reg_pu': 0.0005, 'reg_qi': 0.05} : 0.9025872603389641\n",
      "190 left --- Params {'biased': False, 'init_std_dev': 5, 'lr_all': 0.001, 'reg_bi': 0.01, 'reg_bu': 0.05, 'reg_pu': 0.0005, 'reg_qi': 0.01} : 0.9023806170267796\n",
      "189 left --- Params {'biased': False, 'init_std_dev': 5, 'lr_all': 0.001, 'reg_bi': 0.01, 'reg_bu': 0.05, 'reg_pu': 0.0005, 'reg_qi': 0.005} : 0.9023470235928807\n",
      "188 left --- Params {'biased': False, 'init_std_dev': 5, 'lr_all': 0.001, 'reg_bi': 0.005, 'reg_bu': 0.5, 'reg_pu': 0.005, 'reg_qi': 0.05} : 0.9014551969764382\n",
      "187 left --- Params {'biased': False, 'init_std_dev': 5, 'lr_all': 0.001, 'reg_bi': 0.005, 'reg_bu': 0.5, 'reg_pu': 0.005, 'reg_qi': 0.01} : 0.9016395393331651\n",
      "186 left --- Params {'biased': False, 'init_std_dev': 5, 'lr_all': 0.001, 'reg_bi': 0.005, 'reg_bu': 0.5, 'reg_pu': 0.005, 'reg_qi': 0.005} : 0.9022473450285191\n",
      "185 left --- Params {'biased': False, 'init_std_dev': 5, 'lr_all': 0.001, 'reg_bi': 0.005, 'reg_bu': 0.5, 'reg_pu': 0.001, 'reg_qi': 0.05} : 0.9027863203538837\n",
      "184 left --- Params {'biased': False, 'init_std_dev': 5, 'lr_all': 0.001, 'reg_bi': 0.005, 'reg_bu': 0.5, 'reg_pu': 0.001, 'reg_qi': 0.01} : 0.903581098185349\n",
      "183 left --- Params {'biased': False, 'init_std_dev': 5, 'lr_all': 0.001, 'reg_bi': 0.005, 'reg_bu': 0.5, 'reg_pu': 0.001, 'reg_qi': 0.005} : 0.9018547989621393\n",
      "182 left --- Params {'biased': False, 'init_std_dev': 5, 'lr_all': 0.001, 'reg_bi': 0.005, 'reg_bu': 0.5, 'reg_pu': 0.0005, 'reg_qi': 0.05} : 0.9027233185119198\n",
      "181 left --- Params {'biased': False, 'init_std_dev': 5, 'lr_all': 0.001, 'reg_bi': 0.005, 'reg_bu': 0.5, 'reg_pu': 0.0005, 'reg_qi': 0.01} : 0.9029591559041494\n",
      "180 left --- Params {'biased': False, 'init_std_dev': 5, 'lr_all': 0.001, 'reg_bi': 0.005, 'reg_bu': 0.5, 'reg_pu': 0.0005, 'reg_qi': 0.005} : 0.9025219408746094\n",
      "179 left --- Params {'biased': False, 'init_std_dev': 5, 'lr_all': 0.001, 'reg_bi': 0.005, 'reg_bu': 0.1, 'reg_pu': 0.005, 'reg_qi': 0.05} : 0.9028280905124622\n",
      "178 left --- Params {'biased': False, 'init_std_dev': 5, 'lr_all': 0.001, 'reg_bi': 0.005, 'reg_bu': 0.1, 'reg_pu': 0.005, 'reg_qi': 0.01} : 0.9022701458917273\n",
      "177 left --- Params {'biased': False, 'init_std_dev': 5, 'lr_all': 0.001, 'reg_bi': 0.005, 'reg_bu': 0.1, 'reg_pu': 0.005, 'reg_qi': 0.005} : 0.9022779356039159\n",
      "176 left --- Params {'biased': False, 'init_std_dev': 5, 'lr_all': 0.001, 'reg_bi': 0.005, 'reg_bu': 0.1, 'reg_pu': 0.001, 'reg_qi': 0.05} : 0.9017314661503527\n",
      "175 left --- Params {'biased': False, 'init_std_dev': 5, 'lr_all': 0.001, 'reg_bi': 0.005, 'reg_bu': 0.1, 'reg_pu': 0.001, 'reg_qi': 0.01} : 0.9033566173331636\n",
      "174 left --- Params {'biased': False, 'init_std_dev': 5, 'lr_all': 0.001, 'reg_bi': 0.005, 'reg_bu': 0.1, 'reg_pu': 0.001, 'reg_qi': 0.005} : 0.9026269306001684\n",
      "173 left --- Params {'biased': False, 'init_std_dev': 5, 'lr_all': 0.001, 'reg_bi': 0.005, 'reg_bu': 0.1, 'reg_pu': 0.0005, 'reg_qi': 0.05} : 0.9025977032762753\n",
      "172 left --- Params {'biased': False, 'init_std_dev': 5, 'lr_all': 0.001, 'reg_bi': 0.005, 'reg_bu': 0.1, 'reg_pu': 0.0005, 'reg_qi': 0.01} : 0.9031266321074407\n",
      "171 left --- Params {'biased': False, 'init_std_dev': 5, 'lr_all': 0.001, 'reg_bi': 0.005, 'reg_bu': 0.1, 'reg_pu': 0.0005, 'reg_qi': 0.005} : 0.9032615342986501\n",
      "170 left --- Params {'biased': False, 'init_std_dev': 5, 'lr_all': 0.001, 'reg_bi': 0.005, 'reg_bu': 0.05, 'reg_pu': 0.005, 'reg_qi': 0.05} : 0.9019816579379027\n",
      "169 left --- Params {'biased': False, 'init_std_dev': 5, 'lr_all': 0.001, 'reg_bi': 0.005, 'reg_bu': 0.05, 'reg_pu': 0.005, 'reg_qi': 0.01} : 0.9034657143541127\n",
      "168 left --- Params {'biased': False, 'init_std_dev': 5, 'lr_all': 0.001, 'reg_bi': 0.005, 'reg_bu': 0.05, 'reg_pu': 0.005, 'reg_qi': 0.005} : 0.9024338183659679\n",
      "167 left --- Params {'biased': False, 'init_std_dev': 5, 'lr_all': 0.001, 'reg_bi': 0.005, 'reg_bu': 0.05, 'reg_pu': 0.001, 'reg_qi': 0.05} : 0.9027187572981481\n",
      "166 left --- Params {'biased': False, 'init_std_dev': 5, 'lr_all': 0.001, 'reg_bi': 0.005, 'reg_bu': 0.05, 'reg_pu': 0.001, 'reg_qi': 0.01} : 0.9027513903153822\n",
      "165 left --- Params {'biased': False, 'init_std_dev': 5, 'lr_all': 0.001, 'reg_bi': 0.005, 'reg_bu': 0.05, 'reg_pu': 0.001, 'reg_qi': 0.005} : 0.9023353579467351\n",
      "164 left --- Params {'biased': False, 'init_std_dev': 5, 'lr_all': 0.001, 'reg_bi': 0.005, 'reg_bu': 0.05, 'reg_pu': 0.0005, 'reg_qi': 0.05} : 0.9030108271106413\n",
      "163 left --- Params {'biased': False, 'init_std_dev': 5, 'lr_all': 0.001, 'reg_bi': 0.005, 'reg_bu': 0.05, 'reg_pu': 0.0005, 'reg_qi': 0.01} : 0.9023970392243202\n",
      "162 left --- Params {'biased': False, 'init_std_dev': 5, 'lr_all': 0.001, 'reg_bi': 0.005, 'reg_bu': 0.05, 'reg_pu': 0.0005, 'reg_qi': 0.005} : 0.9022107434704678\n",
      "161 left --- Params {'biased': False, 'init_std_dev': 1, 'lr_all': 0.001, 'reg_bi': 0.05, 'reg_bu': 0.5, 'reg_pu': 0.005, 'reg_qi': 0.05} : 0.10001164725099751\n",
      "160 left --- Params {'biased': False, 'init_std_dev': 1, 'lr_all': 0.001, 'reg_bi': 0.05, 'reg_bu': 0.5, 'reg_pu': 0.005, 'reg_qi': 0.01} : 0.10374613197127552\n",
      "159 left --- Params {'biased': False, 'init_std_dev': 1, 'lr_all': 0.001, 'reg_bi': 0.05, 'reg_bu': 0.5, 'reg_pu': 0.005, 'reg_qi': 0.005} : 0.10232743854554723\n",
      "158 left --- Params {'biased': False, 'init_std_dev': 1, 'lr_all': 0.001, 'reg_bi': 0.05, 'reg_bu': 0.5, 'reg_pu': 0.001, 'reg_qi': 0.05} : 0.10248906087351042\n",
      "157 left --- Params {'biased': False, 'init_std_dev': 1, 'lr_all': 0.001, 'reg_bi': 0.05, 'reg_bu': 0.5, 'reg_pu': 0.001, 'reg_qi': 0.01} : 0.10762552842655056\n",
      "156 left --- Params {'biased': False, 'init_std_dev': 1, 'lr_all': 0.001, 'reg_bi': 0.05, 'reg_bu': 0.5, 'reg_pu': 0.001, 'reg_qi': 0.005} : 0.1042997991173838\n",
      "155 left --- Params {'biased': False, 'init_std_dev': 1, 'lr_all': 0.001, 'reg_bi': 0.05, 'reg_bu': 0.5, 'reg_pu': 0.0005, 'reg_qi': 0.05} : 0.10613953195315212\n",
      "154 left --- Params {'biased': False, 'init_std_dev': 1, 'lr_all': 0.001, 'reg_bi': 0.05, 'reg_bu': 0.5, 'reg_pu': 0.0005, 'reg_qi': 0.01} : 0.10364763828123118\n",
      "153 left --- Params {'biased': False, 'init_std_dev': 1, 'lr_all': 0.001, 'reg_bi': 0.05, 'reg_bu': 0.5, 'reg_pu': 0.0005, 'reg_qi': 0.005} : 0.10466239655333626\n",
      "152 left --- Params {'biased': False, 'init_std_dev': 1, 'lr_all': 0.001, 'reg_bi': 0.05, 'reg_bu': 0.1, 'reg_pu': 0.005, 'reg_qi': 0.05} : 0.10269191150552437\n",
      "151 left --- Params {'biased': False, 'init_std_dev': 1, 'lr_all': 0.001, 'reg_bi': 0.05, 'reg_bu': 0.1, 'reg_pu': 0.005, 'reg_qi': 0.01} : 0.10429368093401763\n",
      "150 left --- Params {'biased': False, 'init_std_dev': 1, 'lr_all': 0.001, 'reg_bi': 0.05, 'reg_bu': 0.1, 'reg_pu': 0.005, 'reg_qi': 0.005} : 0.10373662510470814\n",
      "149 left --- Params {'biased': False, 'init_std_dev': 1, 'lr_all': 0.001, 'reg_bi': 0.05, 'reg_bu': 0.1, 'reg_pu': 0.001, 'reg_qi': 0.05} : 0.10262713364593905\n",
      "148 left --- Params {'biased': False, 'init_std_dev': 1, 'lr_all': 0.001, 'reg_bi': 0.05, 'reg_bu': 0.1, 'reg_pu': 0.001, 'reg_qi': 0.01} : 0.10581608201322196\n",
      "147 left --- Params {'biased': False, 'init_std_dev': 1, 'lr_all': 0.001, 'reg_bi': 0.05, 'reg_bu': 0.1, 'reg_pu': 0.001, 'reg_qi': 0.005} : 0.10390652148370216\n",
      "146 left --- Params {'biased': False, 'init_std_dev': 1, 'lr_all': 0.001, 'reg_bi': 0.05, 'reg_bu': 0.1, 'reg_pu': 0.0005, 'reg_qi': 0.05} : 0.10275544998289027\n",
      "145 left --- Params {'biased': False, 'init_std_dev': 1, 'lr_all': 0.001, 'reg_bi': 0.05, 'reg_bu': 0.1, 'reg_pu': 0.0005, 'reg_qi': 0.01} : 0.10465680101971814\n",
      "144 left --- Params {'biased': False, 'init_std_dev': 1, 'lr_all': 0.001, 'reg_bi': 0.05, 'reg_bu': 0.1, 'reg_pu': 0.0005, 'reg_qi': 0.005} : 0.10311367675740736\n",
      "143 left --- Params {'biased': False, 'init_std_dev': 1, 'lr_all': 0.001, 'reg_bi': 0.05, 'reg_bu': 0.05, 'reg_pu': 0.005, 'reg_qi': 0.05} : 0.09989684766237528\n",
      "142 left --- Params {'biased': False, 'init_std_dev': 1, 'lr_all': 0.001, 'reg_bi': 0.05, 'reg_bu': 0.05, 'reg_pu': 0.005, 'reg_qi': 0.01} : 0.10107875743289031\n",
      "141 left --- Params {'biased': False, 'init_std_dev': 1, 'lr_all': 0.001, 'reg_bi': 0.05, 'reg_bu': 0.05, 'reg_pu': 0.005, 'reg_qi': 0.005} : 0.1048898654120981\n",
      "140 left --- Params {'biased': False, 'init_std_dev': 1, 'lr_all': 0.001, 'reg_bi': 0.05, 'reg_bu': 0.05, 'reg_pu': 0.001, 'reg_qi': 0.05} : 0.10720839581574691\n",
      "139 left --- Params {'biased': False, 'init_std_dev': 1, 'lr_all': 0.001, 'reg_bi': 0.05, 'reg_bu': 0.05, 'reg_pu': 0.001, 'reg_qi': 0.01} : 0.1036771912393629\n",
      "138 left --- Params {'biased': False, 'init_std_dev': 1, 'lr_all': 0.001, 'reg_bi': 0.05, 'reg_bu': 0.05, 'reg_pu': 0.001, 'reg_qi': 0.005} : 0.10442821567375923\n",
      "137 left --- Params {'biased': False, 'init_std_dev': 1, 'lr_all': 0.001, 'reg_bi': 0.05, 'reg_bu': 0.05, 'reg_pu': 0.0005, 'reg_qi': 0.05} : 0.10135279257064035\n",
      "136 left --- Params {'biased': False, 'init_std_dev': 1, 'lr_all': 0.001, 'reg_bi': 0.05, 'reg_bu': 0.05, 'reg_pu': 0.0005, 'reg_qi': 0.01} : 0.10260752643636974\n",
      "135 left --- Params {'biased': False, 'init_std_dev': 1, 'lr_all': 0.001, 'reg_bi': 0.05, 'reg_bu': 0.05, 'reg_pu': 0.0005, 'reg_qi': 0.005} : 0.10236907020894535\n",
      "134 left --- Params {'biased': False, 'init_std_dev': 1, 'lr_all': 0.001, 'reg_bi': 0.01, 'reg_bu': 0.5, 'reg_pu': 0.005, 'reg_qi': 0.05} : 0.10464741871721553\n",
      "133 left --- Params {'biased': False, 'init_std_dev': 1, 'lr_all': 0.001, 'reg_bi': 0.01, 'reg_bu': 0.5, 'reg_pu': 0.005, 'reg_qi': 0.01} : 0.09996056277436083\n",
      "132 left --- Params {'biased': False, 'init_std_dev': 1, 'lr_all': 0.001, 'reg_bi': 0.01, 'reg_bu': 0.5, 'reg_pu': 0.005, 'reg_qi': 0.005} : 0.10388677487352413\n",
      "131 left --- Params {'biased': False, 'init_std_dev': 1, 'lr_all': 0.001, 'reg_bi': 0.01, 'reg_bu': 0.5, 'reg_pu': 0.001, 'reg_qi': 0.05} : 0.10192728165739139\n",
      "130 left --- Params {'biased': False, 'init_std_dev': 1, 'lr_all': 0.001, 'reg_bi': 0.01, 'reg_bu': 0.5, 'reg_pu': 0.001, 'reg_qi': 0.01} : 0.10449158689886594\n",
      "129 left --- Params {'biased': False, 'init_std_dev': 1, 'lr_all': 0.001, 'reg_bi': 0.01, 'reg_bu': 0.5, 'reg_pu': 0.001, 'reg_qi': 0.005} : 0.1013185069180761\n",
      "128 left --- Params {'biased': False, 'init_std_dev': 1, 'lr_all': 0.001, 'reg_bi': 0.01, 'reg_bu': 0.5, 'reg_pu': 0.0005, 'reg_qi': 0.05} : 0.10881458770500396\n",
      "127 left --- Params {'biased': False, 'init_std_dev': 1, 'lr_all': 0.001, 'reg_bi': 0.01, 'reg_bu': 0.5, 'reg_pu': 0.0005, 'reg_qi': 0.01} : 0.10152079546838447\n",
      "126 left --- Params {'biased': False, 'init_std_dev': 1, 'lr_all': 0.001, 'reg_bi': 0.01, 'reg_bu': 0.5, 'reg_pu': 0.0005, 'reg_qi': 0.005} : 0.10137677233478821\n",
      "125 left --- Params {'biased': False, 'init_std_dev': 1, 'lr_all': 0.001, 'reg_bi': 0.01, 'reg_bu': 0.1, 'reg_pu': 0.005, 'reg_qi': 0.05} : 0.10158607046143753\n",
      "124 left --- Params {'biased': False, 'init_std_dev': 1, 'lr_all': 0.001, 'reg_bi': 0.01, 'reg_bu': 0.1, 'reg_pu': 0.005, 'reg_qi': 0.01} : 0.1036837410063296\n",
      "123 left --- Params {'biased': False, 'init_std_dev': 1, 'lr_all': 0.001, 'reg_bi': 0.01, 'reg_bu': 0.1, 'reg_pu': 0.005, 'reg_qi': 0.005} : 0.10300783520389796\n",
      "122 left --- Params {'biased': False, 'init_std_dev': 1, 'lr_all': 0.001, 'reg_bi': 0.01, 'reg_bu': 0.1, 'reg_pu': 0.001, 'reg_qi': 0.05} : 0.10348787896444042\n",
      "121 left --- Params {'biased': False, 'init_std_dev': 1, 'lr_all': 0.001, 'reg_bi': 0.01, 'reg_bu': 0.1, 'reg_pu': 0.001, 'reg_qi': 0.01} : 0.10313810841866235\n",
      "120 left --- Params {'biased': False, 'init_std_dev': 1, 'lr_all': 0.001, 'reg_bi': 0.01, 'reg_bu': 0.1, 'reg_pu': 0.001, 'reg_qi': 0.005} : 0.10180977371694061\n",
      "119 left --- Params {'biased': False, 'init_std_dev': 1, 'lr_all': 0.001, 'reg_bi': 0.01, 'reg_bu': 0.1, 'reg_pu': 0.0005, 'reg_qi': 0.05} : 0.10376592241312171\n",
      "118 left --- Params {'biased': False, 'init_std_dev': 1, 'lr_all': 0.001, 'reg_bi': 0.01, 'reg_bu': 0.1, 'reg_pu': 0.0005, 'reg_qi': 0.01} : 0.10573445463812374\n",
      "117 left --- Params {'biased': False, 'init_std_dev': 1, 'lr_all': 0.001, 'reg_bi': 0.01, 'reg_bu': 0.1, 'reg_pu': 0.0005, 'reg_qi': 0.005} : 0.10611401513005433\n",
      "116 left --- Params {'biased': False, 'init_std_dev': 1, 'lr_all': 0.001, 'reg_bi': 0.01, 'reg_bu': 0.05, 'reg_pu': 0.005, 'reg_qi': 0.05} : 0.10467098176737956\n",
      "115 left --- Params {'biased': False, 'init_std_dev': 1, 'lr_all': 0.001, 'reg_bi': 0.01, 'reg_bu': 0.05, 'reg_pu': 0.005, 'reg_qi': 0.01} : 0.10282785933715421\n",
      "114 left --- Params {'biased': False, 'init_std_dev': 1, 'lr_all': 0.001, 'reg_bi': 0.01, 'reg_bu': 0.05, 'reg_pu': 0.005, 'reg_qi': 0.005} : 0.10145557648650942\n",
      "113 left --- Params {'biased': False, 'init_std_dev': 1, 'lr_all': 0.001, 'reg_bi': 0.01, 'reg_bu': 0.05, 'reg_pu': 0.001, 'reg_qi': 0.05} : 0.10403051720528961\n",
      "112 left --- Params {'biased': False, 'init_std_dev': 1, 'lr_all': 0.001, 'reg_bi': 0.01, 'reg_bu': 0.05, 'reg_pu': 0.001, 'reg_qi': 0.01} : 0.10448328707389451\n",
      "111 left --- Params {'biased': False, 'init_std_dev': 1, 'lr_all': 0.001, 'reg_bi': 0.01, 'reg_bu': 0.05, 'reg_pu': 0.001, 'reg_qi': 0.005} : 0.10631800265717992\n",
      "110 left --- Params {'biased': False, 'init_std_dev': 1, 'lr_all': 0.001, 'reg_bi': 0.01, 'reg_bu': 0.05, 'reg_pu': 0.0005, 'reg_qi': 0.05} : 0.10291396023742638\n",
      "109 left --- Params {'biased': False, 'init_std_dev': 1, 'lr_all': 0.001, 'reg_bi': 0.01, 'reg_bu': 0.05, 'reg_pu': 0.0005, 'reg_qi': 0.01} : 0.10084903240838888\n",
      "108 left --- Params {'biased': False, 'init_std_dev': 1, 'lr_all': 0.001, 'reg_bi': 0.01, 'reg_bu': 0.05, 'reg_pu': 0.0005, 'reg_qi': 0.005} : 0.10812867261268702\n",
      "107 left --- Params {'biased': False, 'init_std_dev': 1, 'lr_all': 0.001, 'reg_bi': 0.005, 'reg_bu': 0.5, 'reg_pu': 0.005, 'reg_qi': 0.05} : 0.10591611602921604\n",
      "106 left --- Params {'biased': False, 'init_std_dev': 1, 'lr_all': 0.001, 'reg_bi': 0.005, 'reg_bu': 0.5, 'reg_pu': 0.005, 'reg_qi': 0.01} : 0.10221870017248152\n",
      "105 left --- Params {'biased': False, 'init_std_dev': 1, 'lr_all': 0.001, 'reg_bi': 0.005, 'reg_bu': 0.5, 'reg_pu': 0.005, 'reg_qi': 0.005} : 0.10553768886907847\n",
      "104 left --- Params {'biased': False, 'init_std_dev': 1, 'lr_all': 0.001, 'reg_bi': 0.005, 'reg_bu': 0.5, 'reg_pu': 0.001, 'reg_qi': 0.05} : 0.10148788668652776\n",
      "103 left --- Params {'biased': False, 'init_std_dev': 1, 'lr_all': 0.001, 'reg_bi': 0.005, 'reg_bu': 0.5, 'reg_pu': 0.001, 'reg_qi': 0.01} : 0.10641816756707921\n",
      "102 left --- Params {'biased': False, 'init_std_dev': 1, 'lr_all': 0.001, 'reg_bi': 0.005, 'reg_bu': 0.5, 'reg_pu': 0.001, 'reg_qi': 0.005} : 0.10246289542716851\n",
      "101 left --- Params {'biased': False, 'init_std_dev': 1, 'lr_all': 0.001, 'reg_bi': 0.005, 'reg_bu': 0.5, 'reg_pu': 0.0005, 'reg_qi': 0.05} : 0.10131851354627178\n",
      "100 left --- Params {'biased': False, 'init_std_dev': 1, 'lr_all': 0.001, 'reg_bi': 0.005, 'reg_bu': 0.5, 'reg_pu': 0.0005, 'reg_qi': 0.01} : 0.10430050323613986\n",
      "99 left --- Params {'biased': False, 'init_std_dev': 1, 'lr_all': 0.001, 'reg_bi': 0.005, 'reg_bu': 0.5, 'reg_pu': 0.0005, 'reg_qi': 0.005} : 0.10316350095358881\n",
      "98 left --- Params {'biased': False, 'init_std_dev': 1, 'lr_all': 0.001, 'reg_bi': 0.005, 'reg_bu': 0.1, 'reg_pu': 0.005, 'reg_qi': 0.05} : 0.10928371393063595\n",
      "97 left --- Params {'biased': False, 'init_std_dev': 1, 'lr_all': 0.001, 'reg_bi': 0.005, 'reg_bu': 0.1, 'reg_pu': 0.005, 'reg_qi': 0.01} : 0.10485887062114924\n",
      "96 left --- Params {'biased': False, 'init_std_dev': 1, 'lr_all': 0.001, 'reg_bi': 0.005, 'reg_bu': 0.1, 'reg_pu': 0.005, 'reg_qi': 0.005} : 0.10467018028672453\n",
      "95 left --- Params {'biased': False, 'init_std_dev': 1, 'lr_all': 0.001, 'reg_bi': 0.005, 'reg_bu': 0.1, 'reg_pu': 0.001, 'reg_qi': 0.05} : 0.10100967201987866\n",
      "94 left --- Params {'biased': False, 'init_std_dev': 1, 'lr_all': 0.001, 'reg_bi': 0.005, 'reg_bu': 0.1, 'reg_pu': 0.001, 'reg_qi': 0.01} : 0.10792174795649256\n",
      "93 left --- Params {'biased': False, 'init_std_dev': 1, 'lr_all': 0.001, 'reg_bi': 0.005, 'reg_bu': 0.1, 'reg_pu': 0.001, 'reg_qi': 0.005} : 0.10104997674801251\n",
      "92 left --- Params {'biased': False, 'init_std_dev': 1, 'lr_all': 0.001, 'reg_bi': 0.005, 'reg_bu': 0.1, 'reg_pu': 0.0005, 'reg_qi': 0.05} : 0.10641740092237587\n",
      "91 left --- Params {'biased': False, 'init_std_dev': 1, 'lr_all': 0.001, 'reg_bi': 0.005, 'reg_bu': 0.1, 'reg_pu': 0.0005, 'reg_qi': 0.01} : 0.10498130826454079\n",
      "90 left --- Params {'biased': False, 'init_std_dev': 1, 'lr_all': 0.001, 'reg_bi': 0.005, 'reg_bu': 0.1, 'reg_pu': 0.0005, 'reg_qi': 0.005} : 0.102886618676053\n",
      "89 left --- Params {'biased': False, 'init_std_dev': 1, 'lr_all': 0.001, 'reg_bi': 0.005, 'reg_bu': 0.05, 'reg_pu': 0.005, 'reg_qi': 0.05} : 0.10284653795656556\n",
      "88 left --- Params {'biased': False, 'init_std_dev': 1, 'lr_all': 0.001, 'reg_bi': 0.005, 'reg_bu': 0.05, 'reg_pu': 0.005, 'reg_qi': 0.01} : 0.1000452258791643\n",
      "87 left --- Params {'biased': False, 'init_std_dev': 1, 'lr_all': 0.001, 'reg_bi': 0.005, 'reg_bu': 0.05, 'reg_pu': 0.005, 'reg_qi': 0.005} : 0.10565598853001414\n",
      "86 left --- Params {'biased': False, 'init_std_dev': 1, 'lr_all': 0.001, 'reg_bi': 0.005, 'reg_bu': 0.05, 'reg_pu': 0.001, 'reg_qi': 0.05} : 0.10331857469607528\n",
      "85 left --- Params {'biased': False, 'init_std_dev': 1, 'lr_all': 0.001, 'reg_bi': 0.005, 'reg_bu': 0.05, 'reg_pu': 0.001, 'reg_qi': 0.01} : 0.10158305458989249\n",
      "84 left --- Params {'biased': False, 'init_std_dev': 1, 'lr_all': 0.001, 'reg_bi': 0.005, 'reg_bu': 0.05, 'reg_pu': 0.001, 'reg_qi': 0.005} : 0.1021342748303543\n",
      "83 left --- Params {'biased': False, 'init_std_dev': 1, 'lr_all': 0.001, 'reg_bi': 0.005, 'reg_bu': 0.05, 'reg_pu': 0.0005, 'reg_qi': 0.05} : 0.1036171260201895\n",
      "82 left --- Params {'biased': False, 'init_std_dev': 1, 'lr_all': 0.001, 'reg_bi': 0.005, 'reg_bu': 0.05, 'reg_pu': 0.0005, 'reg_qi': 0.01} : 0.10066874107263071\n",
      "81 left --- Params {'biased': False, 'init_std_dev': 1, 'lr_all': 0.001, 'reg_bi': 0.005, 'reg_bu': 0.05, 'reg_pu': 0.0005, 'reg_qi': 0.005} : 0.1033360299577448\n",
      "80 left --- Params {'biased': False, 'init_std_dev': 0.5, 'lr_all': 0.001, 'reg_bi': 0.05, 'reg_bu': 0.5, 'reg_pu': 0.005, 'reg_qi': 0.05} : 0.44626700223818005\n",
      "79 left --- Params {'biased': False, 'init_std_dev': 0.5, 'lr_all': 0.001, 'reg_bi': 0.05, 'reg_bu': 0.5, 'reg_pu': 0.005, 'reg_qi': 0.01} : 0.4520020035819605\n",
      "78 left --- Params {'biased': False, 'init_std_dev': 0.5, 'lr_all': 0.001, 'reg_bi': 0.05, 'reg_bu': 0.5, 'reg_pu': 0.005, 'reg_qi': 0.005} : 0.4552395655174744\n",
      "77 left --- Params {'biased': False, 'init_std_dev': 0.5, 'lr_all': 0.001, 'reg_bi': 0.05, 'reg_bu': 0.5, 'reg_pu': 0.001, 'reg_qi': 0.05} : 0.44576328189292336\n",
      "76 left --- Params {'biased': False, 'init_std_dev': 0.5, 'lr_all': 0.001, 'reg_bi': 0.05, 'reg_bu': 0.5, 'reg_pu': 0.001, 'reg_qi': 0.01} : 0.45331992068295135\n",
      "75 left --- Params {'biased': False, 'init_std_dev': 0.5, 'lr_all': 0.001, 'reg_bi': 0.05, 'reg_bu': 0.5, 'reg_pu': 0.001, 'reg_qi': 0.005} : 0.45527178216070197\n",
      "74 left --- Params {'biased': False, 'init_std_dev': 0.5, 'lr_all': 0.001, 'reg_bi': 0.05, 'reg_bu': 0.5, 'reg_pu': 0.0005, 'reg_qi': 0.05} : 0.44934163647427217\n",
      "73 left --- Params {'biased': False, 'init_std_dev': 0.5, 'lr_all': 0.001, 'reg_bi': 0.05, 'reg_bu': 0.5, 'reg_pu': 0.0005, 'reg_qi': 0.01} : 0.45159391716208835\n",
      "72 left --- Params {'biased': False, 'init_std_dev': 0.5, 'lr_all': 0.001, 'reg_bi': 0.05, 'reg_bu': 0.5, 'reg_pu': 0.0005, 'reg_qi': 0.005} : 0.453725720790894\n",
      "71 left --- Params {'biased': False, 'init_std_dev': 0.5, 'lr_all': 0.001, 'reg_bi': 0.05, 'reg_bu': 0.1, 'reg_pu': 0.005, 'reg_qi': 0.05} : 0.4553482384453886\n",
      "70 left --- Params {'biased': False, 'init_std_dev': 0.5, 'lr_all': 0.001, 'reg_bi': 0.05, 'reg_bu': 0.1, 'reg_pu': 0.005, 'reg_qi': 0.01} : 0.45246456698268656\n",
      "69 left --- Params {'biased': False, 'init_std_dev': 0.5, 'lr_all': 0.001, 'reg_bi': 0.05, 'reg_bu': 0.1, 'reg_pu': 0.005, 'reg_qi': 0.005} : 0.45295687704212834\n",
      "68 left --- Params {'biased': False, 'init_std_dev': 0.5, 'lr_all': 0.001, 'reg_bi': 0.05, 'reg_bu': 0.1, 'reg_pu': 0.001, 'reg_qi': 0.05} : 0.4489728756931054\n",
      "67 left --- Params {'biased': False, 'init_std_dev': 0.5, 'lr_all': 0.001, 'reg_bi': 0.05, 'reg_bu': 0.1, 'reg_pu': 0.001, 'reg_qi': 0.01} : 0.4454409125597211\n",
      "66 left --- Params {'biased': False, 'init_std_dev': 0.5, 'lr_all': 0.001, 'reg_bi': 0.05, 'reg_bu': 0.1, 'reg_pu': 0.001, 'reg_qi': 0.005} : 0.45151798842985036\n",
      "65 left --- Params {'biased': False, 'init_std_dev': 0.5, 'lr_all': 0.001, 'reg_bi': 0.05, 'reg_bu': 0.1, 'reg_pu': 0.0005, 'reg_qi': 0.05} : 0.45177884845655397\n",
      "64 left --- Params {'biased': False, 'init_std_dev': 0.5, 'lr_all': 0.001, 'reg_bi': 0.05, 'reg_bu': 0.1, 'reg_pu': 0.0005, 'reg_qi': 0.01} : 0.4492991126144701\n",
      "63 left --- Params {'biased': False, 'init_std_dev': 0.5, 'lr_all': 0.001, 'reg_bi': 0.05, 'reg_bu': 0.1, 'reg_pu': 0.0005, 'reg_qi': 0.005} : 0.440520936936606\n",
      "62 left --- Params {'biased': False, 'init_std_dev': 0.5, 'lr_all': 0.001, 'reg_bi': 0.05, 'reg_bu': 0.05, 'reg_pu': 0.005, 'reg_qi': 0.05} : 0.4460465203106085\n",
      "61 left --- Params {'biased': False, 'init_std_dev': 0.5, 'lr_all': 0.001, 'reg_bi': 0.05, 'reg_bu': 0.05, 'reg_pu': 0.005, 'reg_qi': 0.01} : 0.45273320434195347\n",
      "60 left --- Params {'biased': False, 'init_std_dev': 0.5, 'lr_all': 0.001, 'reg_bi': 0.05, 'reg_bu': 0.05, 'reg_pu': 0.005, 'reg_qi': 0.005} : 0.44954986338745884\n",
      "59 left --- Params {'biased': False, 'init_std_dev': 0.5, 'lr_all': 0.001, 'reg_bi': 0.05, 'reg_bu': 0.05, 'reg_pu': 0.001, 'reg_qi': 0.05} : 0.44655215572296847\n",
      "58 left --- Params {'biased': False, 'init_std_dev': 0.5, 'lr_all': 0.001, 'reg_bi': 0.05, 'reg_bu': 0.05, 'reg_pu': 0.001, 'reg_qi': 0.01} : 0.4486629410721746\n",
      "57 left --- Params {'biased': False, 'init_std_dev': 0.5, 'lr_all': 0.001, 'reg_bi': 0.05, 'reg_bu': 0.05, 'reg_pu': 0.001, 'reg_qi': 0.005} : 0.44925180862397046\n",
      "56 left --- Params {'biased': False, 'init_std_dev': 0.5, 'lr_all': 0.001, 'reg_bi': 0.05, 'reg_bu': 0.05, 'reg_pu': 0.0005, 'reg_qi': 0.05} : 0.4427285704708049\n",
      "55 left --- Params {'biased': False, 'init_std_dev': 0.5, 'lr_all': 0.001, 'reg_bi': 0.05, 'reg_bu': 0.05, 'reg_pu': 0.0005, 'reg_qi': 0.01} : 0.4549974229436636\n",
      "54 left --- Params {'biased': False, 'init_std_dev': 0.5, 'lr_all': 0.001, 'reg_bi': 0.05, 'reg_bu': 0.05, 'reg_pu': 0.0005, 'reg_qi': 0.005} : 0.4575271421412556\n",
      "53 left --- Params {'biased': False, 'init_std_dev': 0.5, 'lr_all': 0.001, 'reg_bi': 0.01, 'reg_bu': 0.5, 'reg_pu': 0.005, 'reg_qi': 0.05} : 0.4528263790205455\n",
      "52 left --- Params {'biased': False, 'init_std_dev': 0.5, 'lr_all': 0.001, 'reg_bi': 0.01, 'reg_bu': 0.5, 'reg_pu': 0.005, 'reg_qi': 0.01} : 0.4437063482161585\n",
      "51 left --- Params {'biased': False, 'init_std_dev': 0.5, 'lr_all': 0.001, 'reg_bi': 0.01, 'reg_bu': 0.5, 'reg_pu': 0.005, 'reg_qi': 0.005} : 0.44826907496911167\n",
      "50 left --- Params {'biased': False, 'init_std_dev': 0.5, 'lr_all': 0.001, 'reg_bi': 0.01, 'reg_bu': 0.5, 'reg_pu': 0.001, 'reg_qi': 0.05} : 0.44660701665900615\n",
      "49 left --- Params {'biased': False, 'init_std_dev': 0.5, 'lr_all': 0.001, 'reg_bi': 0.01, 'reg_bu': 0.5, 'reg_pu': 0.001, 'reg_qi': 0.01} : 0.4453510417364875\n",
      "48 left --- Params {'biased': False, 'init_std_dev': 0.5, 'lr_all': 0.001, 'reg_bi': 0.01, 'reg_bu': 0.5, 'reg_pu': 0.001, 'reg_qi': 0.005} : 0.4540434007866089\n",
      "47 left --- Params {'biased': False, 'init_std_dev': 0.5, 'lr_all': 0.001, 'reg_bi': 0.01, 'reg_bu': 0.5, 'reg_pu': 0.0005, 'reg_qi': 0.05} : 0.4557746324195478\n",
      "46 left --- Params {'biased': False, 'init_std_dev': 0.5, 'lr_all': 0.001, 'reg_bi': 0.01, 'reg_bu': 0.5, 'reg_pu': 0.0005, 'reg_qi': 0.01} : 0.44893895118744837\n",
      "45 left --- Params {'biased': False, 'init_std_dev': 0.5, 'lr_all': 0.001, 'reg_bi': 0.01, 'reg_bu': 0.5, 'reg_pu': 0.0005, 'reg_qi': 0.005} : 0.45023019475078824\n",
      "44 left --- Params {'biased': False, 'init_std_dev': 0.5, 'lr_all': 0.001, 'reg_bi': 0.01, 'reg_bu': 0.1, 'reg_pu': 0.005, 'reg_qi': 0.05} : 0.4508935880864013\n",
      "43 left --- Params {'biased': False, 'init_std_dev': 0.5, 'lr_all': 0.001, 'reg_bi': 0.01, 'reg_bu': 0.1, 'reg_pu': 0.005, 'reg_qi': 0.01} : 0.45239449929755077\n",
      "42 left --- Params {'biased': False, 'init_std_dev': 0.5, 'lr_all': 0.001, 'reg_bi': 0.01, 'reg_bu': 0.1, 'reg_pu': 0.005, 'reg_qi': 0.005} : 0.4509284810915251\n",
      "41 left --- Params {'biased': False, 'init_std_dev': 0.5, 'lr_all': 0.001, 'reg_bi': 0.01, 'reg_bu': 0.1, 'reg_pu': 0.001, 'reg_qi': 0.05} : 0.4489127226099561\n",
      "40 left --- Params {'biased': False, 'init_std_dev': 0.5, 'lr_all': 0.001, 'reg_bi': 0.01, 'reg_bu': 0.1, 'reg_pu': 0.001, 'reg_qi': 0.01} : 0.45084777041889207\n",
      "39 left --- Params {'biased': False, 'init_std_dev': 0.5, 'lr_all': 0.001, 'reg_bi': 0.01, 'reg_bu': 0.1, 'reg_pu': 0.001, 'reg_qi': 0.005} : 0.45790191623087245\n",
      "38 left --- Params {'biased': False, 'init_std_dev': 0.5, 'lr_all': 0.001, 'reg_bi': 0.01, 'reg_bu': 0.1, 'reg_pu': 0.0005, 'reg_qi': 0.05} : 0.4535771430359226\n",
      "37 left --- Params {'biased': False, 'init_std_dev': 0.5, 'lr_all': 0.001, 'reg_bi': 0.01, 'reg_bu': 0.1, 'reg_pu': 0.0005, 'reg_qi': 0.01} : 0.45764839452018025\n",
      "36 left --- Params {'biased': False, 'init_std_dev': 0.5, 'lr_all': 0.001, 'reg_bi': 0.01, 'reg_bu': 0.1, 'reg_pu': 0.0005, 'reg_qi': 0.005} : 0.4556009461002934\n",
      "35 left --- Params {'biased': False, 'init_std_dev': 0.5, 'lr_all': 0.001, 'reg_bi': 0.01, 'reg_bu': 0.05, 'reg_pu': 0.005, 'reg_qi': 0.05} : 0.45012354751267747\n",
      "34 left --- Params {'biased': False, 'init_std_dev': 0.5, 'lr_all': 0.001, 'reg_bi': 0.01, 'reg_bu': 0.05, 'reg_pu': 0.005, 'reg_qi': 0.01} : 0.4533151252540123\n",
      "33 left --- Params {'biased': False, 'init_std_dev': 0.5, 'lr_all': 0.001, 'reg_bi': 0.01, 'reg_bu': 0.05, 'reg_pu': 0.005, 'reg_qi': 0.005} : 0.44881711886929304\n",
      "32 left --- Params {'biased': False, 'init_std_dev': 0.5, 'lr_all': 0.001, 'reg_bi': 0.01, 'reg_bu': 0.05, 'reg_pu': 0.001, 'reg_qi': 0.05} : 0.44505100344712484\n",
      "31 left --- Params {'biased': False, 'init_std_dev': 0.5, 'lr_all': 0.001, 'reg_bi': 0.01, 'reg_bu': 0.05, 'reg_pu': 0.001, 'reg_qi': 0.01} : 0.4549966261633888\n",
      "30 left --- Params {'biased': False, 'init_std_dev': 0.5, 'lr_all': 0.001, 'reg_bi': 0.01, 'reg_bu': 0.05, 'reg_pu': 0.001, 'reg_qi': 0.005} : 0.45361721402632293\n",
      "29 left --- Params {'biased': False, 'init_std_dev': 0.5, 'lr_all': 0.001, 'reg_bi': 0.01, 'reg_bu': 0.05, 'reg_pu': 0.0005, 'reg_qi': 0.05} : 0.44532959291231683\n",
      "28 left --- Params {'biased': False, 'init_std_dev': 0.5, 'lr_all': 0.001, 'reg_bi': 0.01, 'reg_bu': 0.05, 'reg_pu': 0.0005, 'reg_qi': 0.01} : 0.45320433186885506\n",
      "27 left --- Params {'biased': False, 'init_std_dev': 0.5, 'lr_all': 0.001, 'reg_bi': 0.01, 'reg_bu': 0.05, 'reg_pu': 0.0005, 'reg_qi': 0.005} : 0.45114304801693533\n",
      "26 left --- Params {'biased': False, 'init_std_dev': 0.5, 'lr_all': 0.001, 'reg_bi': 0.005, 'reg_bu': 0.5, 'reg_pu': 0.005, 'reg_qi': 0.05} : 0.45768493038604235\n",
      "25 left --- Params {'biased': False, 'init_std_dev': 0.5, 'lr_all': 0.001, 'reg_bi': 0.005, 'reg_bu': 0.5, 'reg_pu': 0.005, 'reg_qi': 0.01} : 0.45152505910085283\n",
      "24 left --- Params {'biased': False, 'init_std_dev': 0.5, 'lr_all': 0.001, 'reg_bi': 0.005, 'reg_bu': 0.5, 'reg_pu': 0.005, 'reg_qi': 0.005} : 0.4572419356203967\n",
      "23 left --- Params {'biased': False, 'init_std_dev': 0.5, 'lr_all': 0.001, 'reg_bi': 0.005, 'reg_bu': 0.5, 'reg_pu': 0.001, 'reg_qi': 0.05} : 0.4486509313608257\n",
      "22 left --- Params {'biased': False, 'init_std_dev': 0.5, 'lr_all': 0.001, 'reg_bi': 0.005, 'reg_bu': 0.5, 'reg_pu': 0.001, 'reg_qi': 0.01} : 0.4557455017821783\n",
      "21 left --- Params {'biased': False, 'init_std_dev': 0.5, 'lr_all': 0.001, 'reg_bi': 0.005, 'reg_bu': 0.5, 'reg_pu': 0.001, 'reg_qi': 0.005} : 0.4446384387112965\n",
      "20 left --- Params {'biased': False, 'init_std_dev': 0.5, 'lr_all': 0.001, 'reg_bi': 0.005, 'reg_bu': 0.5, 'reg_pu': 0.0005, 'reg_qi': 0.05} : 0.4451326359520849\n",
      "19 left --- Params {'biased': False, 'init_std_dev': 0.5, 'lr_all': 0.001, 'reg_bi': 0.005, 'reg_bu': 0.5, 'reg_pu': 0.0005, 'reg_qi': 0.01} : 0.44911544325960645\n",
      "18 left --- Params {'biased': False, 'init_std_dev': 0.5, 'lr_all': 0.001, 'reg_bi': 0.005, 'reg_bu': 0.5, 'reg_pu': 0.0005, 'reg_qi': 0.005} : 0.46159959441478493\n",
      "17 left --- Params {'biased': False, 'init_std_dev': 0.5, 'lr_all': 0.001, 'reg_bi': 0.005, 'reg_bu': 0.1, 'reg_pu': 0.005, 'reg_qi': 0.05} : 0.44504928626700735\n",
      "16 left --- Params {'biased': False, 'init_std_dev': 0.5, 'lr_all': 0.001, 'reg_bi': 0.005, 'reg_bu': 0.1, 'reg_pu': 0.005, 'reg_qi': 0.01} : 0.44628337554354625\n",
      "15 left --- Params {'biased': False, 'init_std_dev': 0.5, 'lr_all': 0.001, 'reg_bi': 0.005, 'reg_bu': 0.1, 'reg_pu': 0.005, 'reg_qi': 0.005} : 0.4555421920321171\n",
      "14 left --- Params {'biased': False, 'init_std_dev': 0.5, 'lr_all': 0.001, 'reg_bi': 0.005, 'reg_bu': 0.1, 'reg_pu': 0.001, 'reg_qi': 0.05} : 0.4518740076460506\n",
      "13 left --- Params {'biased': False, 'init_std_dev': 0.5, 'lr_all': 0.001, 'reg_bi': 0.005, 'reg_bu': 0.1, 'reg_pu': 0.001, 'reg_qi': 0.01} : 0.4537855070118484\n",
      "12 left --- Params {'biased': False, 'init_std_dev': 0.5, 'lr_all': 0.001, 'reg_bi': 0.005, 'reg_bu': 0.1, 'reg_pu': 0.001, 'reg_qi': 0.005} : 0.45235509610094427\n",
      "11 left --- Params {'biased': False, 'init_std_dev': 0.5, 'lr_all': 0.001, 'reg_bi': 0.005, 'reg_bu': 0.1, 'reg_pu': 0.0005, 'reg_qi': 0.05} : 0.45286605343508574\n",
      "10 left --- Params {'biased': False, 'init_std_dev': 0.5, 'lr_all': 0.001, 'reg_bi': 0.005, 'reg_bu': 0.1, 'reg_pu': 0.0005, 'reg_qi': 0.01} : 0.4485514334402527\n",
      "9 left --- Params {'biased': False, 'init_std_dev': 0.5, 'lr_all': 0.001, 'reg_bi': 0.005, 'reg_bu': 0.1, 'reg_pu': 0.0005, 'reg_qi': 0.005} : 0.44990321983384424\n",
      "8 left --- Params {'biased': False, 'init_std_dev': 0.5, 'lr_all': 0.001, 'reg_bi': 0.005, 'reg_bu': 0.05, 'reg_pu': 0.005, 'reg_qi': 0.05} : 0.4524761733622168\n",
      "7 left --- Params {'biased': False, 'init_std_dev': 0.5, 'lr_all': 0.001, 'reg_bi': 0.005, 'reg_bu': 0.05, 'reg_pu': 0.005, 'reg_qi': 0.01} : 0.4515583876266794\n",
      "6 left --- Params {'biased': False, 'init_std_dev': 0.5, 'lr_all': 0.001, 'reg_bi': 0.005, 'reg_bu': 0.05, 'reg_pu': 0.005, 'reg_qi': 0.005} : 0.4459784921305651\n",
      "5 left --- Params {'biased': False, 'init_std_dev': 0.5, 'lr_all': 0.001, 'reg_bi': 0.005, 'reg_bu': 0.05, 'reg_pu': 0.001, 'reg_qi': 0.05} : 0.45622707796219825\n",
      "4 left --- Params {'biased': False, 'init_std_dev': 0.5, 'lr_all': 0.001, 'reg_bi': 0.005, 'reg_bu': 0.05, 'reg_pu': 0.001, 'reg_qi': 0.01} : 0.4535064081788891\n",
      "3 left --- Params {'biased': False, 'init_std_dev': 0.5, 'lr_all': 0.001, 'reg_bi': 0.005, 'reg_bu': 0.05, 'reg_pu': 0.001, 'reg_qi': 0.005} : 0.44966524687034726\n",
      "2 left --- Params {'biased': False, 'init_std_dev': 0.5, 'lr_all': 0.001, 'reg_bi': 0.005, 'reg_bu': 0.05, 'reg_pu': 0.0005, 'reg_qi': 0.05} : 0.4467094724982793\n",
      "1 left --- Params {'biased': False, 'init_std_dev': 0.5, 'lr_all': 0.001, 'reg_bi': 0.005, 'reg_bu': 0.05, 'reg_pu': 0.0005, 'reg_qi': 0.01} : 0.44953741504907796\n",
      "0 left --- Params {'biased': False, 'init_std_dev': 0.5, 'lr_all': 0.001, 'reg_bi': 0.005, 'reg_bu': 0.05, 'reg_pu': 0.0005, 'reg_qi': 0.005} : 0.4569085881168432\n"
     ]
    }
   ],
   "source": [
    "# ----------------------------- FIND BEST PARAMS ----------------------------- #\n",
    "params = {\n",
    "    \"biased\" : [False],\n",
    "    \"init_std_dev\" : [0.5, 1, 5],\n",
    "    \"lr_all\" : [0.001],\n",
    "    \"reg_bu\" : [0.05, 0.1, 0.5],\n",
    "    \"reg_bi\" : [0.005, 0.01, 0.05],\n",
    "    \"reg_qi\" : [0.005, 0.01, 0.05],\n",
    "    \"reg_pu\" : [0.0005, 0.001, 0.005],\n",
    "}\n",
    "\n",
    "best_model = MyCrossValidation(params)()"
   ]
  },
  {
   "cell_type": "code",
   "execution_count": 33,
   "metadata": {},
   "outputs": [
    {
     "data": {
      "text/plain": [
       "[({'biased': False,\n",
       "   'init_std_dev': 1,\n",
       "   'lr_all': 0.001,\n",
       "   'reg_bi': 0.05,\n",
       "   'reg_bu': 0.05,\n",
       "   'reg_pu': 0.005,\n",
       "   'reg_qi': 0.05},\n",
       "  0.09989684766237528),\n",
       " ({'biased': False,\n",
       "   'init_std_dev': 1,\n",
       "   'lr_all': 0.001,\n",
       "   'reg_bi': 0.01,\n",
       "   'reg_bu': 0.5,\n",
       "   'reg_pu': 0.005,\n",
       "   'reg_qi': 0.01},\n",
       "  0.09996056277436083),\n",
       " ({'biased': False,\n",
       "   'init_std_dev': 1,\n",
       "   'lr_all': 0.001,\n",
       "   'reg_bi': 0.05,\n",
       "   'reg_bu': 0.5,\n",
       "   'reg_pu': 0.005,\n",
       "   'reg_qi': 0.05},\n",
       "  0.10001164725099751),\n",
       " ({'biased': False,\n",
       "   'init_std_dev': 1,\n",
       "   'lr_all': 0.001,\n",
       "   'reg_bi': 0.005,\n",
       "   'reg_bu': 0.05,\n",
       "   'reg_pu': 0.005,\n",
       "   'reg_qi': 0.01},\n",
       "  0.1000452258791643),\n",
       " ({'biased': False,\n",
       "   'init_std_dev': 1,\n",
       "   'lr_all': 0.001,\n",
       "   'reg_bi': 0.005,\n",
       "   'reg_bu': 0.05,\n",
       "   'reg_pu': 0.0005,\n",
       "   'reg_qi': 0.01},\n",
       "  0.10066874107263071)]"
      ]
     },
     "execution_count": 33,
     "metadata": {},
     "output_type": "execute_result"
    }
   ],
   "source": [
    "best_model[:5]"
   ]
  },
  {
   "cell_type": "code",
   "execution_count": null,
   "metadata": {},
   "outputs": [],
   "source": [
    "final_model = surprise.SVD(**best_model[0][1])"
   ]
  }
 ],
 "metadata": {
  "interpreter": {
   "hash": "e9a52546c4e957e053486a924b19bc854fd75fae9b0430b0277efb1012ca5e24"
  },
  "kernelspec": {
   "display_name": "Python 3.9.5 ('.venv': poetry)",
   "language": "python",
   "name": "python3"
  },
  "language_info": {
   "codemirror_mode": {
    "name": "ipython",
    "version": 3
   },
   "file_extension": ".py",
   "mimetype": "text/x-python",
   "name": "python",
   "nbconvert_exporter": "python",
   "pygments_lexer": "ipython3",
   "version": "3.9.5"
  },
  "orig_nbformat": 4
 },
 "nbformat": 4,
 "nbformat_minor": 2
}
